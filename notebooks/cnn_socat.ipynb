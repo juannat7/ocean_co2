{
 "cells": [
  {
   "cell_type": "markdown",
   "metadata": {},
   "source": [
    "# Modifications\n",
    "\n",
    "- try the cnn input into the socat data\n",
    "\n",
    "### Issues to fix\n",
    "- socat pco2 -> -1 is continent, 0 is unmeasured value -> need to preprocess that\n"
   ]
  },
  {
   "cell_type": "code",
   "execution_count": 1,
   "metadata": {},
   "outputs": [
    {
     "name": "stderr",
     "output_type": "stream",
     "text": [
      "/burg/glab/users/sk4973/venv/lib/python3.8/site-packages/xarray/backends/cfgrib_.py:27: UserWarning: Failed to load cfgrib - most likely there is a problem accessing the ecCodes library. Try `import cfgrib` to get the full error message\n",
      "  warnings.warn(\n",
      "2021-10-24 09:34:27.363557: I tensorflow/stream_executor/platform/default/dso_loader.cc:49] Successfully opened dynamic library libcudart.so.11.0\n"
     ]
    }
   ],
   "source": [
    "import imp\n",
    "import matplotlib.pyplot as plt\n",
    "import numpy as np\n",
    "import pandas as pd\n",
    "import xarray as xr\n",
    "import sys\n",
    "import tensorflow as tf\n",
    "from tensorflow import keras\n",
    "import os\n",
    "from sklearn.model_selection import train_test_split\n",
    "tf.random.set_seed(42)\n",
    "\n",
    "\n",
    "sys.path.insert(0, '../src')\n",
    "\n",
    "from utils import df_to_xarray,read_xarray,plot_image"
   ]
  },
  {
   "cell_type": "code",
   "execution_count": 2,
   "metadata": {},
   "outputs": [
    {
     "name": "stderr",
     "output_type": "stream",
     "text": [
      "/burg/glab/users/sk4973/venv/lib/python3.8/site-packages/xarray/backends/plugins.py:61: RuntimeWarning: Engine 'cfgrib' loading failed:\n",
      "Cannot find the ecCodes library\n",
      "  warnings.warn(f\"Engine {name!r} loading failed:\\n{ex}\", RuntimeWarning)\n"
     ]
    }
   ],
   "source": [
    "# Reading Data\n",
    "dir_name=\"../data/data1\"\n",
    "val_dir_name=\"../data/data2\"\n",
    "\n",
    "chl,mld,sss,sst,u10,fg_co2,xco2,icefrac,patm,pco2=read_xarray(dir_name)\n",
    "\n"
   ]
  },
  {
   "cell_type": "markdown",
   "metadata": {},
   "source": [
    "## Data Preprocessing"
   ]
  },
  {
   "cell_type": "code",
   "execution_count": 6,
   "metadata": {},
   "outputs": [],
   "source": [
    "def convert_nan(arr):\n",
    "    \"\"\"\n",
    "    convert_nan(arr)\n",
    "    - converts nan values to the lowest value (continents)\n",
    "    \"\"\"\n",
    "    nans=np.isnan(arr)\n",
    "    min_val=arr[~nans].min()\n",
    "    arr[nans]=min_val-1\n",
    "    return arr\n",
    "\n",
    "def add_dimension(arr):\n",
    "    \"\"\"\n",
    "    add_dimension(arr)\n",
    "    - add one dimension to axis=3\n",
    "    \"\"\"\n",
    "    images=np.expand_dims(arr, axis=3)\n",
    "    return images\n",
    "\n",
    "def scale_image(arr):\n",
    "    \"\"\"\n",
    "    scale_image(arr)\n",
    "    - scales numerical values from scale 0-255 for like an image\n",
    "    - have tried, regular normal/ min-max scaler -> does not work well\n",
    "    \"\"\"\n",
    "    ## Normal\n",
    "    #arr=(arr-np.mean(arr))/np.std(arr)\n",
    "    \n",
    "    ## Min-Max\n",
    "    # min_val=arr.min()\n",
    "    # max_val=arr.max()\n",
    "    # arr=arr/(min_val-max_val)\n",
    "\n",
    "    ## Image Scale\n",
    "    min_pixel = arr.min() \n",
    "    max_pixel = arr.max()\n",
    "    new_min = 0\n",
    "    new_max = 255\n",
    "    arr = (arr-min_pixel)*(255)/(max_pixel-min_pixel)+new_min \n",
    "    return arr\n",
    "  \n",
    "\n",
    "def preprocess_image_reduced(data,xco2=False):\n",
    "  \"\"\"\n",
    "  preprocess_image_reduced(data,xco2=False)\n",
    "  wrapper function for image preprocessing process\n",
    "  dimension reduced the output should be  (180,360,5)\n",
    "  \"\"\"\n",
    "  if xco2:\n",
    "    return data\n",
    "  return scale_image(convert_nan(data))"
   ]
  },
  {
   "cell_type": "code",
   "execution_count": 14,
   "metadata": {},
   "outputs": [
    {
     "name": "stdout",
     "output_type": "stream",
     "text": [
      "340.84854 407.2084\n",
      "\n",
      "xco2 shape: \n",
      "(421, 180, 360) (421, 180, 360)\n"
     ]
    }
   ],
   "source": [
    "## XCO2 Handling\n",
    "# - xco2 values are a constant value across the globe, \n",
    "# - creating an image layer with constant value for the model\n",
    "# - xco2 layer improves prediction\n",
    "\n",
    "xco2_images=[]\n",
    "min_xco2=np.min(xco2.XCO2.data)\n",
    "max_xco2=np.max(xco2.XCO2.data)\n",
    "new_min=0\n",
    "new_max=255\n",
    "print(min_xco2, max_xco2)\n",
    "print()\n",
    "\n",
    "\n",
    "for i in xco2.XCO2.data:\n",
    "    num = (i-min_xco2)*(new_max-new_min)/(max_xco2-min_xco2)+new_min\n",
    "    tmp = (np.repeat(num,180*360)).reshape(180,-1)\n",
    "    xco2_images.append(tmp)\n",
    "\n",
    "xco2_images=np.array(xco2_images)\n",
    "\n",
    "print(\"xco2 shape: \")\n",
    "print(xco2_images.shape, chl.Chl.data.shape)\n",
    "\n",
    "chl_images=preprocess_image_reduced(chl.Chl_socat.data)\n",
    "mld_images=preprocess_image_reduced(mld.MLD_socat.data)\n",
    "sss_images=preprocess_image_reduced(sss.SSS_socat.data)\n",
    "sst_images=preprocess_image_reduced(sst.SST_socat.data)\n",
    "xco2_images=preprocess_image_reduced(xco2_images,xco2=True)\n",
    "\n",
    "# need to preprocess pco2_image otherwise, the prediction does not work well\n",
    "pco2_images=preprocess_image_reduced(pco2.pCO2_socat.data)\n",
    "\n",
    "# stacks image layer\n",
    "X = np.stack((chl_images, mld_images, sss_images, sst_images,xco2_images), axis = 1)"
   ]
  },
  {
   "cell_type": "code",
   "execution_count": 15,
   "metadata": {},
   "outputs": [
    {
     "data": {
      "text/plain": [
       "(421, 180, 360, 5)"
      ]
     },
     "execution_count": 15,
     "metadata": {},
     "output_type": "execute_result"
    }
   ],
   "source": [
    "# transform shapes to 421,180,360,5 | kernel = 5\n",
    "X=X.reshape((421,180,360,5))\n",
    "X.shape"
   ]
  },
  {
   "cell_type": "code",
   "execution_count": 16,
   "metadata": {},
   "outputs": [
    {
     "data": {
      "text/plain": [
       "(180, 360, 5)"
      ]
     },
     "execution_count": 16,
     "metadata": {},
     "output_type": "execute_result"
    }
   ],
   "source": [
    "INPUT_SHAPE=X[0].shape\n",
    "OUTPUT_SHAPE=pco2_images[0].shape\n",
    "\n",
    "INPUT_SHAPE"
   ]
  },
  {
   "cell_type": "code",
   "execution_count": 25,
   "metadata": {},
   "outputs": [
    {
     "data": {
      "image/png": "[encoded data removed]",
      "text/plain": [
       "<Figure size 432x288 with 1 Axes>"
      ]
     },
     "metadata": {
      "needs_background": "light"
     },
     "output_type": "display_data"
    }
   ],
   "source": [
    "plot_image(pco2_images[420])"
   ]
  },
  {
   "cell_type": "markdown",
   "metadata": {},
   "source": [
    "## Modeling\n",
    "\n",
    "### Image Segmentation\n",
    "CNN - Unet\n",
    "\n",
    "Reference: \n",
    "https://towardsdatascience.com/understanding-semantic-segmentation-with-unet-6be4f42d4b47\n"
   ]
  },
  {
   "cell_type": "code",
   "execution_count": 31,
   "metadata": {},
   "outputs": [],
   "source": [
    "import tensorflow.keras.backend as kb\n",
    "import tensorflow as tf\n",
    "from tensorflow.keras import backend as K\n",
    "\n",
    "def custom_rmse(y_true, y_pred):\n",
    "    \"\"\"\n",
    "    custom_rmse(y_true, y_pred)\n",
    "    calculates root square mean value with focusing only on the ocean\n",
    "    \"\"\"\n",
    "    y_pred = y_pred[y_true != 0]\n",
    "    y_true = y_true[y_true != 0]\n",
    "    \n",
    "    y_pred = tf.convert_to_tensor(y_pred)\n",
    "    y_true = tf.cast(y_true, y_pred.dtype)\n",
    "    \n",
    "    return K.sqrt(K.mean(tf.math.squared_difference(y_pred, y_true), axis=-1))"
   ]
  },
  {
   "cell_type": "markdown",
   "metadata": {},
   "source": [
    "### Base Model"
   ]
  },
  {
   "cell_type": "code",
   "execution_count": 32,
   "metadata": {},
   "outputs": [],
   "source": [
    "tf.keras.backend.clear_session()"
   ]
  },
  {
   "cell_type": "code",
   "execution_count": 33,
   "metadata": {},
   "outputs": [
    {
     "name": "stdout",
     "output_type": "stream",
     "text": [
      "Model: \"sequential\"\n",
      "_________________________________________________________________\n",
      "Layer (type)                 Output Shape              Param #   \n",
      "=================================================================\n",
      "conv2d (Conv2D)              (None, 180, 360, 64)      8064      \n",
      "_________________________________________________________________\n",
      "conv2d_1 (Conv2D)            (None, 180, 360, 64)      102464    \n",
      "_________________________________________________________________\n",
      "max_pooling2d (MaxPooling2D) (None, 60, 120, 64)       0         \n",
      "_________________________________________________________________\n",
      "dropout (Dropout)            (None, 60, 120, 64)       0         \n",
      "_________________________________________________________________\n",
      "conv2d_2 (Conv2D)            (None, 60, 120, 128)      204928    \n",
      "_________________________________________________________________\n",
      "conv2d_3 (Conv2D)            (None, 60, 120, 128)      409728    \n",
      "_________________________________________________________________\n",
      "up_sampling2d (UpSampling2D) (None, 180, 360, 128)     0         \n",
      "_________________________________________________________________\n",
      "conv2d_4 (Conv2D)            (None, 180, 360, 64)      204864    \n",
      "_________________________________________________________________\n",
      "conv2d_5 (Conv2D)            (None, 180, 360, 2)       3202      \n",
      "_________________________________________________________________\n",
      "conv2d_6 (Conv2D)            (None, 180, 360, 1)       3         \n",
      "_________________________________________________________________\n",
      "reshape (Reshape)            (None, 180, 360)          0         \n",
      "=================================================================\n",
      "Total params: 933,253\n",
      "Trainable params: 933,253\n",
      "Non-trainable params: 0\n",
      "_________________________________________________________________\n"
     ]
    }
   ],
   "source": [
    "from functools import partial\n",
    "\n",
    "## Experiment 1\n",
    "## relu vs. elu\n",
    "## elu headstart & more training allowed\n",
    "\n",
    "## Experiment 2\n",
    "## kernel intializer = \"he_normal\" -> does not work\n",
    "DefaultConv2D = partial(keras.layers.Conv2D,\n",
    "                        kernel_size=5,activation='elu',\n",
    "                        padding=\"SAME\")\n",
    "\n",
    "\n",
    "base_model = keras.models.Sequential([\n",
    "    DefaultConv2D(filters=64, input_shape=INPUT_SHAPE),\n",
    "    DefaultConv2D(filters=64),\n",
    "    keras.layers.MaxPooling2D(pool_size=3), #pool size 3 > pool size 2\n",
    "    keras.layers.Dropout(0.3),# drop out at the end of the deepest\n",
    "\n",
    "    DefaultConv2D(filters=128),\n",
    "    DefaultConv2D(filters=128),\n",
    "\n",
    "\n",
    "    keras.layers.UpSampling2D(size=3),\n",
    "    DefaultConv2D(filters=64),    \n",
    "    DefaultConv2D(filters=2),\n",
    "    DefaultConv2D(filters=1,kernel_size=1),\n",
    "    keras.layers.Reshape(OUTPUT_SHAPE)\n",
    "   \n",
    "])\n",
    "\n",
    "\n",
    "## BEST SO FAR ##\n",
    "\n",
    "base_model.summary()"
   ]
  },
  {
   "cell_type": "code",
   "execution_count": 34,
   "metadata": {},
   "outputs": [],
   "source": [
    "myLearnRate=0.001\n",
    "custom_opt = tf.keras.optimizers.Adam(learning_rate=myLearnRate)\n",
    "base_model.compile(loss=custom_rmse, optimizer=custom_opt, metrics=[\"mean_squared_error\"])"
   ]
  },
  {
   "cell_type": "code",
   "execution_count": 35,
   "metadata": {},
   "outputs": [
    {
     "name": "stdout",
     "output_type": "stream",
     "text": [
      "Epoch 1/100\n",
      "27/27 [==============================] - 8s 254ms/step - loss: 17.4584 - mean_squared_error: 203.5969 - val_loss: 15.5375 - val_mean_squared_error: 185.8123\n",
      "Epoch 2/100\n",
      "27/27 [==============================] - 6s 232ms/step - loss: 16.4103 - mean_squared_error: 172.6794 - val_loss: 15.5329 - val_mean_squared_error: 185.7169\n",
      "Epoch 3/100\n",
      "27/27 [==============================] - 6s 233ms/step - loss: 17.2030 - mean_squared_error: 189.0557 - val_loss: 15.5284 - val_mean_squared_error: 185.6244\n",
      "Epoch 4/100\n",
      "27/27 [==============================] - 6s 233ms/step - loss: 16.9398 - mean_squared_error: 183.0156 - val_loss: 15.5243 - val_mean_squared_error: 185.5388\n",
      "Epoch 5/100\n",
      "27/27 [==============================] - 6s 233ms/step - loss: 16.8140 - mean_squared_error: 181.1377 - val_loss: 15.5203 - val_mean_squared_error: 185.4583\n",
      "Epoch 6/100\n",
      "27/27 [==============================] - 6s 233ms/step - loss: 17.0258 - mean_squared_error: 186.8561 - val_loss: 15.5167 - val_mean_squared_error: 185.3852\n",
      "Epoch 7/100\n",
      "27/27 [==============================] - 6s 233ms/step - loss: 15.9117 - mean_squared_error: 164.1023 - val_loss: 15.5134 - val_mean_squared_error: 185.3187\n",
      "Epoch 8/100\n",
      "27/27 [==============================] - 6s 232ms/step - loss: 16.6453 - mean_squared_error: 179.1309 - val_loss: 15.5103 - val_mean_squared_error: 185.2556\n",
      "Epoch 9/100\n",
      "27/27 [==============================] - 6s 233ms/step - loss: 17.6756 - mean_squared_error: 200.6218 - val_loss: 15.5074 - val_mean_squared_error: 185.1978\n",
      "Epoch 10/100\n",
      "27/27 [==============================] - 6s 233ms/step - loss: 17.4516 - mean_squared_error: 196.2329 - val_loss: 15.5047 - val_mean_squared_error: 185.1467\n",
      "Epoch 11/100\n",
      "27/27 [==============================] - 6s 233ms/step - loss: 17.1272 - mean_squared_error: 187.4045 - val_loss: 15.5024 - val_mean_squared_error: 185.1012\n",
      "Epoch 12/100\n",
      "27/27 [==============================] - 6s 233ms/step - loss: 17.2014 - mean_squared_error: 190.2966 - val_loss: 15.5003 - val_mean_squared_error: 185.0615\n",
      "Epoch 13/100\n",
      "27/27 [==============================] - 6s 233ms/step - loss: 17.5844 - mean_squared_error: 197.7588 - val_loss: 15.4984 - val_mean_squared_error: 185.0246\n",
      "Epoch 14/100\n",
      "27/27 [==============================] - 6s 233ms/step - loss: 17.0986 - mean_squared_error: 187.1824 - val_loss: 15.4967 - val_mean_squared_error: 184.9935\n",
      "Epoch 15/100\n",
      "27/27 [==============================] - 6s 233ms/step - loss: 16.6732 - mean_squared_error: 178.9970 - val_loss: 15.4952 - val_mean_squared_error: 184.9675\n",
      "Epoch 16/100\n",
      "27/27 [==============================] - 6s 233ms/step - loss: 17.1472 - mean_squared_error: 188.6058 - val_loss: 15.4939 - val_mean_squared_error: 184.9447\n",
      "Epoch 17/100\n",
      "27/27 [==============================] - 6s 232ms/step - loss: 16.8032 - mean_squared_error: 181.5231 - val_loss: 15.4928 - val_mean_squared_error: 184.9259\n",
      "Epoch 18/100\n",
      "27/27 [==============================] - 6s 233ms/step - loss: 17.0163 - mean_squared_error: 185.0202 - val_loss: 15.4918 - val_mean_squared_error: 184.9110\n",
      "Epoch 19/100\n",
      "27/27 [==============================] - 6s 233ms/step - loss: 16.8100 - mean_squared_error: 181.5168 - val_loss: 15.4910 - val_mean_squared_error: 184.8996\n",
      "Epoch 20/100\n",
      "27/27 [==============================] - 6s 233ms/step - loss: 17.0057 - mean_squared_error: 185.4769 - val_loss: 15.4904 - val_mean_squared_error: 184.8914\n",
      "Epoch 21/100\n",
      "27/27 [==============================] - 6s 233ms/step - loss: 16.9282 - mean_squared_error: 183.9481 - val_loss: 15.4899 - val_mean_squared_error: 184.8864\n",
      "Epoch 22/100\n",
      "27/27 [==============================] - 6s 233ms/step - loss: 17.0403 - mean_squared_error: 186.8631 - val_loss: 15.4895 - val_mean_squared_error: 184.8843\n",
      "Epoch 23/100\n",
      "27/27 [==============================] - 6s 232ms/step - loss: 16.9750 - mean_squared_error: 184.6840 - val_loss: 15.4893 - val_mean_squared_error: 184.8849\n",
      "Epoch 24/100\n",
      "27/27 [==============================] - 6s 233ms/step - loss: 17.0152 - mean_squared_error: 185.7307 - val_loss: 15.4892 - val_mean_squared_error: 184.8882\n",
      "Epoch 25/100\n",
      "27/27 [==============================] - 6s 233ms/step - loss: 17.0213 - mean_squared_error: 185.8248 - val_loss: 15.4891 - val_mean_squared_error: 184.8938\n",
      "Epoch 26/100\n",
      "27/27 [==============================] - 6s 233ms/step - loss: 17.0401 - mean_squared_error: 186.7832 - val_loss: 15.4892 - val_mean_squared_error: 184.9012\n",
      "Epoch 27/100\n",
      "11/27 [===========>..................] - ETA: 2s - loss: 15.5716 - mean_squared_error: 157.7362"
     ]
    },
    {
     "ename": "KeyboardInterrupt",
     "evalue": "",
     "output_type": "error",
     "traceback": [
      "\u001b[0;31m---------------------------------------------------------------------------\u001b[0m",
      "\u001b[0;31mKeyboardInterrupt\u001b[0m                         Traceback (most recent call last)",
      "\u001b[0;32m/tmp/ipykernel_3691582/1804981969.py\u001b[0m in \u001b[0;36m<module>\u001b[0;34m\u001b[0m\n\u001b[1;32m      6\u001b[0m \u001b[0;31m#batch size 24, 32, 64 not as good\u001b[0m\u001b[0;34m\u001b[0m\u001b[0;34m\u001b[0m\u001b[0;34m\u001b[0m\u001b[0m\n\u001b[1;32m      7\u001b[0m \u001b[0;31m# batch size 16 the best\u001b[0m\u001b[0;34m\u001b[0m\u001b[0;34m\u001b[0m\u001b[0;34m\u001b[0m\u001b[0m\n\u001b[0;32m----> 8\u001b[0;31m \u001b[0mhistory\u001b[0m \u001b[0;34m=\u001b[0m \u001b[0mbase_model\u001b[0m\u001b[0;34m.\u001b[0m\u001b[0mfit\u001b[0m\u001b[0;34m(\u001b[0m\u001b[0mX\u001b[0m\u001b[0;34m,\u001b[0m\u001b[0mpco2_images\u001b[0m\u001b[0;34m,\u001b[0m \u001b[0mepochs\u001b[0m\u001b[0;34m=\u001b[0m\u001b[0;36m100\u001b[0m\u001b[0;34m,\u001b[0m \u001b[0mvalidation_data\u001b[0m\u001b[0;34m=\u001b[0m\u001b[0;34m(\u001b[0m\u001b[0mX\u001b[0m\u001b[0;34m,\u001b[0m\u001b[0mpco2_images\u001b[0m\u001b[0;34m)\u001b[0m\u001b[0;34m,\u001b[0m\u001b[0mworkers\u001b[0m\u001b[0;34m=\u001b[0m\u001b[0;34m-\u001b[0m\u001b[0;36m1\u001b[0m\u001b[0;34m,\u001b[0m\u001b[0mbatch_size\u001b[0m\u001b[0;34m=\u001b[0m\u001b[0;36m16\u001b[0m\u001b[0;34m,\u001b[0m\u001b[0mcallbacks\u001b[0m\u001b[0;34m=\u001b[0m\u001b[0mcallbacks\u001b[0m\u001b[0;34m)\u001b[0m\u001b[0;34m\u001b[0m\u001b[0;34m\u001b[0m\u001b[0m\n\u001b[0m\u001b[1;32m      9\u001b[0m \u001b[0;34m\u001b[0m\u001b[0m\n",
      "\u001b[0;32m/burg/glab/users/sk4973/venv/lib/python3.8/site-packages/tensorflow/python/keras/engine/training.py\u001b[0m in \u001b[0;36mfit\u001b[0;34m(self, x, y, batch_size, epochs, verbose, callbacks, validation_split, validation_data, shuffle, class_weight, sample_weight, initial_epoch, steps_per_epoch, validation_steps, validation_batch_size, validation_freq, max_queue_size, workers, use_multiprocessing)\u001b[0m\n\u001b[1;32m   1098\u001b[0m                 _r=1):\n\u001b[1;32m   1099\u001b[0m               \u001b[0mcallbacks\u001b[0m\u001b[0;34m.\u001b[0m\u001b[0mon_train_batch_begin\u001b[0m\u001b[0;34m(\u001b[0m\u001b[0mstep\u001b[0m\u001b[0;34m)\u001b[0m\u001b[0;34m\u001b[0m\u001b[0;34m\u001b[0m\u001b[0m\n\u001b[0;32m-> 1100\u001b[0;31m               \u001b[0mtmp_logs\u001b[0m \u001b[0;34m=\u001b[0m \u001b[0mself\u001b[0m\u001b[0;34m.\u001b[0m\u001b[0mtrain_function\u001b[0m\u001b[0;34m(\u001b[0m\u001b[0miterator\u001b[0m\u001b[0;34m)\u001b[0m\u001b[0;34m\u001b[0m\u001b[0;34m\u001b[0m\u001b[0m\n\u001b[0m\u001b[1;32m   1101\u001b[0m               \u001b[0;32mif\u001b[0m \u001b[0mdata_handler\u001b[0m\u001b[0;34m.\u001b[0m\u001b[0mshould_sync\u001b[0m\u001b[0;34m:\u001b[0m\u001b[0;34m\u001b[0m\u001b[0;34m\u001b[0m\u001b[0m\n\u001b[1;32m   1102\u001b[0m                 \u001b[0mcontext\u001b[0m\u001b[0;34m.\u001b[0m\u001b[0masync_wait\u001b[0m\u001b[0;34m(\u001b[0m\u001b[0;34m)\u001b[0m\u001b[0;34m\u001b[0m\u001b[0;34m\u001b[0m\u001b[0m\n",
      "\u001b[0;32m/burg/glab/users/sk4973/venv/lib/python3.8/site-packages/tensorflow/python/eager/def_function.py\u001b[0m in \u001b[0;36m__call__\u001b[0;34m(self, *args, **kwds)\u001b[0m\n\u001b[1;32m    826\u001b[0m     \u001b[0mtracing_count\u001b[0m \u001b[0;34m=\u001b[0m \u001b[0mself\u001b[0m\u001b[0;34m.\u001b[0m\u001b[0mexperimental_get_tracing_count\u001b[0m\u001b[0;34m(\u001b[0m\u001b[0;34m)\u001b[0m\u001b[0;34m\u001b[0m\u001b[0;34m\u001b[0m\u001b[0m\n\u001b[1;32m    827\u001b[0m     \u001b[0;32mwith\u001b[0m \u001b[0mtrace\u001b[0m\u001b[0;34m.\u001b[0m\u001b[0mTrace\u001b[0m\u001b[0;34m(\u001b[0m\u001b[0mself\u001b[0m\u001b[0;34m.\u001b[0m\u001b[0m_name\u001b[0m\u001b[0;34m)\u001b[0m \u001b[0;32mas\u001b[0m \u001b[0mtm\u001b[0m\u001b[0;34m:\u001b[0m\u001b[0;34m\u001b[0m\u001b[0;34m\u001b[0m\u001b[0m\n\u001b[0;32m--> 828\u001b[0;31m       \u001b[0mresult\u001b[0m \u001b[0;34m=\u001b[0m \u001b[0mself\u001b[0m\u001b[0;34m.\u001b[0m\u001b[0m_call\u001b[0m\u001b[0;34m(\u001b[0m\u001b[0;34m*\u001b[0m\u001b[0margs\u001b[0m\u001b[0;34m,\u001b[0m \u001b[0;34m**\u001b[0m\u001b[0mkwds\u001b[0m\u001b[0;34m)\u001b[0m\u001b[0;34m\u001b[0m\u001b[0;34m\u001b[0m\u001b[0m\n\u001b[0m\u001b[1;32m    829\u001b[0m       \u001b[0mcompiler\u001b[0m \u001b[0;34m=\u001b[0m \u001b[0;34m\"xla\"\u001b[0m \u001b[0;32mif\u001b[0m \u001b[0mself\u001b[0m\u001b[0;34m.\u001b[0m\u001b[0m_experimental_compile\u001b[0m \u001b[0;32melse\u001b[0m \u001b[0;34m\"nonXla\"\u001b[0m\u001b[0;34m\u001b[0m\u001b[0;34m\u001b[0m\u001b[0m\n\u001b[1;32m    830\u001b[0m       \u001b[0mnew_tracing_count\u001b[0m \u001b[0;34m=\u001b[0m \u001b[0mself\u001b[0m\u001b[0;34m.\u001b[0m\u001b[0mexperimental_get_tracing_count\u001b[0m\u001b[0;34m(\u001b[0m\u001b[0;34m)\u001b[0m\u001b[0;34m\u001b[0m\u001b[0;34m\u001b[0m\u001b[0m\n",
      "\u001b[0;32m/burg/glab/users/sk4973/venv/lib/python3.8/site-packages/tensorflow/python/eager/def_function.py\u001b[0m in \u001b[0;36m_call\u001b[0;34m(self, *args, **kwds)\u001b[0m\n\u001b[1;32m    853\u001b[0m       \u001b[0;31m# In this case we have created variables on the first call, so we run the\u001b[0m\u001b[0;34m\u001b[0m\u001b[0;34m\u001b[0m\u001b[0;34m\u001b[0m\u001b[0m\n\u001b[1;32m    854\u001b[0m       \u001b[0;31m# defunned version which is guaranteed to never create variables.\u001b[0m\u001b[0;34m\u001b[0m\u001b[0;34m\u001b[0m\u001b[0;34m\u001b[0m\u001b[0m\n\u001b[0;32m--> 855\u001b[0;31m       \u001b[0;32mreturn\u001b[0m \u001b[0mself\u001b[0m\u001b[0;34m.\u001b[0m\u001b[0m_stateless_fn\u001b[0m\u001b[0;34m(\u001b[0m\u001b[0;34m*\u001b[0m\u001b[0margs\u001b[0m\u001b[0;34m,\u001b[0m \u001b[0;34m**\u001b[0m\u001b[0mkwds\u001b[0m\u001b[0;34m)\u001b[0m  \u001b[0;31m# pylint: disable=not-callable\u001b[0m\u001b[0;34m\u001b[0m\u001b[0;34m\u001b[0m\u001b[0m\n\u001b[0m\u001b[1;32m    856\u001b[0m     \u001b[0;32melif\u001b[0m \u001b[0mself\u001b[0m\u001b[0;34m.\u001b[0m\u001b[0m_stateful_fn\u001b[0m \u001b[0;32mis\u001b[0m \u001b[0;32mnot\u001b[0m \u001b[0;32mNone\u001b[0m\u001b[0;34m:\u001b[0m\u001b[0;34m\u001b[0m\u001b[0;34m\u001b[0m\u001b[0m\n\u001b[1;32m    857\u001b[0m       \u001b[0;31m# Release the lock early so that multiple threads can perform the call\u001b[0m\u001b[0;34m\u001b[0m\u001b[0;34m\u001b[0m\u001b[0;34m\u001b[0m\u001b[0m\n",
      "\u001b[0;32m/burg/glab/users/sk4973/venv/lib/python3.8/site-packages/tensorflow/python/eager/function.py\u001b[0m in \u001b[0;36m__call__\u001b[0;34m(self, *args, **kwargs)\u001b[0m\n\u001b[1;32m   2940\u001b[0m       (graph_function,\n\u001b[1;32m   2941\u001b[0m        filtered_flat_args) = self._maybe_define_function(args, kwargs)\n\u001b[0;32m-> 2942\u001b[0;31m     return graph_function._call_flat(\n\u001b[0m\u001b[1;32m   2943\u001b[0m         filtered_flat_args, captured_inputs=graph_function.captured_inputs)  # pylint: disable=protected-access\n\u001b[1;32m   2944\u001b[0m \u001b[0;34m\u001b[0m\u001b[0m\n",
      "\u001b[0;32m/burg/glab/users/sk4973/venv/lib/python3.8/site-packages/tensorflow/python/eager/function.py\u001b[0m in \u001b[0;36m_call_flat\u001b[0;34m(self, args, captured_inputs, cancellation_manager)\u001b[0m\n\u001b[1;32m   1916\u001b[0m         and executing_eagerly):\n\u001b[1;32m   1917\u001b[0m       \u001b[0;31m# No tape is watching; skip to running the function.\u001b[0m\u001b[0;34m\u001b[0m\u001b[0;34m\u001b[0m\u001b[0;34m\u001b[0m\u001b[0m\n\u001b[0;32m-> 1918\u001b[0;31m       return self._build_call_outputs(self._inference_function.call(\n\u001b[0m\u001b[1;32m   1919\u001b[0m           ctx, args, cancellation_manager=cancellation_manager))\n\u001b[1;32m   1920\u001b[0m     forward_backward = self._select_forward_and_backward_functions(\n",
      "\u001b[0;32m/burg/glab/users/sk4973/venv/lib/python3.8/site-packages/tensorflow/python/eager/function.py\u001b[0m in \u001b[0;36mcall\u001b[0;34m(self, ctx, args, cancellation_manager)\u001b[0m\n\u001b[1;32m    553\u001b[0m       \u001b[0;32mwith\u001b[0m \u001b[0m_InterpolateFunctionError\u001b[0m\u001b[0;34m(\u001b[0m\u001b[0mself\u001b[0m\u001b[0;34m)\u001b[0m\u001b[0;34m:\u001b[0m\u001b[0;34m\u001b[0m\u001b[0;34m\u001b[0m\u001b[0m\n\u001b[1;32m    554\u001b[0m         \u001b[0;32mif\u001b[0m \u001b[0mcancellation_manager\u001b[0m \u001b[0;32mis\u001b[0m \u001b[0;32mNone\u001b[0m\u001b[0;34m:\u001b[0m\u001b[0;34m\u001b[0m\u001b[0;34m\u001b[0m\u001b[0m\n\u001b[0;32m--> 555\u001b[0;31m           outputs = execute.execute(\n\u001b[0m\u001b[1;32m    556\u001b[0m               \u001b[0mstr\u001b[0m\u001b[0;34m(\u001b[0m\u001b[0mself\u001b[0m\u001b[0;34m.\u001b[0m\u001b[0msignature\u001b[0m\u001b[0;34m.\u001b[0m\u001b[0mname\u001b[0m\u001b[0;34m)\u001b[0m\u001b[0;34m,\u001b[0m\u001b[0;34m\u001b[0m\u001b[0;34m\u001b[0m\u001b[0m\n\u001b[1;32m    557\u001b[0m               \u001b[0mnum_outputs\u001b[0m\u001b[0;34m=\u001b[0m\u001b[0mself\u001b[0m\u001b[0;34m.\u001b[0m\u001b[0m_num_outputs\u001b[0m\u001b[0;34m,\u001b[0m\u001b[0;34m\u001b[0m\u001b[0;34m\u001b[0m\u001b[0m\n",
      "\u001b[0;32m/burg/glab/users/sk4973/venv/lib/python3.8/site-packages/tensorflow/python/eager/execute.py\u001b[0m in \u001b[0;36mquick_execute\u001b[0;34m(op_name, num_outputs, inputs, attrs, ctx, name)\u001b[0m\n\u001b[1;32m     57\u001b[0m   \u001b[0;32mtry\u001b[0m\u001b[0;34m:\u001b[0m\u001b[0;34m\u001b[0m\u001b[0;34m\u001b[0m\u001b[0m\n\u001b[1;32m     58\u001b[0m     \u001b[0mctx\u001b[0m\u001b[0;34m.\u001b[0m\u001b[0mensure_initialized\u001b[0m\u001b[0;34m(\u001b[0m\u001b[0;34m)\u001b[0m\u001b[0;34m\u001b[0m\u001b[0;34m\u001b[0m\u001b[0m\n\u001b[0;32m---> 59\u001b[0;31m     tensors = pywrap_tfe.TFE_Py_Execute(ctx._handle, device_name, op_name,\n\u001b[0m\u001b[1;32m     60\u001b[0m                                         inputs, attrs, num_outputs)\n\u001b[1;32m     61\u001b[0m   \u001b[0;32mexcept\u001b[0m \u001b[0mcore\u001b[0m\u001b[0;34m.\u001b[0m\u001b[0m_NotOkStatusException\u001b[0m \u001b[0;32mas\u001b[0m \u001b[0me\u001b[0m\u001b[0;34m:\u001b[0m\u001b[0;34m\u001b[0m\u001b[0;34m\u001b[0m\u001b[0m\n",
      "\u001b[0;31mKeyboardInterrupt\u001b[0m: "
     ]
    }
   ],
   "source": [
    "model_path=\"../models/base_model/base_model_socat.h5\"\n",
    "early_stopings = tf.keras.callbacks.EarlyStopping(monitor='val_loss', min_delta=0, patience=5, verbose=1, mode='min')\n",
    "checkpoint =  tf.keras.callbacks.ModelCheckpoint(model_path, monitor='val_loss', save_best_only=True, mode='min', verbose=0)\n",
    "callbacks=[early_stopings,checkpoint]\n",
    "\n",
    "#batch size 24, 32, 64 not as good\n",
    "# batch size 16 the best\n",
    "history = base_model.fit(X,pco2_images, epochs=100, validation_data=(X,pco2_images),workers=-1,batch_size=16,callbacks=callbacks)\n",
    "\n"
   ]
  },
  {
   "cell_type": "markdown",
   "metadata": {},
   "source": [
    "### Base Model Output"
   ]
  },
  {
   "cell_type": "code",
   "execution_count": 44,
   "metadata": {},
   "outputs": [
    {
     "name": "stdout",
     "output_type": "stream",
     "text": [
      "14/14 [==============================] - 3s 103ms/step\n"
     ]
    }
   ],
   "source": [
    "\n",
    "best_model = tf.keras.models.load_model('../models/base_model/base_model_socat.h5', custom_objects={'custom_rmse':custom_rmse})\n",
    "predicted_image=best_model.predict(X,verbose=1)"
   ]
  },
  {
   "cell_type": "code",
   "execution_count": 37,
   "metadata": {},
   "outputs": [
    {
     "data": {
      "image/png": "[encoded data removed]",
      "text/plain": [
       "<Figure size 432x288 with 2 Axes>"
      ]
     },
     "metadata": {
      "needs_background": "light"
     },
     "output_type": "display_data"
    },
    {
     "data": {
      "text/plain": [
       "<Figure size 432x288 with 0 Axes>"
      ]
     },
     "metadata": {},
     "output_type": "display_data"
    }
   ],
   "source": [
    "import matplotlib.pyplot as plt\n",
    "\n",
    "figure, axis = plt.subplots(1, 2)\n",
    "\n",
    "\n",
    "axis[0].imshow(np.squeeze(predicted_image[1]), cmap=\"gray\", interpolation=\"nearest\")\n",
    "axis[0].set_title(\"prediction\")\n",
    "axis[1].imshow(np.squeeze(pco2_images[419:421][1]), cmap=\"gray\", interpolation=\"nearest\")\n",
    "axis[1].set_title(\"true\")\n",
    "\n",
    "plt.show()\n",
    "plt.savefig('base_model_prediction.png')"
   ]
  },
  {
   "cell_type": "code",
   "execution_count": 38,
   "metadata": {},
   "outputs": [
    {
     "data": {
      "image/png": "[encoded data removed]",
      "text/plain": [
       "<Figure size 432x288 with 1 Axes>"
      ]
     },
     "metadata": {
      "needs_background": "light"
     },
     "output_type": "display_data"
    }
   ],
   "source": [
    "difference=np.squeeze(pco2_images[419:421][1])-np.squeeze(predicted_image[0])\n",
    "plot_image(difference)"
   ]
  },
  {
   "cell_type": "markdown",
   "metadata": {},
   "source": [
    "## Testing Generalization Capability\n",
    "\n",
    "Using Validation data of other dataset"
   ]
  },
  {
   "cell_type": "code",
   "execution_count": 73,
   "metadata": {},
   "outputs": [],
   "source": [
    "val_dir_name=\"../data/data2\"\n",
    "\n",
    "chl,mld,sss,sst,u10,fg_co2,xco2,icefrac,patm,pco2=read_xarray(val_dir_name)"
   ]
  },
  {
   "cell_type": "code",
   "execution_count": 74,
   "metadata": {},
   "outputs": [
    {
     "name": "stdout",
     "output_type": "stream",
     "text": [
      "340.84854 407.2084\n",
      "\n",
      "xco2 shape: \n",
      "(421, 180, 360) (421, 180, 360)\n"
     ]
    },
    {
     "data": {
      "text/plain": [
       "(421, 180, 360, 5)"
      ]
     },
     "execution_count": 74,
     "metadata": {},
     "output_type": "execute_result"
    }
   ],
   "source": [
    "xco2_images=[]\n",
    "min_xco2=np.min(xco2.XCO2.data)\n",
    "max_xco2=np.max(xco2.XCO2.data)\n",
    "new_min=0\n",
    "new_max=255\n",
    "print(min_xco2, max_xco2)\n",
    "print()\n",
    "\n",
    "\n",
    "for i in xco2.XCO2.data:\n",
    "    num = (i-min_xco2)*(new_max-new_min)/(max_xco2-min_xco2)+new_min\n",
    "    tmp = (np.repeat(num,180*360)).reshape(180,-1)\n",
    "    xco2_images.append(tmp)\n",
    "\n",
    "xco2_images=np.array(xco2_images)\n",
    "\n",
    "print(\"xco2 shape: \")\n",
    "print(xco2_images.shape, chl.Chl.data.shape)\n",
    "\n",
    "\n",
    "chl_images=preprocess_image_reduced(chl.Chl.data)\n",
    "mld_images=preprocess_image_reduced(mld.MLD.data)\n",
    "sss_images=preprocess_image_reduced(sss.SSS.data)\n",
    "sst_images=preprocess_image_reduced(sst.SST.data)\n",
    "xco2_images=preprocess_image_reduced(xco2_images,xco2=True)\n",
    "pco2_images=preprocess_image_reduced(pco2.pCO2.data)\n",
    "\n",
    "X = np.stack((chl_images, mld_images, sss_images, sst_images,xco2_images), axis = 1)\n",
    "\n",
    "X=X.reshape((421,180,360,5))\n",
    "X.shape\n"
   ]
  },
  {
   "cell_type": "code",
   "execution_count": 75,
   "metadata": {},
   "outputs": [
    {
     "name": "stdout",
     "output_type": "stream",
     "text": [
      "14/14 [==============================] - 1s 45ms/step\n"
     ]
    }
   ],
   "source": [
    "predicted_image=best_model.predict(X,verbose=1)"
   ]
  },
  {
   "cell_type": "code",
   "execution_count": 76,
   "metadata": {},
   "outputs": [
    {
     "data": {
      "image/png": "[encoded data removed]",
      "text/plain": [
       "<Figure size 432x288 with 2 Axes>"
      ]
     },
     "metadata": {
      "needs_background": "light"
     },
     "output_type": "display_data"
    }
   ],
   "source": [
    "figure, axis = plt.subplots(1, 2)\n",
    "\n",
    "axis[0].imshow(np.squeeze(predicted_image[0]), cmap=\"gray\", interpolation=\"nearest\")\n",
    "axis[0].set_title(\"val_prediction\")\n",
    "axis[1].imshow(np.squeeze(pco2_images[0]), cmap=\"gray\", interpolation=\"nearest\")\n",
    "axis[1].set_title(\"val_true\")\n",
    "\n",
    "plt.show()"
   ]
  },
  {
   "cell_type": "code",
   "execution_count": 79,
   "metadata": {},
   "outputs": [
    {
     "name": "stdout",
     "output_type": "stream",
     "text": [
      "RMSE score!\n"
     ]
    },
    {
     "data": {
      "text/plain": [
       "7.15476599956448"
      ]
     },
     "execution_count": 79,
     "metadata": {},
     "output_type": "execute_result"
    }
   ],
   "source": [
    "print(\"RMSE score!\")\n",
    "np.sqrt(np.mean((predicted_image[1]-pco2_images[1])**2))"
   ]
  },
  {
   "cell_type": "code",
   "execution_count": null,
   "metadata": {},
   "outputs": [],
   "source": [
    "# generalization works pretty well"
   ]
  },
  {
   "cell_type": "markdown",
   "metadata": {},
   "source": [
    "## Getting PCO2 Prediction per Point"
   ]
  },
  {
   "cell_type": "code",
   "execution_count": 45,
   "metadata": {},
   "outputs": [],
   "source": [
    "def inverse_scale_image(arr, df):\n",
    "    \"\"\"\n",
    "    inverse_scale_image(arr, df):\n",
    "    - inverses the pco2 scaling\n",
    "    \"\"\"\n",
    "    old_min = np.min(df)\n",
    "    old_max = np.max(df)\n",
    "    output = arr*(old_max-old_min)/255 + old_min\n",
    "    return output\n",
    "\n",
    "def get_point_prediction(pred,lon,lan):\n",
    "    pco2_value = pred[lan][lon]\n",
    "    return pco2_value\n",
    "    "
   ]
  },
  {
   "cell_type": "code",
   "execution_count": 46,
   "metadata": {},
   "outputs": [],
   "source": [
    "actual=inverse_scale_image(predicted_image,pco2.pCO2_socat.data)  "
   ]
  },
  {
   "cell_type": "code",
   "execution_count": 47,
   "metadata": {},
   "outputs": [
    {
     "name": "stdout",
     "output_type": "stream",
     "text": [
      "3.0843697\n",
      "0.0\n"
     ]
    }
   ],
   "source": [
    "print(get_point_prediction(actual[0],100,100))\n",
    "\n",
    "print(get_point_prediction(pco2.pCO2_socat.data[0],100,100))"
   ]
  },
  {
   "cell_type": "code",
   "execution_count": 48,
   "metadata": {},
   "outputs": [
    {
     "name": "stdout",
     "output_type": "stream",
     "text": [
      "Scaled back RMSE score:\n"
     ]
    },
    {
     "data": {
      "text/plain": [
       "33.92481359083977"
      ]
     },
     "execution_count": 48,
     "metadata": {},
     "output_type": "execute_result"
    }
   ],
   "source": [
    "print(\"Scaled back RMSE score:\")\n",
    "np.sqrt(np.mean((pco2.pCO2_socat.data-actual)**2))"
   ]
  },
  {
   "cell_type": "code",
   "execution_count": 50,
   "metadata": {},
   "outputs": [
    {
     "name": "stdout",
     "output_type": "stream",
     "text": [
      "mean: 2.8395542252779515\n",
      "min: -1.0\n",
      "max: 635.2041036748\n",
      "std: 33.92393024013906\n"
     ]
    }
   ],
   "source": [
    "#pco2 data information\n",
    "print(\"mean:\",np.mean(pco2.pCO2_socat.data))\n",
    "print(\"min:\",np.min(pco2.pCO2_socat.data))\n",
    "print(\"max:\",np.max(pco2.pCO2_socat.data))\n",
    "print(\"std:\",np.std(pco2.pCO2_socat.data))"
   ]
  },
  {
   "cell_type": "code",
   "execution_count": 70,
   "metadata": {},
   "outputs": [
    {
     "name": "stdout",
     "output_type": "stream",
     "text": [
      "64800\n",
      "23730\n",
      "40953\n",
      "non-negative\n",
      "mean: 0.889612680573204\n",
      "min: 0.0\n",
      "max: 360.2164984908082\n",
      "std: 16.708820443960864\n"
     ]
    }
   ],
   "source": [
    "tmp=pco2.pCO2_socat.data[1]\n",
    "print(180*360)\n",
    "print(len(tmp[tmp==-1]))\n",
    "print(len(tmp[tmp==0]))\n",
    "\n",
    "\n",
    "\n",
    "print(\"non-negative\")\n",
    "non_neg=tmp[tmp!=-1]\n",
    "print(\"mean:\",np.mean(non_neg))\n",
    "print(\"min:\",np.min(non_neg))\n",
    "print(\"max:\",np.max(non_neg))\n",
    "print(\"std:\",np.std(non_neg))\n",
    "\n",
    "\n"
   ]
  },
  {
   "cell_type": "code",
   "execution_count": 64,
   "metadata": {},
   "outputs": [],
   "source": [
    "tmp=pco2.pCO2_socat.data[0]\n",
    "\n"
   ]
  },
  {
   "cell_type": "code",
   "execution_count": null,
   "metadata": {},
   "outputs": [],
   "source": []
  }
 ],
 "metadata": {
  "kernelspec": {
   "display_name": "venv",
   "language": "python",
   "name": "venv"
  },
  "language_info": {
   "codemirror_mode": {
    "name": "ipython",
    "version": 3
   },
   "file_extension": ".py",
   "mimetype": "text/x-python",
   "name": "python",
   "nbconvert_exporter": "python",
   "pygments_lexer": "ipython3",
   "version": "3.8.5"
  },
  "toc-autonumbering": true,
  "toc-showcode": false,
  "toc-showmarkdowntxt": false,
  "toc-showtags": false
 },
 "nbformat": 4,
 "nbformat_minor": 4
}

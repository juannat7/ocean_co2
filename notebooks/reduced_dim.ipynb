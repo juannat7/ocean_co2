{
 "cells": [
  {
   "cell_type": "markdown",
   "metadata": {},
   "source": [
    "# Modifications\n",
    "\n",
    "Link to Interactive Notebook: \n",
    "https://colab.research.google.com/drive/1sbJTsgCsAQwCkGdLXK7EdgkaTpiTGBM1#scrollTo=T71qxHyh9p23\n",
    "\n",
    "1. Reduced Input Dimension\n",
    "2. Different handling of xco2: merge the value in as an additional input in the fully connected layer (?)"
   ]
  },
  {
   "cell_type": "code",
   "execution_count": 1,
   "metadata": {},
   "outputs": [
    {
     "name": "stderr",
     "output_type": "stream",
     "text": [
      "/burg/glab/users/sk4973/venv/lib/python3.8/site-packages/xarray/backends/cfgrib_.py:27: UserWarning: Failed to load cfgrib - most likely there is a problem accessing the ecCodes library. Try `import cfgrib` to get the full error message\n",
      "  warnings.warn(\n",
      "2021-10-19 15:45:13.804172: I tensorflow/stream_executor/platform/default/dso_loader.cc:49] Successfully opened dynamic library libcudart.so.11.0\n"
     ]
    }
   ],
   "source": [
    "import imp\n",
    "import matplotlib.pyplot as plt\n",
    "import numpy as np\n",
    "import pandas as pd\n",
    "import xarray as xr\n",
    "import sys\n",
    "import tensorflow as tf\n",
    "from tensorflow import keras\n",
    "import os\n",
    "from sklearn.model_selection import train_test_split\n",
    "\n",
    "sys.path.insert(0, '../src')\n",
    "\n",
    "from utils import df_to_xarray,read_xarray,plot_image"
   ]
  },
  {
   "cell_type": "code",
   "execution_count": 2,
   "metadata": {},
   "outputs": [
    {
     "name": "stderr",
     "output_type": "stream",
     "text": [
      "/burg/glab/users/sk4973/venv/lib/python3.8/site-packages/xarray/backends/plugins.py:61: RuntimeWarning: Engine 'cfgrib' loading failed:\n",
      "Cannot find the ecCodes library\n",
      "  warnings.warn(f\"Engine {name!r} loading failed:\\n{ex}\", RuntimeWarning)\n"
     ]
    }
   ],
   "source": [
    "# Reading Data\n",
    "dir_name=\"../data/data1\"\n",
    "val_dir_name=\"../data/data2\"\n",
    "\n",
    "\n",
    "chl,mld,sss,sst,u10,fg_co2,xco2,icefrac,patm,pco2=read_xarray(dir_name)\n",
    "\n"
   ]
  },
  {
   "cell_type": "code",
   "execution_count": 3,
   "metadata": {},
   "outputs": [],
   "source": [
    "def convert_nan(arr):\n",
    "    nans=np.isnan(arr)\n",
    "    min_val=arr[~nans].min()\n",
    "    #print(min_val)\n",
    "    arr[nans]=min_val-1\n",
    "    return arr\n",
    "\n",
    "def add_dimension(arr):\n",
    "    images=np.expand_dims(arr, axis=3)\n",
    "    return images\n",
    "\n",
    "def scale_image(arr):\n",
    "    ## Normal\n",
    "    #arr=(arr-np.mean(arr))/np.std(arr)\n",
    "    \n",
    "    ## Min-Max\n",
    "    # min_val=arr.min()\n",
    "    # max_val=arr.max()\n",
    "    # arr=arr/(min_val-max_val)\n",
    "\n",
    "    ## Image Scale\n",
    "    min_pixel = arr.min() \n",
    "    max_pixel = arr.max()\n",
    "    new_min = 0\n",
    "    new_max = 255\n",
    "    arr = (arr-min_pixel)*(255)/(max_pixel-min_pixel)+new_min \n",
    "    return arr\n",
    "  \n",
    "\n",
    "def preprocess_image_reduced(data,xco2=False):\n",
    "  \"\"\"\n",
    "  dimension reduced the output should be  (180,360,5)\n",
    "  \"\"\"\n",
    "  if xco2:\n",
    "    return data\n",
    "  return scale_image(convert_nan(data))"
   ]
  },
  {
   "cell_type": "code",
   "execution_count": 4,
   "metadata": {},
   "outputs": [
    {
     "name": "stdout",
     "output_type": "stream",
     "text": [
      "340.84854 407.2084\n",
      "\n",
      "xco2 shape: \n",
      "(421, 180, 360) (421, 180, 360)\n"
     ]
    }
   ],
   "source": [
    "#xco2 values are a constant value across the globe, so creating an image layer with constant value for the model\n",
    "xco2_images=[]\n",
    "min_xco2=np.min(xco2.XCO2.data)\n",
    "max_xco2=np.max(xco2.XCO2.data)\n",
    "new_min=0\n",
    "new_max=255\n",
    "print(min_xco2, max_xco2)\n",
    "print()\n",
    "\n",
    "\n",
    "for i in xco2.XCO2.data:\n",
    "    num = (i-min_xco2)*(new_max-new_min)/(max_xco2-min_xco2)+new_min\n",
    "    tmp = (np.repeat(num,180*360)).reshape(180,-1)\n",
    "    xco2_images.append(tmp)\n",
    "\n",
    "xco2_images=np.array(xco2_images)\n",
    "\n",
    "print(\"xco2 shape: \")\n",
    "print(xco2_images.shape, chl.Chl.data.shape)\n",
    "\n",
    "\n",
    "chl_images=preprocess_image_reduced(chl.Chl.data)\n",
    "mld_images=preprocess_image_reduced(mld.MLD.data)\n",
    "sss_images=preprocess_image_reduced(sss.SSS.data)\n",
    "sst_images=preprocess_image_reduced(sst.SST.data)\n",
    "xco2_images=preprocess_image_reduced(xco2_images,xco2=True)\n",
    "pco2_images=preprocess_image_reduced(pco2.pCO2.data)\n",
    "\n",
    "X = np.stack((chl_images, mld_images, sss_images, sst_images,xco2_images), axis = 1)\n"
   ]
  },
  {
   "cell_type": "code",
   "execution_count": 5,
   "metadata": {},
   "outputs": [
    {
     "data": {
      "text/plain": [
       "(421, 180, 360, 5)"
      ]
     },
     "execution_count": 5,
     "metadata": {},
     "output_type": "execute_result"
    }
   ],
   "source": [
    "X=X.reshape((421,180,360,5))\n",
    "X.shape"
   ]
  },
  {
   "cell_type": "code",
   "execution_count": 6,
   "metadata": {},
   "outputs": [
    {
     "data": {
      "text/plain": [
       "(180, 360, 5)"
      ]
     },
     "execution_count": 6,
     "metadata": {},
     "output_type": "execute_result"
    }
   ],
   "source": [
    "INPUT_SHAPE=X[0].shape\n",
    "OUTPUT_SHAPE=pco2_images[0].shape\n",
    "\n",
    "INPUT_SHAPE"
   ]
  },
  {
   "cell_type": "code",
   "execution_count": 19,
   "metadata": {},
   "outputs": [],
   "source": [
    "import tensorflow.keras.backend as kb\n",
    "import tensorflow as tf\n",
    "from tensorflow.keras import backend as K\n",
    "\n",
    "\n",
    "def custom_rmse(y_true, y_pred):\n",
    "    \n",
    "    y_pred = tf.convert_to_tensor(y_pred)\n",
    "    y_true = tf.cast(y_true, y_pred.dtype)\n",
    "    #y_true = y_true[y_true != 0]\n",
    "    #y_pred = y_pred[y_true != 0]\n",
    "    return K.sqrt(K.mean(tf.math.squared_difference(y_pred, y_true), axis=-1))\n",
    "\n"
   ]
  },
  {
   "cell_type": "code",
   "execution_count": 12,
   "metadata": {},
   "outputs": [
    {
     "name": "stdout",
     "output_type": "stream",
     "text": [
      "Model: \"sequential_2\"\n",
      "_________________________________________________________________\n",
      "Layer (type)                 Output Shape              Param #   \n",
      "=================================================================\n",
      "conv2d_18 (Conv2D)           (None, 180, 360, 64)      8064      \n",
      "_________________________________________________________________\n",
      "conv2d_19 (Conv2D)           (None, 180, 360, 64)      102464    \n",
      "_________________________________________________________________\n",
      "max_pooling2d_3 (MaxPooling2 (None, 60, 120, 64)       0         \n",
      "_________________________________________________________________\n",
      "dropout_4 (Dropout)          (None, 60, 120, 64)       0         \n",
      "_________________________________________________________________\n",
      "conv2d_20 (Conv2D)           (None, 60, 120, 128)      204928    \n",
      "_________________________________________________________________\n",
      "conv2d_21 (Conv2D)           (None, 60, 120, 128)      409728    \n",
      "_________________________________________________________________\n",
      "up_sampling2d_3 (UpSampling2 (None, 180, 360, 128)     0         \n",
      "_________________________________________________________________\n",
      "conv2d_22 (Conv2D)           (None, 180, 360, 64)      204864    \n",
      "_________________________________________________________________\n",
      "conv2d_23 (Conv2D)           (None, 180, 360, 2)       3202      \n",
      "_________________________________________________________________\n",
      "conv2d_24 (Conv2D)           (None, 180, 360, 1)       3         \n",
      "_________________________________________________________________\n",
      "reshape_2 (Reshape)          (None, 180, 360)          0         \n",
      "=================================================================\n",
      "Total params: 933,253\n",
      "Trainable params: 933,253\n",
      "Non-trainable params: 0\n",
      "_________________________________________________________________\n"
     ]
    }
   ],
   "source": [
    "from functools import partial\n",
    "\n",
    "DefaultConv2D = partial(keras.layers.Conv2D,\n",
    "                        kernel_size=5,activation='elu', padding=\"SAME\")\n",
    "\n",
    "\n",
    "base_model = keras.models.Sequential([\n",
    "    DefaultConv2D(filters=64, input_shape=INPUT_SHAPE),\n",
    "    DefaultConv2D(filters=64),\n",
    "    keras.layers.MaxPooling2D(pool_size=3),\n",
    "    keras.layers.Dropout(0.3),\n",
    "\n",
    "    DefaultConv2D(filters=128),\n",
    "    DefaultConv2D(filters=128),\n",
    "\n",
    "    keras.layers.UpSampling2D(size=3),\n",
    "    DefaultConv2D(filters=64),    \n",
    "    DefaultConv2D(filters=2),\n",
    "    DefaultConv2D(filters=1,kernel_size=1),\n",
    "    keras.layers.Reshape(OUTPUT_SHAPE)\n",
    "   \n",
    "])\n",
    "\n",
    "\n",
    "## BEST SO FAR ##\n",
    "\n",
    "base_model.summary()"
   ]
  },
  {
   "cell_type": "code",
   "execution_count": 13,
   "metadata": {},
   "outputs": [],
   "source": [
    "base_model.compile(loss=custom_rmse, optimizer=\"nadam\", metrics=[\"mean_squared_error\"])"
   ]
  },
  {
   "cell_type": "code",
   "execution_count": 14,
   "metadata": {},
   "outputs": [
    {
     "name": "stdout",
     "output_type": "stream",
     "text": [
      "Epoch 1/100\n",
      "14/14 [==============================] - 21s 627ms/step - loss: 98.7519 - mean_squared_error: 21476.7732 - val_loss: 44.9499 - val_mean_squared_error: 2128.6951\n",
      "Epoch 2/100\n",
      "14/14 [==============================] - 6s 428ms/step - loss: 42.2821 - mean_squared_error: 1905.7858 - val_loss: 36.8775 - val_mean_squared_error: 1554.0530\n",
      "Epoch 3/100\n",
      "14/14 [==============================] - 6s 428ms/step - loss: 37.8200 - mean_squared_error: 1641.4204 - val_loss: 33.4322 - val_mean_squared_error: 1314.6666\n",
      "Epoch 4/100\n",
      "14/14 [==============================] - 6s 429ms/step - loss: 33.2744 - mean_squared_error: 1302.7093 - val_loss: 35.7304 - val_mean_squared_error: 1504.9075\n",
      "Epoch 5/100\n",
      "14/14 [==============================] - 6s 428ms/step - loss: 33.3128 - mean_squared_error: 1301.0972 - val_loss: 38.7815 - val_mean_squared_error: 1751.0498\n",
      "Epoch 6/100\n",
      "14/14 [==============================] - 6s 428ms/step - loss: 33.2220 - mean_squared_error: 1296.9308 - val_loss: 28.7688 - val_mean_squared_error: 982.1480\n",
      "Epoch 7/100\n",
      "14/14 [==============================] - 6s 429ms/step - loss: 30.9721 - mean_squared_error: 1126.7229 - val_loss: 27.3287 - val_mean_squared_error: 888.5368\n",
      "Epoch 8/100\n",
      "14/14 [==============================] - 6s 428ms/step - loss: 28.6503 - mean_squared_error: 971.1094 - val_loss: 27.3364 - val_mean_squared_error: 886.8435\n",
      "Epoch 9/100\n",
      "14/14 [==============================] - 6s 428ms/step - loss: 27.6353 - mean_squared_error: 901.1714 - val_loss: 24.2922 - val_mean_squared_error: 709.0643\n",
      "Epoch 10/100\n",
      "14/14 [==============================] - 6s 428ms/step - loss: 25.8198 - mean_squared_error: 788.9900 - val_loss: 23.1140 - val_mean_squared_error: 647.4190\n",
      "Epoch 11/100\n",
      "14/14 [==============================] - 6s 428ms/step - loss: 24.0737 - mean_squared_error: 694.2593 - val_loss: 22.7230 - val_mean_squared_error: 620.4070\n",
      "Epoch 12/100\n",
      "14/14 [==============================] - 6s 429ms/step - loss: 24.8260 - mean_squared_error: 734.1261 - val_loss: 22.1779 - val_mean_squared_error: 602.0361\n",
      "Epoch 13/100\n",
      "14/14 [==============================] - 6s 428ms/step - loss: 22.3078 - mean_squared_error: 600.2071 - val_loss: 23.2517 - val_mean_squared_error: 650.9073\n",
      "Epoch 14/100\n",
      "14/14 [==============================] - 6s 429ms/step - loss: 21.4832 - mean_squared_error: 564.2914 - val_loss: 18.7891 - val_mean_squared_error: 447.5105\n",
      "Epoch 15/100\n",
      "14/14 [==============================] - 6s 428ms/step - loss: 20.1968 - mean_squared_error: 506.0962 - val_loss: 18.5615 - val_mean_squared_error: 434.8466\n",
      "Epoch 16/100\n",
      "14/14 [==============================] - 6s 428ms/step - loss: 19.3233 - mean_squared_error: 464.7319 - val_loss: 20.4387 - val_mean_squared_error: 507.9304\n",
      "Epoch 17/100\n",
      "14/14 [==============================] - 6s 427ms/step - loss: 19.4516 - mean_squared_error: 477.4710 - val_loss: 20.5692 - val_mean_squared_error: 512.9671\n",
      "Epoch 18/100\n",
      "14/14 [==============================] - 6s 429ms/step - loss: 19.0992 - mean_squared_error: 461.5124 - val_loss: 17.5088 - val_mean_squared_error: 396.3764\n",
      "Epoch 19/100\n",
      "14/14 [==============================] - 6s 428ms/step - loss: 17.8905 - mean_squared_error: 410.1294 - val_loss: 17.5886 - val_mean_squared_error: 397.1124\n",
      "Epoch 20/100\n",
      "14/14 [==============================] - 6s 428ms/step - loss: 17.6095 - mean_squared_error: 401.9569 - val_loss: 17.2102 - val_mean_squared_error: 385.8049\n",
      "Epoch 21/100\n",
      "14/14 [==============================] - 6s 428ms/step - loss: 16.9025 - mean_squared_error: 375.5926 - val_loss: 19.2349 - val_mean_squared_error: 456.7631\n",
      "Epoch 22/100\n",
      "14/14 [==============================] - 6s 428ms/step - loss: 17.9212 - mean_squared_error: 418.6544 - val_loss: 17.1582 - val_mean_squared_error: 401.6350\n",
      "Epoch 23/100\n",
      "14/14 [==============================] - 6s 428ms/step - loss: 16.9078 - mean_squared_error: 383.2355 - val_loss: 18.6712 - val_mean_squared_error: 434.1530\n",
      "Epoch 24/100\n",
      "14/14 [==============================] - 6s 428ms/step - loss: 16.6979 - mean_squared_error: 369.3927 - val_loss: 14.8415 - val_mean_squared_error: 311.0075\n",
      "Epoch 25/100\n",
      "14/14 [==============================] - 6s 427ms/step - loss: 15.3472 - mean_squared_error: 320.2778 - val_loss: 15.3876 - val_mean_squared_error: 327.5927\n",
      "Epoch 26/100\n",
      "14/14 [==============================] - 6s 427ms/step - loss: 15.3379 - mean_squared_error: 320.2183 - val_loss: 14.5583 - val_mean_squared_error: 299.6429\n",
      "Epoch 27/100\n",
      "14/14 [==============================] - 6s 427ms/step - loss: 15.0157 - mean_squared_error: 312.4594 - val_loss: 16.0703 - val_mean_squared_error: 349.7692\n",
      "Epoch 28/100\n",
      "14/14 [==============================] - 6s 428ms/step - loss: 15.5177 - mean_squared_error: 331.5447 - val_loss: 13.9718 - val_mean_squared_error: 284.0403\n",
      "Epoch 29/100\n",
      "14/14 [==============================] - 6s 429ms/step - loss: 14.1854 - mean_squared_error: 283.7134 - val_loss: 13.5835 - val_mean_squared_error: 270.1805\n",
      "Epoch 30/100\n",
      "14/14 [==============================] - 6s 429ms/step - loss: 14.1124 - mean_squared_error: 286.5399 - val_loss: 14.3464 - val_mean_squared_error: 290.9985\n",
      "Epoch 31/100\n",
      "14/14 [==============================] - 6s 428ms/step - loss: 14.2116 - mean_squared_error: 286.6848 - val_loss: 13.2338 - val_mean_squared_error: 260.5549\n",
      "Epoch 32/100\n",
      "14/14 [==============================] - 6s 428ms/step - loss: 13.5471 - mean_squared_error: 266.5743 - val_loss: 14.9512 - val_mean_squared_error: 332.3171\n",
      "Epoch 33/100\n",
      "14/14 [==============================] - 6s 428ms/step - loss: 14.2172 - mean_squared_error: 294.4531 - val_loss: 13.0360 - val_mean_squared_error: 257.1000\n",
      "Epoch 34/100\n",
      "14/14 [==============================] - 6s 428ms/step - loss: 13.5420 - mean_squared_error: 266.1593 - val_loss: 13.0069 - val_mean_squared_error: 262.0978\n",
      "Epoch 35/100\n",
      "14/14 [==============================] - 6s 428ms/step - loss: 13.5761 - mean_squared_error: 275.6015 - val_loss: 12.2992 - val_mean_squared_error: 234.2843\n",
      "Epoch 36/100\n",
      "14/14 [==============================] - 6s 428ms/step - loss: 13.0283 - mean_squared_error: 254.2185 - val_loss: 13.3326 - val_mean_squared_error: 264.0651\n",
      "Epoch 37/100\n",
      "14/14 [==============================] - 6s 427ms/step - loss: 13.2403 - mean_squared_error: 263.6724 - val_loss: 11.9783 - val_mean_squared_error: 226.0672\n",
      "Epoch 38/100\n",
      "14/14 [==============================] - 6s 430ms/step - loss: 12.3975 - mean_squared_error: 233.7560 - val_loss: 14.6403 - val_mean_squared_error: 300.1954\n",
      "Epoch 39/100\n",
      "14/14 [==============================] - 6s 429ms/step - loss: 13.4658 - mean_squared_error: 267.6913 - val_loss: 11.7739 - val_mean_squared_error: 223.9808\n",
      "Epoch 40/100\n",
      "14/14 [==============================] - 6s 429ms/step - loss: 12.5319 - mean_squared_error: 242.4203 - val_loss: 11.5061 - val_mean_squared_error: 218.4567\n",
      "Epoch 41/100\n",
      "14/14 [==============================] - 6s 427ms/step - loss: 12.0853 - mean_squared_error: 230.9704 - val_loss: 11.4257 - val_mean_squared_error: 215.1281\n",
      "Epoch 42/100\n",
      "14/14 [==============================] - 6s 428ms/step - loss: 12.3780 - mean_squared_error: 237.8741 - val_loss: 11.6114 - val_mean_squared_error: 220.0926\n",
      "Epoch 43/100\n",
      "14/14 [==============================] - 6s 428ms/step - loss: 11.8432 - mean_squared_error: 223.6716 - val_loss: 11.4052 - val_mean_squared_error: 213.7606\n",
      "Epoch 44/100\n",
      "14/14 [==============================] - 6s 427ms/step - loss: 11.7581 - mean_squared_error: 224.5863 - val_loss: 11.1653 - val_mean_squared_error: 210.2379\n",
      "Epoch 45/100\n",
      "14/14 [==============================] - 6s 428ms/step - loss: 11.4347 - mean_squared_error: 212.2261 - val_loss: 11.4551 - val_mean_squared_error: 218.7545\n",
      "Epoch 46/100\n",
      "14/14 [==============================] - 6s 428ms/step - loss: 11.5671 - mean_squared_error: 216.7293 - val_loss: 11.6034 - val_mean_squared_error: 220.2677\n",
      "Epoch 47/100\n",
      "14/14 [==============================] - 6s 428ms/step - loss: 11.6425 - mean_squared_error: 220.9866 - val_loss: 11.7967 - val_mean_squared_error: 236.4263\n",
      "Epoch 48/100\n",
      "14/14 [==============================] - 6s 429ms/step - loss: 11.8196 - mean_squared_error: 226.8010 - val_loss: 10.7848 - val_mean_squared_error: 201.5065\n",
      "Epoch 49/100\n",
      "14/14 [==============================] - 6s 429ms/step - loss: 11.4282 - mean_squared_error: 216.2897 - val_loss: 10.6362 - val_mean_squared_error: 199.5441\n",
      "Epoch 50/100\n",
      "14/14 [==============================] - 6s 429ms/step - loss: 11.2398 - mean_squared_error: 210.2848 - val_loss: 10.7019 - val_mean_squared_error: 198.1297\n",
      "Epoch 51/100\n",
      "14/14 [==============================] - 6s 429ms/step - loss: 10.9764 - mean_squared_error: 206.6037 - val_loss: 10.3633 - val_mean_squared_error: 192.4095\n",
      "Epoch 52/100\n",
      "14/14 [==============================] - 6s 426ms/step - loss: 10.8320 - mean_squared_error: 201.0682 - val_loss: 10.3577 - val_mean_squared_error: 192.2961\n",
      "Epoch 53/100\n",
      "14/14 [==============================] - 6s 427ms/step - loss: 11.0297 - mean_squared_error: 205.3963 - val_loss: 11.2194 - val_mean_squared_error: 210.0869\n",
      "Epoch 54/100\n",
      "14/14 [==============================] - 6s 428ms/step - loss: 11.4490 - mean_squared_error: 215.6208 - val_loss: 10.5461 - val_mean_squared_error: 195.3266\n",
      "Epoch 55/100\n",
      "14/14 [==============================] - 6s 427ms/step - loss: 10.9884 - mean_squared_error: 206.1497 - val_loss: 11.8233 - val_mean_squared_error: 229.8609\n",
      "Epoch 56/100\n",
      "14/14 [==============================] - 6s 428ms/step - loss: 11.2141 - mean_squared_error: 213.1844 - val_loss: 10.4227 - val_mean_squared_error: 195.1216\n",
      "Epoch 57/100\n",
      "14/14 [==============================] - 6s 427ms/step - loss: 10.5484 - mean_squared_error: 194.9900 - val_loss: 9.9961 - val_mean_squared_error: 183.8729\n",
      "Epoch 58/100\n",
      "14/14 [==============================] - 6s 428ms/step - loss: 10.6846 - mean_squared_error: 199.5767 - val_loss: 10.6007 - val_mean_squared_error: 198.8741\n",
      "Epoch 59/100\n",
      "14/14 [==============================] - 6s 430ms/step - loss: 11.2274 - mean_squared_error: 212.4889 - val_loss: 10.7218 - val_mean_squared_error: 206.3764\n",
      "Epoch 60/100\n",
      "14/14 [==============================] - 6s 427ms/step - loss: 10.9071 - mean_squared_error: 203.9186 - val_loss: 12.5789 - val_mean_squared_error: 244.7128\n",
      "Epoch 61/100\n",
      "14/14 [==============================] - 6s 429ms/step - loss: 25.5443 - mean_squared_error: 1050.9921 - val_loss: 29.9774 - val_mean_squared_error: 1082.1678\n",
      "Epoch 62/100\n",
      "14/14 [==============================] - 6s 428ms/step - loss: 27.9374 - mean_squared_error: 1068.2305 - val_loss: 14.5495 - val_mean_squared_error: 315.5782\n",
      "Epoch 00062: early stopping\n"
     ]
    }
   ],
   "source": [
    "model_path=\"../models/base_model/base_model_new.h5\"\n",
    "early_stopings = tf.keras.callbacks.EarlyStopping(monitor='val_loss', min_delta=0, patience=5, verbose=1, mode='min')\n",
    "checkpoint =  tf.keras.callbacks.ModelCheckpoint(model_path, monitor='val_loss', save_best_only=True, mode='min', verbose=0)\n",
    "callbacks=[early_stopings,checkpoint]\n",
    "\n",
    "history = base_model.fit(X,pco2_images, epochs=100, validation_data=(X,pco2_images),workers=-1,batch_size=32,callbacks=callbacks)\n",
    "\n"
   ]
  },
  {
   "cell_type": "code",
   "execution_count": 23,
   "metadata": {},
   "outputs": [
    {
     "name": "stdout",
     "output_type": "stream",
     "text": [
      "1/1 [==============================] - 1s 580ms/step\n"
     ]
    }
   ],
   "source": [
    "\n",
    "best_model = tf.keras.models.load_model('../models/base_model/base_model_new.h5', custom_objects={'custom_rmse':custom_rmse})\n",
    "predicted_image=best_model.predict(X[419:421],verbose=1)"
   ]
  },
  {
   "cell_type": "code",
   "execution_count": 49,
   "metadata": {},
   "outputs": [
    {
     "data": {
      "image/png": "[encoded data removed]",
      "text/plain": [
       "<Figure size 432x288 with 2 Axes>"
      ]
     },
     "metadata": {
      "needs_background": "light"
     },
     "output_type": "display_data"
    },
    {
     "data": {
      "text/plain": [
       "<Figure size 432x288 with 0 Axes>"
      ]
     },
     "metadata": {},
     "output_type": "display_data"
    }
   ],
   "source": [
    "import matplotlib.pyplot as plt\n",
    "\n",
    "figure, axis = plt.subplots(1, 2)\n",
    "\n",
    "\n",
    "axis[0].imshow(np.squeeze(predicted_image[1]), cmap=\"gray\", interpolation=\"nearest\")\n",
    "axis[0].set_title(\"prediction\")\n",
    "axis[1].imshow(np.squeeze(pco2_images[419:421][1]), cmap=\"gray\", interpolation=\"nearest\")\n",
    "axis[1].set_title(\"true\")\n",
    "\n",
    "plt.show()\n",
    "plt.savefig('base_model_prediction.png')"
   ]
  },
  {
   "cell_type": "code",
   "execution_count": 25,
   "metadata": {},
   "outputs": [
    {
     "data": {
      "image/png": "[encoded data removed]",
      "text/plain": [
       "<Figure size 432x288 with 1 Axes>"
      ]
     },
     "metadata": {
      "needs_background": "light"
     },
     "output_type": "display_data"
    }
   ],
   "source": [
    "difference=np.squeeze(pco2_images[419:421][1])-np.squeeze(predicted_image[0])\n",
    "plot_image(difference)"
   ]
  },
  {
   "cell_type": "code",
   "execution_count": 51,
   "metadata": {},
   "outputs": [
    {
     "name": "stdout",
     "output_type": "stream",
     "text": [
      "Model: \"sequential_5\"\n",
      "_________________________________________________________________\n",
      "Layer (type)                 Output Shape              Param #   \n",
      "=================================================================\n",
      "conv2d_47 (Conv2D)           (None, 180, 360, 64)      8064      \n",
      "_________________________________________________________________\n",
      "conv2d_48 (Conv2D)           (None, 180, 360, 64)      102464    \n",
      "_________________________________________________________________\n",
      "max_pooling2d_8 (MaxPooling2 (None, 60, 120, 64)       0         \n",
      "_________________________________________________________________\n",
      "dropout_10 (Dropout)         (None, 60, 120, 64)       0         \n",
      "_________________________________________________________________\n",
      "conv2d_49 (Conv2D)           (None, 60, 120, 128)      204928    \n",
      "_________________________________________________________________\n",
      "conv2d_50 (Conv2D)           (None, 60, 120, 128)      409728    \n",
      "_________________________________________________________________\n",
      "max_pooling2d_9 (MaxPooling2 (None, 20, 40, 128)       0         \n",
      "_________________________________________________________________\n",
      "dropout_11 (Dropout)         (None, 20, 40, 128)       0         \n",
      "_________________________________________________________________\n",
      "conv2d_51 (Conv2D)           (None, 20, 40, 256)       819456    \n",
      "_________________________________________________________________\n",
      "conv2d_52 (Conv2D)           (None, 20, 40, 256)       1638656   \n",
      "_________________________________________________________________\n",
      "up_sampling2d_8 (UpSampling2 (None, 60, 120, 256)      0         \n",
      "_________________________________________________________________\n",
      "conv2d_53 (Conv2D)           (None, 60, 120, 128)      819328    \n",
      "_________________________________________________________________\n",
      "conv2d_54 (Conv2D)           (None, 60, 120, 128)      409728    \n",
      "_________________________________________________________________\n",
      "up_sampling2d_9 (UpSampling2 (None, 180, 360, 128)     0         \n",
      "_________________________________________________________________\n",
      "conv2d_55 (Conv2D)           (None, 180, 360, 64)      204864    \n",
      "_________________________________________________________________\n",
      "conv2d_56 (Conv2D)           (None, 180, 360, 2)       3202      \n",
      "_________________________________________________________________\n",
      "conv2d_57 (Conv2D)           (None, 180, 360, 1)       3         \n",
      "_________________________________________________________________\n",
      "reshape_5 (Reshape)          (None, 180, 360)          0         \n",
      "=================================================================\n",
      "Total params: 4,620,421\n",
      "Trainable params: 4,620,421\n",
      "Non-trainable params: 0\n",
      "_________________________________________________________________\n"
     ]
    }
   ],
   "source": [
    "\n",
    "#kernel_size matters, 2 does not work\n",
    "\n",
    "model1 = keras.models.Sequential([\n",
    "    DefaultConv2D(filters=64, input_shape=INPUT_SHAPE),\n",
    "    DefaultConv2D(filters=64),\n",
    "    keras.layers.MaxPooling2D(pool_size=3),\n",
    "    keras.layers.Dropout(0.3),\n",
    "\n",
    "    DefaultConv2D(filters=128),\n",
    "    DefaultConv2D(filters=128),\n",
    "    keras.layers.MaxPooling2D(pool_size=3),\n",
    "    keras.layers.Dropout(0.3),\n",
    "\n",
    "    DefaultConv2D(filters=256),\n",
    "    DefaultConv2D(filters=256),\n",
    "\n",
    "    keras.layers.UpSampling2D(size=3),\n",
    "    DefaultConv2D(filters=128),\n",
    "    DefaultConv2D(filters=128),\n",
    "\n",
    "    keras.layers.UpSampling2D(size=3),\n",
    "    DefaultConv2D(filters=64),\n",
    "    DefaultConv2D(filters=2),\n",
    "    DefaultConv2D(filters=1,kernel_size=1),\n",
    "    keras.layers.Reshape(OUTPUT_SHAPE)\n",
    "   \n",
    "])\n",
    "\n",
    "model1.summary()\n"
   ]
  },
  {
   "cell_type": "code",
   "execution_count": 52,
   "metadata": {},
   "outputs": [],
   "source": [
    "model1.compile(loss=custom_rmse, optimizer=\"nadam\", metrics=[\"mean_squared_error\"])"
   ]
  },
  {
   "cell_type": "code",
   "execution_count": 53,
   "metadata": {},
   "outputs": [
    {
     "name": "stdout",
     "output_type": "stream",
     "text": [
      "Epoch 1/100\n",
      "14/14 [==============================] - 11s 610ms/step - loss: 3049.5762 - mean_squared_error: 78201038.2942 - val_loss: 42.1013 - val_mean_squared_error: 1845.5126\n",
      "Epoch 2/100\n",
      "14/14 [==============================] - 7s 516ms/step - loss: 43.9490 - mean_squared_error: 2118.4897 - val_loss: 36.7850 - val_mean_squared_error: 1549.5947\n",
      "Epoch 3/100\n",
      "14/14 [==============================] - 7s 516ms/step - loss: 37.4358 - mean_squared_error: 1627.2228 - val_loss: 37.7126 - val_mean_squared_error: 1675.9331\n",
      "Epoch 4/100\n",
      "14/14 [==============================] - 7s 517ms/step - loss: 35.9581 - mean_squared_error: 1502.5178 - val_loss: 34.3864 - val_mean_squared_error: 1384.4196\n",
      "Epoch 5/100\n",
      "14/14 [==============================] - 7s 516ms/step - loss: 33.6318 - mean_squared_error: 1325.8400 - val_loss: 32.4356 - val_mean_squared_error: 1245.9977\n",
      "Epoch 6/100\n",
      "14/14 [==============================] - 7s 517ms/step - loss: 32.6140 - mean_squared_error: 1254.6266 - val_loss: 31.5453 - val_mean_squared_error: 1171.6066\n",
      "Epoch 7/100\n",
      "14/14 [==============================] - 7s 517ms/step - loss: 31.8350 - mean_squared_error: 1193.4230 - val_loss: 30.9852 - val_mean_squared_error: 1134.0520\n",
      "Epoch 8/100\n",
      "14/14 [==============================] - 7s 517ms/step - loss: 30.7064 - mean_squared_error: 1116.2207 - val_loss: 34.8102 - val_mean_squared_error: 1476.1324\n",
      "Epoch 9/100\n",
      "14/14 [==============================] - 7s 517ms/step - loss: 30.9878 - mean_squared_error: 1133.6488 - val_loss: 29.2889 - val_mean_squared_error: 1019.3083\n",
      "Epoch 10/100\n",
      "14/14 [==============================] - 7s 516ms/step - loss: 29.8083 - mean_squared_error: 1054.7299 - val_loss: 30.1101 - val_mean_squared_error: 1085.7551\n",
      "Epoch 11/100\n",
      "14/14 [==============================] - 7s 516ms/step - loss: 29.4691 - mean_squared_error: 1029.7449 - val_loss: 30.5695 - val_mean_squared_error: 1086.8007\n",
      "Epoch 12/100\n",
      "14/14 [==============================] - 7s 516ms/step - loss: 29.2451 - mean_squared_error: 1010.5319 - val_loss: 27.9876 - val_mean_squared_error: 928.7397\n",
      "Epoch 13/100\n",
      "14/14 [==============================] - 7s 517ms/step - loss: 28.7708 - mean_squared_error: 979.8560 - val_loss: 29.1087 - val_mean_squared_error: 1001.0127\n",
      "Epoch 14/100\n",
      "14/14 [==============================] - 7s 517ms/step - loss: 28.5603 - mean_squared_error: 967.3516 - val_loss: 29.7710 - val_mean_squared_error: 1047.2800\n",
      "Epoch 15/100\n",
      "14/14 [==============================] - 7s 517ms/step - loss: 27.5965 - mean_squared_error: 905.5252 - val_loss: 28.3847 - val_mean_squared_error: 968.8763\n",
      "Epoch 16/100\n",
      "14/14 [==============================] - 7s 517ms/step - loss: 25.3509 - mean_squared_error: 766.0745 - val_loss: 23.8268 - val_mean_squared_error: 676.4716\n",
      "Epoch 17/100\n",
      "14/14 [==============================] - 7s 518ms/step - loss: 24.0964 - mean_squared_error: 689.9628 - val_loss: 22.5437 - val_mean_squared_error: 607.5348\n",
      "Epoch 18/100\n",
      "14/14 [==============================] - 7s 516ms/step - loss: 21.5196 - mean_squared_error: 553.7429 - val_loss: 21.4921 - val_mean_squared_error: 560.9711\n",
      "Epoch 19/100\n",
      "14/14 [==============================] - 7s 519ms/step - loss: 20.5929 - mean_squared_error: 519.9088 - val_loss: 19.7041 - val_mean_squared_error: 465.8524\n",
      "Epoch 20/100\n",
      "14/14 [==============================] - 7s 516ms/step - loss: 20.1435 - mean_squared_error: 491.8929 - val_loss: 18.4774 - val_mean_squared_error: 418.6848\n",
      "Epoch 21/100\n",
      "14/14 [==============================] - 7s 518ms/step - loss: 18.4976 - mean_squared_error: 422.1428 - val_loss: 18.6583 - val_mean_squared_error: 420.2092\n",
      "Epoch 22/100\n",
      "14/14 [==============================] - 7s 516ms/step - loss: 18.9743 - mean_squared_error: 440.8572 - val_loss: 17.3298 - val_mean_squared_error: 370.8881\n",
      "Epoch 23/100\n",
      "14/14 [==============================] - 7s 519ms/step - loss: 17.4245 - mean_squared_error: 378.9445 - val_loss: 17.2881 - val_mean_squared_error: 361.5739\n",
      "Epoch 24/100\n",
      "14/14 [==============================] - 7s 517ms/step - loss: 17.0057 - mean_squared_error: 357.2819 - val_loss: 20.8218 - val_mean_squared_error: 526.1449\n",
      "Epoch 25/100\n",
      "14/14 [==============================] - 7s 517ms/step - loss: 23.0327 - mean_squared_error: 669.4076 - val_loss: 17.7142 - val_mean_squared_error: 386.2475\n",
      "Epoch 26/100\n",
      "14/14 [==============================] - 7s 516ms/step - loss: 17.2932 - mean_squared_error: 373.0285 - val_loss: 15.7656 - val_mean_squared_error: 315.3036\n",
      "Epoch 27/100\n",
      "14/14 [==============================] - 7s 516ms/step - loss: 15.6145 - mean_squared_error: 305.0143 - val_loss: 15.5736 - val_mean_squared_error: 300.9606\n",
      "Epoch 28/100\n",
      "14/14 [==============================] - 7s 517ms/step - loss: 15.4524 - mean_squared_error: 301.4798 - val_loss: 16.0590 - val_mean_squared_error: 313.3444\n",
      "Epoch 29/100\n",
      "14/14 [==============================] - 7s 517ms/step - loss: 15.2470 - mean_squared_error: 289.5224 - val_loss: 15.0747 - val_mean_squared_error: 281.3730\n",
      "Epoch 30/100\n",
      "14/14 [==============================] - 7s 517ms/step - loss: 14.2558 - mean_squared_error: 255.9963 - val_loss: 13.7123 - val_mean_squared_error: 232.6611\n",
      "Epoch 31/100\n",
      "14/14 [==============================] - 7s 517ms/step - loss: 13.9723 - mean_squared_error: 242.8733 - val_loss: 14.8223 - val_mean_squared_error: 265.6226\n",
      "Epoch 32/100\n",
      "14/14 [==============================] - 7s 517ms/step - loss: 14.2689 - mean_squared_error: 253.2034 - val_loss: 14.0132 - val_mean_squared_error: 238.0121\n",
      "Epoch 33/100\n",
      "14/14 [==============================] - 7s 518ms/step - loss: 13.4528 - mean_squared_error: 223.9836 - val_loss: 13.7293 - val_mean_squared_error: 247.0420\n",
      "Epoch 34/100\n",
      "14/14 [==============================] - 7s 516ms/step - loss: 13.5177 - mean_squared_error: 232.1067 - val_loss: 16.3309 - val_mean_squared_error: 310.9355\n",
      "Epoch 35/100\n",
      "14/14 [==============================] - 7s 517ms/step - loss: 14.0812 - mean_squared_error: 242.2004 - val_loss: 13.1211 - val_mean_squared_error: 220.3301\n",
      "Epoch 36/100\n",
      "14/14 [==============================] - 7s 517ms/step - loss: 12.5078 - mean_squared_error: 196.9387 - val_loss: 12.1716 - val_mean_squared_error: 178.9965\n",
      "Epoch 37/100\n",
      "14/14 [==============================] - 7s 516ms/step - loss: 11.9775 - mean_squared_error: 178.8125 - val_loss: 12.9127 - val_mean_squared_error: 197.4181\n",
      "Epoch 38/100\n",
      "14/14 [==============================] - 7s 517ms/step - loss: 11.8805 - mean_squared_error: 175.6295 - val_loss: 11.0176 - val_mean_squared_error: 149.2848\n",
      "Epoch 39/100\n",
      "14/14 [==============================] - 7s 518ms/step - loss: 12.1572 - mean_squared_error: 184.7372 - val_loss: 10.6919 - val_mean_squared_error: 141.1405\n",
      "Epoch 40/100\n",
      "14/14 [==============================] - 7s 516ms/step - loss: 11.1019 - mean_squared_error: 153.7073 - val_loss: 10.7211 - val_mean_squared_error: 140.9320\n",
      "Epoch 41/100\n",
      "14/14 [==============================] - 7s 518ms/step - loss: 11.0284 - mean_squared_error: 150.9239 - val_loss: 10.9853 - val_mean_squared_error: 150.0710\n",
      "Epoch 42/100\n",
      "14/14 [==============================] - 7s 516ms/step - loss: 10.7411 - mean_squared_error: 143.0599 - val_loss: 10.3089 - val_mean_squared_error: 130.1352\n",
      "Epoch 43/100\n",
      "14/14 [==============================] - 7s 516ms/step - loss: 10.2353 - mean_squared_error: 131.1592 - val_loss: 10.4048 - val_mean_squared_error: 133.0545\n",
      "Epoch 44/100\n",
      "14/14 [==============================] - 7s 516ms/step - loss: 10.5837 - mean_squared_error: 140.1339 - val_loss: 10.1195 - val_mean_squared_error: 126.2237\n",
      "Epoch 45/100\n",
      "14/14 [==============================] - 7s 517ms/step - loss: 9.8824 - mean_squared_error: 121.1954 - val_loss: 11.9015 - val_mean_squared_error: 174.6831\n",
      "Epoch 46/100\n",
      "14/14 [==============================] - 7s 517ms/step - loss: 10.3646 - mean_squared_error: 135.3739 - val_loss: 9.3237 - val_mean_squared_error: 106.7781\n",
      "Epoch 47/100\n",
      "14/14 [==============================] - 7s 516ms/step - loss: 9.5051 - mean_squared_error: 111.7485 - val_loss: 9.5977 - val_mean_squared_error: 118.0086\n",
      "Epoch 48/100\n",
      "14/14 [==============================] - 7s 518ms/step - loss: 9.7933 - mean_squared_error: 118.9509 - val_loss: 8.8771 - val_mean_squared_error: 97.8692\n",
      "Epoch 49/100\n",
      "14/14 [==============================] - 7s 517ms/step - loss: 9.0377 - mean_squared_error: 101.4782 - val_loss: 8.6089 - val_mean_squared_error: 91.6697\n",
      "Epoch 50/100\n",
      "14/14 [==============================] - 7s 517ms/step - loss: 8.9287 - mean_squared_error: 98.9871 - val_loss: 8.6205 - val_mean_squared_error: 91.6071\n",
      "Epoch 51/100\n",
      "14/14 [==============================] - 7s 517ms/step - loss: 8.8679 - mean_squared_error: 96.9393 - val_loss: 9.8541 - val_mean_squared_error: 123.9481\n",
      "Epoch 52/100\n",
      "14/14 [==============================] - 7s 517ms/step - loss: 8.8919 - mean_squared_error: 98.5363 - val_loss: 10.4199 - val_mean_squared_error: 133.1972\n",
      "Epoch 53/100\n",
      "14/14 [==============================] - 7s 518ms/step - loss: 9.1680 - mean_squared_error: 106.3704 - val_loss: 8.9142 - val_mean_squared_error: 97.8315\n",
      "Epoch 54/100\n",
      "14/14 [==============================] - 7s 517ms/step - loss: 8.4590 - mean_squared_error: 87.8176 - val_loss: 8.5307 - val_mean_squared_error: 91.9556\n",
      "Epoch 55/100\n",
      "14/14 [==============================] - 7s 518ms/step - loss: 8.4099 - mean_squared_error: 87.6168 - val_loss: 8.1691 - val_mean_squared_error: 84.1564\n",
      "Epoch 56/100\n",
      "14/14 [==============================] - 7s 517ms/step - loss: 8.1348 - mean_squared_error: 82.0963 - val_loss: 8.2659 - val_mean_squared_error: 85.2377\n",
      "Epoch 57/100\n",
      "14/14 [==============================] - 7s 516ms/step - loss: 7.9143 - mean_squared_error: 77.1191 - val_loss: 8.8980 - val_mean_squared_error: 105.1170\n",
      "Epoch 58/100\n",
      "14/14 [==============================] - 7s 517ms/step - loss: 8.3763 - mean_squared_error: 89.3449 - val_loss: 8.3691 - val_mean_squared_error: 86.3883\n",
      "Epoch 59/100\n",
      "14/14 [==============================] - 7s 516ms/step - loss: 7.8132 - mean_squared_error: 76.2413 - val_loss: 8.3248 - val_mean_squared_error: 83.3047\n",
      "Epoch 60/100\n",
      "14/14 [==============================] - 7s 517ms/step - loss: 8.0745 - mean_squared_error: 80.5003 - val_loss: 7.5441 - val_mean_squared_error: 70.5819\n",
      "Epoch 61/100\n",
      "14/14 [==============================] - 7s 516ms/step - loss: 7.2512 - mean_squared_error: 65.1916 - val_loss: 7.7962 - val_mean_squared_error: 77.1546\n",
      "Epoch 62/100\n",
      "14/14 [==============================] - 7s 515ms/step - loss: 7.6000 - mean_squared_error: 71.4090 - val_loss: 7.8938 - val_mean_squared_error: 81.3815\n",
      "Epoch 63/100\n",
      "14/14 [==============================] - 7s 518ms/step - loss: 7.1788 - mean_squared_error: 65.4703 - val_loss: 7.4363 - val_mean_squared_error: 71.0322\n",
      "Epoch 64/100\n",
      "14/14 [==============================] - 7s 516ms/step - loss: 7.1288 - mean_squared_error: 63.7646 - val_loss: 7.5738 - val_mean_squared_error: 69.9704\n",
      "Epoch 65/100\n",
      "14/14 [==============================] - 7s 516ms/step - loss: 15.0285 - mean_squared_error: 389.9058 - val_loss: 18.1299 - val_mean_squared_error: 412.4999\n",
      "Epoch 66/100\n",
      "14/14 [==============================] - 7s 518ms/step - loss: 13.0107 - mean_squared_error: 216.4698 - val_loss: 9.2154 - val_mean_squared_error: 104.7097\n",
      "Epoch 67/100\n",
      "14/14 [==============================] - 7s 517ms/step - loss: 8.7577 - mean_squared_error: 94.6224 - val_loss: 7.7846 - val_mean_squared_error: 74.4581\n",
      "Epoch 68/100\n",
      "14/14 [==============================] - 7s 516ms/step - loss: 7.7817 - mean_squared_error: 73.5695 - val_loss: 7.7102 - val_mean_squared_error: 72.0393\n",
      "Epoch 00068: early stopping\n"
     ]
    }
   ],
   "source": [
    "model_path=\"../models/base_model/reduceddim_model1.h5\"\n",
    "early_stopings = tf.keras.callbacks.EarlyStopping(monitor='val_loss', min_delta=0, patience=5, verbose=1, mode='min')\n",
    "checkpoint =  tf.keras.callbacks.ModelCheckpoint(model_path, monitor='val_loss', save_best_only=True, mode='min', verbose=0)\n",
    "callbacks=[early_stopings,checkpoint]\n",
    "\n",
    "history = model1.fit(X,pco2_images, epochs=100, validation_data=(X,pco2_images),workers=-1,batch_size=32,callbacks=callbacks)\n",
    "\n",
    "\n"
   ]
  },
  {
   "cell_type": "code",
   "execution_count": 54,
   "metadata": {},
   "outputs": [
    {
     "name": "stdout",
     "output_type": "stream",
     "text": [
      "1/1 [==============================] - 0s 413ms/step\n"
     ]
    }
   ],
   "source": [
    "\n",
    "best_model = tf.keras.models.load_model('../models/base_model/reduceddim_model1.h5', custom_objects={'custom_rmse':custom_rmse})\n",
    "predicted_image=best_model.predict(X[419:421],verbose=1)"
   ]
  },
  {
   "cell_type": "code",
   "execution_count": 56,
   "metadata": {},
   "outputs": [
    {
     "data": {
      "image/png": "[encoded data removed]",
      "text/plain": [
       "<Figure size 432x288 with 2 Axes>"
      ]
     },
     "metadata": {
      "needs_background": "light"
     },
     "output_type": "display_data"
    },
    {
     "data": {
      "text/plain": [
       "<Figure size 432x288 with 0 Axes>"
      ]
     },
     "metadata": {},
     "output_type": "display_data"
    }
   ],
   "source": [
    "import matplotlib.pyplot as plt\n",
    "\n",
    "figure, axis = plt.subplots(1, 2)\n",
    "\n",
    "\n",
    "axis[0].imshow(np.squeeze(predicted_image[1]), cmap=\"gray\", interpolation=\"nearest\")\n",
    "axis[0].set_title(\"prediction\")\n",
    "axis[1].imshow(np.squeeze(pco2_images[419:421][1]), cmap=\"gray\", interpolation=\"nearest\")\n",
    "axis[1].set_title(\"true\")\n",
    "\n",
    "plt.show()\n",
    "plt.savefig('model1_prediction.png')"
   ]
  },
  {
   "cell_type": "code",
   "execution_count": null,
   "metadata": {},
   "outputs": [],
   "source": []
  }
 ],
 "metadata": {
  "kernelspec": {
   "display_name": "venv",
   "language": "python",
   "name": "venv"
  },
  "language_info": {
   "codemirror_mode": {
    "name": "ipython",
    "version": 3
   },
   "file_extension": ".py",
   "mimetype": "text/x-python",
   "name": "python",
   "nbconvert_exporter": "python",
   "pygments_lexer": "ipython3",
   "version": "3.8.5"
  }
 },
 "nbformat": 4,
 "nbformat_minor": 4
}

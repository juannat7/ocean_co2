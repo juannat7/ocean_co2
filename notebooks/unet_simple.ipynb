{
 "cells": [
  {
   "cell_type": "markdown",
   "metadata": {},
   "source": [
    "# Modifications\n",
    "\n",
    "Link to Interactive Notebook: \n",
    "https://colab.research.google.com/drive/1sbJTsgCsAQwCkGdLXK7EdgkaTpiTGBM1#scrollTo=T71qxHyh9p23\n",
    "\n",
    "1. Reduced Input Dimension\n",
    "2. Different handling of xco2\n",
    "3. Custom rmse function"
   ]
  },
  {
   "cell_type": "code",
   "execution_count": 1,
   "metadata": {},
   "outputs": [
    {
     "name": "stderr",
     "output_type": "stream",
     "text": [
      "/burg/glab/users/sk4973/venv/lib/python3.8/site-packages/xarray/backends/cfgrib_.py:27: UserWarning: Failed to load cfgrib - most likely there is a problem accessing the ecCodes library. Try `import cfgrib` to get the full error message\n",
      "  warnings.warn(\n",
      "2021-10-21 09:59:45.254790: I tensorflow/stream_executor/platform/default/dso_loader.cc:49] Successfully opened dynamic library libcudart.so.11.0\n"
     ]
    }
   ],
   "source": [
    "import imp\n",
    "import matplotlib.pyplot as plt\n",
    "import numpy as np\n",
    "import pandas as pd\n",
    "import xarray as xr\n",
    "import sys\n",
    "import tensorflow as tf\n",
    "from tensorflow import keras\n",
    "import os\n",
    "from sklearn.model_selection import train_test_split\n",
    "tf.random.set_seed(42)\n",
    "\n",
    "\n",
    "sys.path.insert(0, '../src')\n",
    "\n",
    "from utils import df_to_xarray,read_xarray,plot_image"
   ]
  },
  {
   "cell_type": "code",
   "execution_count": 2,
   "metadata": {},
   "outputs": [
    {
     "name": "stderr",
     "output_type": "stream",
     "text": [
      "/burg/glab/users/sk4973/venv/lib/python3.8/site-packages/xarray/backends/plugins.py:61: RuntimeWarning: Engine 'cfgrib' loading failed:\n",
      "Cannot find the ecCodes library\n",
      "  warnings.warn(f\"Engine {name!r} loading failed:\\n{ex}\", RuntimeWarning)\n"
     ]
    }
   ],
   "source": [
    "# Reading Data\n",
    "dir_name=\"../data/data1\"\n",
    "val_dir_name=\"../data/data2\"\n",
    "\n",
    "chl,mld,sss,sst,u10,fg_co2,xco2,icefrac,patm,pco2=read_xarray(dir_name)\n",
    "\n"
   ]
  },
  {
   "cell_type": "markdown",
   "metadata": {},
   "source": [
    "## Data Preprocessing"
   ]
  },
  {
   "cell_type": "code",
   "execution_count": 3,
   "metadata": {},
   "outputs": [],
   "source": [
    "def convert_nan(arr):\n",
    "    \"\"\"\n",
    "    convert_nan(arr)\n",
    "    - converts nan values to the lowest value (continents)\n",
    "    \"\"\"\n",
    "    nans=np.isnan(arr)\n",
    "    min_val=arr[~nans].min()\n",
    "    arr[nans]=min_val-1\n",
    "    return arr\n",
    "\n",
    "def add_dimension(arr):\n",
    "    \"\"\"\n",
    "    add_dimension(arr)\n",
    "    - add one dimension to axis=3\n",
    "    \"\"\"\n",
    "    images=np.expand_dims(arr, axis=3)\n",
    "    return images\n",
    "\n",
    "def scale_image(arr):\n",
    "    \"\"\"\n",
    "    scale_image(arr)\n",
    "    - scales numerical values from scale 0-255 for like an image\n",
    "    - have tried, regular normal/ min-max scaler -> does not work well\n",
    "    \"\"\"\n",
    "    ## Normal\n",
    "    #arr=(arr-np.mean(arr))/np.std(arr)\n",
    "    \n",
    "    ## Min-Max\n",
    "    # min_val=arr.min()\n",
    "    # max_val=arr.max()\n",
    "    # arr=arr/(min_val-max_val)\n",
    "\n",
    "    ## Image Scale\n",
    "    min_pixel = arr.min() \n",
    "    max_pixel = arr.max()\n",
    "    new_min = 0\n",
    "    new_max = 255\n",
    "    arr = (arr-min_pixel)*(255)/(max_pixel-min_pixel)+new_min \n",
    "    return arr\n",
    "  \n",
    "\n",
    "def preprocess_image_reduced(data,xco2=False):\n",
    "  \"\"\"\n",
    "  preprocess_image_reduced(data,xco2=False)\n",
    "  wrapper function for image preprocessing process\n",
    "  dimension reduced the output should be  (180,360,5)\n",
    "  \"\"\"\n",
    "  if xco2:\n",
    "    return data\n",
    "  return scale_image(convert_nan(data))"
   ]
  },
  {
   "cell_type": "code",
   "execution_count": 4,
   "metadata": {},
   "outputs": [
    {
     "name": "stdout",
     "output_type": "stream",
     "text": [
      "340.84854 407.2084\n",
      "\n",
      "xco2 shape: \n",
      "(421, 180, 360) (421, 180, 360)\n"
     ]
    }
   ],
   "source": [
    "## XCO2 Handling\n",
    "# - xco2 values are a constant value across the globe, \n",
    "# - creating an image layer with constant value for the model\n",
    "# - xco2 layer improves prediction\n",
    "\n",
    "xco2_images=[]\n",
    "min_xco2=np.min(xco2.XCO2.data)\n",
    "max_xco2=np.max(xco2.XCO2.data)\n",
    "new_min=0\n",
    "new_max=255\n",
    "print(min_xco2, max_xco2)\n",
    "print()\n",
    "\n",
    "\n",
    "for i in xco2.XCO2.data:\n",
    "    num = (i-min_xco2)*(new_max-new_min)/(max_xco2-min_xco2)+new_min\n",
    "    tmp = (np.repeat(num,180*360)).reshape(180,-1)\n",
    "    xco2_images.append(tmp)\n",
    "\n",
    "xco2_images=np.array(xco2_images)\n",
    "\n",
    "print(\"xco2 shape: \")\n",
    "print(xco2_images.shape, chl.Chl.data.shape)\n",
    "\n",
    "chl_images=preprocess_image_reduced(chl.Chl.data)\n",
    "mld_images=preprocess_image_reduced(mld.MLD.data)\n",
    "sss_images=preprocess_image_reduced(sss.SSS.data)\n",
    "sst_images=preprocess_image_reduced(sst.SST.data)\n",
    "xco2_images=preprocess_image_reduced(xco2_images,xco2=True)\n",
    "\n",
    "# need to preprocess pco2_image otherwise, the prediction does not work well\n",
    "pco2_images=preprocess_image_reduced(pco2.pCO2.data)\n",
    "\n",
    "# stacks image layer\n",
    "X = np.stack((chl_images, mld_images, sss_images, sst_images,xco2_images), axis = 1)"
   ]
  },
  {
   "cell_type": "code",
   "execution_count": 5,
   "metadata": {},
   "outputs": [
    {
     "data": {
      "text/plain": [
       "(421, 180, 360, 5)"
      ]
     },
     "execution_count": 5,
     "metadata": {},
     "output_type": "execute_result"
    }
   ],
   "source": [
    "# transform shapes to 421,180,360,5 | kernel = 5\n",
    "X=X.reshape((421,180,360,5))\n",
    "X.shape"
   ]
  },
  {
   "cell_type": "code",
   "execution_count": 6,
   "metadata": {},
   "outputs": [
    {
     "data": {
      "text/plain": [
       "(180, 360, 5)"
      ]
     },
     "execution_count": 6,
     "metadata": {},
     "output_type": "execute_result"
    }
   ],
   "source": [
    "INPUT_SHAPE=X[0].shape\n",
    "OUTPUT_SHAPE=pco2_images[0].shape\n",
    "\n",
    "INPUT_SHAPE"
   ]
  },
  {
   "cell_type": "markdown",
   "metadata": {},
   "source": [
    "## Modeling\n",
    "\n",
    "### Image Segmentation\n",
    "CNN - Unet\n",
    "\n",
    "Reference: \n",
    "https://towardsdatascience.com/understanding-semantic-segmentation-with-unet-6be4f42d4b47\n"
   ]
  },
  {
   "cell_type": "code",
   "execution_count": 7,
   "metadata": {},
   "outputs": [],
   "source": [
    "import tensorflow.keras.backend as kb\n",
    "import tensorflow as tf\n",
    "from tensorflow.keras import backend as K\n",
    "\n",
    "def custom_rmse(y_true, y_pred):\n",
    "    \"\"\"\n",
    "    custom_rmse(y_true, y_pred)\n",
    "    calculates root square mean value with focusing only on the ocean\n",
    "    \"\"\"\n",
    "    #y_pred = y_pred[y_true != 0]\n",
    "    #y_true = y_true[y_true != 0]\n",
    "    \n",
    "    y_pred = tf.convert_to_tensor(y_pred)\n",
    "    y_true = tf.cast(y_true, y_pred.dtype)\n",
    "    \n",
    "    return K.sqrt(K.mean(tf.math.squared_difference(y_pred, y_true), axis=-1))"
   ]
  },
  {
   "cell_type": "markdown",
   "metadata": {},
   "source": [
    "### Base Model"
   ]
  },
  {
   "cell_type": "code",
   "execution_count": 43,
   "metadata": {},
   "outputs": [],
   "source": [
    "tf.keras.backend.clear_session()"
   ]
  },
  {
   "cell_type": "code",
   "execution_count": 44,
   "metadata": {},
   "outputs": [],
   "source": [
    "def simple_unet(pretrained_weights = None,input_size = INPUT_SHAPE, output_size=OUTPUT_SHAPE):\n",
    "    inputs = keras.layers.Input(input_size)\n",
    "    conv1 = keras.layers.Conv2D(64, 5, activation = 'elu', padding = 'same')(inputs)\n",
    "    conv1 = keras.layers.Conv2D(64, 5, activation = 'elu', padding = 'same')(conv1)\n",
    "    drop1 = keras.layers.Dropout(0.3)(conv1)\n",
    "    pool1 = keras.layers.MaxPooling2D(pool_size=3)(drop1)\n",
    "    \n",
    "    conv3 = keras.layers.Conv2D(128, 5, activation = 'elu', padding = 'same')(pool1)\n",
    "    conv3 = keras.layers.Conv2D(128, 5, activation = 'elu', padding = 'same')(conv3)\n",
    "    drop3 = keras.layers.Dropout(0.3)(conv3)\n",
    "\n",
    "    up9 = keras.layers.Conv2D(64, 4, activation = 'elu', padding = 'same')(keras.layers.UpSampling2D(size = 3)(drop3))\n",
    "    merge9 = keras.layers.concatenate([conv1,up9], axis = 3)\n",
    "    conv9 = keras.layers.Conv2D(64, 5, activation = 'elu', padding = 'same')(merge9)\n",
    "    conv9 = keras.layers.Conv2D(64, 5, activation = 'elu', padding = 'same')(conv9)\n",
    "    conv9 = keras.layers.Conv2D(2, 5, activation = 'elu', padding = 'same')(conv9)\n",
    "    conv10 = keras.layers.Conv2D(1, 1, activation = 'elu')(conv9)\n",
    "    outputs = keras.layers.Reshape(output_size)(conv10)\n",
    "\n",
    "    model = keras.Model(inputs = inputs, outputs = outputs)\n",
    "\n",
    "    model.compile(optimizer = \"nadam\", loss = custom_rmse, metrics = [\"mean_squared_error\"])\n",
    "    \n",
    "    model.summary()\n",
    "\n",
    "    if(pretrained_weights):\n",
    "    \tmodel.load_weights(pretrained_weights)\n",
    "\n",
    "    return model\n",
    "\n",
    "def classic_unet(pretrained_weights = None,input_size = INPUT_SHAPE, output_size=OUTPUT_SHAPE):\n",
    "    inputs = keras.layers.Input(input_size)\n",
    "    conv1 = keras.layers.Conv2D(64, 5, activation = 'elu', padding = 'same')(inputs)\n",
    "    conv1 = keras.layers.Conv2D(64, 5, activation = 'elu', padding = 'same')(conv1)\n",
    "    pool1 = keras.layers.MaxPooling2D(pool_size=(2, 2))(conv1)\n",
    "    conv2 = keras.layers.Conv2D(128, 5, activation = 'elu', padding = 'same')(pool1)\n",
    "    conv2 = keras.layers.Conv2D(128, 5, activation = 'elu', padding = 'same')(conv2)\n",
    "    drop1 = keras.layers.Dropout(0.5)(conv2)\n",
    "    pool2 = keras.layers.MaxPooling2D(pool_size=(2, 2))(drop1)\n",
    "\n",
    "    conv3 = keras.layers.Conv2D(256, 5, activation = 'elu', padding = 'same')(pool2)\n",
    "    conv3 = keras.layers.Conv2D(256, 5, activation = 'elu', padding = 'same')(conv3)\n",
    "    drop3 = keras.layers.Dropout(0.5)(conv3)\n",
    "\n",
    "    up8 = keras.layers.Conv2D(128, 4, activation = 'elu', padding = 'same')(keras.layers.UpSampling2D(size = (2,2))(drop3))\n",
    "    merge8 = keras.layers.concatenate([conv2,up8], axis = 3)\n",
    "    conv8 = keras.layers.Conv2D(128, 5, activation = 'elu', padding = 'same')(merge8)\n",
    "    conv8 = keras.layers.Conv2D(128, 5, activation = 'elu', padding = 'same')(conv8)\n",
    "\n",
    "    up9 = keras.layers.Conv2D(64, 4, activation = 'elu', padding = 'same')(keras.layers.UpSampling2D(size = (2,2))(conv8))\n",
    "    merge9 = keras.layers.concatenate([conv1,up9], axis = 3)\n",
    "    conv9 = keras.layers.Conv2D(64, 5, activation = 'elu', padding = 'same')(merge9)\n",
    "    conv9 = keras.layers.Conv2D(64, 5, activation = 'elu', padding = 'same')(conv9)\n",
    "    conv9 = keras.layers.Conv2D(2, 5, activation = 'elu', padding = 'same')(conv9)\n",
    "    conv10 = keras.layers.Conv2D(1, 1, activation = 'elu')(conv9)\n",
    "    outputs = keras.layers.Reshape(output_size)(conv10)\n",
    "\n",
    "    model = keras.Model(inputs = inputs, outputs = outputs)\n",
    "\n",
    "    model.compile(optimizer = \"nadam\", loss = custom_rmse, metrics = [\"mean_squared_error\"])\n",
    "    \n",
    "    model.summary()\n",
    "\n",
    "    if(pretrained_weights):\n",
    "    \tmodel.load_weights(pretrained_weights)\n",
    "\n",
    "    return model"
   ]
  },
  {
   "cell_type": "code",
   "execution_count": 45,
   "metadata": {},
   "outputs": [
    {
     "name": "stdout",
     "output_type": "stream",
     "text": [
      "Model: \"model\"\n",
      "__________________________________________________________________________________________________\n",
      "Layer (type)                    Output Shape         Param #     Connected to                     \n",
      "==================================================================================================\n",
      "input_1 (InputLayer)            [(None, 180, 360, 5) 0                                            \n",
      "__________________________________________________________________________________________________\n",
      "conv2d (Conv2D)                 (None, 180, 360, 64) 8064        input_1[0][0]                    \n",
      "__________________________________________________________________________________________________\n",
      "conv2d_1 (Conv2D)               (None, 180, 360, 64) 102464      conv2d[0][0]                     \n",
      "__________________________________________________________________________________________________\n",
      "dropout (Dropout)               (None, 180, 360, 64) 0           conv2d_1[0][0]                   \n",
      "__________________________________________________________________________________________________\n",
      "max_pooling2d (MaxPooling2D)    (None, 60, 120, 64)  0           dropout[0][0]                    \n",
      "__________________________________________________________________________________________________\n",
      "conv2d_2 (Conv2D)               (None, 60, 120, 128) 204928      max_pooling2d[0][0]              \n",
      "__________________________________________________________________________________________________\n",
      "conv2d_3 (Conv2D)               (None, 60, 120, 128) 409728      conv2d_2[0][0]                   \n",
      "__________________________________________________________________________________________________\n",
      "dropout_1 (Dropout)             (None, 60, 120, 128) 0           conv2d_3[0][0]                   \n",
      "__________________________________________________________________________________________________\n",
      "up_sampling2d (UpSampling2D)    (None, 180, 360, 128 0           dropout_1[0][0]                  \n",
      "__________________________________________________________________________________________________\n",
      "conv2d_4 (Conv2D)               (None, 180, 360, 64) 131136      up_sampling2d[0][0]              \n",
      "__________________________________________________________________________________________________\n",
      "concatenate (Concatenate)       (None, 180, 360, 128 0           conv2d_1[0][0]                   \n",
      "                                                                 conv2d_4[0][0]                   \n",
      "__________________________________________________________________________________________________\n",
      "conv2d_5 (Conv2D)               (None, 180, 360, 64) 204864      concatenate[0][0]                \n",
      "__________________________________________________________________________________________________\n",
      "conv2d_6 (Conv2D)               (None, 180, 360, 64) 102464      conv2d_5[0][0]                   \n",
      "__________________________________________________________________________________________________\n",
      "conv2d_7 (Conv2D)               (None, 180, 360, 2)  3202        conv2d_6[0][0]                   \n",
      "__________________________________________________________________________________________________\n",
      "conv2d_8 (Conv2D)               (None, 180, 360, 1)  3           conv2d_7[0][0]                   \n",
      "__________________________________________________________________________________________________\n",
      "reshape (Reshape)               (None, 180, 360)     0           conv2d_8[0][0]                   \n",
      "==================================================================================================\n",
      "Total params: 1,166,853\n",
      "Trainable params: 1,166,853\n",
      "Non-trainable params: 0\n",
      "__________________________________________________________________________________________________\n"
     ]
    }
   ],
   "source": [
    "unet_model = simple_unet(input_size=INPUT_SHAPE, output_size=OUTPUT_SHAPE)"
   ]
  },
  {
   "cell_type": "code",
   "execution_count": 46,
   "metadata": {},
   "outputs": [
    {
     "name": "stdout",
     "output_type": "stream",
     "text": [
      "Epoch 1/100\n",
      "27/27 [==============================] - 10s 340ms/step - loss: 98.8585 - mean_squared_error: 39055.4962 - val_loss: 55.3897 - val_mean_squared_error: 3558.4312\n",
      "Epoch 2/100\n",
      "27/27 [==============================] - 9s 318ms/step - loss: 36.4648 - mean_squared_error: 1549.4597 - val_loss: 48.6136 - val_mean_squared_error: 2702.5635\n",
      "Epoch 3/100\n",
      "27/27 [==============================] - 9s 319ms/step - loss: 34.0475 - mean_squared_error: 1365.6455 - val_loss: 50.2782 - val_mean_squared_error: 2883.0579\n",
      "Epoch 4/100\n",
      "27/27 [==============================] - 9s 320ms/step - loss: 32.1189 - mean_squared_error: 1217.2066 - val_loss: 57.1488 - val_mean_squared_error: 3784.3894\n",
      "Epoch 5/100\n",
      "27/27 [==============================] - 9s 321ms/step - loss: 30.1026 - mean_squared_error: 1081.3425 - val_loss: 57.5756 - val_mean_squared_error: 3826.0222\n",
      "Epoch 6/100\n",
      "27/27 [==============================] - 9s 321ms/step - loss: 26.2453 - mean_squared_error: 821.5645 - val_loss: 56.9161 - val_mean_squared_error: 3749.5085\n",
      "Epoch 7/100\n",
      "27/27 [==============================] - 9s 322ms/step - loss: 22.0121 - mean_squared_error: 579.8378 - val_loss: 59.4904 - val_mean_squared_error: 4049.4736\n",
      "Epoch 00007: early stopping\n"
     ]
    }
   ],
   "source": [
    "model_path=\"../models/base_model/unet_model1.h5\"\n",
    "early_stopings = tf.keras.callbacks.EarlyStopping(monitor='val_loss', min_delta=0, patience=5, verbose=1, mode='min')\n",
    "checkpoint =  tf.keras.callbacks.ModelCheckpoint(model_path, monitor='val_loss', save_best_only=True, mode='min', verbose=0)\n",
    "callbacks=[early_stopings,checkpoint]\n",
    "\n",
    "\n",
    "history =unet_model.fit(X,pco2_images, epochs=100, validation_data=(X,pco2_images),workers=-1,batch_size=16,callbacks=callbacks)\n",
    "\n"
   ]
  },
  {
   "cell_type": "markdown",
   "metadata": {},
   "source": [
    "### UNET Model Output"
   ]
  },
  {
   "cell_type": "code",
   "execution_count": 32,
   "metadata": {},
   "outputs": [
    {
     "name": "stdout",
     "output_type": "stream",
     "text": [
      "1/1 [==============================] - 1s 638ms/step\n"
     ]
    }
   ],
   "source": [
    "\n",
    "best_model = tf.keras.models.load_model(\"../models/base_model/unet_model1.h5\", custom_objects={'custom_rmse':custom_rmse})\n",
    "predicted_image=best_model.predict(X[419:421],verbose=1)"
   ]
  },
  {
   "cell_type": "code",
   "execution_count": 33,
   "metadata": {},
   "outputs": [
    {
     "data": {
      "image/png": "[encoded data removed]",
      "text/plain": [
       "<Figure size 432x288 with 2 Axes>"
      ]
     },
     "metadata": {
      "needs_background": "light"
     },
     "output_type": "display_data"
    },
    {
     "data": {
      "text/plain": [
       "<Figure size 432x288 with 0 Axes>"
      ]
     },
     "metadata": {},
     "output_type": "display_data"
    }
   ],
   "source": [
    "import matplotlib.pyplot as plt\n",
    "\n",
    "figure, axis = plt.subplots(1, 2)\n",
    "\n",
    "\n",
    "axis[0].imshow(np.squeeze(predicted_image[1]), cmap=\"gray\", interpolation=\"nearest\")\n",
    "axis[0].set_title(\"prediction\")\n",
    "axis[1].imshow(np.squeeze(pco2_images[419:421][1]), cmap=\"gray\", interpolation=\"nearest\")\n",
    "axis[1].set_title(\"true\")\n",
    "\n",
    "plt.show()\n",
    "plt.savefig('base_model_prediction.png')"
   ]
  },
  {
   "cell_type": "code",
   "execution_count": 39,
   "metadata": {},
   "outputs": [
    {
     "data": {
      "image/png": "[encoded data removed]",
      "text/plain": [
       "<Figure size 432x288 with 1 Axes>"
      ]
     },
     "metadata": {
      "needs_background": "light"
     },
     "output_type": "display_data"
    }
   ],
   "source": [
    "difference=np.squeeze(pco2_images[419:421][1])-np.squeeze(predicted_image[0])\n",
    "plot_image(difference)"
   ]
  },
  {
   "cell_type": "markdown",
   "metadata": {},
   "source": [
    "## Testing Generalization Capability\n",
    "\n",
    "Using Validation data of other dataset"
   ]
  },
  {
   "cell_type": "code",
   "execution_count": 28,
   "metadata": {},
   "outputs": [],
   "source": [
    "val_dir_name=\"../data/data2\"\n",
    "\n",
    "chl,mld,sss,sst,u10,fg_co2,xco2,icefrac,patm,pco2=read_xarray(val_dir_name)"
   ]
  },
  {
   "cell_type": "code",
   "execution_count": null,
   "metadata": {},
   "outputs": [],
   "source": [
    "xco2_images=[]\n",
    "min_xco2=np.min(xco2.XCO2.data)\n",
    "max_xco2=np.max(xco2.XCO2.data)\n",
    "new_min=0\n",
    "new_max=255\n",
    "print(min_xco2, max_xco2)\n",
    "print()\n",
    "\n",
    "\n",
    "for i in xco2.XCO2.data:\n",
    "    num = (i-min_xco2)*(new_max-new_min)/(max_xco2-min_xco2)+new_min\n",
    "    tmp = (np.repeat(num,180*360)).reshape(180,-1)\n",
    "    xco2_images.append(tmp)\n",
    "\n",
    "xco2_images=np.array(xco2_images)\n",
    "\n",
    "print(\"xco2 shape: \")\n",
    "print(xco2_images.shape, chl.Chl.data.shape)\n",
    "\n",
    "\n",
    "chl_images=preprocess_image_reduced(chl.Chl.data)\n",
    "mld_images=preprocess_image_reduced(mld.MLD.data)\n",
    "sss_images=preprocess_image_reduced(sss.SSS.data)\n",
    "sst_images=preprocess_image_reduced(sst.SST.data)\n",
    "xco2_images=preprocess_image_reduced(xco2_images,xco2=True)\n",
    "pco2_images=preprocess_image_reduced(pco2.pCO2.data)\n",
    "\n",
    "X = np.stack((chl_images, mld_images, sss_images, sst_images,xco2_images), axis = 1)\n",
    "\n",
    "X=X.reshape((421,180,360,5))\n",
    "X.shape\n"
   ]
  },
  {
   "cell_type": "code",
   "execution_count": null,
   "metadata": {},
   "outputs": [],
   "source": [
    "predicted_image=best_model.predict(X,verbose=1)"
   ]
  },
  {
   "cell_type": "code",
   "execution_count": null,
   "metadata": {},
   "outputs": [],
   "source": [
    "figure, axis = plt.subplots(1, 2)\n",
    "\n",
    "axis[0].imshow(np.squeeze(predicted_image[0]), cmap=\"gray\", interpolation=\"nearest\")\n",
    "axis[0].set_title(\"val_prediction\")\n",
    "axis[1].imshow(np.squeeze(pco2_images[0]), cmap=\"gray\", interpolation=\"nearest\")\n",
    "axis[1].set_title(\"val_true\")\n",
    "\n",
    "plt.show()"
   ]
  },
  {
   "cell_type": "code",
   "execution_count": null,
   "metadata": {},
   "outputs": [],
   "source": [
    "# generalization works pretty well"
   ]
  },
  {
   "cell_type": "markdown",
   "metadata": {},
   "source": [
    "## Getting PCO2 Prediction per Point"
   ]
  },
  {
   "cell_type": "code",
   "execution_count": null,
   "metadata": {},
   "outputs": [],
   "source": [
    "def inverse_scale_image(arr, df):\n",
    "    \"\"\"\n",
    "    inverse_scale_image(arr, df):\n",
    "    - inverses the pco2 scaling\n",
    "    \"\"\"\n",
    "    old_min = np.min(df)\n",
    "    old_max = np.max(df)\n",
    "    output = arr*(old_max-old_min)/255 + old_min\n",
    "    return output\n",
    "\n",
    "def get_point_prediction(pred,lon,lan):\n",
    "    pco2_value = pred[lon:lan]\n",
    "    return pco2_value\n",
    "    "
   ]
  },
  {
   "cell_type": "code",
   "execution_count": null,
   "metadata": {},
   "outputs": [],
   "source": []
  }
 ],
 "metadata": {
  "kernelspec": {
   "display_name": "venv",
   "language": "python",
   "name": "venv"
  },
  "language_info": {
   "codemirror_mode": {
    "name": "ipython",
    "version": 3
   },
   "file_extension": ".py",
   "mimetype": "text/x-python",
   "name": "python",
   "nbconvert_exporter": "python",
   "pygments_lexer": "ipython3",
   "version": "3.8.5"
  }
 },
 "nbformat": 4,
 "nbformat_minor": 4
}

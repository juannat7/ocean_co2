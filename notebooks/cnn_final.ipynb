{
 "cells": [
  {
   "cell_type": "markdown",
   "metadata": {},
   "source": [
    "# Modifications\n",
    "\n",
    "Link to Interactive Notebook: \n",
    "https://colab.research.google.com/drive/1sbJTsgCsAQwCkGdLXK7EdgkaTpiTGBM1#scrollTo=T71qxHyh9p23\n",
    "\n",
    "1. Reduced Input Dimension\n",
    "2. Different handling of xco2\n",
    "3. Custom rmse function\n",
    "\n",
    "What has helped the most?\n",
    "- ELU\n",
    "- ADAM\n",
    "- MODEL Architecture\n",
    "\n",
    "batch size?"
   ]
  },
  {
   "cell_type": "code",
   "execution_count": 1,
   "metadata": {},
   "outputs": [
    {
     "name": "stderr",
     "output_type": "stream",
     "text": [
      "/burg/glab/users/sk4973/venv/lib/python3.8/site-packages/xarray/backends/cfgrib_.py:27: UserWarning: Failed to load cfgrib - most likely there is a problem accessing the ecCodes library. Try `import cfgrib` to get the full error message\n",
      "  warnings.warn(\n",
      "2021-11-02 12:02:38.935688: W tensorflow/stream_executor/platform/default/dso_loader.cc:60] Could not load dynamic library 'libcudart.so.11.0'; dlerror: libcudart.so.11.0: cannot open shared object file: No such file or directory; LD_LIBRARY_PATH: /cm/shared/apps/slurm/current/lib64/slurm:/cm/shared/apps/slurm/current/lib64\n",
      "2021-11-02 12:02:38.950255: I tensorflow/stream_executor/cuda/cudart_stub.cc:29] Ignore above cudart dlerror if you do not have a GPU set up on your machine.\n"
     ]
    }
   ],
   "source": [
    "import imp\n",
    "import matplotlib.pyplot as plt\n",
    "import numpy as np\n",
    "import pandas as pd\n",
    "import xarray as xr\n",
    "import sys\n",
    "import tensorflow as tf\n",
    "from tensorflow import keras\n",
    "import os\n",
    "from sklearn.model_selection import train_test_split\n",
    "tf.random.set_seed(42)\n",
    "\n",
    "\n",
    "sys.path.insert(0, '../src')\n",
    "\n",
    "from utils import df_to_xarray,read_xarray"
   ]
  },
  {
   "cell_type": "code",
   "execution_count": 7,
   "metadata": {},
   "outputs": [],
   "source": [
    "# Reading Data\n",
    "dir_name=\"../data/data1\"\n",
    "val_dir_name=\"../data/data2\""
   ]
  },
  {
   "cell_type": "markdown",
   "metadata": {},
   "source": [
    "## Data Preprocessing"
   ]
  },
  {
   "cell_type": "code",
   "execution_count": 3,
   "metadata": {},
   "outputs": [
    {
     "name": "stdout",
     "output_type": "stream",
     "text": [
      "xco2 shape: \n",
      "(421, 180, 360) (421, 180, 360)\n"
     ]
    }
   ],
   "source": [
    "sys.path.insert(0, '../src/preprocess')\n",
    "\n",
    "from data_preprocess import preprocess_images\n",
    "\n",
    "X, pco2_images = preprocess_images(dir_name)"
   ]
  },
  {
   "cell_type": "code",
   "execution_count": 6,
   "metadata": {},
   "outputs": [
    {
     "data": {
      "text/plain": [
       "(180, 360, 5)"
      ]
     },
     "execution_count": 6,
     "metadata": {},
     "output_type": "execute_result"
    }
   ],
   "source": [
    "INPUT_SHAPE=X[0].shape\n",
    "OUTPUT_SHAPE=pco2_images[0].shape\n",
    "\n",
    "INPUT_SHAPE"
   ]
  },
  {
   "cell_type": "markdown",
   "metadata": {},
   "source": [
    "## Modeling\n",
    "\n",
    "### Image Segmentation\n",
    "CNN - Unet\n",
    "\n",
    "Reference: \n",
    "https://towardsdatascience.com/understanding-semantic-segmentation-with-unet-6be4f42d4b47\n"
   ]
  },
  {
   "cell_type": "code",
   "execution_count": 9,
   "metadata": {},
   "outputs": [],
   "source": [
    "import tensorflow.keras.backend as kb\n",
    "import tensorflow as tf\n",
    "from tensorflow.keras import backend as K\n",
    "\n",
    "def custom_rmse(y_true, y_pred):\n",
    "    \"\"\"\n",
    "    custom_rmse(y_true, y_pred)\n",
    "    calculates root square mean value with focusing only on the ocean\n",
    "    \"\"\"\n",
    "    #y_pred = y_pred[y_true != 0]\n",
    "    #y_true = y_true[y_true != 0]\n",
    "    \n",
    "    y_pred = tf.convert_to_tensor(y_pred)\n",
    "    y_true = tf.cast(y_true, y_pred.dtype)\n",
    "    \n",
    "    return K.sqrt(K.mean(tf.math.squared_difference(y_pred, y_true), axis=-1))"
   ]
  },
  {
   "cell_type": "markdown",
   "metadata": {},
   "source": [
    "### Base Model"
   ]
  },
  {
   "cell_type": "code",
   "execution_count": 123,
   "metadata": {},
   "outputs": [],
   "source": [
    "tf.keras.backend.clear_session()"
   ]
  },
  {
   "cell_type": "code",
   "execution_count": 55,
   "metadata": {},
   "outputs": [
    {
     "name": "stdout",
     "output_type": "stream",
     "text": [
      "Model: \"sequential\"\n",
      "_________________________________________________________________\n",
      "Layer (type)                 Output Shape              Param #   \n",
      "=================================================================\n",
      "conv2d (Conv2D)              (None, 180, 360, 64)      8064      \n",
      "_________________________________________________________________\n",
      "conv2d_1 (Conv2D)            (None, 180, 360, 64)      102464    \n",
      "_________________________________________________________________\n",
      "max_pooling2d (MaxPooling2D) (None, 60, 120, 64)       0         \n",
      "_________________________________________________________________\n",
      "dropout (Dropout)            (None, 60, 120, 64)       0         \n",
      "_________________________________________________________________\n",
      "conv2d_2 (Conv2D)            (None, 60, 120, 128)      204928    \n",
      "_________________________________________________________________\n",
      "conv2d_3 (Conv2D)            (None, 60, 120, 128)      409728    \n",
      "_________________________________________________________________\n",
      "up_sampling2d (UpSampling2D) (None, 180, 360, 128)     0         \n",
      "_________________________________________________________________\n",
      "conv2d_4 (Conv2D)            (None, 180, 360, 64)      204864    \n",
      "_________________________________________________________________\n",
      "conv2d_5 (Conv2D)            (None, 180, 360, 2)       3202      \n",
      "_________________________________________________________________\n",
      "conv2d_6 (Conv2D)            (None, 180, 360, 1)       3         \n",
      "_________________________________________________________________\n",
      "reshape (Reshape)            (None, 180, 360)          0         \n",
      "=================================================================\n",
      "Total params: 933,253\n",
      "Trainable params: 933,253\n",
      "Non-trainable params: 0\n",
      "_________________________________________________________________\n"
     ]
    }
   ],
   "source": [
    "from functools import partial\n",
    "\n",
    "## Experiment 1\n",
    "## relu vs. elu\n",
    "## elu headstart & more training allowed\n",
    "\n",
    "## Experiment 2\n",
    "## kernel intializer = \"he_normal\" -> does not work\n",
    "DefaultConv2D = partial(keras.layers.Conv2D,\n",
    "                        kernel_size=5,activation='elu',\n",
    "                        padding=\"SAME\")\n",
    "\n",
    "\n",
    "base_model = keras.models.Sequential([\n",
    "    DefaultConv2D(filters=64, input_shape=INPUT_SHAPE),\n",
    "    DefaultConv2D(filters=64),\n",
    "    keras.layers.MaxPooling2D(pool_size=3), #pool size 3 > pool size 2\n",
    "    keras.layers.Dropout(0.3),# drop out at the end of the deepest\n",
    "\n",
    "    DefaultConv2D(filters=128),\n",
    "    DefaultConv2D(filters=128),\n",
    "\n",
    "\n",
    "    keras.layers.UpSampling2D(size=3),\n",
    "    DefaultConv2D(filters=64),    \n",
    "    DefaultConv2D(filters=2),\n",
    "    DefaultConv2D(filters=1,kernel_size=1),\n",
    "    keras.layers.Reshape(OUTPUT_SHAPE)\n",
    "   \n",
    "])\n",
    "\n",
    "\n",
    "## BEST SO FAR ##\n",
    "\n",
    "base_model.summary()"
   ]
  },
  {
   "cell_type": "code",
   "execution_count": 56,
   "metadata": {},
   "outputs": [],
   "source": [
    "myLearnRate=0.001\n",
    "custom_opt = tf.keras.optimizers.Adam(learning_rate=myLearnRate)\n",
    "base_model.compile(loss=custom_rmse, optimizer=custom_opt, metrics=[\"mean_squared_error\"])"
   ]
  },
  {
   "cell_type": "code",
   "execution_count": 57,
   "metadata": {},
   "outputs": [
    {
     "name": "stdout",
     "output_type": "stream",
     "text": [
      "Epoch 1/100\n",
      "27/27 [==============================] - 6s 200ms/step - loss: 142.8320 - mean_squared_error: 163971.3784 - val_loss: 33.6630 - val_mean_squared_error: 1340.1407\n",
      "Epoch 2/100\n",
      "27/27 [==============================] - 5s 178ms/step - loss: 33.2313 - mean_squared_error: 1300.9619 - val_loss: 29.6193 - val_mean_squared_error: 1028.5386\n",
      "Epoch 3/100\n",
      "27/27 [==============================] - 5s 179ms/step - loss: 30.2870 - mean_squared_error: 1078.1862 - val_loss: 26.6017 - val_mean_squared_error: 842.6999\n",
      "Epoch 4/100\n",
      "27/27 [==============================] - 5s 179ms/step - loss: 27.0007 - mean_squared_error: 865.0901 - val_loss: 23.9602 - val_mean_squared_error: 685.6956\n",
      "Epoch 5/100\n",
      "27/27 [==============================] - 5s 178ms/step - loss: 23.3687 - mean_squared_error: 654.9329 - val_loss: 21.4146 - val_mean_squared_error: 556.3313\n",
      "Epoch 6/100\n",
      "27/27 [==============================] - 5s 179ms/step - loss: 21.6890 - mean_squared_error: 571.3622 - val_loss: 19.8010 - val_mean_squared_error: 484.2905\n",
      "Epoch 7/100\n",
      "27/27 [==============================] - 5s 178ms/step - loss: 19.6266 - mean_squared_error: 476.6203 - val_loss: 19.2485 - val_mean_squared_error: 462.1543\n",
      "Epoch 8/100\n",
      "27/27 [==============================] - 5s 179ms/step - loss: 18.2464 - mean_squared_error: 424.7187 - val_loss: 17.0895 - val_mean_squared_error: 381.5093\n",
      "Epoch 9/100\n",
      "27/27 [==============================] - 5s 178ms/step - loss: 17.3490 - mean_squared_error: 386.7801 - val_loss: 17.0792 - val_mean_squared_error: 379.6747\n",
      "Epoch 10/100\n",
      "27/27 [==============================] - 5s 178ms/step - loss: 16.5840 - mean_squared_error: 357.2313 - val_loss: 15.7376 - val_mean_squared_error: 332.2000\n",
      "Epoch 11/100\n",
      "27/27 [==============================] - 5s 179ms/step - loss: 16.5402 - mean_squared_error: 359.8563 - val_loss: 15.0527 - val_mean_squared_error: 311.1674\n",
      "Epoch 12/100\n",
      "27/27 [==============================] - 5s 178ms/step - loss: 15.6872 - mean_squared_error: 328.0613 - val_loss: 15.4329 - val_mean_squared_error: 325.0465\n",
      "Epoch 13/100\n",
      "27/27 [==============================] - 5s 179ms/step - loss: 15.1990 - mean_squared_error: 313.0457 - val_loss: 14.5429 - val_mean_squared_error: 291.0311\n",
      "Epoch 14/100\n",
      "27/27 [==============================] - 5s 179ms/step - loss: 14.6965 - mean_squared_error: 298.8480 - val_loss: 13.5079 - val_mean_squared_error: 262.4402\n",
      "Epoch 15/100\n",
      "27/27 [==============================] - 5s 179ms/step - loss: 14.1203 - mean_squared_error: 279.2966 - val_loss: 13.7426 - val_mean_squared_error: 266.8993\n",
      "Epoch 16/100\n",
      "27/27 [==============================] - 5s 179ms/step - loss: 13.7530 - mean_squared_error: 269.2373 - val_loss: 13.0397 - val_mean_squared_error: 250.0939\n",
      "Epoch 17/100\n",
      "27/27 [==============================] - 5s 179ms/step - loss: 13.5226 - mean_squared_error: 264.3041 - val_loss: 12.9866 - val_mean_squared_error: 250.3558\n",
      "Epoch 18/100\n",
      "27/27 [==============================] - 5s 179ms/step - loss: 13.2223 - mean_squared_error: 254.9647 - val_loss: 13.4452 - val_mean_squared_error: 258.7976\n",
      "Epoch 19/100\n",
      "27/27 [==============================] - 5s 179ms/step - loss: 13.1639 - mean_squared_error: 253.3962 - val_loss: 12.8010 - val_mean_squared_error: 243.4579\n",
      "Epoch 20/100\n",
      "27/27 [==============================] - 5s 179ms/step - loss: 12.9923 - mean_squared_error: 251.8519 - val_loss: 12.4215 - val_mean_squared_error: 239.9103\n",
      "Epoch 21/100\n",
      "27/27 [==============================] - 5s 179ms/step - loss: 13.0923 - mean_squared_error: 258.3947 - val_loss: 12.9324 - val_mean_squared_error: 244.7485\n",
      "Epoch 22/100\n",
      "27/27 [==============================] - 5s 179ms/step - loss: 12.4981 - mean_squared_error: 239.7105 - val_loss: 11.9666 - val_mean_squared_error: 225.4610\n",
      "Epoch 23/100\n",
      "27/27 [==============================] - 5s 180ms/step - loss: 12.1732 - mean_squared_error: 232.7290 - val_loss: 11.2866 - val_mean_squared_error: 211.6309\n",
      "Epoch 24/100\n",
      "27/27 [==============================] - 5s 179ms/step - loss: 11.7017 - mean_squared_error: 220.1225 - val_loss: 11.7668 - val_mean_squared_error: 218.0181\n",
      "Epoch 25/100\n",
      "27/27 [==============================] - 5s 180ms/step - loss: 11.8914 - mean_squared_error: 223.6032 - val_loss: 10.9693 - val_mean_squared_error: 205.2133\n",
      "Epoch 26/100\n",
      "27/27 [==============================] - 5s 179ms/step - loss: 11.4788 - mean_squared_error: 213.3576 - val_loss: 10.6941 - val_mean_squared_error: 197.7704\n",
      "Epoch 27/100\n",
      "27/27 [==============================] - 5s 179ms/step - loss: 11.4304 - mean_squared_error: 216.0381 - val_loss: 10.6676 - val_mean_squared_error: 198.9326\n",
      "Epoch 28/100\n",
      "27/27 [==============================] - 5s 179ms/step - loss: 11.1673 - mean_squared_error: 203.4916 - val_loss: 10.7170 - val_mean_squared_error: 199.4722\n",
      "Epoch 29/100\n",
      "27/27 [==============================] - 5s 178ms/step - loss: 11.0970 - mean_squared_error: 205.9415 - val_loss: 10.4755 - val_mean_squared_error: 192.6223\n",
      "Epoch 30/100\n",
      "27/27 [==============================] - 5s 179ms/step - loss: 10.8756 - mean_squared_error: 198.2710 - val_loss: 10.3230 - val_mean_squared_error: 192.1621\n",
      "Epoch 31/100\n",
      "27/27 [==============================] - 5s 179ms/step - loss: 10.9282 - mean_squared_error: 203.4140 - val_loss: 10.1784 - val_mean_squared_error: 188.8233\n",
      "Epoch 32/100\n",
      "27/27 [==============================] - 5s 178ms/step - loss: 10.5266 - mean_squared_error: 193.5484 - val_loss: 9.9349 - val_mean_squared_error: 185.3757\n",
      "Epoch 33/100\n",
      "27/27 [==============================] - 5s 179ms/step - loss: 10.3823 - mean_squared_error: 191.1906 - val_loss: 10.6454 - val_mean_squared_error: 196.7012\n",
      "Epoch 34/100\n",
      "27/27 [==============================] - 5s 179ms/step - loss: 10.5945 - mean_squared_error: 195.4362 - val_loss: 9.7623 - val_mean_squared_error: 178.7911\n",
      "Epoch 35/100\n",
      "27/27 [==============================] - 5s 179ms/step - loss: 10.2180 - mean_squared_error: 184.9095 - val_loss: 9.8404 - val_mean_squared_error: 183.4002\n",
      "Epoch 36/100\n",
      "27/27 [==============================] - 5s 179ms/step - loss: 10.2153 - mean_squared_error: 186.5974 - val_loss: 11.0755 - val_mean_squared_error: 209.0348\n",
      "Epoch 37/100\n",
      "27/27 [==============================] - 5s 179ms/step - loss: 10.4388 - mean_squared_error: 193.5534 - val_loss: 9.5610 - val_mean_squared_error: 173.6811\n",
      "Epoch 38/100\n",
      "27/27 [==============================] - 5s 179ms/step - loss: 10.0827 - mean_squared_error: 185.3661 - val_loss: 9.3881 - val_mean_squared_error: 172.1533\n",
      "Epoch 39/100\n",
      "27/27 [==============================] - 5s 178ms/step - loss: 9.9693 - mean_squared_error: 181.9783 - val_loss: 9.3276 - val_mean_squared_error: 169.9245\n",
      "Epoch 40/100\n",
      "27/27 [==============================] - 5s 178ms/step - loss: 10.0187 - mean_squared_error: 184.0907 - val_loss: 9.2557 - val_mean_squared_error: 168.7272\n",
      "Epoch 41/100\n",
      "27/27 [==============================] - 5s 179ms/step - loss: 9.7590 - mean_squared_error: 178.3935 - val_loss: 9.1724 - val_mean_squared_error: 169.2063\n",
      "Epoch 42/100\n",
      "27/27 [==============================] - 5s 179ms/step - loss: 9.6254 - mean_squared_error: 175.2484 - val_loss: 9.1195 - val_mean_squared_error: 167.9862\n",
      "Epoch 43/100\n",
      "27/27 [==============================] - 5s 179ms/step - loss: 9.5919 - mean_squared_error: 175.8432 - val_loss: 9.3179 - val_mean_squared_error: 173.6444\n",
      "Epoch 44/100\n",
      "27/27 [==============================] - 5s 179ms/step - loss: 10.0043 - mean_squared_error: 183.1824 - val_loss: 9.0896 - val_mean_squared_error: 166.3240\n",
      "Epoch 45/100\n",
      "27/27 [==============================] - 5s 179ms/step - loss: 9.7928 - mean_squared_error: 180.9858 - val_loss: 8.9258 - val_mean_squared_error: 165.8094\n",
      "Epoch 46/100\n",
      "27/27 [==============================] - 5s 178ms/step - loss: 9.4490 - mean_squared_error: 171.6579 - val_loss: 9.4842 - val_mean_squared_error: 173.2654\n",
      "Epoch 47/100\n",
      "27/27 [==============================] - 5s 179ms/step - loss: 9.6911 - mean_squared_error: 178.3367 - val_loss: 9.2865 - val_mean_squared_error: 169.8006\n",
      "Epoch 48/100\n",
      "27/27 [==============================] - 5s 182ms/step - loss: 9.6633 - mean_squared_error: 176.3337 - val_loss: 9.1488 - val_mean_squared_error: 169.4960\n",
      "Epoch 49/100\n",
      "27/27 [==============================] - 5s 178ms/step - loss: 9.7165 - mean_squared_error: 178.2580 - val_loss: 9.1362 - val_mean_squared_error: 170.5433\n",
      "Epoch 50/100\n",
      "27/27 [==============================] - 5s 178ms/step - loss: 9.3495 - mean_squared_error: 171.8835 - val_loss: 9.0762 - val_mean_squared_error: 165.3210\n",
      "Epoch 00050: early stopping\n"
     ]
    }
   ],
   "source": [
    "model_path=\"../models/base_model/base_model_new.h5\"\n",
    "early_stopings = tf.keras.callbacks.EarlyStopping(monitor='val_loss', min_delta=0, patience=5, verbose=1, mode='min')\n",
    "checkpoint =  tf.keras.callbacks.ModelCheckpoint(model_path, monitor='val_loss', save_best_only=True, mode='min', verbose=0)\n",
    "callbacks=[early_stopings,checkpoint]\n",
    "\n",
    "#batch size 24, 32, 64 not as good\n",
    "# batch size 16 the best\n",
    "history = base_model.fit(X,pco2_images, epochs=100, validation_data=(X,pco2_images),workers=-1,batch_size=16,callbacks=callbacks)\n",
    "\n"
   ]
  },
  {
   "cell_type": "markdown",
   "metadata": {},
   "source": [
    "### Base Model Output"
   ]
  },
  {
   "cell_type": "code",
   "execution_count": 60,
   "metadata": {},
   "outputs": [
    {
     "name": "stdout",
     "output_type": "stream",
     "text": [
      "1/1 [==============================] - 0s 72ms/step\n"
     ]
    }
   ],
   "source": [
    "\n",
    "best_model = tf.keras.models.load_model('../models/base_model/base_model_new.h5', custom_objects={'custom_rmse':custom_rmse})\n",
    "predicted_image=best_model.predict(X[419:421],verbose=1)"
   ]
  },
  {
   "cell_type": "code",
   "execution_count": 61,
   "metadata": {},
   "outputs": [
    {
     "data": {
      "image/png": "[encoded data removed]",
      "text/plain": [
       "<Figure size 432x288 with 2 Axes>"
      ]
     },
     "metadata": {
      "needs_background": "light"
     },
     "output_type": "display_data"
    },
    {
     "data": {
      "text/plain": [
       "<Figure size 432x288 with 0 Axes>"
      ]
     },
     "metadata": {},
     "output_type": "display_data"
    }
   ],
   "source": [
    "import matplotlib.pyplot as plt\n",
    "\n",
    "figure, axis = plt.subplots(1, 2)\n",
    "\n",
    "\n",
    "axis[0].imshow(np.squeeze(predicted_image[1]), cmap=\"gray\", interpolation=\"nearest\")\n",
    "axis[0].set_title(\"prediction\")\n",
    "axis[1].imshow(np.squeeze(pco2_images[419:421][1]), cmap=\"gray\", interpolation=\"nearest\")\n",
    "axis[1].set_title(\"true\")\n",
    "\n",
    "plt.show()\n",
    "plt.savefig('base_model_prediction.png')"
   ]
  },
  {
   "cell_type": "code",
   "execution_count": 62,
   "metadata": {},
   "outputs": [
    {
     "data": {
      "image/png": "[encoded data removed]",
      "text/plain": [
       "<Figure size 432x288 with 1 Axes>"
      ]
     },
     "metadata": {
      "needs_background": "light"
     },
     "output_type": "display_data"
    }
   ],
   "source": [
    "difference=np.squeeze(pco2_images[419:421][1])-np.squeeze(predicted_image[0])\n",
    "plot_image(difference)"
   ]
  },
  {
   "cell_type": "markdown",
   "metadata": {},
   "source": [
    "## Model 1\n",
    "\n",
    "- more complex model with a greater parameters\n",
    "- need a different learning rate"
   ]
  },
  {
   "cell_type": "code",
   "execution_count": 68,
   "metadata": {},
   "outputs": [
    {
     "name": "stdout",
     "output_type": "stream",
     "text": [
      "Model: \"sequential\"\n",
      "_________________________________________________________________\n",
      "Layer (type)                 Output Shape              Param #   \n",
      "=================================================================\n",
      "conv2d (Conv2D)              (None, 180, 360, 32)      4032      \n",
      "_________________________________________________________________\n",
      "conv2d_1 (Conv2D)            (None, 180, 360, 32)      25632     \n",
      "_________________________________________________________________\n",
      "max_pooling2d (MaxPooling2D) (None, 60, 120, 32)       0         \n",
      "_________________________________________________________________\n",
      "dropout (Dropout)            (None, 60, 120, 32)       0         \n",
      "_________________________________________________________________\n",
      "conv2d_2 (Conv2D)            (None, 60, 120, 64)       51264     \n",
      "_________________________________________________________________\n",
      "conv2d_3 (Conv2D)            (None, 60, 120, 64)       102464    \n",
      "_________________________________________________________________\n",
      "max_pooling2d_1 (MaxPooling2 (None, 20, 40, 64)        0         \n",
      "_________________________________________________________________\n",
      "dropout_1 (Dropout)          (None, 20, 40, 64)        0         \n",
      "_________________________________________________________________\n",
      "conv2d_4 (Conv2D)            (None, 20, 40, 128)       204928    \n",
      "_________________________________________________________________\n",
      "conv2d_5 (Conv2D)            (None, 20, 40, 128)       409728    \n",
      "_________________________________________________________________\n",
      "up_sampling2d (UpSampling2D) (None, 60, 120, 128)      0         \n",
      "_________________________________________________________________\n",
      "conv2d_6 (Conv2D)            (None, 60, 120, 64)       204864    \n",
      "_________________________________________________________________\n",
      "conv2d_7 (Conv2D)            (None, 60, 120, 64)       102464    \n",
      "_________________________________________________________________\n",
      "up_sampling2d_1 (UpSampling2 (None, 180, 360, 64)      0         \n",
      "_________________________________________________________________\n",
      "conv2d_8 (Conv2D)            (None, 180, 360, 32)      51232     \n",
      "_________________________________________________________________\n",
      "conv2d_9 (Conv2D)            (None, 180, 360, 2)       1602      \n",
      "_________________________________________________________________\n",
      "conv2d_10 (Conv2D)           (None, 180, 360, 1)       3         \n",
      "_________________________________________________________________\n",
      "reshape (Reshape)            (None, 180, 360)          0         \n",
      "=================================================================\n",
      "Total params: 1,158,213\n",
      "Trainable params: 1,158,213\n",
      "Non-trainable params: 0\n",
      "_________________________________________________________________\n"
     ]
    }
   ],
   "source": [
    "\n",
    "#kernel_size matters, 2 does not work\n",
    "\n",
    "model1 = keras.models.Sequential([\n",
    "    DefaultConv2D(filters=32, input_shape=INPUT_SHAPE),\n",
    "    DefaultConv2D(filters=32),\n",
    "    keras.layers.MaxPooling2D(pool_size=3),\n",
    "    keras.layers.Dropout(0.35),\n",
    "\n",
    "    DefaultConv2D(filters=64),\n",
    "    DefaultConv2D(filters=64),\n",
    "    keras.layers.MaxPooling2D(pool_size=3),\n",
    "    keras.layers.Dropout(0.35),\n",
    "\n",
    "    DefaultConv2D(filters=128),\n",
    "    DefaultConv2D(filters=128),\n",
    "\n",
    "    keras.layers.UpSampling2D(size=3),\n",
    "    DefaultConv2D(filters=64),\n",
    "    DefaultConv2D(filters=64),\n",
    "\n",
    "    keras.layers.UpSampling2D(size=3),\n",
    "    DefaultConv2D(filters=32),\n",
    "    DefaultConv2D(filters=2),\n",
    "    DefaultConv2D(filters=1,kernel_size=1),\n",
    "    keras.layers.Reshape(OUTPUT_SHAPE)\n",
    "   \n",
    "])\n",
    "\n",
    "model1.summary()\n"
   ]
  },
  {
   "cell_type": "code",
   "execution_count": 69,
   "metadata": {},
   "outputs": [],
   "source": [
    "myLearnRate=0.001\n",
    "custom_opt = tf.keras.optimizers.Adam(learning_rate=myLearnRate)\n",
    "model1.compile(loss=custom_rmse, optimizer=custom_opt, metrics=[\"mean_squared_error\"])"
   ]
  },
  {
   "cell_type": "code",
   "execution_count": 70,
   "metadata": {},
   "outputs": [
    {
     "name": "stdout",
     "output_type": "stream",
     "text": [
      "Epoch 1/100\n",
      "27/27 [==============================] - 4s 139ms/step - loss: 89.2246 - mean_squared_error: 26146.0128 - val_loss: 43.2191 - val_mean_squared_error: 2075.2083\n",
      "Epoch 2/100\n",
      "27/27 [==============================] - 3s 117ms/step - loss: 40.3628 - mean_squared_error: 1797.9946 - val_loss: 33.7339 - val_mean_squared_error: 1313.3337\n",
      "Epoch 3/100\n",
      "27/27 [==============================] - 3s 117ms/step - loss: 33.6798 - mean_squared_error: 1313.2450 - val_loss: 32.1518 - val_mean_squared_error: 1198.2673\n",
      "Epoch 4/100\n",
      "27/27 [==============================] - 3s 117ms/step - loss: 31.4822 - mean_squared_error: 1153.4590 - val_loss: 28.5079 - val_mean_squared_error: 952.5831\n",
      "Epoch 5/100\n",
      "27/27 [==============================] - 3s 117ms/step - loss: 28.3888 - mean_squared_error: 941.0056 - val_loss: 25.5920 - val_mean_squared_error: 767.4824\n",
      "Epoch 6/100\n",
      "27/27 [==============================] - 3s 117ms/step - loss: 26.2227 - mean_squared_error: 802.9679 - val_loss: 24.8618 - val_mean_squared_error: 724.8053\n",
      "Epoch 7/100\n",
      "27/27 [==============================] - 3s 117ms/step - loss: 24.5748 - mean_squared_error: 705.5314 - val_loss: 24.0141 - val_mean_squared_error: 669.3114\n",
      "Epoch 8/100\n",
      "27/27 [==============================] - 3s 117ms/step - loss: 22.9607 - mean_squared_error: 618.5403 - val_loss: 21.0267 - val_mean_squared_error: 519.8897\n",
      "Epoch 9/100\n",
      "27/27 [==============================] - 3s 120ms/step - loss: 21.5254 - mean_squared_error: 543.5612 - val_loss: 19.9241 - val_mean_squared_error: 462.8042\n",
      "Epoch 10/100\n",
      "27/27 [==============================] - 3s 117ms/step - loss: 20.1627 - mean_squared_error: 477.0424 - val_loss: 18.8158 - val_mean_squared_error: 420.0021\n",
      "Epoch 11/100\n",
      "27/27 [==============================] - 3s 118ms/step - loss: 18.6131 - mean_squared_error: 407.8249 - val_loss: 17.2789 - val_mean_squared_error: 351.9282\n",
      "Epoch 12/100\n",
      "27/27 [==============================] - 3s 117ms/step - loss: 17.7679 - mean_squared_error: 371.3852 - val_loss: 18.5426 - val_mean_squared_error: 393.9774\n",
      "Epoch 13/100\n",
      "27/27 [==============================] - 3s 118ms/step - loss: 16.7517 - mean_squared_error: 329.6860 - val_loss: 15.9450 - val_mean_squared_error: 295.4841\n",
      "Epoch 14/100\n",
      "27/27 [==============================] - 3s 117ms/step - loss: 16.2330 - mean_squared_error: 311.7962 - val_loss: 15.1602 - val_mean_squared_error: 273.2210\n",
      "Epoch 15/100\n",
      "27/27 [==============================] - 3s 117ms/step - loss: 15.5955 - mean_squared_error: 286.7802 - val_loss: 15.4472 - val_mean_squared_error: 276.4941\n",
      "Epoch 16/100\n",
      "27/27 [==============================] - 3s 117ms/step - loss: 14.8267 - mean_squared_error: 258.2645 - val_loss: 15.4972 - val_mean_squared_error: 276.7216\n",
      "Epoch 17/100\n",
      "27/27 [==============================] - 3s 117ms/step - loss: 14.6958 - mean_squared_error: 253.4825 - val_loss: 13.7295 - val_mean_squared_error: 220.6171\n",
      "Epoch 18/100\n",
      "27/27 [==============================] - 3s 117ms/step - loss: 14.0100 - mean_squared_error: 231.2993 - val_loss: 13.5390 - val_mean_squared_error: 213.4404\n",
      "Epoch 19/100\n",
      "27/27 [==============================] - 3s 117ms/step - loss: 13.2780 - mean_squared_error: 207.6964 - val_loss: 12.6297 - val_mean_squared_error: 188.6917\n",
      "Epoch 20/100\n",
      "27/27 [==============================] - 3s 118ms/step - loss: 12.8387 - mean_squared_error: 195.0838 - val_loss: 12.1356 - val_mean_squared_error: 175.8331\n",
      "Epoch 21/100\n",
      "27/27 [==============================] - 3s 118ms/step - loss: 12.6667 - mean_squared_error: 190.4711 - val_loss: 11.9064 - val_mean_squared_error: 168.3666\n",
      "Epoch 22/100\n",
      "27/27 [==============================] - 3s 118ms/step - loss: 12.2866 - mean_squared_error: 179.0611 - val_loss: 12.2818 - val_mean_squared_error: 178.9398\n",
      "Epoch 23/100\n",
      "27/27 [==============================] - 3s 117ms/step - loss: 12.1800 - mean_squared_error: 175.7409 - val_loss: 11.2042 - val_mean_squared_error: 151.0005\n",
      "Epoch 24/100\n",
      "27/27 [==============================] - 3s 118ms/step - loss: 11.6787 - mean_squared_error: 162.0543 - val_loss: 12.2810 - val_mean_squared_error: 177.4434\n",
      "Epoch 25/100\n",
      "27/27 [==============================] - 3s 117ms/step - loss: 11.6980 - mean_squared_error: 162.1189 - val_loss: 11.4216 - val_mean_squared_error: 157.1097\n",
      "Epoch 26/100\n",
      "27/27 [==============================] - 3s 117ms/step - loss: 11.5253 - mean_squared_error: 157.4691 - val_loss: 10.5211 - val_mean_squared_error: 133.2878\n",
      "Epoch 27/100\n",
      "27/27 [==============================] - 3s 117ms/step - loss: 10.7568 - mean_squared_error: 137.7063 - val_loss: 10.2523 - val_mean_squared_error: 126.4416\n",
      "Epoch 28/100\n",
      "27/27 [==============================] - 3s 118ms/step - loss: 10.6477 - mean_squared_error: 134.3602 - val_loss: 10.2430 - val_mean_squared_error: 125.0626\n",
      "Epoch 29/100\n",
      "27/27 [==============================] - 3s 118ms/step - loss: 10.2677 - mean_squared_error: 125.2448 - val_loss: 9.9293 - val_mean_squared_error: 118.9195\n",
      "Epoch 30/100\n",
      "27/27 [==============================] - 3s 117ms/step - loss: 10.3252 - mean_squared_error: 127.1519 - val_loss: 10.4633 - val_mean_squared_error: 132.8741\n",
      "Epoch 31/100\n",
      "27/27 [==============================] - 3s 117ms/step - loss: 10.5616 - mean_squared_error: 133.7804 - val_loss: 9.4578 - val_mean_squared_error: 106.8630\n",
      "Epoch 32/100\n",
      "27/27 [==============================] - 3s 118ms/step - loss: 9.9265 - mean_squared_error: 118.0811 - val_loss: 9.9151 - val_mean_squared_error: 119.1126\n",
      "Epoch 33/100\n",
      "27/27 [==============================] - 3s 118ms/step - loss: 10.0566 - mean_squared_error: 121.2824 - val_loss: 9.6583 - val_mean_squared_error: 112.5179\n",
      "Epoch 34/100\n",
      "27/27 [==============================] - 3s 117ms/step - loss: 9.5655 - mean_squared_error: 109.7280 - val_loss: 9.5800 - val_mean_squared_error: 112.2486\n",
      "Epoch 35/100\n",
      "27/27 [==============================] - 3s 118ms/step - loss: 9.2799 - mean_squared_error: 104.0978 - val_loss: 9.1286 - val_mean_squared_error: 102.7771\n",
      "Epoch 36/100\n",
      "27/27 [==============================] - 3s 118ms/step - loss: 9.2545 - mean_squared_error: 103.5883 - val_loss: 11.7686 - val_mean_squared_error: 163.9856\n",
      "Epoch 37/100\n",
      "27/27 [==============================] - 3s 118ms/step - loss: 9.4335 - mean_squared_error: 108.4962 - val_loss: 8.6638 - val_mean_squared_error: 91.5899\n",
      "Epoch 38/100\n",
      "27/27 [==============================] - 3s 117ms/step - loss: 8.7362 - mean_squared_error: 92.8259 - val_loss: 8.0800 - val_mean_squared_error: 81.2646\n",
      "Epoch 39/100\n",
      "27/27 [==============================] - 3s 118ms/step - loss: 8.6652 - mean_squared_error: 91.4943 - val_loss: 8.0620 - val_mean_squared_error: 80.4703\n",
      "Epoch 40/100\n",
      "27/27 [==============================] - 3s 118ms/step - loss: 8.7179 - mean_squared_error: 93.0073 - val_loss: 7.9480 - val_mean_squared_error: 79.0173\n",
      "Epoch 41/100\n",
      "27/27 [==============================] - 3s 118ms/step - loss: 8.6524 - mean_squared_error: 92.2898 - val_loss: 8.3091 - val_mean_squared_error: 87.6682\n",
      "Epoch 42/100\n",
      "27/27 [==============================] - 3s 118ms/step - loss: 8.9809 - mean_squared_error: 99.4488 - val_loss: 8.7969 - val_mean_squared_error: 95.1705\n",
      "Epoch 43/100\n",
      "27/27 [==============================] - 3s 118ms/step - loss: 8.2366 - mean_squared_error: 83.8358 - val_loss: 7.6334 - val_mean_squared_error: 72.2460\n",
      "Epoch 44/100\n",
      "27/27 [==============================] - 3s 118ms/step - loss: 8.3064 - mean_squared_error: 84.7779 - val_loss: 7.4802 - val_mean_squared_error: 70.4522\n",
      "Epoch 45/100\n",
      "27/27 [==============================] - 3s 117ms/step - loss: 7.8906 - mean_squared_error: 77.0597 - val_loss: 7.4779 - val_mean_squared_error: 69.6668\n",
      "Epoch 46/100\n",
      "27/27 [==============================] - 3s 118ms/step - loss: 8.0272 - mean_squared_error: 80.3512 - val_loss: 7.5143 - val_mean_squared_error: 71.2374\n",
      "Epoch 47/100\n",
      "27/27 [==============================] - 3s 117ms/step - loss: 7.5766 - mean_squared_error: 71.4489 - val_loss: 7.2866 - val_mean_squared_error: 65.9375\n",
      "Epoch 48/100\n",
      "27/27 [==============================] - 3s 118ms/step - loss: 7.5455 - mean_squared_error: 71.0518 - val_loss: 8.8669 - val_mean_squared_error: 98.9484\n",
      "Epoch 49/100\n",
      "27/27 [==============================] - 3s 118ms/step - loss: 7.7136 - mean_squared_error: 74.4152 - val_loss: 7.2750 - val_mean_squared_error: 66.8886\n",
      "Epoch 50/100\n",
      "27/27 [==============================] - 3s 118ms/step - loss: 7.5801 - mean_squared_error: 71.6670 - val_loss: 7.0459 - val_mean_squared_error: 62.6253\n",
      "Epoch 51/100\n",
      "27/27 [==============================] - 3s 117ms/step - loss: 7.5095 - mean_squared_error: 70.0261 - val_loss: 7.3604 - val_mean_squared_error: 70.3498\n",
      "Epoch 52/100\n",
      "27/27 [==============================] - 3s 118ms/step - loss: 7.3936 - mean_squared_error: 68.6904 - val_loss: 6.8379 - val_mean_squared_error: 60.0391\n",
      "Epoch 53/100\n",
      "27/27 [==============================] - 3s 118ms/step - loss: 7.1203 - mean_squared_error: 63.8470 - val_loss: 6.6428 - val_mean_squared_error: 56.2011\n",
      "Epoch 54/100\n",
      "27/27 [==============================] - 3s 118ms/step - loss: 7.7548 - mean_squared_error: 75.7046 - val_loss: 7.1094 - val_mean_squared_error: 64.2693\n",
      "Epoch 55/100\n",
      "27/27 [==============================] - 3s 118ms/step - loss: 7.7613 - mean_squared_error: 75.6037 - val_loss: 9.4984 - val_mean_squared_error: 111.5623\n",
      "Epoch 56/100\n",
      "27/27 [==============================] - 3s 118ms/step - loss: 7.6352 - mean_squared_error: 73.5275 - val_loss: 6.6118 - val_mean_squared_error: 55.2597\n",
      "Epoch 57/100\n",
      "27/27 [==============================] - 3s 118ms/step - loss: 7.3496 - mean_squared_error: 68.3818 - val_loss: 6.6075 - val_mean_squared_error: 55.9294\n",
      "Epoch 58/100\n",
      "27/27 [==============================] - 3s 118ms/step - loss: 6.7788 - mean_squared_error: 58.4716 - val_loss: 6.9527 - val_mean_squared_error: 61.2848\n",
      "Epoch 59/100\n",
      "27/27 [==============================] - 3s 118ms/step - loss: 7.1144 - mean_squared_error: 63.9132 - val_loss: 6.5963 - val_mean_squared_error: 55.3792\n",
      "Epoch 60/100\n",
      "27/27 [==============================] - 3s 118ms/step - loss: 6.8792 - mean_squared_error: 60.2015 - val_loss: 7.0289 - val_mean_squared_error: 63.9164\n",
      "Epoch 61/100\n",
      "27/27 [==============================] - 3s 118ms/step - loss: 6.9710 - mean_squared_error: 61.4914 - val_loss: 6.9552 - val_mean_squared_error: 60.7077\n",
      "Epoch 62/100\n",
      "27/27 [==============================] - 3s 118ms/step - loss: 7.2180 - mean_squared_error: 65.9277 - val_loss: 8.2520 - val_mean_squared_error: 83.3709\n",
      "Epoch 63/100\n",
      "27/27 [==============================] - 3s 118ms/step - loss: 7.4714 - mean_squared_error: 70.7490 - val_loss: 6.4843 - val_mean_squared_error: 54.8191\n",
      "Epoch 64/100\n",
      "27/27 [==============================] - 3s 118ms/step - loss: 6.9722 - mean_squared_error: 61.7832 - val_loss: 7.7711 - val_mean_squared_error: 77.8302\n",
      "Epoch 65/100\n",
      "27/27 [==============================] - 3s 118ms/step - loss: 7.2274 - mean_squared_error: 67.5257 - val_loss: 6.2577 - val_mean_squared_error: 50.4704\n",
      "Epoch 66/100\n",
      "27/27 [==============================] - 3s 117ms/step - loss: 6.4657 - mean_squared_error: 53.6832 - val_loss: 6.2972 - val_mean_squared_error: 51.1396\n",
      "Epoch 67/100\n",
      "27/27 [==============================] - 3s 118ms/step - loss: 6.5735 - mean_squared_error: 55.3204 - val_loss: 6.2982 - val_mean_squared_error: 51.2489\n",
      "Epoch 68/100\n",
      "27/27 [==============================] - 3s 117ms/step - loss: 6.9550 - mean_squared_error: 61.9262 - val_loss: 6.1007 - val_mean_squared_error: 49.4887\n",
      "Epoch 69/100\n",
      "27/27 [==============================] - 3s 118ms/step - loss: 6.3582 - mean_squared_error: 52.0919 - val_loss: 6.1675 - val_mean_squared_error: 50.7979\n",
      "Epoch 70/100\n",
      "27/27 [==============================] - 3s 118ms/step - loss: 6.3402 - mean_squared_error: 52.2251 - val_loss: 6.0689 - val_mean_squared_error: 48.0077\n",
      "Epoch 71/100\n",
      "27/27 [==============================] - 3s 117ms/step - loss: 6.3009 - mean_squared_error: 51.1031 - val_loss: 6.3376 - val_mean_squared_error: 51.2533\n",
      "Epoch 72/100\n",
      "27/27 [==============================] - 3s 117ms/step - loss: 6.4762 - mean_squared_error: 53.9745 - val_loss: 6.4008 - val_mean_squared_error: 53.1253\n",
      "Epoch 73/100\n",
      "27/27 [==============================] - 3s 118ms/step - loss: 6.3721 - mean_squared_error: 52.1301 - val_loss: 5.8462 - val_mean_squared_error: 44.9653\n",
      "Epoch 74/100\n",
      "27/27 [==============================] - 3s 118ms/step - loss: 6.4571 - mean_squared_error: 53.5453 - val_loss: 6.3239 - val_mean_squared_error: 52.4960\n",
      "Epoch 75/100\n",
      "27/27 [==============================] - 3s 118ms/step - loss: 6.1567 - mean_squared_error: 49.0608 - val_loss: 6.4122 - val_mean_squared_error: 55.0151\n",
      "Epoch 76/100\n",
      "27/27 [==============================] - 3s 118ms/step - loss: 6.2714 - mean_squared_error: 51.6097 - val_loss: 7.9587 - val_mean_squared_error: 79.7000\n",
      "Epoch 77/100\n",
      "27/27 [==============================] - 3s 117ms/step - loss: 6.6981 - mean_squared_error: 58.2162 - val_loss: 5.8064 - val_mean_squared_error: 44.4293\n",
      "Epoch 78/100\n",
      "27/27 [==============================] - 3s 117ms/step - loss: 6.2191 - mean_squared_error: 50.3272 - val_loss: 6.9617 - val_mean_squared_error: 63.2030\n",
      "Epoch 79/100\n",
      "27/27 [==============================] - 3s 118ms/step - loss: 6.5945 - mean_squared_error: 56.0591 - val_loss: 6.0709 - val_mean_squared_error: 48.3310\n",
      "Epoch 80/100\n",
      "27/27 [==============================] - 3s 118ms/step - loss: 6.0460 - mean_squared_error: 47.3934 - val_loss: 6.4257 - val_mean_squared_error: 55.8093\n",
      "Epoch 81/100\n",
      "27/27 [==============================] - 3s 117ms/step - loss: 6.1184 - mean_squared_error: 49.0203 - val_loss: 6.4536 - val_mean_squared_error: 54.1219\n",
      "Epoch 82/100\n",
      "27/27 [==============================] - 3s 117ms/step - loss: 6.0499 - mean_squared_error: 47.7151 - val_loss: 5.9755 - val_mean_squared_error: 45.9323\n",
      "Epoch 00082: early stopping\n"
     ]
    }
   ],
   "source": [
    "model_path=\"../models/base_model/reduceddim_model1.h5\"\n",
    "early_stopings = tf.keras.callbacks.EarlyStopping(monitor='val_loss', min_delta=0, patience=5, verbose=1, mode='min')\n",
    "checkpoint =  tf.keras.callbacks.ModelCheckpoint(model_path, monitor='val_loss', save_best_only=True, mode='min', verbose=0)\n",
    "callbacks=[early_stopings,checkpoint]\n",
    "\n",
    "history = model1.fit(X,pco2_images, epochs=100, validation_data=(X,pco2_images),workers=-1,batch_size=16,callbacks=callbacks)\n",
    "\n",
    "\n"
   ]
  },
  {
   "cell_type": "code",
   "execution_count": 10,
   "metadata": {},
   "outputs": [
    {
     "name": "stderr",
     "output_type": "stream",
     "text": [
      "2021-11-02 11:00:26.077016: I tensorflow/compiler/jit/xla_cpu_device.cc:41] Not creating XLA devices, tf_xla_enable_xla_devices not set\n",
      "2021-11-02 11:00:26.702063: W tensorflow/stream_executor/platform/default/dso_loader.cc:60] Could not load dynamic library 'libcuda.so.1'; dlerror: libcuda.so.1: cannot open shared object file: No such file or directory; LD_LIBRARY_PATH: /cm/shared/apps/slurm/current/lib64/slurm:/cm/shared/apps/slurm/current/lib64\n",
      "2021-11-02 11:00:26.827659: W tensorflow/stream_executor/cuda/cuda_driver.cc:326] failed call to cuInit: UNKNOWN ERROR (303)\n",
      "2021-11-02 11:00:26.978785: I tensorflow/stream_executor/cuda/cuda_diagnostics.cc:156] kernel driver does not appear to be running on this host (g024): /proc/driver/nvidia/version does not exist\n",
      "2021-11-02 11:00:27.789454: I tensorflow/core/platform/cpu_feature_guard.cc:142] This TensorFlow binary is optimized with oneAPI Deep Neural Network Library (oneDNN) to use the following CPU instructions in performance-critical operations:  AVX512F\n",
      "To enable them in other operations, rebuild TensorFlow with the appropriate compiler flags.\n",
      "2021-11-02 11:00:27.840980: I tensorflow/compiler/jit/xla_gpu_device.cc:99] Not creating XLA devices, tf_xla_enable_xla_devices not set\n",
      "2021-11-02 11:00:52.769371: I tensorflow/compiler/mlir/mlir_graph_optimization_pass.cc:116] None of the MLIR optimization passes are enabled (registered 2)\n",
      "2021-11-02 11:00:55.136298: I tensorflow/core/platform/profile_utils/cpu_utils.cc:112] CPU Frequency: 2900000000 Hz\n"
     ]
    },
    {
     "name": "stdout",
     "output_type": "stream",
     "text": [
      "1/1 [==============================] - 15s 15s/step\n"
     ]
    }
   ],
   "source": [
    "\n",
    "best_model = tf.keras.models.load_model('../models/base_model/reduceddim_model1.h5', custom_objects={'custom_rmse':custom_rmse})\n",
    "predicted_image=best_model.predict(X[419:421],verbose=1)"
   ]
  },
  {
   "cell_type": "markdown",
   "metadata": {},
   "source": [
    "### Model 1 Result"
   ]
  },
  {
   "cell_type": "code",
   "execution_count": 13,
   "metadata": {},
   "outputs": [
    {
     "data": {
      "image/png": "[encoded data removed]",
      "text/plain": [
       "<Figure size 432x288 with 3 Axes>"
      ]
     },
     "metadata": {
      "needs_background": "light"
     },
     "output_type": "display_data"
    },
    {
     "data": {
      "text/plain": [
       "<Figure size 432x288 with 0 Axes>"
      ]
     },
     "metadata": {},
     "output_type": "display_data"
    }
   ],
   "source": [
    "import matplotlib.pyplot as plt\n",
    "\n",
    "figure, axis = plt.subplots(1, 2)\n",
    "\n",
    "\n",
    "img=axis[0].imshow(np.flipud(np.squeeze(predicted_image[1])), cmap=\"viridis\", interpolation=\"nearest\")\n",
    "axis[0].set_title(\"prediction\")\n",
    "plt.colorbar(img,ax=axis)\n",
    "\n",
    "img1=axis[1].imshow(np.flipud(np.squeeze(pco2_images[419:421][1])), cmap=\"viridis\", interpolation=\"nearest\")\n",
    "axis[1].set_title(\"true\")\n",
    "\n",
    "plt.show()\n",
    "\n",
    "plt.savefig('../assets/comparison.png')"
   ]
  },
  {
   "cell_type": "code",
   "execution_count": 14,
   "metadata": {},
   "outputs": [
    {
     "data": {
      "image/png": "[encoded data removed]",
      "text/plain": [
       "<Figure size 432x288 with 2 Axes>"
      ]
     },
     "metadata": {
      "needs_background": "light"
     },
     "output_type": "display_data"
    }
   ],
   "source": [
    "diff=np.flipud(np.squeeze(predicted_image[1]-pco2_images[419:421][1]))\n",
    "plt.imshow(diff,cmap=\"viridis\", interpolation=\"nearest\")\n",
    "plt.colorbar()\n",
    "plt.title(\"Residual Plot\")\n",
    "plt.savefig('../assets/residual.png')"
   ]
  },
  {
   "cell_type": "markdown",
   "metadata": {},
   "source": [
    "## Model 2\n",
    "- slightly deeper and more complex\n",
    "\n",
    "Definitely does not like complex models\n",
    "filter > 128 : lost cause"
   ]
  },
  {
   "cell_type": "code",
   "execution_count": 124,
   "metadata": {},
   "outputs": [
    {
     "name": "stdout",
     "output_type": "stream",
     "text": [
      "Model: \"sequential\"\n",
      "_________________________________________________________________\n",
      "Layer (type)                 Output Shape              Param #   \n",
      "=================================================================\n",
      "conv2d (Conv2D)              (None, 180, 360, 32)      4032      \n",
      "_________________________________________________________________\n",
      "conv2d_1 (Conv2D)            (None, 180, 360, 32)      25632     \n",
      "_________________________________________________________________\n",
      "max_pooling2d (MaxPooling2D) (None, 60, 120, 32)       0         \n",
      "_________________________________________________________________\n",
      "dropout (Dropout)            (None, 60, 120, 32)       0         \n",
      "_________________________________________________________________\n",
      "conv2d_2 (Conv2D)            (None, 60, 120, 64)       51264     \n",
      "_________________________________________________________________\n",
      "conv2d_3 (Conv2D)            (None, 60, 120, 64)       102464    \n",
      "_________________________________________________________________\n",
      "max_pooling2d_1 (MaxPooling2 (None, 30, 60, 64)        0         \n",
      "_________________________________________________________________\n",
      "dropout_1 (Dropout)          (None, 30, 60, 64)        0         \n",
      "_________________________________________________________________\n",
      "conv2d_4 (Conv2D)            (None, 30, 60, 128)       204928    \n",
      "_________________________________________________________________\n",
      "conv2d_5 (Conv2D)            (None, 30, 60, 128)       409728    \n",
      "_________________________________________________________________\n",
      "max_pooling2d_2 (MaxPooling2 (None, 15, 30, 128)       0         \n",
      "_________________________________________________________________\n",
      "dropout_2 (Dropout)          (None, 15, 30, 128)       0         \n",
      "_________________________________________________________________\n",
      "conv2d_6 (Conv2D)            (None, 15, 30, 256)       819456    \n",
      "_________________________________________________________________\n",
      "conv2d_7 (Conv2D)            (None, 15, 30, 256)       1638656   \n",
      "_________________________________________________________________\n",
      "up_sampling2d (UpSampling2D) (None, 30, 60, 256)       0         \n",
      "_________________________________________________________________\n",
      "conv2d_8 (Conv2D)            (None, 30, 60, 128)       819328    \n",
      "_________________________________________________________________\n",
      "conv2d_9 (Conv2D)            (None, 30, 60, 128)       409728    \n",
      "_________________________________________________________________\n",
      "up_sampling2d_1 (UpSampling2 (None, 60, 120, 128)      0         \n",
      "_________________________________________________________________\n",
      "conv2d_10 (Conv2D)           (None, 60, 120, 64)       204864    \n",
      "_________________________________________________________________\n",
      "conv2d_11 (Conv2D)           (None, 60, 120, 64)       102464    \n",
      "_________________________________________________________________\n",
      "up_sampling2d_2 (UpSampling2 (None, 180, 360, 64)      0         \n",
      "_________________________________________________________________\n",
      "conv2d_12 (Conv2D)           (None, 180, 360, 32)      51232     \n",
      "_________________________________________________________________\n",
      "conv2d_13 (Conv2D)           (None, 180, 360, 2)       1602      \n",
      "_________________________________________________________________\n",
      "conv2d_14 (Conv2D)           (None, 180, 360, 1)       3         \n",
      "_________________________________________________________________\n",
      "reshape (Reshape)            (None, 180, 360)          0         \n",
      "=================================================================\n",
      "Total params: 4,845,381\n",
      "Trainable params: 4,845,381\n",
      "Non-trainable params: 0\n",
      "_________________________________________________________________\n"
     ]
    }
   ],
   "source": [
    "model2 = keras.models.Sequential([\n",
    "    DefaultConv2D(filters=16, input_shape=INPUT_SHAPE),\n",
    "    DefaultConv2D(filters=16),\n",
    "    keras.layers.MaxPooling2D(pool_size=3),\n",
    "    keras.layers.Dropout(0.35),\n",
    "\n",
    "    DefaultConv2D(filters=32),\n",
    "    DefaultConv2D(filters=32),\n",
    "    keras.layers.MaxPooling2D(pool_size=2),\n",
    "    keras.layers.Dropout(0.35),\n",
    "\n",
    "    DefaultConv2D(filters=64),\n",
    "    DefaultConv2D(filters=64),\n",
    "    keras.layers.MaxPooling2D(pool_size=2),\n",
    "    keras.layers.Dropout(0.35),\n",
    "    \n",
    "    DefaultConv2D(filters=128),\n",
    "    DefaultConv2D(filters=128),\n",
    "\n",
    "    keras.layers.UpSampling2D(size=2),\n",
    "    DefaultConv2D(filters=64),\n",
    "    DefaultConv2D(filters=64),\n",
    "    \n",
    "    keras.layers.UpSampling2D(size=2),\n",
    "    DefaultConv2D(filters=32),\n",
    "    DefaultConv2D(filters=32),\n",
    "\n",
    "    keras.layers.UpSampling2D(size=3),\n",
    "    DefaultConv2D(filters=16),\n",
    "    DefaultConv2D(filters=2),\n",
    "    DefaultConv2D(filters=1,kernel_size=1),\n",
    "    keras.layers.Reshape(OUTPUT_SHAPE)\n",
    "   \n",
    "])\n",
    "\n",
    "model2.summary()\n",
    "\n",
    "myLearnRate=0.001\n",
    "custom_opt = tf.keras.optimizers.Adam(learning_rate=myLearnRate)\n",
    "model2.compile(loss=custom_rmse, optimizer=custom_opt, metrics=[\"mean_squared_error\"])"
   ]
  },
  {
   "cell_type": "code",
   "execution_count": null,
   "metadata": {},
   "outputs": [],
   "source": [
    "model_path=\"../models/base_model/reduceddim_model2.h5\"\n",
    "early_stopings = tf.keras.callbacks.EarlyStopping(monitor='val_loss', min_delta=0, patience=7, verbose=1, mode='min')\n",
    "checkpoint =  tf.keras.callbacks.ModelCheckpoint(model_path, monitor='val_loss', save_best_only=True, mode='min', verbose=0)\n",
    "callbacks=[early_stopings,checkpoint]\n",
    "\n",
    "history = model2.fit(X,pco2_images, epochs=100, validation_data=(X,pco2_images),workers=-1,batch_size=16,callbacks=callbacks)\n"
   ]
  },
  {
   "cell_type": "code",
   "execution_count": 9,
   "metadata": {},
   "outputs": [
    {
     "name": "stderr",
     "output_type": "stream",
     "text": [
      "2021-11-02 10:16:52.539243: I tensorflow/compiler/jit/xla_cpu_device.cc:41] Not creating XLA devices, tf_xla_enable_xla_devices not set\n",
      "2021-11-02 10:16:53.233311: W tensorflow/stream_executor/platform/default/dso_loader.cc:60] Could not load dynamic library 'libcuda.so.1'; dlerror: libcuda.so.1: cannot open shared object file: No such file or directory; LD_LIBRARY_PATH: /cm/shared/apps/slurm/current/lib64/slurm:/cm/shared/apps/slurm/current/lib64\n",
      "2021-11-02 10:16:53.282198: W tensorflow/stream_executor/cuda/cuda_driver.cc:326] failed call to cuInit: UNKNOWN ERROR (303)\n",
      "2021-11-02 10:16:53.299813: I tensorflow/stream_executor/cuda/cuda_diagnostics.cc:156] kernel driver does not appear to be running on this host (g058): /proc/driver/nvidia/version does not exist\n",
      "2021-11-02 10:16:54.150887: I tensorflow/core/platform/cpu_feature_guard.cc:142] This TensorFlow binary is optimized with oneAPI Deep Neural Network Library (oneDNN) to use the following CPU instructions in performance-critical operations:  AVX512F\n",
      "To enable them in other operations, rebuild TensorFlow with the appropriate compiler flags.\n",
      "2021-11-02 10:16:54.178677: I tensorflow/compiler/jit/xla_gpu_device.cc:99] Not creating XLA devices, tf_xla_enable_xla_devices not set\n",
      "2021-11-02 10:17:08.453974: I tensorflow/compiler/mlir/mlir_graph_optimization_pass.cc:116] None of the MLIR optimization passes are enabled (registered 2)\n",
      "2021-11-02 10:17:10.031416: I tensorflow/core/platform/profile_utils/cpu_utils.cc:112] CPU Frequency: 2900000000 Hz\n"
     ]
    },
    {
     "name": "stdout",
     "output_type": "stream",
     "text": [
      "1/1 [==============================] - 13s 13s/step\n"
     ]
    }
   ],
   "source": [
    "best_model = tf.keras.models.load_model('../models/base_model/reduceddim_model2.h5', custom_objects={'custom_rmse':custom_rmse})\n",
    "predicted_image=best_model.predict(X[419:421],verbose=1)"
   ]
  },
  {
   "cell_type": "markdown",
   "metadata": {},
   "source": [
    "### Model 2 Result"
   ]
  },
  {
   "cell_type": "code",
   "execution_count": 10,
   "metadata": {},
   "outputs": [
    {
     "data": {
      "image/png": "[encoded data removed]",
      "text/plain": [
       "<Figure size 432x288 with 2 Axes>"
      ]
     },
     "metadata": {
      "needs_background": "light"
     },
     "output_type": "display_data"
    }
   ],
   "source": [
    "import matplotlib.pyplot as plt\n",
    "\n",
    "figure, axis = plt.subplots(1, 2)\n",
    "\n",
    "\n",
    "axis[0].imshow(np.squeeze(predicted_image[1]), cmap=\"gray\", interpolation=\"nearest\")\n",
    "axis[0].set_title(\"prediction\")\n",
    "axis[1].imshow(np.squeeze(pco2_images[419:421][1]), cmap=\"gray\", interpolation=\"nearest\")\n",
    "axis[1].set_title(\"true\")\n",
    "\n",
    "plt.show()"
   ]
  },
  {
   "cell_type": "markdown",
   "metadata": {},
   "source": [
    "## Testing Generalization Capability\n",
    "\n",
    "Using Validation data of other dataset"
   ]
  },
  {
   "cell_type": "code",
   "execution_count": 73,
   "metadata": {},
   "outputs": [],
   "source": [
    "val_dir_name=\"../data/data2\"\n",
    "\n",
    "chl,mld,sss,sst,u10,fg_co2,xco2,icefrac,patm,pco2=read_xarray(val_dir_name)"
   ]
  },
  {
   "cell_type": "code",
   "execution_count": 74,
   "metadata": {},
   "outputs": [
    {
     "name": "stdout",
     "output_type": "stream",
     "text": [
      "340.84854 407.2084\n",
      "\n",
      "xco2 shape: \n",
      "(421, 180, 360) (421, 180, 360)\n"
     ]
    },
    {
     "data": {
      "text/plain": [
       "(421, 180, 360, 5)"
      ]
     },
     "execution_count": 74,
     "metadata": {},
     "output_type": "execute_result"
    }
   ],
   "source": [
    "xco2_images=[]\n",
    "min_xco2=np.min(xco2.XCO2.data)\n",
    "max_xco2=np.max(xco2.XCO2.data)\n",
    "new_min=0\n",
    "new_max=255\n",
    "print(min_xco2, max_xco2)\n",
    "print()\n",
    "\n",
    "\n",
    "for i in xco2.XCO2.data:\n",
    "    num = (i-min_xco2)*(new_max-new_min)/(max_xco2-min_xco2)+new_min\n",
    "    tmp = (np.repeat(num,180*360)).reshape(180,-1)\n",
    "    xco2_images.append(tmp)\n",
    "\n",
    "xco2_images=np.array(xco2_images)\n",
    "\n",
    "print(\"xco2 shape: \")\n",
    "print(xco2_images.shape, chl.Chl.data.shape)\n",
    "\n",
    "\n",
    "chl_images=preprocess_image_reduced(chl.Chl.data)\n",
    "mld_images=preprocess_image_reduced(mld.MLD.data)\n",
    "sss_images=preprocess_image_reduced(sss.SSS.data)\n",
    "sst_images=preprocess_image_reduced(sst.SST.data)\n",
    "xco2_images=preprocess_image_reduced(xco2_images,xco2=True)\n",
    "pco2_images=preprocess_image_reduced(pco2.pCO2.data)\n",
    "\n",
    "X = np.stack((chl_images, mld_images, sss_images, sst_images,xco2_images), axis = 1)\n",
    "\n",
    "X=X.reshape((421,180,360,5))\n",
    "X.shape\n"
   ]
  },
  {
   "cell_type": "code",
   "execution_count": 75,
   "metadata": {},
   "outputs": [
    {
     "name": "stdout",
     "output_type": "stream",
     "text": [
      "14/14 [==============================] - 1s 45ms/step\n"
     ]
    }
   ],
   "source": [
    "predicted_image=best_model.predict(X,verbose=1)"
   ]
  },
  {
   "cell_type": "code",
   "execution_count": 76,
   "metadata": {},
   "outputs": [
    {
     "data": {
      "image/png": "[encoded data removed]",
      "text/plain": [
       "<Figure size 432x288 with 2 Axes>"
      ]
     },
     "metadata": {
      "needs_background": "light"
     },
     "output_type": "display_data"
    }
   ],
   "source": [
    "figure, axis = plt.subplots(1, 2)\n",
    "\n",
    "axis[0].imshow(np.squeeze(predicted_image[0]), cmap=\"gray\", interpolation=\"nearest\")\n",
    "axis[0].set_title(\"val_prediction\")\n",
    "axis[1].imshow(np.squeeze(pco2_images[0]), cmap=\"gray\", interpolation=\"nearest\")\n",
    "axis[1].set_title(\"val_true\")\n",
    "\n",
    "plt.show()"
   ]
  },
  {
   "cell_type": "code",
   "execution_count": 79,
   "metadata": {},
   "outputs": [
    {
     "name": "stdout",
     "output_type": "stream",
     "text": [
      "RMSE score!\n"
     ]
    },
    {
     "data": {
      "text/plain": [
       "7.15476599956448"
      ]
     },
     "execution_count": 79,
     "metadata": {},
     "output_type": "execute_result"
    }
   ],
   "source": [
    "print(\"RMSE score!\")\n",
    "np.sqrt(np.mean((predicted_image[1]-pco2_images[1])**2))"
   ]
  },
  {
   "cell_type": "code",
   "execution_count": null,
   "metadata": {},
   "outputs": [],
   "source": [
    "# generalization works pretty well"
   ]
  },
  {
   "cell_type": "markdown",
   "metadata": {},
   "source": [
    "## Getting PCO2 Prediction per Point"
   ]
  },
  {
   "cell_type": "code",
   "execution_count": 90,
   "metadata": {},
   "outputs": [],
   "source": [
    "def inverse_scale_image(arr, df):\n",
    "    \"\"\"\n",
    "    inverse_scale_image(arr, df):\n",
    "    - inverses the pco2 scaling\n",
    "    \"\"\"\n",
    "    old_min = np.min(df)\n",
    "    old_max = np.max(df)\n",
    "    output = arr*(old_max-old_min)/255 + old_min\n",
    "    return output\n",
    "\n",
    "def get_point_prediction(pred,lon,lan):\n",
    "    pco2_value = pred[lan][lon]\n",
    "    return pco2_value\n",
    "    "
   ]
  },
  {
   "cell_type": "code",
   "execution_count": 92,
   "metadata": {},
   "outputs": [],
   "source": [
    "actual=inverse_scale_image(predicted_image,pco2.pCO2.data)  "
   ]
  },
  {
   "cell_type": "code",
   "execution_count": 94,
   "metadata": {},
   "outputs": [
    {
     "name": "stdout",
     "output_type": "stream",
     "text": [
      "311.42273\n",
      "283.1524633156878\n"
     ]
    }
   ],
   "source": [
    "print(get_point_prediction(actual[0],100,100))\n",
    "\n",
    "print(get_point_prediction(pco2.pCO2.data[0],100,100))"
   ]
  },
  {
   "cell_type": "code",
   "execution_count": 109,
   "metadata": {},
   "outputs": [
    {
     "name": "stdout",
     "output_type": "stream",
     "text": [
      "Scaled back RMSE score:\n"
     ]
    },
    {
     "data": {
      "text/plain": [
       "18.921340052638598"
      ]
     },
     "execution_count": 109,
     "metadata": {},
     "output_type": "execute_result"
    }
   ],
   "source": [
    "print(\"Scaled back RMSE score:\")\n",
    "np.sqrt(np.mean((pco2.pCO2.data-actual)**2))"
   ]
  },
  {
   "cell_type": "code",
   "execution_count": 110,
   "metadata": {},
   "outputs": [
    {
     "name": "stdout",
     "output_type": "stream",
     "text": [
      "mean: 243.422023630907\n",
      "min: 107.25041201956655\n",
      "max: 561.4547637325538\n",
      "std: 108.200971868547\n"
     ]
    }
   ],
   "source": [
    "#pco2 data information\n",
    "print(\"mean:\",np.mean(pco2.pCO2.data[0]))\n",
    "print(\"min:\",np.min(pco2.pCO2.data[0]))\n",
    "print(\"max:\",np.max(pco2.pCO2.data[0]))\n",
    "print(\"std:\",np.std(pco2.pCO2.data[0]))"
   ]
  },
  {
   "cell_type": "code",
   "execution_count": null,
   "metadata": {},
   "outputs": [],
   "source": []
  }
 ],
 "metadata": {
  "kernelspec": {
   "display_name": "venv",
   "language": "python",
   "name": "venv"
  },
  "language_info": {
   "codemirror_mode": {
    "name": "ipython",
    "version": 3
   },
   "file_extension": ".py",
   "mimetype": "text/x-python",
   "name": "python",
   "nbconvert_exporter": "python",
   "pygments_lexer": "ipython3",
   "version": "3.8.5"
  },
  "toc-autonumbering": true,
  "toc-showcode": false,
  "toc-showmarkdowntxt": false,
  "toc-showtags": false
 },
 "nbformat": 4,
 "nbformat_minor": 4
}

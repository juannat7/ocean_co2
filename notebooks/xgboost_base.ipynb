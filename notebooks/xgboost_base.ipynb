{
 "cells": [
  {
   "cell_type": "markdown",
   "metadata": {},
   "source": [
    "## XG Boost Base\n",
    "\n",
    "### Data Preparation"
   ]
  },
  {
   "cell_type": "code",
   "execution_count": null,
   "metadata": {},
   "outputs": [],
   "source": [
    "import matplotlib.pyplot as plt\n",
    "import numpy as np\n",
    "import pandas as pd\n",
    "import xarray as xr\n",
    "import hvplot.xarray\n",
    "import sys\n",
    "\n",
    "%matplotlib inline\n",
    "\n",
    "from sklearn.model_selection import train_test_split\n",
    "from sklearn.metrics import mean_squared_error\n",
    "from sklearn.impute import SimpleImputer, KNNImpute\n",
    "\n",
    "sys.path.insert(0, '../src')\n",
    "\n",
    "from utils import df_to_xarray,read_xarray\n",
    "\n",
    "try:\n",
    "    import xgboost\n",
    "except ImportError as ex:\n",
    "    print(\"Error: the xgboost library is not installed.\")\n",
    "    xgboost = None"
   ]
  },
  {
   "cell_type": "code",
   "execution_count": null,
   "metadata": {},
   "outputs": [],
   "source": [
    "# Reading Data\n",
    "dir_name=\"../data/member_001\"\n",
    "chl,mld,sss,sst,u10,fg_co2,xco2,icefrac,patm,pco2=read_xarray(dir_name)"
   ]
  },
  {
   "cell_type": "code",
   "execution_count": null,
   "metadata": {},
   "outputs": [],
   "source": [
    "# Creating one singular df\n",
    "data_read=xr.merge([mld.MLD,mld.MLD_socat,sst.SST,sst.SST_socat,sss.SSS,sss.SSS_socat,xco2])\n",
    "tmp_data=data_read.to_dataframe().reset_index()\n",
    "\n",
    "tmp_data=tmp_data.drop(columns=['bnds','TLONG', 'TLAT', 'time_bnds'])\n",
    "\n",
    "chl_data=chl.Chl.to_dataframe().reset_index()\n",
    "chl_data_socat=chl.Chl_socat.to_dataframe().reset_index()\n",
    "pco2_data=pco2.pCO2.to_dataframe().reset_index()\n",
    "pco2_data_socat=pco2.pCO2_socat.to_dataframe().reset_index()\n",
    "\n",
    "tmp_data[\"Chl_socat\"]=chl_data_socat[\"Chl_socat\"]\n",
    "tmp_data[\"Chl\"]=chl_data[\"Chl\"]\n",
    "tmp_data[\"pCO2_socat\"]=pco2_data_socat[\"pCO2_socat\"]\n",
    "tmp_data[\"pCO2\"]=pco2_data[\"pCO2\"]\n",
    "\n",
    "features_socat = ['time', 'xlon', 'ylat','MLD_socat', 'SST_socat', 'SSS_socat','Chl_socat', 'XCO2','pCO2_socat']\n",
    "features = ['time', 'xlon', 'ylat','MLD','SST','SSS','Chl','XCO2','pCO2']\n",
    "\n",
    "# create separate dataframe for socat\n",
    "combined_socat=tmp_data.loc[:,features_socat]\n",
    "combined=tmp_data.loc[:,features]\n",
    "\n",
    "# drop rows where pco2 or pco2_socat == NA\n",
    "combined_socat.dropna(subset = [\"pCO2_socat\"], inplace=True)\n",
    "combined_socat= combined_socat[combined_socat['pCO2_socat']!=0]\n",
    "combined.dropna(subset = [\"pCO2\"], inplace=True)\n",
    "combined= combined[combined['pCO2']!=0]\n",
    "\n",
    "X_socat=combined_socat.iloc[:,3:-1]\n",
    "X=combined.iloc[:,3:-1]\n",
    "y=combined.loc[:,'pCO2']\n",
    "y_socat=combined_socat.loc[:,'pCO2_socat']\n"
   ]
  },
  {
   "cell_type": "markdown",
   "metadata": {},
   "source": [
    "### Imputation"
   ]
  },
  {
   "cell_type": "code",
   "execution_count": null,
   "metadata": {},
   "outputs": [],
   "source": [
    "# Two Different Imputation Methods\n",
    "# KNNImputer\n",
    "# imp = KNNImputer(n_neighbors=2)\n",
    "# X=imp.fit_transform(X)\n",
    "# X_socat=imp.fit_transform(X_socat)\n",
    "\n",
    "# SimpleImputer\n",
    "imp = SimpleImputer(missing_values=np.nan, strategy='mean')\n",
    "X=imp.fit_transform(X)\n",
    "X_socat=imp.fit_transform(X_socat)"
   ]
  },
  {
   "cell_type": "code",
   "execution_count": null,
   "metadata": {},
   "outputs": [],
   "source": [
    "X_train, X_test, y_train, y_test = train_test_split(X_socat, y_socat, test_size=0.3, random_state= 73)\n"
   ]
  },
  {
   "cell_type": "markdown",
   "metadata": {},
   "source": [
    "### XG Boost Modeling"
   ]
  },
  {
   "cell_type": "code",
   "execution_count": null,
   "metadata": {},
   "outputs": [],
   "source": [
    "from sklearn.model_selection import GridSearchCV\n",
    "\n",
    "parameters = {'nthread':[4], #when use hyperthread, xgboost may become slower\n",
    "              'learning_rate': [0.05, .07], #so called `eta` value\n",
    "              'n_estimators': [30,50,100]}\n",
    "\n",
    "\n",
    "if xgboost is not None: \n",
    "    xgb_reg = xgboost.XGBRegressor(random_state=42)\n",
    "    xgb_grid = GridSearchCV(xgb_reg,\n",
    "                        parameters,\n",
    "                        cv = 7,\n",
    "                        n_jobs = 5,\n",
    "                        verbose=True)\n",
    "    xgb_grid.fit(X_train, y_train)\n",
    "    "
   ]
  },
  {
   "cell_type": "markdown",
   "metadata": {},
   "source": [
    "### Final Result\n",
    "\n",
    "Test Set RMSE:28.43698261274142\n",
    "\n",
    "Whole Grid Rmse:37.709863752151215"
   ]
  },
  {
   "cell_type": "code",
   "execution_count": null,
   "metadata": {},
   "outputs": [],
   "source": [
    "final_model =xgb_grid.best_estimator_\n",
    "y_pred = final_model.predict(X_test)\n",
    "val_error = np.sqrt(mean_squared_error(y_test, y_pred,squared=True)) # Not shown\n",
    "print(\"Best Test RMSE:\", val_error)           "
   ]
  },
  {
   "cell_type": "code",
   "execution_count": null,
   "metadata": {},
   "outputs": [],
   "source": [
    "## Whole Grid\n",
    "y_pred=final_model.predict(X)\n",
    "final_rmse=np.sqrt(mean_squared_error(y, y_pred,squared=True))\n",
    "error=y-y_pred\n",
    "final_rmse"
   ]
  },
  {
   "cell_type": "markdown",
   "metadata": {},
   "source": [
    "### Visualization of the Residual"
   ]
  },
  {
   "cell_type": "code",
   "execution_count": 39,
   "metadata": {},
   "outputs": [],
   "source": [
    "import cmocean as cm"
   ]
  },
  {
   "cell_type": "code",
   "execution_count": 40,
   "metadata": {},
   "outputs": [],
   "source": [
    "combined[\"residual\"]=np.abs(error)\n",
    "result_data=combined[[\"time\",\"xlon\",\"ylat\",\"residual\"]]\n",
    "cols=result_data.columns.tolist()\n",
    "cols=[cols[0],cols[2],cols[1],cols[3]]\n",
    "result_data=result_data[cols]\n",
    "result_data.columns=['time','lat','lon','residual']\n",
    "\n"
   ]
  },
  {
   "cell_type": "code",
   "execution_count": 55,
   "metadata": {},
   "outputs": [],
   "source": [
    "ds=df_to_xarray(result_data)"
   ]
  },
  {
   "cell_type": "code",
   "execution_count": 54,
   "metadata": {},
   "outputs": [
    {
     "name": "stderr",
     "output_type": "stream",
     "text": [
      "<ipython-input-54-630af28a422d>:1: MatplotlibDeprecationWarning: shading='flat' when X and Y have the same dimensions as C is deprecated since 3.3.  Either specify the corners of the quadrilaterals with X and Y, or pass shading='auto', 'nearest' or 'gouraud', or set rcParams['pcolor.shading'].  This will become an error two minor releases later.\n",
      "  plt.pcolor(ds['lon'], ds['lat'], ds['residual'].mean('time'), vmin=280, vmax=440, cmap=cm.cm.thermal)\n"
     ]
    },
    {
     "data": {
      "text/plain": [
       "<matplotlib.colorbar.Colorbar at 0x15b871d30>"
      ]
     },
     "execution_count": 54,
     "metadata": {},
     "output_type": "execute_result"
    },
    {
     "data": {
      "image/png": "[encoded data removed]",
      "text/plain": [
       "<Figure size 432x288 with 2 Axes>"
      ]
     },
     "metadata": {
      "needs_background": "light"
     },
     "output_type": "display_data"
    }
   ],
   "source": [
    "plt.pcolor(ds['lon'], ds['lat'], ds['residual'].mean('time'), vmin=280, vmax=440, cmap=cm.cm.thermal)\n",
    "plt.colorbar()"
   ]
  },
  {
   "cell_type": "code",
   "execution_count": null,
   "metadata": {},
   "outputs": [],
   "source": [
    "a=ds.residual.hvplot(groupby=\"time\",width=512,height=512, widget_type='scrubber', widget_location='bottom')\n",
    "a"
   ]
  }
 ],
 "metadata": {
  "kernelspec": {
   "display_name": "gentinelab",
   "language": "python",
   "name": "gentinelab"
  },
  "language_info": {
   "codemirror_mode": {
    "name": "ipython",
    "version": 3
   },
   "file_extension": ".py",
   "mimetype": "text/x-python",
   "name": "python",
   "nbconvert_exporter": "python",
   "pygments_lexer": "ipython3",
   "version": "3.9.6"
  }
 },
 "nbformat": 4,
 "nbformat_minor": 4
}

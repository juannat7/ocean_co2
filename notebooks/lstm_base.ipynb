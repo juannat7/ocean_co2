{
 "cells": [
  {
   "cell_type": "markdown",
   "metadata": {},
   "source": [
    "## LSTM Base\n",
    "\n",
    "### Data Preparation\n",
    "- doesn't work, gotta reduce dimension somehow"
   ]
  },
  {
   "cell_type": "code",
   "execution_count": 4,
   "metadata": {},
   "outputs": [],
   "source": [
    "import matplotlib.pyplot as plt\n",
    "import numpy as np\n",
    "import pandas as pd\n",
    "import xarray as xr\n",
    "import hvplot.xarray\n",
    "import sys\n",
    "import tensorflow as tf\n",
    "\n",
    "%matplotlib inline\n",
    "\n",
    "from sklearn.ensemble import RandomForestRegressor\n",
    "from sklearn.model_selection import train_test_split\n",
    "from sklearn.pipeline import Pipeline\n",
    "from sklearn.preprocessing import StandardScaler\n",
    "from sklearn.metrics import mean_squared_error\n",
    "from sklearn.impute import SimpleImputer\n",
    "\n",
    "\n",
    "\n",
    "sys.path.insert(0, '../src')\n",
    "\n",
    "from utils import df_to_xarray,read_xarray"
   ]
  },
  {
   "cell_type": "code",
   "execution_count": null,
   "metadata": {},
   "outputs": [],
   "source": [
    "# Reading Data\n",
    "dir_name=\"../data/member_001\"\n",
    "chl,mld,sss,sst,u10,fg_co2,xco2,icefrac,patm,pco2=read_xarray(dir_name)\n",
    "\n",
    "# Creating one singular df\n",
    "data_read=xr.merge([mld.MLD,mld.MLD_socat,sst.SST,sst.SST_socat,sss.SSS,sss.SSS_socat,xco2])\n",
    "tmp_data=data_read.to_dataframe().reset_index()\n",
    "\n",
    "tmp_data=tmp_data.drop(columns=['bnds','TLONG', 'TLAT', 'time_bnds'])\n",
    "\n",
    "chl_data=chl.Chl.to_dataframe().reset_index()\n",
    "chl_data_socat=chl.Chl_socat.to_dataframe().reset_index()\n",
    "pco2_data=pco2.pCO2.to_dataframe().reset_index()\n",
    "pco2_data_socat=pco2.pCO2_socat.to_dataframe().reset_index()\n",
    "\n",
    "tmp_data[\"Chl_socat\"]=chl_data_socat[\"Chl_socat\"]\n",
    "tmp_data[\"Chl\"]=chl_data[\"Chl\"]\n",
    "tmp_data[\"pCO2_socat\"]=pco2_data_socat[\"pCO2_socat\"]\n",
    "tmp_data[\"pCO2\"]=pco2_data[\"pCO2\"]\n",
    "\n",
    "features_socat = ['time', 'xlon', 'ylat','MLD_socat', 'SST_socat', 'SSS_socat','Chl_socat', 'XCO2','pCO2_socat']\n",
    "features = ['time', 'xlon', 'ylat','MLD','SST','SSS','Chl','XCO2','pCO2']\n",
    "\n",
    "# create separate dataframe for socat\n",
    "combined_socat=tmp_data.loc[:,features_socat]\n",
    "combined=tmp_data.loc[:,features]\n",
    "\n",
    "# drop rows where pco2 or pco2_socat == NA\n",
    "combined_socat.dropna(subset = [\"pCO2_socat\"], inplace=True)\n",
    "combined_socat= combined_socat[combined_socat['pCO2_socat']!=0]\n",
    "combined.dropna(subset = [\"pCO2\"], inplace=True)\n",
    "combined= combined[combined['pCO2']!=0]\n",
    "\n",
    "\n"
   ]
  },
  {
   "cell_type": "code",
   "execution_count": null,
   "metadata": {},
   "outputs": [],
   "source": [
    "num_pipeline = Pipeline([\n",
    "        ('imputer', SimpleImputer(strategy=\"median\")),\n",
    "        ('std_scaler', StandardScaler()),\n",
    "    ])"
   ]
  },
  {
   "cell_type": "code",
   "execution_count": 4,
   "metadata": {},
   "outputs": [],
   "source": [
    "X_socat=combined_socat.iloc[:,3:-1]\n",
    "X=combined.iloc[:,3:-1]\n",
    "y=combined.loc[:,'pCO2']\n",
    "y_socat=combined_socat.loc[:,'pCO2_socat']"
   ]
  },
  {
   "cell_type": "code",
   "execution_count": 5,
   "metadata": {},
   "outputs": [],
   "source": [
    "X_socat=num_pipeline.fit_transform(X_socat)\n",
    "X=num_pipeline.fit_transform(X)"
   ]
  },
  {
   "cell_type": "code",
   "execution_count": 64,
   "metadata": {},
   "outputs": [],
   "source": [
    "def custom_ts_multi_data_prep(dataset, target, start, end, window, horizon):\n",
    "    X = []\n",
    "    y = []\n",
    "    start = start + window\n",
    "    if end is None:\n",
    "        end = len(dataset) - horizon\n",
    "    for i in range(start, end):\n",
    "        X.append(dataset[i-window: i])\n",
    "        y.append(target[i+1: i+1+horizon])\n",
    "    return np.array(X), np.array(y) "
   ]
  },
  {
   "cell_type": "code",
   "execution_count": 83,
   "metadata": {},
   "outputs": [],
   "source": [
    "hist_window = 12\n",
    "horizon = 3\n",
    "TRAIN_SPLIT = 70\n",
    "x_train, y_train = custom_ts_multi_data_prep(X_socat, y_socat, 0, TRAIN_SPLIT, hist_window, horizon)\n",
    "x_val, y_val = custom_ts_multi_data_prep(X_socat, y_socat, TRAIN_SPLIT, None, hist_window, horizon) \n"
   ]
  },
  {
   "cell_type": "code",
   "execution_count": 84,
   "metadata": {},
   "outputs": [
    {
     "name": "stdout",
     "output_type": "stream",
     "text": [
      "Multiple window of past history\n",
      "\n",
      "[[-0.07443586 -0.08843568 -0.10375611 -0.28424737 -2.73929349]\n",
      " [-0.07443586 -0.08843568 -0.10375611 -0.27110335 -2.73929349]\n",
      " [-0.07443586 -0.08843568 -0.10375611 -0.25744955 -2.73929349]\n",
      " [-0.07443586 -0.08843568 -0.10375611 -0.24426008 -2.73929349]\n",
      " [-0.07443586 -0.08843568 -0.10375611 -0.24815058 -2.73929349]\n",
      " [-0.07443586 -0.08843568 -0.10375611 -0.24281223 -2.73929349]\n",
      " [-0.07443586 -0.08843568 -0.10375611 -0.23316099 -2.73929349]\n",
      " [-0.07443586 -0.08843568 -0.10375611 -0.23267539 -2.73929349]\n",
      " [-0.07443586 -0.08843568 -0.10375611 -0.23931498 -2.73929349]\n",
      " [-0.07443586 -0.08843568 -0.10375611 -0.25832402 -2.73929349]\n",
      " [-0.07443586 -0.08843568 -0.10375611 -0.25770887 -2.73929349]\n",
      " [-0.07443586 -0.08843568 -0.10375611 -0.26804242 -2.73929349]]\n",
      "\n",
      " Target horizon\n",
      "\n",
      "[308.77089327 309.03954865 313.08428302]\n"
     ]
    }
   ],
   "source": [
    "print ('Multiple window of past history\\n')\n",
    "print(x_train[0])\n",
    "print ('\\n Target horizon\\n')\n",
    "print (y_train[0]) "
   ]
  },
  {
   "cell_type": "code",
   "execution_count": 102,
   "metadata": {},
   "outputs": [],
   "source": [
    "batch_size = 256\n",
    "buffer_size = 150\n",
    "train_data = tf.data.Dataset.from_tensor_slices((x_train, y_train))\n",
    "train_data = train_data.cache().shuffle(buffer_size).batch(batch_size).repeat()\n",
    "val_data = tf.data.Dataset.from_tensor_slices((x_val, y_val))\n",
    "val_data = val_data.batch(batch_size).repeat()"
   ]
  },
  {
   "cell_type": "code",
   "execution_count": 109,
   "metadata": {},
   "outputs": [
    {
     "name": "stdout",
     "output_type": "stream",
     "text": [
      "Model: \"sequential_7\"\n",
      "_________________________________________________________________\n",
      "Layer (type)                 Output Shape              Param #   \n",
      "=================================================================\n",
      "bidirectional_17 (Bidirectio (None, 12, 400)           329600    \n",
      "_________________________________________________________________\n",
      "dense_28 (Dense)             (None, 12, 20)            8020      \n",
      "_________________________________________________________________\n",
      "bidirectional_18 (Bidirectio (None, 12, 300)           205200    \n",
      "_________________________________________________________________\n",
      "dense_29 (Dense)             (None, 12, 20)            6020      \n",
      "_________________________________________________________________\n",
      "bidirectional_19 (Bidirectio (None, 200)               96800     \n",
      "_________________________________________________________________\n",
      "dense_30 (Dense)             (None, 20)                4020      \n",
      "_________________________________________________________________\n",
      "dropout_7 (Dropout)          (None, 20)                0         \n",
      "_________________________________________________________________\n",
      "dense_31 (Dense)             (None, 3)                 63        \n",
      "=================================================================\n",
      "Total params: 649,723\n",
      "Trainable params: 649,723\n",
      "Non-trainable params: 0\n",
      "_________________________________________________________________\n"
     ]
    }
   ],
   "source": [
    "lstm_model = tf.keras.models.Sequential([\n",
    "   tf.keras.layers.Bidirectional(tf.keras.layers.LSTM(200, return_sequences=True), \n",
    "                                input_shape=x_train.shape[-2:]),\n",
    "     tf.keras.layers.Dense(20, activation='relu'),\n",
    "     tf.keras.layers.Bidirectional(tf.keras.layers.LSTM(150,return_sequences=True)),\n",
    "     tf.keras.layers.Dense(20, activation='relu'),\n",
    "     tf.keras.layers.Bidirectional(tf.keras.layers.LSTM(100)),\n",
    "     tf.keras.layers.Dense(20, activation='relu'),\n",
    "     tf.keras.layers.Dropout(0.2),\n",
    "     tf.keras.layers.Dense(units=horizon),\n",
    " ])\n",
    "lstm_model.compile(optimizer='adam', loss='mse')\n",
    "lstm_model.summary() "
   ]
  },
  {
   "cell_type": "code",
   "execution_count": 110,
   "metadata": {},
   "outputs": [],
   "source": [
    "model_path = '../models/Bidirectional_LSTM_Multivariate.h5'\n",
    "\n",
    "early_stopings = tf.keras.callbacks.EarlyStopping(monitor='val_loss', min_delta=0, patience=10, verbose=1, mode='min')\n",
    "checkpoint =  tf.keras.callbacks.ModelCheckpoint(model_path, monitor='val_loss', save_best_only=True, mode='min', verbose=0)\n",
    "callbacks=[early_stopings,checkpoint] \n"
   ]
  },
  {
   "cell_type": "code",
   "execution_count": 111,
   "metadata": {},
   "outputs": [
    {
     "name": "stdout",
     "output_type": "stream",
     "text": [
      "Epoch 1/20\n",
      "30/30 [==============================] - 15s 309ms/step - loss: 87312.2734 - val_loss: 101178.5078\n",
      "Epoch 2/20\n",
      "30/30 [==============================] - 4s 153ms/step - loss: 73383.7812 - val_loss: 85375.8125\n",
      "Epoch 3/20\n",
      "30/30 [==============================] - 5s 159ms/step - loss: 59245.1797 - val_loss: 68170.0000\n",
      "Epoch 4/20\n",
      "30/30 [==============================] - 5s 161ms/step - loss: 43893.1758 - val_loss: 50740.5234\n",
      "Epoch 5/20\n",
      "30/30 [==============================] - 5s 158ms/step - loss: 30354.4688 - val_loss: 35062.4570\n",
      "Epoch 6/20\n",
      "30/30 [==============================] - 5s 162ms/step - loss: 18949.7637 - val_loss: 22694.0273\n",
      "Epoch 7/20\n",
      "30/30 [==============================] - 5s 162ms/step - loss: 11289.3701 - val_loss: 14175.4990\n",
      "Epoch 8/20\n",
      "30/30 [==============================] - 5s 168ms/step - loss: 6928.6729 - val_loss: 8984.2959\n",
      "Epoch 9/20\n",
      "30/30 [==============================] - 5s 173ms/step - loss: 4642.9307 - val_loss: 6137.3687\n",
      "Epoch 10/20\n",
      "30/30 [==============================] - 5s 174ms/step - loss: 3820.9194 - val_loss: 4616.9321\n",
      "Epoch 11/20\n",
      "30/30 [==============================] - 5s 181ms/step - loss: 3244.8777 - val_loss: 3817.9019\n",
      "Epoch 12/20\n",
      "30/30 [==============================] - 5s 184ms/step - loss: 2917.2178 - val_loss: 3371.1853\n",
      "Epoch 13/20\n",
      "30/30 [==============================] - 5s 184ms/step - loss: 2651.6299 - val_loss: 3160.5249\n",
      "Epoch 14/20\n",
      "30/30 [==============================] - 5s 180ms/step - loss: 2656.8567 - val_loss: 3049.5659\n",
      "Epoch 15/20\n",
      "30/30 [==============================] - 5s 174ms/step - loss: 2756.6748 - val_loss: 2961.5181\n",
      "Epoch 16/20\n",
      "30/30 [==============================] - 5s 172ms/step - loss: 2593.4429 - val_loss: 2897.5276\n",
      "Epoch 17/20\n",
      "30/30 [==============================] - 5s 170ms/step - loss: 2511.8557 - val_loss: 2896.3135\n",
      "Epoch 18/20\n",
      "30/30 [==============================] - 5s 183ms/step - loss: 2508.4783 - val_loss: 2883.2903\n",
      "Epoch 19/20\n",
      "30/30 [==============================] - 5s 185ms/step - loss: 2577.3577 - val_loss: 2826.3530\n",
      "Epoch 20/20\n",
      "30/30 [==============================] - 5s 170ms/step - loss: 2614.3284 - val_loss: 2821.7881\n"
     ]
    }
   ],
   "source": [
    "history = lstm_model.fit(train_data,epochs=20,steps_per_epoch=30,validation_data=val_data,validation_steps=50,verbose=1,callbacks=callbacks)"
   ]
  },
  {
   "cell_type": "code",
   "execution_count": 112,
   "metadata": {},
   "outputs": [
    {
     "data": {
      "image/png": "[encoded data removed]",
      "text/plain": [
       "<Figure size 1152x648 with 1 Axes>"
      ]
     },
     "metadata": {
      "needs_background": "light"
     },
     "output_type": "display_data"
    }
   ],
   "source": [
    "plt.figure(figsize=(16,9))\n",
    "plt.plot(history.history['loss'])\n",
    "plt.plot(history.history['val_loss'])\n",
    "plt.title('Model loss')\n",
    "plt.ylabel('loss')\n",
    "plt.xlabel('epoch')\n",
    "plt.legend(['train loss', 'validation loss'])\n",
    "plt.show() "
   ]
  },
  {
   "cell_type": "markdown",
   "metadata": {},
   "source": [
    "### Prediction"
   ]
  },
  {
   "cell_type": "code",
   "execution_count": null,
   "metadata": {},
   "outputs": [],
   "source": [
    "x_input, y_input = custom_ts_multi_data_prep(X, y, 0, None, hist_window, horizon)\n",
    "\n"
   ]
  },
  {
   "cell_type": "code",
   "execution_count": null,
   "metadata": {},
   "outputs": [],
   "source": [
    "print ('Multiple window of past history\\n')\n",
    "print(x_input[0])\n",
    "print ('\\n Target horizon\\n')\n",
    "print (y_input[0]) "
   ]
  },
  {
   "cell_type": "code",
   "execution_count": null,
   "metadata": {},
   "outputs": [],
   "source": [
    "y_predict=lstm.model(x_input,verbose=1)\n",
    "y_predict"
   ]
  }
 ],
 "metadata": {
  "kernelspec": {
   "display_name": "gentinelab",
   "language": "python",
   "name": "gentinelab"
  },
  "language_info": {
   "codemirror_mode": {
    "name": "ipython",
    "version": 3
   },
   "file_extension": ".py",
   "mimetype": "text/x-python",
   "name": "python",
   "nbconvert_exporter": "python",
   "pygments_lexer": "ipython3",
   "version": "3.9.6"
  }
 },
 "nbformat": 4,
 "nbformat_minor": 4
}

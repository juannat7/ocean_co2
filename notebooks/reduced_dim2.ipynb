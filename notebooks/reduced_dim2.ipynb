{
 "cells": [
  {
   "cell_type": "markdown",
   "metadata": {},
   "source": [
    "# Modifications\n",
    "\n",
    "Link to Interactive Notebook: \n",
    "https://colab.research.google.com/drive/1sbJTsgCsAQwCkGdLXK7EdgkaTpiTGBM1#scrollTo=T71qxHyh9p23\n",
    "\n",
    "1. Reduced Input Dimension\n",
    "2. Different handling of xco2\n",
    "3. Custom rmse function"
   ]
  },
  {
   "cell_type": "code",
   "execution_count": 1,
   "metadata": {},
   "outputs": [
    {
     "name": "stderr",
     "output_type": "stream",
     "text": [
      "/burg/glab/users/sk4973/venv/lib/python3.8/site-packages/xarray/backends/cfgrib_.py:27: UserWarning: Failed to load cfgrib - most likely there is a problem accessing the ecCodes library. Try `import cfgrib` to get the full error message\n",
      "  warnings.warn(\n",
      "2021-10-20 14:17:48.928794: I tensorflow/stream_executor/platform/default/dso_loader.cc:49] Successfully opened dynamic library libcudart.so.11.0\n"
     ]
    }
   ],
   "source": [
    "import imp\n",
    "import matplotlib.pyplot as plt\n",
    "import numpy as np\n",
    "import pandas as pd\n",
    "import xarray as xr\n",
    "import sys\n",
    "import tensorflow as tf\n",
    "from tensorflow import keras\n",
    "import os\n",
    "from sklearn.model_selection import train_test_split\n",
    "tf.random.set_seed(42)\n",
    "\n",
    "\n",
    "sys.path.insert(0, '../src')\n",
    "\n",
    "from utils import df_to_xarray,read_xarray,plot_image"
   ]
  },
  {
   "cell_type": "code",
   "execution_count": 2,
   "metadata": {},
   "outputs": [
    {
     "name": "stderr",
     "output_type": "stream",
     "text": [
      "/burg/glab/users/sk4973/venv/lib/python3.8/site-packages/xarray/backends/plugins.py:61: RuntimeWarning: Engine 'cfgrib' loading failed:\n",
      "Cannot find the ecCodes library\n",
      "  warnings.warn(f\"Engine {name!r} loading failed:\\n{ex}\", RuntimeWarning)\n"
     ]
    }
   ],
   "source": [
    "# Reading Data\n",
    "dir_name=\"../data/data1\"\n",
    "val_dir_name=\"../data/data2\"\n",
    "\n",
    "chl,mld,sss,sst,u10,fg_co2,xco2,icefrac,patm,pco2=read_xarray(dir_name)\n",
    "\n"
   ]
  },
  {
   "cell_type": "markdown",
   "metadata": {},
   "source": [
    "## Data Preprocessing"
   ]
  },
  {
   "cell_type": "code",
   "execution_count": 1,
   "metadata": {},
   "outputs": [],
   "source": [
    "def convert_nan(arr):\n",
    "    \"\"\"\n",
    "    convert_nan(arr)\n",
    "    - converts nan values to the lowest value (continents)\n",
    "    \"\"\"\n",
    "    nans=np.isnan(arr)\n",
    "    min_val=arr[~nans].min()\n",
    "    arr[nans]=min_val-1\n",
    "    return arr\n",
    "\n",
    "def add_dimension(arr):\n",
    "    \"\"\"\n",
    "    add_dimension(arr)\n",
    "    - add one dimension to axis=3\n",
    "    \"\"\"\n",
    "    images=np.expand_dims(arr, axis=3)\n",
    "    return images\n",
    "\n",
    "def scale_image(arr):\n",
    "    \"\"\"\n",
    "    scale_image(arr)\n",
    "    - scales numerical values from scale 0-255 for like an image\n",
    "    - have tried, regular normal/ min-max scaler -> does not work well\n",
    "    \"\"\"\n",
    "    ## Normal\n",
    "    #arr=(arr-np.mean(arr))/np.std(arr)\n",
    "    \n",
    "    ## Min-Max\n",
    "    # min_val=arr.min()\n",
    "    # max_val=arr.max()\n",
    "    # arr=arr/(min_val-max_val)\n",
    "\n",
    "    ## Image Scale\n",
    "    min_pixel = arr.min() \n",
    "    max_pixel = arr.max()\n",
    "    new_min = 0\n",
    "    new_max = 255\n",
    "    arr = (arr-min_pixel)*(255)/(max_pixel-min_pixel)+new_min \n",
    "    return arr\n",
    "  \n",
    "\n",
    "def preprocess_image_reduced(data,xco2=False):\n",
    "  \"\"\"\n",
    "  preprocess_image_reduced(data,xco2=False)\n",
    "  wrapper function for image preprocessing process\n",
    "  dimension reduced the output should be  (180,360,5)\n",
    "  \"\"\"\n",
    "  if xco2:\n",
    "    return data\n",
    "  return scale_image(convert_nan(data))"
   ]
  },
  {
   "cell_type": "code",
   "execution_count": 4,
   "metadata": {},
   "outputs": [
    {
     "name": "stdout",
     "output_type": "stream",
     "text": [
      "340.84854 407.2084\n",
      "\n",
      "xco2 shape: \n",
      "(421, 180, 360) (421, 180, 360)\n"
     ]
    }
   ],
   "source": [
    "## XCO2 Handling\n",
    "# - xco2 values are a constant value across the globe, \n",
    "# - creating an image layer with constant value for the model\n",
    "# - xco2 layer improves prediction\n",
    "\n",
    "xco2_images=[]\n",
    "min_xco2=np.min(xco2.XCO2.data)\n",
    "max_xco2=np.max(xco2.XCO2.data)\n",
    "new_min=0\n",
    "new_max=255\n",
    "print(min_xco2, max_xco2)\n",
    "print()\n",
    "\n",
    "\n",
    "for i in xco2.XCO2.data:\n",
    "    num = (i-min_xco2)*(new_max-new_min)/(max_xco2-min_xco2)+new_min\n",
    "    tmp = (np.repeat(num,180*360)).reshape(180,-1)\n",
    "    xco2_images.append(tmp)\n",
    "\n",
    "xco2_images=np.array(xco2_images)\n",
    "\n",
    "print(\"xco2 shape: \")\n",
    "print(xco2_images.shape, chl.Chl.data.shape)\n",
    "\n",
    "chl_images=preprocess_image_reduced(chl.Chl.data)\n",
    "mld_images=preprocess_image_reduced(mld.MLD.data)\n",
    "sss_images=preprocess_image_reduced(sss.SSS.data)\n",
    "sst_images=preprocess_image_reduced(sst.SST.data)\n",
    "xco2_images=preprocess_image_reduced(xco2_images,xco2=True)\n",
    "\n",
    "# need to preprocess pco2_image otherwise, the prediction does not work well\n",
    "pco2_images=preprocess_image_reduced(pco2.pCO2.data)\n",
    "\n",
    "# stacks image layer\n",
    "X = np.stack((chl_images, mld_images, sss_images, sst_images,xco2_images), axis = 1)"
   ]
  },
  {
   "cell_type": "code",
   "execution_count": 5,
   "metadata": {},
   "outputs": [
    {
     "data": {
      "text/plain": [
       "(421, 180, 360, 5)"
      ]
     },
     "execution_count": 5,
     "metadata": {},
     "output_type": "execute_result"
    }
   ],
   "source": [
    "# transform shapes to 421,180,360,5 | kernel = 5\n",
    "X=X.reshape((421,180,360,5))\n",
    "X.shape"
   ]
  },
  {
   "cell_type": "code",
   "execution_count": 6,
   "metadata": {},
   "outputs": [
    {
     "data": {
      "text/plain": [
       "(180, 360, 5)"
      ]
     },
     "execution_count": 6,
     "metadata": {},
     "output_type": "execute_result"
    }
   ],
   "source": [
    "INPUT_SHAPE=X[0].shape\n",
    "OUTPUT_SHAPE=pco2_images[0].shape\n",
    "\n",
    "INPUT_SHAPE"
   ]
  },
  {
   "cell_type": "markdown",
   "metadata": {},
   "source": [
    "## Modeling\n",
    "\n",
    "### Image Segmentation\n",
    "CNN - Unet\n",
    "\n",
    "Reference: \n",
    "https://towardsdatascience.com/understanding-semantic-segmentation-with-unet-6be4f42d4b47\n"
   ]
  },
  {
   "cell_type": "code",
   "execution_count": null,
   "metadata": {},
   "outputs": [],
   "source": [
    "import tensorflow.keras.backend as kb\n",
    "import tensorflow as tf\n",
    "from tensorflow.keras import backend as K\n",
    "\n",
    "def custom_rmse(y_true, y_pred):\n",
    "    \"\"\"\n",
    "    custom_rmse(y_true, y_pred)\n",
    "    calculates root square mean value with focusing only on the ocean\n",
    "    \"\"\"\n",
    "    y_pred = y_pred[y_true != 0]\n",
    "    y_true = y_true[y_true != 0]\n",
    "    \n",
    "    y_pred = tf.convert_to_tensor(y_pred)\n",
    "    y_true = tf.cast(y_true, y_pred.dtype)\n",
    "    \n",
    "    return K.sqrt(K.mean(tf.math.squared_difference(y_pred, y_true), axis=-1))"
   ]
  },
  {
   "cell_type": "markdown",
   "metadata": {},
   "source": [
    "### Base Model"
   ]
  },
  {
   "cell_type": "code",
   "execution_count": 8,
   "metadata": {},
   "outputs": [
    {
     "name": "stderr",
     "output_type": "stream",
     "text": [
      "2021-10-20 14:18:38.642106: I tensorflow/compiler/jit/xla_cpu_device.cc:41] Not creating XLA devices, tf_xla_enable_xla_devices not set\n",
      "2021-10-20 14:18:38.706420: I tensorflow/stream_executor/platform/default/dso_loader.cc:49] Successfully opened dynamic library libcuda.so.1\n",
      "2021-10-20 14:18:38.848695: I tensorflow/core/common_runtime/gpu/gpu_device.cc:1720] Found device 0 with properties: \n",
      "pciBusID: 0000:d8:00.0 name: Quadro RTX 8000 computeCapability: 7.5\n",
      "coreClock: 1.62GHz coreCount: 72 deviceMemorySize: 44.49GiB deviceMemoryBandwidth: 581.23GiB/s\n",
      "2021-10-20 14:18:38.848751: I tensorflow/stream_executor/platform/default/dso_loader.cc:49] Successfully opened dynamic library libcudart.so.11.0\n",
      "2021-10-20 14:18:39.872779: I tensorflow/stream_executor/platform/default/dso_loader.cc:49] Successfully opened dynamic library libcublas.so.11\n",
      "2021-10-20 14:18:39.872901: I tensorflow/stream_executor/platform/default/dso_loader.cc:49] Successfully opened dynamic library libcublasLt.so.11\n",
      "2021-10-20 14:18:41.652823: I tensorflow/stream_executor/platform/default/dso_loader.cc:49] Successfully opened dynamic library libcufft.so.10\n",
      "2021-10-20 14:18:43.029687: I tensorflow/stream_executor/platform/default/dso_loader.cc:49] Successfully opened dynamic library libcurand.so.10\n",
      "2021-10-20 14:18:45.293521: I tensorflow/stream_executor/platform/default/dso_loader.cc:49] Successfully opened dynamic library libcusolver.so.10\n",
      "2021-10-20 14:18:45.948994: I tensorflow/stream_executor/platform/default/dso_loader.cc:49] Successfully opened dynamic library libcusparse.so.11\n",
      "2021-10-20 14:18:46.039261: I tensorflow/stream_executor/platform/default/dso_loader.cc:49] Successfully opened dynamic library libcudnn.so.8\n",
      "2021-10-20 14:18:46.142907: I tensorflow/core/common_runtime/gpu/gpu_device.cc:1862] Adding visible gpu devices: 0\n",
      "2021-10-20 14:18:46.370343: I tensorflow/core/platform/cpu_feature_guard.cc:142] This TensorFlow binary is optimized with oneAPI Deep Neural Network Library (oneDNN) to use the following CPU instructions in performance-critical operations:  AVX512F\n",
      "To enable them in other operations, rebuild TensorFlow with the appropriate compiler flags.\n",
      "2021-10-20 14:18:46.384016: I tensorflow/compiler/jit/xla_gpu_device.cc:99] Not creating XLA devices, tf_xla_enable_xla_devices not set\n",
      "2021-10-20 14:18:46.387212: I tensorflow/core/common_runtime/gpu/gpu_device.cc:1720] Found device 0 with properties: \n",
      "pciBusID: 0000:d8:00.0 name: Quadro RTX 8000 computeCapability: 7.5\n",
      "coreClock: 1.62GHz coreCount: 72 deviceMemorySize: 44.49GiB deviceMemoryBandwidth: 581.23GiB/s\n",
      "2021-10-20 14:18:46.387260: I tensorflow/stream_executor/platform/default/dso_loader.cc:49] Successfully opened dynamic library libcudart.so.11.0\n",
      "2021-10-20 14:18:46.387283: I tensorflow/stream_executor/platform/default/dso_loader.cc:49] Successfully opened dynamic library libcublas.so.11\n",
      "2021-10-20 14:18:46.387293: I tensorflow/stream_executor/platform/default/dso_loader.cc:49] Successfully opened dynamic library libcublasLt.so.11\n",
      "2021-10-20 14:18:46.387302: I tensorflow/stream_executor/platform/default/dso_loader.cc:49] Successfully opened dynamic library libcufft.so.10\n",
      "2021-10-20 14:18:46.387311: I tensorflow/stream_executor/platform/default/dso_loader.cc:49] Successfully opened dynamic library libcurand.so.10\n",
      "2021-10-20 14:18:46.387320: I tensorflow/stream_executor/platform/default/dso_loader.cc:49] Successfully opened dynamic library libcusolver.so.10\n",
      "2021-10-20 14:18:46.387329: I tensorflow/stream_executor/platform/default/dso_loader.cc:49] Successfully opened dynamic library libcusparse.so.11\n",
      "2021-10-20 14:18:46.387339: I tensorflow/stream_executor/platform/default/dso_loader.cc:49] Successfully opened dynamic library libcudnn.so.8\n",
      "2021-10-20 14:18:46.390792: I tensorflow/core/common_runtime/gpu/gpu_device.cc:1862] Adding visible gpu devices: 0\n",
      "2021-10-20 14:18:46.410830: I tensorflow/stream_executor/platform/default/dso_loader.cc:49] Successfully opened dynamic library libcudart.so.11.0\n",
      "2021-10-20 14:18:52.862538: I tensorflow/core/common_runtime/gpu/gpu_device.cc:1261] Device interconnect StreamExecutor with strength 1 edge matrix:\n",
      "2021-10-20 14:18:52.862567: I tensorflow/core/common_runtime/gpu/gpu_device.cc:1267]      0 \n",
      "2021-10-20 14:18:52.862577: I tensorflow/core/common_runtime/gpu/gpu_device.cc:1280] 0:   N \n",
      "2021-10-20 14:18:52.899845: I tensorflow/core/common_runtime/gpu/gpu_device.cc:1406] Created TensorFlow device (/job:localhost/replica:0/task:0/device:GPU:0 with 42529 MB memory) -> physical GPU (device: 0, name: Quadro RTX 8000, pci bus id: 0000:d8:00.0, compute capability: 7.5)\n"
     ]
    },
    {
     "name": "stdout",
     "output_type": "stream",
     "text": [
      "Model: \"sequential\"\n",
      "_________________________________________________________________\n",
      "Layer (type)                 Output Shape              Param #   \n",
      "=================================================================\n",
      "conv2d (Conv2D)              (None, 180, 360, 64)      8064      \n",
      "_________________________________________________________________\n",
      "conv2d_1 (Conv2D)            (None, 180, 360, 64)      102464    \n",
      "_________________________________________________________________\n",
      "max_pooling2d (MaxPooling2D) (None, 60, 120, 64)       0         \n",
      "_________________________________________________________________\n",
      "dropout (Dropout)            (None, 60, 120, 64)       0         \n",
      "_________________________________________________________________\n",
      "conv2d_2 (Conv2D)            (None, 60, 120, 128)      204928    \n",
      "_________________________________________________________________\n",
      "conv2d_3 (Conv2D)            (None, 60, 120, 128)      409728    \n",
      "_________________________________________________________________\n",
      "up_sampling2d (UpSampling2D) (None, 180, 360, 128)     0         \n",
      "_________________________________________________________________\n",
      "conv2d_4 (Conv2D)            (None, 180, 360, 64)      204864    \n",
      "_________________________________________________________________\n",
      "conv2d_5 (Conv2D)            (None, 180, 360, 2)       3202      \n",
      "_________________________________________________________________\n",
      "conv2d_6 (Conv2D)            (None, 180, 360, 1)       3         \n",
      "_________________________________________________________________\n",
      "reshape (Reshape)            (None, 180, 360)          0         \n",
      "=================================================================\n",
      "Total params: 933,253\n",
      "Trainable params: 933,253\n",
      "Non-trainable params: 0\n",
      "_________________________________________________________________\n"
     ]
    }
   ],
   "source": [
    "from functools import partial\n",
    "\n",
    "DefaultConv2D = partial(keras.layers.Conv2D,\n",
    "                        kernel_size=5,activation='elu', padding=\"SAME\")\n",
    "\n",
    "\n",
    "base_model = keras.models.Sequential([\n",
    "    DefaultConv2D(filters=64, input_shape=INPUT_SHAPE),\n",
    "    DefaultConv2D(filters=64),\n",
    "    keras.layers.MaxPooling2D(pool_size=3),\n",
    "    keras.layers.Dropout(0.3),\n",
    "\n",
    "    DefaultConv2D(filters=128),\n",
    "    DefaultConv2D(filters=128),\n",
    "\n",
    "    keras.layers.UpSampling2D(size=3),\n",
    "    DefaultConv2D(filters=64),    \n",
    "    DefaultConv2D(filters=2),\n",
    "    DefaultConv2D(filters=1,kernel_size=1),\n",
    "    keras.layers.Reshape(OUTPUT_SHAPE)\n",
    "   \n",
    "])\n",
    "\n",
    "\n",
    "## BEST SO FAR ##\n",
    "\n",
    "base_model.summary()"
   ]
  },
  {
   "cell_type": "code",
   "execution_count": 35,
   "metadata": {},
   "outputs": [],
   "source": [
    "base_model.compile(loss=custom_rmse, optimizer=\"nadam\", metrics=[\"mean_squared_error\"])"
   ]
  },
  {
   "cell_type": "code",
   "execution_count": 40,
   "metadata": {},
   "outputs": [
    {
     "name": "stdout",
     "output_type": "stream",
     "text": [
      "Epoch 1/100\n",
      "27/27 [==============================] - 10s 252ms/step - loss: 17.4042 - mean_squared_error: 406.1633 - val_loss: 16.2281 - val_mean_squared_error: 354.3571\n",
      "Epoch 2/100\n",
      "27/27 [==============================] - 6s 235ms/step - loss: 15.6310 - mean_squared_error: 333.6253 - val_loss: 15.0217 - val_mean_squared_error: 317.3038\n",
      "Epoch 3/100\n",
      "27/27 [==============================] - 6s 234ms/step - loss: 14.9563 - mean_squared_error: 311.8530 - val_loss: 14.8145 - val_mean_squared_error: 303.2607\n",
      "Epoch 4/100\n",
      "27/27 [==============================] - 6s 235ms/step - loss: 14.3286 - mean_squared_error: 291.3686 - val_loss: 14.7039 - val_mean_squared_error: 308.2136\n",
      "Epoch 5/100\n",
      "27/27 [==============================] - 6s 235ms/step - loss: 14.0670 - mean_squared_error: 284.4785 - val_loss: 13.3456 - val_mean_squared_error: 267.5653\n",
      "Epoch 6/100\n",
      "27/27 [==============================] - 6s 235ms/step - loss: 13.7451 - mean_squared_error: 275.0276 - val_loss: 12.9218 - val_mean_squared_error: 254.4023\n",
      "Epoch 7/100\n",
      "27/27 [==============================] - 6s 234ms/step - loss: 13.4350 - mean_squared_error: 265.8985 - val_loss: 13.1042 - val_mean_squared_error: 254.4747\n",
      "Epoch 8/100\n",
      "27/27 [==============================] - 6s 234ms/step - loss: 12.9747 - mean_squared_error: 253.0157 - val_loss: 13.2885 - val_mean_squared_error: 259.8500\n",
      "Epoch 9/100\n",
      "27/27 [==============================] - 6s 234ms/step - loss: 12.4982 - mean_squared_error: 240.9720 - val_loss: 11.8698 - val_mean_squared_error: 226.6622\n",
      "Epoch 10/100\n",
      "27/27 [==============================] - 6s 235ms/step - loss: 12.4591 - mean_squared_error: 240.6517 - val_loss: 12.3393 - val_mean_squared_error: 241.4501\n",
      "Epoch 11/100\n",
      "27/27 [==============================] - 6s 235ms/step - loss: 12.1196 - mean_squared_error: 232.5896 - val_loss: 11.7938 - val_mean_squared_error: 228.3265\n",
      "Epoch 12/100\n",
      "27/27 [==============================] - 6s 235ms/step - loss: 12.1875 - mean_squared_error: 234.9605 - val_loss: 11.2781 - val_mean_squared_error: 213.2699\n",
      "Epoch 13/100\n",
      "27/27 [==============================] - 6s 235ms/step - loss: 11.8130 - mean_squared_error: 225.4769 - val_loss: 11.1142 - val_mean_squared_error: 208.9474\n",
      "Epoch 14/100\n",
      "27/27 [==============================] - 6s 235ms/step - loss: 11.7207 - mean_squared_error: 223.5880 - val_loss: 12.7885 - val_mean_squared_error: 250.7424\n",
      "Epoch 15/100\n",
      "27/27 [==============================] - 6s 235ms/step - loss: 11.4632 - mean_squared_error: 217.7590 - val_loss: 11.4318 - val_mean_squared_error: 217.2188\n",
      "Epoch 16/100\n",
      "27/27 [==============================] - 6s 235ms/step - loss: 11.4944 - mean_squared_error: 218.9585 - val_loss: 12.3768 - val_mean_squared_error: 237.0647\n",
      "Epoch 17/100\n",
      "27/27 [==============================] - 6s 235ms/step - loss: 11.2642 - mean_squared_error: 213.5961 - val_loss: 10.6667 - val_mean_squared_error: 200.1169\n",
      "Epoch 18/100\n",
      "27/27 [==============================] - 6s 235ms/step - loss: 10.9006 - mean_squared_error: 204.5242 - val_loss: 10.3632 - val_mean_squared_error: 193.1731\n",
      "Epoch 19/100\n",
      "27/27 [==============================] - 6s 236ms/step - loss: 11.2444 - mean_squared_error: 212.4713 - val_loss: 10.6144 - val_mean_squared_error: 197.9229\n",
      "Epoch 20/100\n",
      "27/27 [==============================] - 6s 235ms/step - loss: 10.6415 - mean_squared_error: 198.9655 - val_loss: 11.9365 - val_mean_squared_error: 229.0979\n",
      "Epoch 21/100\n",
      "27/27 [==============================] - 6s 234ms/step - loss: 10.6693 - mean_squared_error: 200.0107 - val_loss: 10.4352 - val_mean_squared_error: 193.7438\n",
      "Epoch 22/100\n",
      "27/27 [==============================] - 6s 235ms/step - loss: 10.5058 - mean_squared_error: 196.9242 - val_loss: 10.0913 - val_mean_squared_error: 192.4663\n",
      "Epoch 23/100\n",
      "27/27 [==============================] - 6s 234ms/step - loss: 10.4661 - mean_squared_error: 195.0703 - val_loss: 9.9493 - val_mean_squared_error: 183.0116\n",
      "Epoch 24/100\n",
      "27/27 [==============================] - 6s 234ms/step - loss: 10.4144 - mean_squared_error: 193.8063 - val_loss: 9.8777 - val_mean_squared_error: 182.7282\n",
      "Epoch 25/100\n",
      "27/27 [==============================] - 6s 234ms/step - loss: 10.0784 - mean_squared_error: 187.2480 - val_loss: 10.7475 - val_mean_squared_error: 201.5263\n",
      "Epoch 26/100\n",
      "27/27 [==============================] - 6s 234ms/step - loss: 10.1452 - mean_squared_error: 188.5936 - val_loss: 9.5356 - val_mean_squared_error: 176.8456\n",
      "Epoch 27/100\n",
      "27/27 [==============================] - 6s 235ms/step - loss: 10.0645 - mean_squared_error: 187.3924 - val_loss: 9.4514 - val_mean_squared_error: 176.3013\n",
      "Epoch 28/100\n",
      "27/27 [==============================] - 6s 235ms/step - loss: 10.1207 - mean_squared_error: 186.9129 - val_loss: 9.7059 - val_mean_squared_error: 180.4160\n",
      "Epoch 29/100\n",
      "27/27 [==============================] - 6s 235ms/step - loss: 9.8211 - mean_squared_error: 181.9649 - val_loss: 9.3059 - val_mean_squared_error: 171.3242\n",
      "Epoch 30/100\n",
      "27/27 [==============================] - 6s 234ms/step - loss: 9.9083 - mean_squared_error: 184.9936 - val_loss: 9.3653 - val_mean_squared_error: 175.3721\n",
      "Epoch 31/100\n",
      "27/27 [==============================] - 6s 234ms/step - loss: 9.7795 - mean_squared_error: 181.0758 - val_loss: 9.2834 - val_mean_squared_error: 172.4385\n",
      "Epoch 32/100\n",
      "27/27 [==============================] - 6s 235ms/step - loss: 9.7975 - mean_squared_error: 181.4017 - val_loss: 9.3111 - val_mean_squared_error: 176.9756\n",
      "Epoch 33/100\n",
      "27/27 [==============================] - 6s 235ms/step - loss: 9.7211 - mean_squared_error: 179.8031 - val_loss: 9.3511 - val_mean_squared_error: 176.0280\n",
      "Epoch 34/100\n",
      "27/27 [==============================] - 6s 235ms/step - loss: 9.7346 - mean_squared_error: 180.0089 - val_loss: 9.1654 - val_mean_squared_error: 169.1343\n",
      "Epoch 35/100\n",
      "27/27 [==============================] - 6s 235ms/step - loss: 9.4134 - mean_squared_error: 175.2339 - val_loss: 9.6102 - val_mean_squared_error: 178.4440\n",
      "Epoch 36/100\n",
      "27/27 [==============================] - 6s 235ms/step - loss: 9.3140 - mean_squared_error: 171.4598 - val_loss: 11.5264 - val_mean_squared_error: 223.5063\n",
      "Epoch 37/100\n",
      "27/27 [==============================] - 6s 235ms/step - loss: 9.5318 - mean_squared_error: 177.1950 - val_loss: 9.0585 - val_mean_squared_error: 170.9990\n",
      "Epoch 38/100\n",
      "27/27 [==============================] - 6s 235ms/step - loss: 9.2580 - mean_squared_error: 170.6998 - val_loss: 10.2432 - val_mean_squared_error: 190.8058\n",
      "Epoch 39/100\n",
      "27/27 [==============================] - 6s 234ms/step - loss: 9.4471 - mean_squared_error: 175.0411 - val_loss: 10.4155 - val_mean_squared_error: 196.0347\n",
      "Epoch 40/100\n",
      "27/27 [==============================] - 6s 235ms/step - loss: 9.6978 - mean_squared_error: 180.7974 - val_loss: 9.8303 - val_mean_squared_error: 182.1832\n",
      "Epoch 41/100\n",
      "27/27 [==============================] - 6s 234ms/step - loss: 9.2295 - mean_squared_error: 169.9872 - val_loss: 9.3175 - val_mean_squared_error: 172.5426\n",
      "Epoch 42/100\n",
      "27/27 [==============================] - 6s 235ms/step - loss: 9.2061 - mean_squared_error: 169.9490 - val_loss: 9.2860 - val_mean_squared_error: 174.8233\n",
      "Epoch 00042: early stopping\n"
     ]
    }
   ],
   "source": [
    "model_path=\"../models/base_model/base_model_new.h5\"\n",
    "early_stopings = tf.keras.callbacks.EarlyStopping(monitor='val_loss', min_delta=0, patience=5, verbose=1, mode='min')\n",
    "checkpoint =  tf.keras.callbacks.ModelCheckpoint(model_path, monitor='val_loss', save_best_only=True, mode='min', verbose=0)\n",
    "callbacks=[early_stopings,checkpoint]\n",
    "\n",
    "#batch size 32, 64 not as good\n",
    "# batch size 16 the best\n",
    "history = base_model.fit(X,pco2_images, epochs=100, validation_data=(X,pco2_images),workers=-1,batch_size=16,callbacks=callbacks)\n",
    "\n"
   ]
  },
  {
   "cell_type": "markdown",
   "metadata": {},
   "source": [
    "### Base Model Output"
   ]
  },
  {
   "cell_type": "code",
   "execution_count": 41,
   "metadata": {},
   "outputs": [
    {
     "name": "stdout",
     "output_type": "stream",
     "text": [
      "1/1 [==============================] - 0s 76ms/step\n"
     ]
    }
   ],
   "source": [
    "\n",
    "best_model = tf.keras.models.load_model('../models/base_model/base_model_new.h5', custom_objects={'custom_rmse':custom_rmse})\n",
    "predicted_image=best_model.predict(X[419:421],verbose=1)"
   ]
  },
  {
   "cell_type": "code",
   "execution_count": 42,
   "metadata": {},
   "outputs": [
    {
     "data": {
      "image/png": "[encoded data removed]",
      "text/plain": [
       "<Figure size 432x288 with 2 Axes>"
      ]
     },
     "metadata": {
      "needs_background": "light"
     },
     "output_type": "display_data"
    },
    {
     "data": {
      "text/plain": [
       "<Figure size 432x288 with 0 Axes>"
      ]
     },
     "metadata": {},
     "output_type": "display_data"
    }
   ],
   "source": [
    "import matplotlib.pyplot as plt\n",
    "\n",
    "figure, axis = plt.subplots(1, 2)\n",
    "\n",
    "\n",
    "axis[0].imshow(np.squeeze(predicted_image[1]), cmap=\"gray\", interpolation=\"nearest\")\n",
    "axis[0].set_title(\"prediction\")\n",
    "axis[1].imshow(np.squeeze(pco2_images[419:421][1]), cmap=\"gray\", interpolation=\"nearest\")\n",
    "axis[1].set_title(\"true\")\n",
    "\n",
    "plt.show()\n",
    "plt.savefig('base_model_prediction.png')"
   ]
  },
  {
   "cell_type": "code",
   "execution_count": 39,
   "metadata": {},
   "outputs": [
    {
     "data": {
      "image/png": "[encoded data removed]",
      "text/plain": [
       "<Figure size 432x288 with 1 Axes>"
      ]
     },
     "metadata": {
      "needs_background": "light"
     },
     "output_type": "display_data"
    }
   ],
   "source": [
    "difference=np.squeeze(pco2_images[419:421][1])-np.squeeze(predicted_image[0])\n",
    "plot_image(difference)"
   ]
  },
  {
   "cell_type": "markdown",
   "metadata": {},
   "source": [
    "## Model 1\n",
    "\n",
    "- more complex model with a greater parameters\n",
    "- need a different learning rate"
   ]
  },
  {
   "cell_type": "code",
   "execution_count": 9,
   "metadata": {},
   "outputs": [
    {
     "name": "stdout",
     "output_type": "stream",
     "text": [
      "Model: \"sequential_1\"\n",
      "_________________________________________________________________\n",
      "Layer (type)                 Output Shape              Param #   \n",
      "=================================================================\n",
      "conv2d_7 (Conv2D)            (None, 180, 360, 64)      8064      \n",
      "_________________________________________________________________\n",
      "conv2d_8 (Conv2D)            (None, 180, 360, 64)      102464    \n",
      "_________________________________________________________________\n",
      "max_pooling2d_1 (MaxPooling2 (None, 60, 120, 64)       0         \n",
      "_________________________________________________________________\n",
      "dropout_1 (Dropout)          (None, 60, 120, 64)       0         \n",
      "_________________________________________________________________\n",
      "conv2d_9 (Conv2D)            (None, 60, 120, 128)      204928    \n",
      "_________________________________________________________________\n",
      "conv2d_10 (Conv2D)           (None, 60, 120, 128)      409728    \n",
      "_________________________________________________________________\n",
      "max_pooling2d_2 (MaxPooling2 (None, 20, 40, 128)       0         \n",
      "_________________________________________________________________\n",
      "dropout_2 (Dropout)          (None, 20, 40, 128)       0         \n",
      "_________________________________________________________________\n",
      "conv2d_11 (Conv2D)           (None, 20, 40, 256)       819456    \n",
      "_________________________________________________________________\n",
      "conv2d_12 (Conv2D)           (None, 20, 40, 256)       1638656   \n",
      "_________________________________________________________________\n",
      "up_sampling2d_1 (UpSampling2 (None, 60, 120, 256)      0         \n",
      "_________________________________________________________________\n",
      "conv2d_13 (Conv2D)           (None, 60, 120, 128)      819328    \n",
      "_________________________________________________________________\n",
      "conv2d_14 (Conv2D)           (None, 60, 120, 128)      409728    \n",
      "_________________________________________________________________\n",
      "up_sampling2d_2 (UpSampling2 (None, 180, 360, 128)     0         \n",
      "_________________________________________________________________\n",
      "conv2d_15 (Conv2D)           (None, 180, 360, 64)      204864    \n",
      "_________________________________________________________________\n",
      "conv2d_16 (Conv2D)           (None, 180, 360, 2)       3202      \n",
      "_________________________________________________________________\n",
      "conv2d_17 (Conv2D)           (None, 180, 360, 1)       3         \n",
      "_________________________________________________________________\n",
      "reshape_1 (Reshape)          (None, 180, 360)          0         \n",
      "=================================================================\n",
      "Total params: 4,620,421\n",
      "Trainable params: 4,620,421\n",
      "Non-trainable params: 0\n",
      "_________________________________________________________________\n"
     ]
    }
   ],
   "source": [
    "\n",
    "#kernel_size matters, 2 does not work\n",
    "\n",
    "model1 = keras.models.Sequential([\n",
    "    DefaultConv2D(filters=64, input_shape=INPUT_SHAPE),\n",
    "    DefaultConv2D(filters=64),\n",
    "    keras.layers.MaxPooling2D(pool_size=3),\n",
    "    keras.layers.Dropout(0.3),\n",
    "\n",
    "    DefaultConv2D(filters=128),\n",
    "    DefaultConv2D(filters=128),\n",
    "    keras.layers.MaxPooling2D(pool_size=3),\n",
    "    keras.layers.Dropout(0.3),\n",
    "\n",
    "    DefaultConv2D(filters=256),\n",
    "    DefaultConv2D(filters=256),\n",
    "\n",
    "    keras.layers.UpSampling2D(size=3),\n",
    "    DefaultConv2D(filters=128),\n",
    "    DefaultConv2D(filters=128),\n",
    "\n",
    "    keras.layers.UpSampling2D(size=3),\n",
    "    DefaultConv2D(filters=64),\n",
    "    DefaultConv2D(filters=2),\n",
    "    DefaultConv2D(filters=1,kernel_size=1),\n",
    "    keras.layers.Reshape(OUTPUT_SHAPE)\n",
    "   \n",
    "])\n",
    "\n",
    "model1.summary()\n"
   ]
  },
  {
   "cell_type": "code",
   "execution_count": 10,
   "metadata": {},
   "outputs": [],
   "source": [
    "myLearnRate=0.05\n",
    "custom_opt = tf.keras.optimizers.Nadam(learning_rate=myLearnRate)\n",
    "model1.compile(loss=custom_rmse, optimizer=custom_opt, metrics=[\"mean_squared_error\"])"
   ]
  },
  {
   "cell_type": "code",
   "execution_count": null,
   "metadata": {},
   "outputs": [
    {
     "name": "stderr",
     "output_type": "stream",
     "text": [
      "2021-10-20 14:18:57.189688: I tensorflow/compiler/mlir/mlir_graph_optimization_pass.cc:116] None of the MLIR optimization passes are enabled (registered 2)\n",
      "2021-10-20 14:18:57.371196: I tensorflow/core/platform/profile_utils/cpu_utils.cc:112] CPU Frequency: 2900000000 Hz\n"
     ]
    },
    {
     "name": "stdout",
     "output_type": "stream",
     "text": [
      "Epoch 1/100\n"
     ]
    },
    {
     "name": "stderr",
     "output_type": "stream",
     "text": [
      "2021-10-20 14:19:01.045949: I tensorflow/stream_executor/platform/default/dso_loader.cc:49] Successfully opened dynamic library libcudnn.so.8\n",
      "2021-10-20 14:20:08.668319: I tensorflow/stream_executor/platform/default/dso_loader.cc:49] Successfully opened dynamic library libcublas.so.11\n",
      "2021-10-20 14:20:13.793567: I tensorflow/stream_executor/platform/default/dso_loader.cc:49] Successfully opened dynamic library libcublasLt.so.11\n"
     ]
    },
    {
     "name": "stdout",
     "output_type": "stream",
     "text": [
      "18/18 [==============================] - 106s 1s/step - loss: 62.6604 - mean_squared_error: 4463.1685 - val_loss: 61.4256 - val_mean_squared_error: 4274.9849\n",
      "Epoch 2/100\n",
      "18/18 [==============================] - 8s 446ms/step - loss: 60.6151 - mean_squared_error: 4162.9136 - val_loss: 59.7326 - val_mean_squared_error: 4022.5317\n",
      "Epoch 3/100\n",
      "18/18 [==============================] - 8s 444ms/step - loss: 59.6472 - mean_squared_error: 4006.7382 - val_loss: 58.0833 - val_mean_squared_error: 3782.5276\n",
      "Epoch 4/100\n",
      "18/18 [==============================] - 8s 444ms/step - loss: 57.6566 - mean_squared_error: 3722.9000 - val_loss: 56.5162 - val_mean_squared_error: 3559.9194\n",
      "Epoch 5/100\n",
      "18/18 [==============================] - 8s 444ms/step - loss: 56.0046 - mean_squared_error: 3490.6871 - val_loss: 55.0381 - val_mean_squared_error: 3354.9080\n",
      "Epoch 6/100\n",
      "18/18 [==============================] - 8s 444ms/step - loss: 54.6617 - mean_squared_error: 3302.9248 - val_loss: 53.6510 - val_mean_squared_error: 3166.9980\n",
      "Epoch 7/100\n",
      "18/18 [==============================] - 8s 444ms/step - loss: 52.7650 - mean_squared_error: 3054.9518 - val_loss: 52.3550 - val_mean_squared_error: 2995.4761\n",
      "Epoch 8/100\n",
      "18/18 [==============================] - 8s 444ms/step - loss: 51.8393 - mean_squared_error: 2932.2490 - val_loss: 51.1504 - val_mean_squared_error: 2839.7070\n",
      "Epoch 9/100\n",
      "18/18 [==============================] - 8s 444ms/step - loss: 51.1908 - mean_squared_error: 2846.3372 - val_loss: 50.0365 - val_mean_squared_error: 2698.9685\n",
      "Epoch 10/100\n",
      "18/18 [==============================] - 8s 444ms/step - loss: 49.8971 - mean_squared_error: 2681.1147 - val_loss: 49.0133 - val_mean_squared_error: 2572.6716\n",
      "Epoch 11/100\n",
      "18/18 [==============================] - 8s 444ms/step - loss: 48.8527 - mean_squared_error: 2550.5744 - val_loss: 48.0780 - val_mean_squared_error: 2459.9114\n",
      "Epoch 12/100\n",
      "18/18 [==============================] - 8s 445ms/step - loss: 47.9668 - mean_squared_error: 2445.4727 - val_loss: 47.2279 - val_mean_squared_error: 2359.8496\n",
      "Epoch 13/100\n",
      "18/18 [==============================] - 8s 444ms/step - loss: 47.2038 - mean_squared_error: 2355.0779 - val_loss: 46.4597 - val_mean_squared_error: 2271.6165\n",
      "Epoch 14/100\n",
      "18/18 [==============================] - 8s 444ms/step - loss: 46.3931 - mean_squared_error: 2260.5006 - val_loss: 45.7711 - val_mean_squared_error: 2194.4810\n",
      "Epoch 15/100\n",
      "18/18 [==============================] - 8s 443ms/step - loss: 45.5094 - mean_squared_error: 2168.1826 - val_loss: 45.1582 - val_mean_squared_error: 2127.5552\n",
      "Epoch 16/100\n",
      "18/18 [==============================] - 8s 444ms/step - loss: 44.9929 - mean_squared_error: 2107.1370 - val_loss: 44.6161 - val_mean_squared_error: 2069.9094\n",
      "Epoch 17/100\n",
      "18/18 [==============================] - 8s 444ms/step - loss: 44.3564 - mean_squared_error: 2044.8194 - val_loss: 44.1405 - val_mean_squared_error: 2020.7153\n",
      "Epoch 18/100\n",
      "18/18 [==============================] - 8s 443ms/step - loss: 43.8724 - mean_squared_error: 1995.7798 - val_loss: 43.7257 - val_mean_squared_error: 1979.0885\n",
      "Epoch 19/100\n",
      "18/18 [==============================] - 8s 445ms/step - loss: 43.5441 - mean_squared_error: 1960.9505 - val_loss: 43.3669 - val_mean_squared_error: 1944.2323\n",
      "Epoch 20/100\n",
      "18/18 [==============================] - 8s 444ms/step - loss: 43.3328 - mean_squared_error: 1938.0724 - val_loss: 43.0590 - val_mean_squared_error: 1915.3866\n",
      "Epoch 21/100\n",
      "18/18 [==============================] - 8s 444ms/step - loss: 43.1359 - mean_squared_error: 1921.5610 - val_loss: 42.7963 - val_mean_squared_error: 1891.7473\n",
      "Epoch 22/100\n",
      "18/18 [==============================] - 8s 443ms/step - loss: 42.9070 - mean_squared_error: 1901.0509 - val_loss: 42.5750 - val_mean_squared_error: 1872.7223\n",
      "Epoch 23/100\n",
      "18/18 [==============================] - 8s 445ms/step - loss: 42.6596 - mean_squared_error: 1879.7465 - val_loss: 42.3894 - val_mean_squared_error: 1857.5739\n",
      "Epoch 24/100\n",
      "18/18 [==============================] - 8s 443ms/step - loss: 42.4076 - mean_squared_error: 1858.2466 - val_loss: 42.2342 - val_mean_squared_error: 1845.6650\n",
      "Epoch 25/100\n",
      "18/18 [==============================] - 8s 444ms/step - loss: 42.2887 - mean_squared_error: 1853.8844 - val_loss: 42.1057 - val_mean_squared_error: 1836.5212\n",
      "Epoch 26/100\n",
      "18/18 [==============================] - 8s 444ms/step - loss: 42.0832 - mean_squared_error: 1834.9070 - val_loss: 41.9999 - val_mean_squared_error: 1829.6503\n",
      "Epoch 27/100\n",
      "18/18 [==============================] - 8s 445ms/step - loss: 41.8870 - mean_squared_error: 1819.6204 - val_loss: 41.9132 - val_mean_squared_error: 1824.6401\n",
      "Epoch 28/100\n",
      "18/18 [==============================] - 8s 445ms/step - loss: 41.8898 - mean_squared_error: 1825.2048 - val_loss: 41.8432 - val_mean_squared_error: 1821.1621\n",
      "Epoch 29/100\n",
      "18/18 [==============================] - 8s 444ms/step - loss: 42.0034 - mean_squared_error: 1835.2113 - val_loss: 41.7858 - val_mean_squared_error: 1818.8463\n",
      "Epoch 30/100\n",
      "18/18 [==============================] - 8s 444ms/step - loss: 41.6633 - mean_squared_error: 1809.9274 - val_loss: 41.7401 - val_mean_squared_error: 1817.4926\n",
      "Epoch 31/100\n",
      "18/18 [==============================] - 8s 445ms/step - loss: 41.8648 - mean_squared_error: 1829.6810 - val_loss: 41.7034 - val_mean_squared_error: 1816.8633\n",
      "Epoch 32/100\n",
      "10/18 [===============>..............] - ETA: 2s - loss: 41.6675 - mean_squared_error: 1813.9235"
     ]
    }
   ],
   "source": [
    "model_path=\"../models/base_model/reduceddim_model1.h5\"\n",
    "early_stopings = tf.keras.callbacks.EarlyStopping(monitor='val_loss', min_delta=0, patience=5, verbose=1, mode='min')\n",
    "checkpoint =  tf.keras.callbacks.ModelCheckpoint(model_path, monitor='val_loss', save_best_only=True, mode='min', verbose=0)\n",
    "callbacks=[early_stopings,checkpoint]\n",
    "\n",
    "history = model1.fit(X,pco2_images, epochs=100, validation_data=(X,pco2_images),workers=-1,batch_size=24,callbacks=callbacks)\n",
    "\n",
    "\n"
   ]
  },
  {
   "cell_type": "code",
   "execution_count": 29,
   "metadata": {},
   "outputs": [
    {
     "name": "stdout",
     "output_type": "stream",
     "text": [
      "1/1 [==============================] - 0s 106ms/step\n"
     ]
    }
   ],
   "source": [
    "\n",
    "best_model = tf.keras.models.load_model('../models/base_model/reduceddim_model1.h5', custom_objects={'custom_rmse':custom_rmse})\n",
    "predicted_image=best_model.predict(X[419:421],verbose=1)"
   ]
  },
  {
   "cell_type": "markdown",
   "metadata": {},
   "source": [
    "### Model 1 Result"
   ]
  },
  {
   "cell_type": "code",
   "execution_count": 30,
   "metadata": {},
   "outputs": [
    {
     "data": {
      "image/png": "[encoded data removed]",
      "text/plain": [
       "<Figure size 432x288 with 2 Axes>"
      ]
     },
     "metadata": {
      "needs_background": "light"
     },
     "output_type": "display_data"
    },
    {
     "data": {
      "text/plain": [
       "<Figure size 432x288 with 0 Axes>"
      ]
     },
     "metadata": {},
     "output_type": "display_data"
    }
   ],
   "source": [
    "import matplotlib.pyplot as plt\n",
    "\n",
    "figure, axis = plt.subplots(1, 2)\n",
    "\n",
    "\n",
    "axis[0].imshow(np.squeeze(predicted_image[1]), cmap=\"gray\", interpolation=\"nearest\")\n",
    "axis[0].set_title(\"prediction\")\n",
    "axis[1].imshow(np.squeeze(pco2_images[419:421][1]), cmap=\"gray\", interpolation=\"nearest\")\n",
    "axis[1].set_title(\"true\")\n",
    "\n",
    "plt.show()\n",
    "plt.savefig('model1_prediction.png')"
   ]
  },
  {
   "cell_type": "markdown",
   "metadata": {},
   "source": [
    "## Testing Generalization Capability\n",
    "\n",
    "Using Validation data of other dataset"
   ]
  },
  {
   "cell_type": "code",
   "execution_count": 28,
   "metadata": {},
   "outputs": [],
   "source": [
    "val_dir_name=\"../data/data2\"\n",
    "\n",
    "chl,mld,sss,sst,u10,fg_co2,xco2,icefrac,patm,pco2=read_xarray(val_dir_name)"
   ]
  },
  {
   "cell_type": "code",
   "execution_count": null,
   "metadata": {},
   "outputs": [],
   "source": [
    "xco2_images=[]\n",
    "min_xco2=np.min(xco2.XCO2.data)\n",
    "max_xco2=np.max(xco2.XCO2.data)\n",
    "new_min=0\n",
    "new_max=255\n",
    "print(min_xco2, max_xco2)\n",
    "print()\n",
    "\n",
    "\n",
    "for i in xco2.XCO2.data:\n",
    "    num = (i-min_xco2)*(new_max-new_min)/(max_xco2-min_xco2)+new_min\n",
    "    tmp = (np.repeat(num,180*360)).reshape(180,-1)\n",
    "    xco2_images.append(tmp)\n",
    "\n",
    "xco2_images=np.array(xco2_images)\n",
    "\n",
    "print(\"xco2 shape: \")\n",
    "print(xco2_images.shape, chl.Chl.data.shape)\n",
    "\n",
    "\n",
    "chl_images=preprocess_image_reduced(chl.Chl.data)\n",
    "mld_images=preprocess_image_reduced(mld.MLD.data)\n",
    "sss_images=preprocess_image_reduced(sss.SSS.data)\n",
    "sst_images=preprocess_image_reduced(sst.SST.data)\n",
    "xco2_images=preprocess_image_reduced(xco2_images,xco2=True)\n",
    "pco2_images=preprocess_image_reduced(pco2.pCO2.data)\n",
    "\n",
    "X = np.stack((chl_images, mld_images, sss_images, sst_images,xco2_images), axis = 1)\n",
    "\n",
    "X=X.reshape((421,180,360,5))\n",
    "X.shape\n"
   ]
  },
  {
   "cell_type": "code",
   "execution_count": null,
   "metadata": {},
   "outputs": [],
   "source": [
    "predicted_image=best_model.predict(X,verbose=1)"
   ]
  },
  {
   "cell_type": "code",
   "execution_count": null,
   "metadata": {},
   "outputs": [],
   "source": [
    "figure, axis = plt.subplots(1, 2)\n",
    "\n",
    "axis[0].imshow(np.squeeze(predicted_image[0]), cmap=\"gray\", interpolation=\"nearest\")\n",
    "axis[0].set_title(\"val_prediction\")\n",
    "axis[1].imshow(np.squeeze(pco2_images[0]), cmap=\"gray\", interpolation=\"nearest\")\n",
    "axis[1].set_title(\"val_true\")\n",
    "\n",
    "plt.show()"
   ]
  },
  {
   "cell_type": "code",
   "execution_count": null,
   "metadata": {},
   "outputs": [],
   "source": [
    "# generalization works pretty well"
   ]
  },
  {
   "cell_type": "code",
   "execution_count": null,
   "metadata": {},
   "outputs": [],
   "source": [
    "def inverse_scale_image(arr, df):\n",
    "    old_min = np.min(df)\n",
    "    old_max = np.max(df)\n",
    "    output = arr*(old_max-old_min)/255 + old_min\n",
    "    return output"
   ]
  },
  {
   "cell_type": "code",
   "execution_count": null,
   "metadata": {},
   "outputs": [],
   "source": []
  }
 ],
 "metadata": {
  "kernelspec": {
   "display_name": "venv",
   "language": "python",
   "name": "venv"
  },
  "language_info": {
   "codemirror_mode": {
    "name": "ipython",
    "version": 3
   },
   "file_extension": ".py",
   "mimetype": "text/x-python",
   "name": "python",
   "nbconvert_exporter": "python",
   "pygments_lexer": "ipython3",
   "version": "3.8.5"
  }
 },
 "nbformat": 4,
 "nbformat_minor": 4
}

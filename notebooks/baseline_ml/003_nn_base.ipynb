{
 "cells": [
  {
   "cell_type": "markdown",
   "metadata": {},
   "source": [
    "## NN Base\n",
    "\n",
    "### Data Preparation"
   ]
  },
  {
   "cell_type": "code",
   "execution_count": 2,
   "metadata": {},
   "outputs": [],
   "source": [
    "import matplotlib.pyplot as plt\n",
    "import numpy as np\n",
    "import pandas as pd\n",
    "import xarray as xr\n",
    "import hvplot.xarray\n",
    "import sys\n",
    "import tensorflow as tf\n",
    "\n",
    "%matplotlib inline\n",
    "\n",
    "from sklearn.ensemble import RandomForestRegressor\n",
    "from sklearn.model_selection import train_test_split\n",
    "from sklearn.pipeline import Pipeline\n",
    "from sklearn.preprocessing import StandardScaler\n",
    "from sklearn.metrics import mean_squared_error\n",
    "from sklearn.impute import SimpleImputer\n",
    "\n",
    "\n",
    "\n",
    "sys.path.insert(0, '../src')\n",
    "\n",
    "from utils import df_to_xarray,read_xarray"
   ]
  },
  {
   "cell_type": "code",
   "execution_count": 3,
   "metadata": {},
   "outputs": [],
   "source": [
    "# Reading Data\n",
    "dir_name=\"../data/member_001\"\n",
    "chl,mld,sss,sst,u10,fg_co2,xco2,icefrac,patm,pco2=read_xarray(dir_name)\n",
    "\n",
    "# Creating one singular df\n",
    "data_read=xr.merge([mld.MLD,mld.MLD_socat,sst.SST,sst.SST_socat,sss.SSS,sss.SSS_socat,xco2])\n",
    "tmp_data=data_read.to_dataframe().reset_index()\n",
    "\n",
    "tmp_data=tmp_data.drop(columns=['bnds','TLONG', 'TLAT', 'time_bnds'])\n",
    "\n",
    "chl_data=chl.Chl.to_dataframe().reset_index()\n",
    "chl_data_socat=chl.Chl_socat.to_dataframe().reset_index()\n",
    "pco2_data=pco2.pCO2.to_dataframe().reset_index()\n",
    "pco2_data_socat=pco2.pCO2_socat.to_dataframe().reset_index()\n",
    "\n",
    "tmp_data[\"Chl_socat\"]=chl_data_socat[\"Chl_socat\"]\n",
    "tmp_data[\"Chl\"]=chl_data[\"Chl\"]\n",
    "tmp_data[\"pCO2_socat\"]=pco2_data_socat[\"pCO2_socat\"]\n",
    "tmp_data[\"pCO2\"]=pco2_data[\"pCO2\"]\n",
    "\n",
    "features_socat = ['time', 'xlon', 'ylat','MLD_socat', 'SST_socat', 'SSS_socat','Chl_socat', 'XCO2','pCO2_socat']\n",
    "features = ['time', 'xlon', 'ylat','MLD','SST','SSS','Chl','XCO2','pCO2']\n",
    "\n",
    "# create separate dataframe for socat\n",
    "combined_socat=tmp_data.loc[:,features_socat]\n",
    "combined=tmp_data.loc[:,features]\n",
    "\n",
    "# drop rows where pco2 or pco2_socat == NA\n",
    "combined_socat.dropna(subset = [\"pCO2_socat\"], inplace=True)\n",
    "combined_socat= combined_socat[combined_socat['pCO2_socat']!=0]\n",
    "combined.dropna(subset = [\"pCO2\"], inplace=True)\n",
    "combined= combined[combined['pCO2']!=0]\n",
    "\n"
   ]
  },
  {
   "cell_type": "code",
   "execution_count": 4,
   "metadata": {},
   "outputs": [],
   "source": [
    "num_pipeline = Pipeline([\n",
    "        ('imputer', SimpleImputer(strategy=\"median\")),\n",
    "        ('std_scaler', StandardScaler()),\n",
    "    ])"
   ]
  },
  {
   "cell_type": "code",
   "execution_count": 5,
   "metadata": {},
   "outputs": [],
   "source": [
    "X_socat=combined_socat.iloc[:,3:-1]\n",
    "X=combined.iloc[:,3:-1]\n",
    "y=combined.loc[:,'pCO2']\n",
    "y_socat=combined_socat.loc[:,'pCO2_socat']"
   ]
  },
  {
   "cell_type": "code",
   "execution_count": 6,
   "metadata": {},
   "outputs": [],
   "source": [
    "X_socat=num_pipeline.fit_transform(X_socat)\n",
    "X=num_pipeline.fit_transform(X)"
   ]
  },
  {
   "cell_type": "code",
   "execution_count": 7,
   "metadata": {},
   "outputs": [],
   "source": [
    "def FFN_Model():\n",
    "    model = tf.keras.models.Sequential([\n",
    "    tf.keras.layers.BatchNormalization(),\n",
    "    tf.keras.layers.Dense(1024, activation=tf.nn.relu, kernel_initializer='glorot_normal'),\n",
    "    tf.keras.layers.Dropout(0.2),\n",
    "    tf.keras.layers.Dense(512, activation=tf.nn.relu, kernel_initializer='glorot_normal'),\n",
    "    tf.keras.layers.Dropout(0.1),\n",
    "    tf.keras.layers.Dense(1, kernel_initializer='normal')])\n",
    "\n",
    "    model.compile(optimizer='adam', loss='mean_squared_error', metrics=['mse'])\n",
    "    \n",
    "    return model"
   ]
  },
  {
   "cell_type": "code",
   "execution_count": 8,
   "metadata": {},
   "outputs": [],
   "source": [
    "X_train, X_test, y_train, y_test = train_test_split(X_socat, y_socat, test_size=0.3, random_state= 42)\n",
    "\n"
   ]
  },
  {
   "cell_type": "code",
   "execution_count": 10,
   "metadata": {},
   "outputs": [],
   "source": [
    "model_path = '../models/Simple_NN.h5'\n",
    "\n",
    "early_stopings = tf.keras.callbacks.EarlyStopping(monitor='val_loss', min_delta=0, patience=10, verbose=1, mode='min')\n",
    "checkpoint =  tf.keras.callbacks.ModelCheckpoint(model_path, monitor='val_loss', save_best_only=True, mode='min', verbose=0)\n",
    "callbacks=[early_stopings,checkpoint] "
   ]
  },
  {
   "cell_type": "code",
   "execution_count": 11,
   "metadata": {},
   "outputs": [
    {
     "name": "stdout",
     "output_type": "stream",
     "text": [
      "Epoch 1/60\n",
      "168/168 [==============================] - 4s 21ms/step - loss: 34373.4258 - mse: 34373.4258 - val_loss: 1711.7689 - val_mse: 1711.7689\n",
      "Epoch 2/60\n",
      "168/168 [==============================] - 4s 21ms/step - loss: 1814.5342 - mse: 1814.5342 - val_loss: 1425.2391 - val_mse: 1425.2391\n",
      "Epoch 3/60\n",
      "168/168 [==============================] - 4s 24ms/step - loss: 1650.1505 - mse: 1650.1505 - val_loss: 1290.2588 - val_mse: 1290.2588\n",
      "Epoch 4/60\n",
      "168/168 [==============================] - 4s 24ms/step - loss: 1584.1538 - mse: 1584.1538 - val_loss: 1268.3434 - val_mse: 1268.3434\n",
      "Epoch 5/60\n",
      "168/168 [==============================] - 4s 23ms/step - loss: 1572.9529 - mse: 1572.9529 - val_loss: 1269.3771 - val_mse: 1269.3771\n",
      "Epoch 6/60\n",
      "168/168 [==============================] - 4s 25ms/step - loss: 1535.9155 - mse: 1535.9155 - val_loss: 1249.6746 - val_mse: 1249.6746\n",
      "Epoch 7/60\n",
      "168/168 [==============================] - 4s 24ms/step - loss: 1532.2179 - mse: 1532.2179 - val_loss: 1241.7681 - val_mse: 1241.7681\n",
      "Epoch 8/60\n",
      "168/168 [==============================] - 4s 25ms/step - loss: 1517.8069 - mse: 1517.8069 - val_loss: 1265.8971 - val_mse: 1265.8971\n",
      "Epoch 9/60\n",
      "168/168 [==============================] - 4s 23ms/step - loss: 1521.6007 - mse: 1521.6007 - val_loss: 1277.9896 - val_mse: 1277.9896\n",
      "Epoch 10/60\n",
      "168/168 [==============================] - 4s 24ms/step - loss: 1496.2587 - mse: 1496.2587 - val_loss: 1254.2578 - val_mse: 1254.2578\n",
      "Epoch 11/60\n",
      "168/168 [==============================] - 4s 24ms/step - loss: 1495.3512 - mse: 1495.3512 - val_loss: 1274.3424 - val_mse: 1274.3424\n",
      "Epoch 12/60\n",
      "168/168 [==============================] - 4s 24ms/step - loss: 1478.9956 - mse: 1478.9956 - val_loss: 1243.2236 - val_mse: 1243.2236\n",
      "Epoch 13/60\n",
      "168/168 [==============================] - 4s 25ms/step - loss: 1473.3035 - mse: 1473.3035 - val_loss: 1237.7488 - val_mse: 1237.7488\n",
      "Epoch 14/60\n",
      "168/168 [==============================] - 4s 24ms/step - loss: 1467.3765 - mse: 1467.3765 - val_loss: 1238.1656 - val_mse: 1238.1656\n",
      "Epoch 15/60\n",
      "168/168 [==============================] - 4s 24ms/step - loss: 1476.0500 - mse: 1476.0500 - val_loss: 1251.3069 - val_mse: 1251.3069\n",
      "Epoch 16/60\n",
      "168/168 [==============================] - 4s 24ms/step - loss: 1463.6030 - mse: 1463.6030 - val_loss: 1246.0177 - val_mse: 1246.0177\n",
      "Epoch 17/60\n",
      "168/168 [==============================] - 5s 30ms/step - loss: 1465.0817 - mse: 1465.0817 - val_loss: 1236.3708 - val_mse: 1236.3708\n",
      "Epoch 18/60\n",
      "168/168 [==============================] - 4s 26ms/step - loss: 1465.4287 - mse: 1465.4287 - val_loss: 1247.7550 - val_mse: 1247.7550\n",
      "Epoch 19/60\n",
      "168/168 [==============================] - 4s 25ms/step - loss: 1456.1367 - mse: 1456.1367 - val_loss: 1241.1261 - val_mse: 1241.1261\n",
      "Epoch 20/60\n",
      "168/168 [==============================] - 4s 26ms/step - loss: 1452.3170 - mse: 1452.3170 - val_loss: 1234.1704 - val_mse: 1234.1704\n",
      "Epoch 21/60\n",
      "168/168 [==============================] - 5s 27ms/step - loss: 1448.8691 - mse: 1448.8691 - val_loss: 1272.2914 - val_mse: 1272.2914\n",
      "Epoch 22/60\n",
      "168/168 [==============================] - 4s 27ms/step - loss: 1447.9156 - mse: 1447.9156 - val_loss: 1243.4460 - val_mse: 1243.4460\n",
      "Epoch 23/60\n",
      "168/168 [==============================] - 4s 25ms/step - loss: 1445.6934 - mse: 1445.6934 - val_loss: 1226.8197 - val_mse: 1226.8197\n",
      "Epoch 24/60\n",
      "168/168 [==============================] - 4s 26ms/step - loss: 1453.8043 - mse: 1453.8043 - val_loss: 1273.1675 - val_mse: 1273.1675\n",
      "Epoch 25/60\n",
      "168/168 [==============================] - 4s 25ms/step - loss: 1453.6205 - mse: 1453.6205 - val_loss: 1259.1213 - val_mse: 1259.1213\n",
      "Epoch 26/60\n",
      "168/168 [==============================] - 4s 25ms/step - loss: 1445.1154 - mse: 1445.1154 - val_loss: 1242.0823 - val_mse: 1242.0823\n",
      "Epoch 27/60\n",
      "168/168 [==============================] - 4s 26ms/step - loss: 1440.5966 - mse: 1440.5966 - val_loss: 1231.5970 - val_mse: 1231.5970\n",
      "Epoch 28/60\n",
      "168/168 [==============================] - 4s 26ms/step - loss: 1442.7690 - mse: 1442.7690 - val_loss: 1228.5376 - val_mse: 1228.5376\n",
      "Epoch 29/60\n",
      "168/168 [==============================] - 5s 30ms/step - loss: 1437.9764 - mse: 1437.9764 - val_loss: 1245.4431 - val_mse: 1245.4431\n",
      "Epoch 30/60\n",
      "168/168 [==============================] - 5s 31ms/step - loss: 1443.0641 - mse: 1443.0641 - val_loss: 1224.4890 - val_mse: 1224.4890\n",
      "Epoch 31/60\n",
      "168/168 [==============================] - 5s 31ms/step - loss: 1447.3055 - mse: 1447.3055 - val_loss: 1239.0288 - val_mse: 1239.0288\n",
      "Epoch 32/60\n",
      "168/168 [==============================] - 5s 31ms/step - loss: 1445.8210 - mse: 1445.8210 - val_loss: 1226.1553 - val_mse: 1226.1553\n",
      "Epoch 33/60\n",
      "168/168 [==============================] - 5s 31ms/step - loss: 1440.6892 - mse: 1440.6892 - val_loss: 1231.2428 - val_mse: 1231.2428\n",
      "Epoch 34/60\n",
      "168/168 [==============================] - 5s 29ms/step - loss: 1437.1663 - mse: 1437.1663 - val_loss: 1232.3347 - val_mse: 1232.3347\n",
      "Epoch 35/60\n",
      "168/168 [==============================] - 4s 26ms/step - loss: 1432.4301 - mse: 1432.4301 - val_loss: 1235.5658 - val_mse: 1235.5658\n",
      "Epoch 36/60\n",
      "168/168 [==============================] - 4s 26ms/step - loss: 1434.1578 - mse: 1434.1578 - val_loss: 1226.5039 - val_mse: 1226.5039\n",
      "Epoch 37/60\n",
      "168/168 [==============================] - 4s 26ms/step - loss: 1434.6396 - mse: 1434.6396 - val_loss: 1221.2994 - val_mse: 1221.2994\n",
      "Epoch 38/60\n",
      "168/168 [==============================] - 4s 27ms/step - loss: 1431.3209 - mse: 1431.3209 - val_loss: 1231.6671 - val_mse: 1231.6671\n",
      "Epoch 39/60\n",
      "168/168 [==============================] - 5s 27ms/step - loss: 1431.0712 - mse: 1431.0712 - val_loss: 1217.1807 - val_mse: 1217.1807\n",
      "Epoch 40/60\n",
      "168/168 [==============================] - 5s 27ms/step - loss: 1436.0076 - mse: 1436.0076 - val_loss: 1220.9777 - val_mse: 1220.9777\n",
      "Epoch 41/60\n",
      "168/168 [==============================] - 4s 26ms/step - loss: 1431.9519 - mse: 1431.9519 - val_loss: 1217.4803 - val_mse: 1217.4803\n",
      "Epoch 42/60\n",
      "168/168 [==============================] - 4s 26ms/step - loss: 1429.2708 - mse: 1429.2708 - val_loss: 1240.2405 - val_mse: 1240.2405\n",
      "Epoch 43/60\n",
      "168/168 [==============================] - 4s 26ms/step - loss: 1429.1022 - mse: 1429.1022 - val_loss: 1217.8951 - val_mse: 1217.8951\n",
      "Epoch 44/60\n",
      "168/168 [==============================] - 5s 27ms/step - loss: 1418.9594 - mse: 1418.9594 - val_loss: 1213.3363 - val_mse: 1213.3363\n",
      "Epoch 45/60\n",
      "168/168 [==============================] - 4s 26ms/step - loss: 1429.6348 - mse: 1429.6348 - val_loss: 1231.9309 - val_mse: 1231.9309\n",
      "Epoch 46/60\n",
      "168/168 [==============================] - 4s 27ms/step - loss: 1421.4868 - mse: 1421.4868 - val_loss: 1212.8243 - val_mse: 1212.8243\n",
      "Epoch 47/60\n",
      "168/168 [==============================] - 4s 27ms/step - loss: 1423.8784 - mse: 1423.8784 - val_loss: 1225.7401 - val_mse: 1225.7401\n",
      "Epoch 48/60\n",
      "168/168 [==============================] - 4s 26ms/step - loss: 1431.3600 - mse: 1431.3600 - val_loss: 1212.7439 - val_mse: 1212.7439\n",
      "Epoch 49/60\n",
      "168/168 [==============================] - 4s 26ms/step - loss: 1421.9346 - mse: 1421.9346 - val_loss: 1208.4714 - val_mse: 1208.4714\n",
      "Epoch 50/60\n",
      "168/168 [==============================] - 4s 26ms/step - loss: 1422.8374 - mse: 1422.8374 - val_loss: 1218.5052 - val_mse: 1218.5052\n",
      "Epoch 51/60\n",
      "168/168 [==============================] - 4s 26ms/step - loss: 1426.3098 - mse: 1426.3098 - val_loss: 1209.3608 - val_mse: 1209.3608\n",
      "Epoch 52/60\n",
      "168/168 [==============================] - 4s 26ms/step - loss: 1418.4023 - mse: 1418.4023 - val_loss: 1207.5464 - val_mse: 1207.5464\n",
      "Epoch 53/60\n",
      "168/168 [==============================] - 4s 26ms/step - loss: 1418.9950 - mse: 1418.9950 - val_loss: 1210.8773 - val_mse: 1210.8773\n",
      "Epoch 54/60\n",
      "168/168 [==============================] - 4s 26ms/step - loss: 1416.6603 - mse: 1416.6603 - val_loss: 1214.7710 - val_mse: 1214.7710\n",
      "Epoch 55/60\n",
      "168/168 [==============================] - 5s 27ms/step - loss: 1408.5431 - mse: 1408.5431 - val_loss: 1208.2974 - val_mse: 1208.2974\n",
      "Epoch 56/60\n",
      "168/168 [==============================] - 5s 28ms/step - loss: 1418.7207 - mse: 1418.7207 - val_loss: 1215.7743 - val_mse: 1215.7743\n",
      "Epoch 57/60\n"
     ]
    },
    {
     "name": "stdout",
     "output_type": "stream",
     "text": [
      "168/168 [==============================] - 5s 27ms/step - loss: 1414.5304 - mse: 1414.5304 - val_loss: 1220.1362 - val_mse: 1220.1362\n",
      "Epoch 58/60\n",
      "168/168 [==============================] - 5s 27ms/step - loss: 1420.6199 - mse: 1420.6199 - val_loss: 1222.4070 - val_mse: 1222.4070\n",
      "Epoch 59/60\n",
      "168/168 [==============================] - 4s 26ms/step - loss: 1409.8978 - mse: 1409.8978 - val_loss: 1210.4222 - val_mse: 1210.4222\n",
      "Epoch 60/60\n",
      "168/168 [==============================] - 4s 26ms/step - loss: 1413.0670 - mse: 1413.0670 - val_loss: 1206.2867 - val_mse: 1206.2867\n"
     ]
    }
   ],
   "source": [
    "n_epochs = 60\n",
    "\n",
    "model = FFN_Model()\n",
    "history = model.fit(X_train, y_train, epochs=n_epochs, \n",
    "                    batch_size=1024, validation_data=(X_test, y_test),callbacks=callbacks)"
   ]
  },
  {
   "cell_type": "code",
   "execution_count": 13,
   "metadata": {},
   "outputs": [
    {
     "data": {
      "image/png": "[encoded data removed]",
      "text/plain": [
       "<Figure size 1152x648 with 1 Axes>"
      ]
     },
     "metadata": {
      "needs_background": "light"
     },
     "output_type": "display_data"
    }
   ],
   "source": [
    "plt.figure(figsize=(16,9))\n",
    "plt.plot(history.history['loss'])\n",
    "plt.plot(history.history['val_loss'])\n",
    "plt.title('Model loss')\n",
    "plt.ylabel('loss')\n",
    "plt.xlabel('epoch')\n",
    "plt.legend(['train loss', 'validation loss'])\n",
    "plt.show() "
   ]
  },
  {
   "cell_type": "markdown",
   "metadata": {},
   "source": [
    "### Prediction On Full"
   ]
  },
  {
   "cell_type": "code",
   "execution_count": 15,
   "metadata": {},
   "outputs": [
    {
     "name": "stdout",
     "output_type": "stream",
     "text": [
      "540328/540328 [==============================] - 457s 845us/step\n"
     ]
    }
   ],
   "source": [
    "y_hat=model.predict(X,verbose=1)"
   ]
  },
  {
   "cell_type": "code",
   "execution_count": 17,
   "metadata": {},
   "outputs": [],
   "source": [
    "final_test_rmse=np.sqrt(mean_squared_error(y, y_hat,squared=True))\n"
   ]
  },
  {
   "cell_type": "code",
   "execution_count": 18,
   "metadata": {},
   "outputs": [
    {
     "data": {
      "text/plain": [
       "39.49373641112186"
      ]
     },
     "execution_count": 18,
     "metadata": {},
     "output_type": "execute_result"
    }
   ],
   "source": [
    "final_test_rmse"
   ]
  },
  {
   "cell_type": "code",
   "execution_count": null,
   "metadata": {},
   "outputs": [],
   "source": []
  }
 ],
 "metadata": {
  "kernelspec": {
   "display_name": "gentinelab",
   "language": "python",
   "name": "gentinelab"
  },
  "language_info": {
   "codemirror_mode": {
    "name": "ipython",
    "version": 3
   },
   "file_extension": ".py",
   "mimetype": "text/x-python",
   "name": "python",
   "nbconvert_exporter": "python",
   "pygments_lexer": "ipython3",
   "version": "3.9.6"
  }
 },
 "nbformat": 4,
 "nbformat_minor": 4
}

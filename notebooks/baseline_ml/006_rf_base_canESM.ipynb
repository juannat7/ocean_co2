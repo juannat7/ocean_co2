{
 "cells": [
  {
   "cell_type": "markdown",
   "id": "1c854577-5d94-4012-814f-369563a3426a",
   "metadata": {},
   "source": [
    "# Creating baseline performance for CanESM on SOCAT\n"
   ]
  },
  {
   "cell_type": "code",
   "execution_count": 1,
   "id": "5af15ed2-0821-4e8e-af70-6a3142751bc0",
   "metadata": {},
   "outputs": [
    {
     "name": "stderr",
     "output_type": "stream",
     "text": [
      "/burg/glab/users/sk4973/venv2/lib/python3.8/site-packages/xarray/backends/cfgrib_.py:27: UserWarning: Failed to load cfgrib - most likely there is a problem accessing the ecCodes library. Try `import cfgrib` to get the full error message\n",
      "  warnings.warn(\n",
      "2022-10-10 12:59:50.001126: W tensorflow/stream_executor/platform/default/dso_loader.cc:60] Could not load dynamic library 'libcudart.so.11.0'; dlerror: libcudart.so.11.0: cannot open shared object file: No such file or directory; LD_LIBRARY_PATH: /cm/shared/apps/slurm/current/lib64/slurm:/cm/shared/apps/slurm/current/lib64\n",
      "2022-10-10 12:59:50.001776: I tensorflow/stream_executor/cuda/cudart_stub.cc:29] Ignore above cudart dlerror if you do not have a GPU set up on your machine.\n"
     ]
    }
   ],
   "source": [
    "import matplotlib.pyplot as plt\n",
    "import numpy as np\n",
    "import pandas as pd\n",
    "import xarray as xr\n",
    "#import hvplot.xarray\n",
    "import sys\n",
    "\n",
    "%matplotlib inline\n",
    "\n",
    "from sklearn.ensemble import RandomForestRegressor\n",
    "from sklearn.model_selection import cross_val_score\n",
    "\n",
    "from sklearn.model_selection import train_test_split\n",
    "from sklearn.metrics import mean_squared_error\n",
    "\n",
    "sys.path.insert(0, '../../src')\n",
    "\n",
    "from utils import df_to_xarray,read_xarray"
   ]
  },
  {
   "cell_type": "code",
   "execution_count": 2,
   "id": "3984ce9c-5d0e-4553-b5f6-2d3ff1e9a3d8",
   "metadata": {},
   "outputs": [
    {
     "name": "stderr",
     "output_type": "stream",
     "text": [
      "/burg/glab/users/sk4973/venv2/lib/python3.8/site-packages/xarray/backends/plugins.py:61: RuntimeWarning: Engine 'cfgrib' loading failed:\n",
      "ecCodes library not found using ['eccodes', 'libeccodes.so', 'libeccodes']\n",
      "  warnings.warn(f\"Engine {name!r} loading failed:\\n{ex}\", RuntimeWarning)\n",
      "/tmp/ipykernel_1972613/2487652354.py:29: RuntimeWarning: Converting a CFTimeIndex with dates from a non-standard calendar, 'noleap', to a pandas.DatetimeIndex, which uses dates from the standard calendar.  This may lead to subtle errors in operations that depend on the length of time between dates.\n",
      "  xco2['time'] = xco2.indexes['time'].to_datetimeindex().strftime(\"%Y-%m\")\n"
     ]
    }
   ],
   "source": [
    "can_data_path = \"../../data/can_001\"\n",
    "\n",
    "def read_xarray_can(dir_name=\"\"):\n",
    "    '''\n",
    "     read_xarray(dir)name) opens data and returns data in xarray format for each feature mpi\n",
    "    '''\n",
    "    date=\"198201-201712\"\n",
    "  \n",
    "    file_type =\"CanESM2r1r10\"\n",
    "    #Chl_2D_mon_CanESM2r1r10_1x1_198201-201712.nc\n",
    "        \n",
    "    chl = xr.open_dataset(f'{dir_name}/Chl_2D_mon_{file_type}_1x1_{date}.nc')\n",
    "\n",
    "    mld = xr.open_dataset(f'{dir_name}/MLD_2D_mon_{file_type}_1x1_{date}.nc')\n",
    "\n",
    "    sss = xr.open_dataset(f'{dir_name}/SSS_2D_mon_{file_type}_1x1_{date}.nc')\n",
    "\n",
    "    sst = xr.open_dataset(f'{dir_name}/SST_2D_mon_{file_type}_1x1_{date}.nc')\n",
    "\n",
    "    xco2 = xr.open_dataset(f'../../data/member_001/XCO2_1D_mon_CESM001_native_198201-201701.nc')\n",
    "\n",
    "    pco2 = xr.open_dataset(f'{dir_name}/pCO2_2D_mon_{file_type}_1x1_{date}.nc')\n",
    "\n",
    "    return chl,mld,sss,sst,xco2,pco2\n",
    "\n",
    "\n",
    "chl,mld,sss,sst,xco2,pco2 = read_xarray_can(can_data_path)\n",
    "\n",
    "xco2['time'] = xco2.indexes['time'].to_datetimeindex().strftime(\"%Y-%m\")"
   ]
  },
  {
   "cell_type": "code",
   "execution_count": 3,
   "id": "14439c1c-1fc2-4ff4-8ddb-f89f53c13c56",
   "metadata": {},
   "outputs": [],
   "source": [
    "xco2_df = pd.DataFrame()\n",
    "xco2_df[\"XCO2\"] = xco2.XCO2\n",
    "xco2_df.index = xco2.time\n",
    "\n",
    "data_read=xr.merge([mld.MLD,mld.MLD_socat,chl.Chl,chl.Chl_socat,sst.SST,sst.SST_socat,sss.SSS,sss.SSS_socat])\n",
    "\n",
    "\n",
    "tmp_data=data_read.to_dataframe().reset_index()\n",
    "tmp_data[\"time\"] = tmp_data[\"time\"].astype(\"string\")\n",
    "tmp_data[\"time\"] = pd.to_datetime(tmp_data[\"time\"], format='%Y-%m')\n",
    "tmp_data[\"time\"] = tmp_data[\"time\"].dt.strftime(\"%Y-%m\")"
   ]
  },
  {
   "cell_type": "code",
   "execution_count": 4,
   "id": "c035d857-e9e8-4470-9f25-32e2e1d9a537",
   "metadata": {},
   "outputs": [],
   "source": [
    "later_df = tmp_data\n",
    "later_df = later_df.set_index(['time','ylat','xlon'])\n",
    "pco2_data = pco2.pCO2.to_dataframe()\n",
    "pco2_data_socat = pco2.pCO2_socat.to_dataframe()\n",
    "later_df[\"pCO2_socat\"]=pco2_data_socat[\"pCO2_socat\"]\n",
    "later_df[\"pCO2\"]=pco2_data[\"pCO2\"]"
   ]
  },
  {
   "cell_type": "code",
   "execution_count": 5,
   "id": "692f8ad3-b22d-45ba-955e-1b852d07a5be",
   "metadata": {},
   "outputs": [],
   "source": [
    "tmp_data = xco2_df.join(tmp_data.set_index('time'),how = \"right\")\n",
    "tmp_data.dropna(subset = [\"XCO2\"], inplace=True)\n",
    "tmp_data = tmp_data.reset_index()"
   ]
  },
  {
   "cell_type": "code",
   "execution_count": 6,
   "id": "b0e69fd2-042f-48b7-954e-677b02bbd341",
   "metadata": {},
   "outputs": [],
   "source": [
    "tmp_data.columns = [\"time\",'XCO2','xlon', 'ylat','MLD','MLD_socat','Chl','Chl_socat','SST','SST_socat','SSS','SSS_socat']"
   ]
  },
  {
   "cell_type": "code",
   "execution_count": 7,
   "id": "2a164135-82b0-415b-a7e6-97d713780df7",
   "metadata": {},
   "outputs": [],
   "source": [
    "tmp_data.dropna(subset = [\"Chl\"], inplace=True)"
   ]
  },
  {
   "cell_type": "code",
   "execution_count": 8,
   "id": "efc47c08-a603-4dfc-b266-7e7f31b88c04",
   "metadata": {},
   "outputs": [],
   "source": [
    "pco2_data = pco2.pCO2.to_dataframe().reset_index()\n",
    "pco2_data_socat = pco2.pCO2_socat.to_dataframe().reset_index()\n",
    "\n",
    "tmp_data[\"pCO2_socat\"]=pco2_data_socat[\"pCO2_socat\"]\n",
    "tmp_data[\"pCO2\"]=pco2_data[\"pCO2\"]\n",
    "tmp_data=tmp_data.dropna(subset = [\"pCO2\"])"
   ]
  },
  {
   "cell_type": "code",
   "execution_count": 9,
   "id": "17cfccab-442b-460e-9302-1c4487f1bda2",
   "metadata": {},
   "outputs": [
    {
     "data": {
      "text/plain": [
       "time                 0\n",
       "XCO2                 0\n",
       "xlon                 0\n",
       "ylat                 0\n",
       "MLD           10316460\n",
       "MLD_socat     10316460\n",
       "Chl                  0\n",
       "Chl_socat            0\n",
       "SST           10316460\n",
       "SST_socat     10316460\n",
       "SSS                  0\n",
       "SSS_socat            0\n",
       "pCO2_socat           0\n",
       "pCO2                 0\n",
       "dtype: int64"
      ]
     },
     "execution_count": 9,
     "metadata": {},
     "output_type": "execute_result"
    }
   ],
   "source": [
    "tmp_data.isna().sum()"
   ]
  },
  {
   "cell_type": "code",
   "execution_count": 10,
   "id": "01862474-bf8b-4715-addf-afdb8929990a",
   "metadata": {},
   "outputs": [],
   "source": [
    "time = tmp_data.time"
   ]
  },
  {
   "cell_type": "code",
   "execution_count": 11,
   "id": "980e2aae-ae9f-47df-a3fc-2878f0285ca0",
   "metadata": {},
   "outputs": [],
   "source": [
    "\n",
    "features_socat = ['xlon', 'ylat','MLD_socat', 'SST_socat', 'SSS_socat','Chl_socat', 'XCO2','pCO2_socat']\n",
    "features = ['xlon', 'ylat','MLD','SST','SSS','Chl','XCO2','pCO2']\n",
    "\n",
    "# features_socat = ['xlon', 'ylat', 'SST_socat', 'SSS_socat','Chl_socat', 'XCO2','pCO2_socat']\n",
    "# features = ['xlon', 'ylat','SST','SSS','Chl','XCO2','pCO2']\n",
    "\n",
    "\n",
    "\n",
    "# create separate dataframe for socat\n",
    "combined_socat=tmp_data[features_socat]\n",
    "combined=tmp_data[features]"
   ]
  },
  {
   "cell_type": "code",
   "execution_count": 12,
   "id": "10cc2f7e-37d1-469f-b42b-7612a74f12b6",
   "metadata": {},
   "outputs": [],
   "source": [
    "X_socat=combined_socat.iloc[:,:-1]\n",
    "X=combined.iloc[:,:-1]\n",
    "y=combined.loc[:,'pCO2']\n",
    "y_socat=combined_socat.loc[:,'pCO2_socat']"
   ]
  },
  {
   "cell_type": "code",
   "execution_count": 13,
   "id": "d929e951-e450-4d04-bf57-1e4e93402f82",
   "metadata": {},
   "outputs": [],
   "source": [
    "from sklearn.impute import SimpleImputer\n",
    "imp = SimpleImputer(missing_values=np.nan, strategy='mean')\n",
    "X=imp.fit_transform(X)\n",
    "X_socat=imp.fit_transform(X_socat)"
   ]
  },
  {
   "cell_type": "code",
   "execution_count": 14,
   "id": "3eee7b53-1fc5-4cd6-8375-e1b74a22e056",
   "metadata": {},
   "outputs": [
    {
     "name": "stderr",
     "output_type": "stream",
     "text": [
      "[Parallel(n_jobs=-1)]: Using backend ThreadingBackend with 4 concurrent workers.\n"
     ]
    },
    {
     "name": "stdout",
     "output_type": "stream",
     "text": [
      "building tree 1 of 20building tree 2 of 20\n",
      "building tree 3 of 20\n",
      "\n",
      "building tree 4 of 20\n",
      "building tree 5 of 20\n",
      "building tree 6 of 20\n",
      "building tree 7 of 20\n",
      "building tree 8 of 20\n",
      "building tree 9 of 20\n",
      "building tree 10 of 20\n",
      "building tree 11 of 20\n",
      "building tree 12 of 20\n",
      "building tree 13 of 20\n",
      "building tree 14 of 20\n",
      "building tree 15 of 20\n",
      "building tree 16 of 20\n",
      "building tree 17 of 20\n",
      "building tree 18 of 20\n",
      "building tree 19 of 20\n",
      "building tree 20 of 20\n"
     ]
    },
    {
     "name": "stderr",
     "output_type": "stream",
     "text": [
      "[Parallel(n_jobs=-1)]: Done  20 out of  20 | elapsed:  6.8min remaining:    0.0s\n",
      "[Parallel(n_jobs=-1)]: Done  20 out of  20 | elapsed:  6.8min finished\n",
      "[Parallel(n_jobs=-1)]: Using backend LokyBackend with 4 concurrent workers.\n",
      "[Parallel(n_jobs=-1)]: Done  20 out of  20 | elapsed:  4.8min remaining:    0.0s\n",
      "[Parallel(n_jobs=-1)]: Done  20 out of  20 | elapsed:  4.8min finished\n",
      "[Parallel(n_jobs=4)]: Using backend ThreadingBackend with 4 concurrent workers.\n",
      "[Parallel(n_jobs=4)]: Done  20 out of  20 | elapsed:    2.3s remaining:    0.0s\n",
      "[Parallel(n_jobs=4)]: Done  20 out of  20 | elapsed:    2.3s finished\n",
      "[Parallel(n_jobs=-1)]: Using backend LokyBackend with 4 concurrent workers.\n",
      "[Parallel(n_jobs=-1)]: Done  20 out of  20 | elapsed:  4.8min remaining:    0.0s\n",
      "[Parallel(n_jobs=-1)]: Done  20 out of  20 | elapsed:  4.8min finished\n",
      "[Parallel(n_jobs=4)]: Using backend ThreadingBackend with 4 concurrent workers.\n",
      "[Parallel(n_jobs=4)]: Done  20 out of  20 | elapsed:    2.3s remaining:    0.0s\n",
      "[Parallel(n_jobs=4)]: Done  20 out of  20 | elapsed:    2.3s finished\n",
      "[Parallel(n_jobs=-1)]: Using backend LokyBackend with 4 concurrent workers.\n",
      "[Parallel(n_jobs=-1)]: Done  20 out of  20 | elapsed:  4.8min remaining:    0.0s\n",
      "[Parallel(n_jobs=-1)]: Done  20 out of  20 | elapsed:  4.8min finished\n",
      "[Parallel(n_jobs=4)]: Using backend ThreadingBackend with 4 concurrent workers.\n"
     ]
    },
    {
     "name": "stdout",
     "output_type": "stream",
     "text": [
      "Scores: [104.81674289 104.848233   104.51232237]\n",
      "Mean: 104.72576608358561\n",
      "Standard deviation: 0.15147402766395213\n"
     ]
    },
    {
     "name": "stderr",
     "output_type": "stream",
     "text": [
      "[Parallel(n_jobs=4)]: Done  20 out of  20 | elapsed:    2.3s remaining:    0.0s\n",
      "[Parallel(n_jobs=4)]: Done  20 out of  20 | elapsed:    2.3s finished\n"
     ]
    }
   ],
   "source": [
    "\n",
    "X_train, X_test, y_train, y_test = train_test_split(X, y, test_size=0.3, random_state= 73)\n",
    "\n",
    "regressor=RandomForestRegressor(n_estimators=20, random_state=42, verbose=3,n_jobs=-1, \n",
    "                                max_depth=10,warm_start= True)\n",
    "regressor.fit(X_train, y_train)\n",
    "\n",
    "def display_scores(scores):\n",
    "    print(\"Scores:\", scores)\n",
    "    print(\"Mean:\", scores.mean())\n",
    "    print(\"Standard deviation:\", scores.std())\n",
    "\n",
    "forest_scores = cross_val_score(regressor, X_train, y_train,\n",
    "                                scoring=\"neg_mean_squared_error\", cv=3)\n",
    "forest_rmse_scores = np.sqrt(-forest_scores)\n",
    "\n",
    "display_scores(forest_rmse_scores)"
   ]
  },
  {
   "cell_type": "code",
   "execution_count": 15,
   "id": "83126bef-f1c6-40d8-bf12-400e06e5cb19",
   "metadata": {},
   "outputs": [
    {
     "name": "stderr",
     "output_type": "stream",
     "text": [
      "[Parallel(n_jobs=4)]: Using backend ThreadingBackend with 4 concurrent workers.\n",
      "[Parallel(n_jobs=4)]: Done  20 out of  20 | elapsed:    2.9s remaining:    0.0s\n",
      "[Parallel(n_jobs=4)]: Done  20 out of  20 | elapsed:    2.9s finished\n"
     ]
    },
    {
     "data": {
      "text/plain": [
       "104.90130022214105"
      ]
     },
     "execution_count": 15,
     "metadata": {},
     "output_type": "execute_result"
    }
   ],
   "source": [
    "y_pred=regressor.predict(X_test)\n",
    "test_mse=mean_squared_error(y_test, y_pred,squared=True)\n",
    "np.sqrt(test_mse)"
   ]
  },
  {
   "cell_type": "code",
   "execution_count": 16,
   "id": "97e1219e-54d6-4904-84cd-8cf97dd6d4b3",
   "metadata": {},
   "outputs": [
    {
     "name": "stderr",
     "output_type": "stream",
     "text": [
      "[Parallel(n_jobs=4)]: Using backend ThreadingBackend with 4 concurrent workers.\n",
      "[Parallel(n_jobs=4)]: Done  20 out of  20 | elapsed:    3.3s remaining:    0.0s\n",
      "[Parallel(n_jobs=4)]: Done  20 out of  20 | elapsed:    3.3s finished\n"
     ]
    },
    {
     "data": {
      "text/plain": [
       "104.87193037155619"
      ]
     },
     "execution_count": 16,
     "metadata": {},
     "output_type": "execute_result"
    }
   ],
   "source": [
    "y_pred=regressor.predict(X)\n",
    "final_test_rmse=np.sqrt(mean_squared_error(y, y_pred,squared=True))\n",
    "error=y-y_pred\n",
    "\n",
    "final_test_rmse"
   ]
  },
  {
   "cell_type": "code",
   "execution_count": 17,
   "id": "760501e9-2d3e-44f9-8d0f-4eab858b8e89",
   "metadata": {},
   "outputs": [],
   "source": [
    "## Full Data - CanESM\n",
    "# rmse with  :  104.87 uatm\n",
    "\n",
    "## Socat \n",
    "# # rmse with MLD : on 34.5 uatm in tracks /full  286.7 uatm with coordinate"
   ]
  },
  {
   "cell_type": "code",
   "execution_count": 18,
   "id": "8bdb8636-28d7-4f81-a6df-04f8bce7e373",
   "metadata": {},
   "outputs": [],
   "source": [
    "#predicted_df = pd.DataFrame(X, columns = ['xlon', 'ylat','Chl','SST','SSS','XCO2'])\n",
    "predicted_df = pd.DataFrame(X, columns = ['xlon', 'ylat','MLD','SST','SSS','Chl','XCO2'])\n",
    "predicted_df[\"pred\"] = y_pred\n",
    "predicted_df[\"true\"] = y.to_numpy()"
   ]
  },
  {
   "cell_type": "code",
   "execution_count": 19,
   "id": "dc7ed27a-2e6e-4a1d-bbaa-5066918e2705",
   "metadata": {},
   "outputs": [],
   "source": [
    "time=time.reset_index(drop=True)"
   ]
  },
  {
   "cell_type": "code",
   "execution_count": 20,
   "id": "a76eb6f6-9da5-4521-adca-095aeca795f6",
   "metadata": {},
   "outputs": [],
   "source": [
    "predicted_df[\"time\"]= time\n",
    "predicted_df = predicted_df.set_index(['time','ylat','xlon'])"
   ]
  },
  {
   "cell_type": "code",
   "execution_count": 21,
   "id": "69a006e2-01c8-4288-a68c-220824f83ee1",
   "metadata": {},
   "outputs": [],
   "source": [
    "new_df = later_df\n",
    "row_ind = predicted_df.index\n",
    "new_df.loc[row_ind,\"pred\"] = predicted_df[\"pred\"]"
   ]
  },
  {
   "cell_type": "code",
   "execution_count": 22,
   "id": "cafcba3f-e0df-41f6-881c-6764fb4ca80c",
   "metadata": {},
   "outputs": [],
   "source": [
    "new_df[\"res\"] = new_df[\"pred\"] - new_df[\"pCO2\"]"
   ]
  },
  {
   "cell_type": "code",
   "execution_count": 23,
   "id": "b0dc928c-81c5-44d0-9069-97646538625f",
   "metadata": {},
   "outputs": [],
   "source": [
    "new_df=new_df.reset_index()"
   ]
  },
  {
   "cell_type": "code",
   "execution_count": 24,
   "id": "f214dc71-0f14-428e-b7ee-4d0e1cfd3c81",
   "metadata": {},
   "outputs": [
    {
     "name": "stderr",
     "output_type": "stream",
     "text": [
      "/tmp/ipykernel_1972613/85856999.py:4: SettingWithCopyWarning: \n",
      "A value is trying to be set on a copy of a slice from a DataFrame.\n",
      "Try using .loc[row_indexer,col_indexer] = value instead\n",
      "\n",
      "See the caveats in the documentation: https://pandas.pydata.org/pandas-docs/stable/user_guide/indexing.html#returning-a-view-versus-a-copy\n",
      "  pred_df['time'] = pd.to_datetime(pred_df['time'])\n",
      "/tmp/ipykernel_1972613/85856999.py:11: SettingWithCopyWarning: \n",
      "A value is trying to be set on a copy of a slice from a DataFrame.\n",
      "Try using .loc[row_indexer,col_indexer] = value instead\n",
      "\n",
      "See the caveats in the documentation: https://pandas.pydata.org/pandas-docs/stable/user_guide/indexing.html#returning-a-view-versus-a-copy\n",
      "  res_df['time'] = pd.to_datetime(res_df['time'])\n"
     ]
    }
   ],
   "source": [
    "col_names = [\"time\",\"lon\",\"lat\",\"pred\"]\n",
    "pred_df = new_df[[\"time\",\"xlon\",\"ylat\",\"pred\"]]\n",
    "pred_df.columns = col_names\n",
    "pred_df['time'] = pd.to_datetime(pred_df['time'])\n",
    "pred_df = pred_df.set_index([\"time\",\"lat\",\"lon\"])\n",
    "\n",
    "col_names = [\"time\",\"lon\",\"lat\",\"res\"]\n",
    "\n",
    "res_df = new_df[[\"time\",\"xlon\",\"ylat\",\"res\"]]\n",
    "res_df.columns = col_names\n",
    "res_df['time'] = pd.to_datetime(res_df['time'])\n",
    "res_df = res_df.set_index([\"time\",\"lat\",\"lon\"])\n",
    "\n",
    "\n",
    "pred_xarray = pred_df.to_xarray()\n",
    "res_xarray = res_df.to_xarray()"
   ]
  },
  {
   "cell_type": "code",
   "execution_count": 25,
   "id": "1656618d-6ee2-4db3-8032-938c828d3a35",
   "metadata": {},
   "outputs": [
    {
     "data": {
      "image/png": "[encoded data removed]",
      "text/plain": [
       "<Figure size 432x288 with 2 Axes>"
      ]
     },
     "metadata": {
      "needs_background": "light"
     },
     "output_type": "display_data"
    }
   ],
   "source": [
    "p1 = pred_xarray.pred[419].plot()\n",
    "plt.savefig(\"../../assets/canESM_rf_pred.jpg\")"
   ]
  },
  {
   "cell_type": "code",
   "execution_count": 26,
   "id": "31f7c776-4188-4c7f-8143-075241ba4b5c",
   "metadata": {},
   "outputs": [
    {
     "data": {
      "image/png": "[encoded data removed]",
      "text/plain": [
       "<Figure size 432x288 with 2 Axes>"
      ]
     },
     "metadata": {
      "needs_background": "light"
     },
     "output_type": "display_data"
    }
   ],
   "source": [
    "res_xarray.res[419].plot()\n",
    "plt.savefig(\"../../assets/canESM_rf_res.jpg\")"
   ]
  },
  {
   "cell_type": "code",
   "execution_count": 27,
   "id": "7586d58a-540c-407d-afdc-1110347ef99a",
   "metadata": {},
   "outputs": [
    {
     "name": "stderr",
     "output_type": "stream",
     "text": [
      "/tmp/ipykernel_1972613/2119154728.py:4: SettingWithCopyWarning: \n",
      "A value is trying to be set on a copy of a slice from a DataFrame.\n",
      "Try using .loc[row_indexer,col_indexer] = value instead\n",
      "\n",
      "See the caveats in the documentation: https://pandas.pydata.org/pandas-docs/stable/user_guide/indexing.html#returning-a-view-versus-a-copy\n",
      "  true_df['time'] = pd.to_datetime(true_df['time'])\n"
     ]
    },
    {
     "data": {
      "text/plain": [
       "<matplotlib.collections.QuadMesh at 0x154f81ba0430>"
      ]
     },
     "execution_count": 27,
     "metadata": {},
     "output_type": "execute_result"
    },
    {
     "data": {
      "image/png": "[encoded data removed]",
      "text/plain": [
       "<Figure size 432x288 with 2 Axes>"
      ]
     },
     "metadata": {
      "needs_background": "light"
     },
     "output_type": "display_data"
    },
    {
     "name": "stdout",
     "output_type": "stream",
     "text": [
      "building tree 2 of 20\n",
      "building tree 5 of 20\n",
      "building tree 11 of 20\n",
      "building tree 14 of 20\n",
      "building tree 18 of 20\n",
      "building tree 2 of 20\n",
      "building tree 5 of 20\n",
      "building tree 9 of 20\n",
      "building tree 13 of 20\n",
      "building tree 17 of 20\n",
      "building tree 1 of 20\n",
      "building tree 5 of 20\n",
      "building tree 9 of 20\n",
      "building tree 13 of 20\n",
      "building tree 17 of 20\n",
      "building tree 4 of 20\n",
      "building tree 6 of 20\n",
      "building tree 10 of 20\n",
      "building tree 15 of 20\n",
      "building tree 19 of 20\n",
      "building tree 3 of 20\n",
      "building tree 6 of 20\n",
      "building tree 10 of 20\n",
      "building tree 14 of 20\n",
      "building tree 18 of 20\n",
      "building tree 2 of 20\n",
      "building tree 6 of 20\n",
      "building tree 10 of 20\n",
      "building tree 14 of 20\n",
      "building tree 18 of 20\n",
      "building tree 1 of 20\n",
      "building tree 8 of 20\n",
      "building tree 12 of 20\n",
      "building tree 16 of 20\n",
      "building tree 20 of 20\n",
      "building tree 4 of 20\n",
      "building tree 8 of 20\n",
      "building tree 12 of 20\n",
      "building tree 16 of 20\n",
      "building tree 20 of 20\n",
      "building tree 4 of 20\n",
      "building tree 8 of 20\n",
      "building tree 11 of 20\n",
      "building tree 15 of 20\n",
      "building tree 19 of 20\n",
      "building tree 3 of 20\n",
      "building tree 7 of 20\n",
      "building tree 9 of 20\n",
      "building tree 13 of 20\n",
      "building tree 17 of 20\n",
      "building tree 1 of 20\n",
      "building tree 7 of 20\n",
      "building tree 11 of 20\n",
      "building tree 15 of 20\n",
      "building tree 19 of 20\n",
      "building tree 3 of 20\n",
      "building tree 7 of 20\n",
      "building tree 12 of 20\n",
      "building tree 16 of 20\n",
      "building tree 20 of 20\n"
     ]
    }
   ],
   "source": [
    "col_names = [\"time\",\"lon\",\"lat\",\"pCO2\"]\n",
    "true_df = new_df[[\"time\",\"xlon\",\"ylat\",\"pCO2\"]]\n",
    "true_df.columns = col_names\n",
    "true_df['time'] = pd.to_datetime(true_df['time'])\n",
    "true_df = true_df.set_index([\"time\",\"lat\",\"lon\"])\n",
    "\n",
    "\n",
    "true_xarray = true_df.to_xarray()\n",
    "\n",
    "true_xarray.pCO2[419].plot()"
   ]
  },
  {
   "cell_type": "code",
   "execution_count": null,
   "id": "660a80a3-3ba1-49ff-ad2e-b4b01779d60c",
   "metadata": {},
   "outputs": [],
   "source": []
  },
  {
   "cell_type": "code",
   "execution_count": null,
   "id": "78c1214e-b497-4683-894a-0836809220ed",
   "metadata": {},
   "outputs": [],
   "source": []
  }
 ],
 "metadata": {
  "kernelspec": {
   "display_name": "venv2",
   "language": "python",
   "name": "venv2"
  },
  "language_info": {
   "codemirror_mode": {
    "name": "ipython",
    "version": 3
   },
   "file_extension": ".py",
   "mimetype": "text/x-python",
   "name": "python",
   "nbconvert_exporter": "python",
   "pygments_lexer": "ipython3",
   "version": "3.8.5"
  }
 },
 "nbformat": 4,
 "nbformat_minor": 5
}

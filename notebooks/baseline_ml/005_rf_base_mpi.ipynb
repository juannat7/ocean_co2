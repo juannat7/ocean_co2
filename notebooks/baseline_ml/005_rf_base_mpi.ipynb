{
 "cells": [
  {
   "cell_type": "markdown",
   "id": "1c854577-5d94-4012-814f-369563a3426a",
   "metadata": {},
   "source": [
    "# Creating baseline performance for MPI\n"
   ]
  },
  {
   "cell_type": "code",
   "execution_count": 1,
   "id": "5af15ed2-0821-4e8e-af70-6a3142751bc0",
   "metadata": {},
   "outputs": [
    {
     "name": "stderr",
     "output_type": "stream",
     "text": [
      "/burg/glab/users/sk4973/venv2/lib/python3.8/site-packages/xarray/backends/cfgrib_.py:27: UserWarning: Failed to load cfgrib - most likely there is a problem accessing the ecCodes library. Try `import cfgrib` to get the full error message\n",
      "  warnings.warn(\n",
      "2022-08-26 04:29:49.949490: W tensorflow/stream_executor/platform/default/dso_loader.cc:60] Could not load dynamic library 'libcudart.so.11.0'; dlerror: libcudart.so.11.0: cannot open shared object file: No such file or directory; LD_LIBRARY_PATH: /cm/shared/apps/slurm/current/lib64/slurm:/cm/shared/apps/slurm/current/lib64\n",
      "2022-08-26 04:29:50.024372: I tensorflow/stream_executor/cuda/cudart_stub.cc:29] Ignore above cudart dlerror if you do not have a GPU set up on your machine.\n"
     ]
    }
   ],
   "source": [
    "import matplotlib.pyplot as plt\n",
    "import numpy as np\n",
    "import pandas as pd\n",
    "import xarray as xr\n",
    "#import hvplot.xarray\n",
    "import sys\n",
    "\n",
    "%matplotlib inline\n",
    "\n",
    "from sklearn.ensemble import RandomForestRegressor\n",
    "from sklearn.model_selection import cross_val_score\n",
    "\n",
    "from sklearn.model_selection import train_test_split\n",
    "from sklearn.metrics import mean_squared_error\n",
    "\n",
    "sys.path.insert(0, '../../src')\n",
    "\n",
    "from utils import df_to_xarray,read_xarray"
   ]
  },
  {
   "cell_type": "code",
   "execution_count": 2,
   "id": "3984ce9c-5d0e-4553-b5f6-2d3ff1e9a3d8",
   "metadata": {},
   "outputs": [
    {
     "name": "stderr",
     "output_type": "stream",
     "text": [
      "/burg/glab/users/sk4973/venv2/lib/python3.8/site-packages/xarray/backends/plugins.py:61: RuntimeWarning: Engine 'cfgrib' loading failed:\n",
      "ecCodes library not found using ['eccodes', 'libeccodes.so', 'libeccodes']\n",
      "  warnings.warn(f\"Engine {name!r} loading failed:\\n{ex}\", RuntimeWarning)\n",
      "/tmp/ipykernel_3016436/514179119.py:28: RuntimeWarning: Converting a CFTimeIndex with dates from a non-standard calendar, 'noleap', to a pandas.DatetimeIndex, which uses dates from the standard calendar.  This may lead to subtle errors in operations that depend on the length of time between dates.\n",
      "  xco2['time'] = xco2.indexes['time'].to_datetimeindex().strftime(\"%Y-%m\")\n"
     ]
    }
   ],
   "source": [
    "mpi_data_path = \"../../data/mpi_001\"\n",
    "\n",
    "\n",
    "def read_xarray_mpi(dir_name=\"\",num=\"006\"):\n",
    "    '''\n",
    "     read_xarray(dir)name) opens data and returns data in xarray format for each feature\n",
    "    '''\n",
    "    date=\"198201-201701\"\n",
    "  \n",
    "    file_type =\"MPI\"\n",
    "        \n",
    "    chl = xr.open_dataset(f'{dir_name}/Chl_2D_mon_{file_type}{num}_1x1_{date}.nc')\n",
    "\n",
    "    mld = xr.open_dataset(f'{dir_name}/MLD_2D_mon_{file_type}{num}_1x1_{date}.nc')\n",
    "\n",
    "    sss = xr.open_dataset(f'{dir_name}/SSS_2D_mon_{file_type}{num}_1x1_{date}.nc')\n",
    "\n",
    "    sst = xr.open_dataset(f'{dir_name}/SST_2D_mon_{file_type}{num}_1x1_{date}.nc')\n",
    "\n",
    "    xco2 = xr.open_dataset(f'../../data/member_001/XCO2_1D_mon_CESM001_native_198201-201701.nc')\n",
    "\n",
    "    pco2 = xr.open_dataset(f'{dir_name}/pCO2_2D_mon_{file_type}{num}_1x1_{date}.nc')\n",
    "\n",
    "    return chl,mld,sss,sst,xco2,pco2\n",
    "\n",
    "\n",
    "chl,mld,sss,sst,xco2,pco2 = read_xarray_mpi(mpi_data_path)\n",
    "xco2['time'] = xco2.indexes['time'].to_datetimeindex().strftime(\"%Y-%m\")"
   ]
  },
  {
   "cell_type": "code",
   "execution_count": 3,
   "id": "14439c1c-1fc2-4ff4-8ddb-f89f53c13c56",
   "metadata": {},
   "outputs": [],
   "source": [
    "xco2_df = pd.DataFrame()\n",
    "xco2_df[\"XCO2\"] = xco2.XCO2\n",
    "xco2_df.index = xco2.time\n",
    "\n",
    "data_read=xr.merge([mld.MLD,mld.MLD_socat,chl.Chl,chl.Chl_socat,sst.SST,sst.SST_socat,sss.SSS,sss.SSS_socat])\n",
    "\n",
    "tmp_data=data_read.to_dataframe().reset_index()\n",
    "tmp_data[\"time\"] = tmp_data[\"time\"].dt.strftime(\"%Y-%m\")\n",
    "tmp_data = xco2_df.join(tmp_data.set_index('time'),how = \"right\")"
   ]
  },
  {
   "cell_type": "code",
   "execution_count": 4,
   "id": "980e2aae-ae9f-47df-a3fc-2878f0285ca0",
   "metadata": {},
   "outputs": [],
   "source": [
    "tmp_data = tmp_data.reset_index()\n",
    "pco2_data = pco2.pCO2.to_dataframe().reset_index()\n",
    "pco2_data_socat = pco2.pCO2_socat.to_dataframe().reset_index()\n",
    "\n",
    "# tmp_data[\"Chl_socat\"]=chl_data_socat[\"Chl_socat\"]\n",
    "# tmp_data[\"Chl\"]=chl_data[\"Chl\"]\n",
    "tmp_data[\"pCO2_socat\"]=pco2_data_socat[\"pCO2_socat\"]\n",
    "tmp_data[\"pCO2\"]=pco2_data[\"pCO2\"]\n",
    "\n",
    "features_socat = ['xlon', 'ylat','MLD_socat', 'SST_socat', 'SSS_socat','Chl_socat', 'XCO2','pCO2_socat']\n",
    "features = ['xlon', 'ylat','MLD','SST','SSS','Chl','XCO2','pCO2']\n",
    "\n",
    "# create separate dataframe for socat\n",
    "combined_socat=tmp_data[features_socat]\n",
    "combined=tmp_data[features]"
   ]
  },
  {
   "cell_type": "code",
   "execution_count": 5,
   "id": "c24b6c59-f685-4c0a-bab6-89a2460b013d",
   "metadata": {},
   "outputs": [
    {
     "name": "stderr",
     "output_type": "stream",
     "text": [
      "/burg/glab/users/sk4973/venv2/lib/python3.8/site-packages/pandas/util/_decorators.py:311: SettingWithCopyWarning: \n",
      "A value is trying to be set on a copy of a slice from a DataFrame\n",
      "\n",
      "See the caveats in the documentation: https://pandas.pydata.org/pandas-docs/stable/user_guide/indexing.html#returning-a-view-versus-a-copy\n",
      "  return func(*args, **kwargs)\n"
     ]
    }
   ],
   "source": [
    "# drop rows where pco2 or pco2_socat == NA or 0\n",
    "combined_socat.dropna(subset = [\"pCO2_socat\"], inplace=True)\n",
    "combined_socat= combined_socat[combined_socat['pCO2_socat']!=0]\n",
    "\n",
    "combined.dropna(subset = [\"pCO2\"], inplace=True)\n",
    "combined.dropna(subset = [\"SSS\"], inplace=True)\n",
    "\n",
    "combined = combined[combined['pCO2']!=0]"
   ]
  },
  {
   "cell_type": "code",
   "execution_count": 6,
   "id": "27e09c19-2cea-42b1-b88e-eeaa5fe3d94d",
   "metadata": {},
   "outputs": [
    {
     "data": {
      "text/html": [
       "<div>\n",
       "<style scoped>\n",
       "    .dataframe tbody tr th:only-of-type {\n",
       "        vertical-align: middle;\n",
       "    }\n",
       "\n",
       "    .dataframe tbody tr th {\n",
       "        vertical-align: top;\n",
       "    }\n",
       "\n",
       "    .dataframe thead th {\n",
       "        text-align: right;\n",
       "    }\n",
       "</style>\n",
       "<table border=\"1\" class=\"dataframe\">\n",
       "  <thead>\n",
       "    <tr style=\"text-align: right;\">\n",
       "      <th></th>\n",
       "      <th>xlon</th>\n",
       "      <th>ylat</th>\n",
       "      <th>MLD</th>\n",
       "      <th>SST</th>\n",
       "      <th>SSS</th>\n",
       "      <th>Chl</th>\n",
       "      <th>XCO2</th>\n",
       "      <th>pCO2</th>\n",
       "    </tr>\n",
       "  </thead>\n",
       "  <tbody>\n",
       "    <tr>\n",
       "      <th>4491</th>\n",
       "      <td>24.5</td>\n",
       "      <td>81.5</td>\n",
       "      <td>26.198303</td>\n",
       "      <td>-1.899115</td>\n",
       "      <td>33.817749</td>\n",
       "      <td>0.000670</td>\n",
       "      <td>NaN</td>\n",
       "      <td>192.137589</td>\n",
       "    </tr>\n",
       "    <tr>\n",
       "      <th>4492</th>\n",
       "      <td>24.5</td>\n",
       "      <td>82.5</td>\n",
       "      <td>40.107262</td>\n",
       "      <td>-1.899298</td>\n",
       "      <td>33.238289</td>\n",
       "      <td>0.000693</td>\n",
       "      <td>NaN</td>\n",
       "      <td>188.458038</td>\n",
       "    </tr>\n",
       "    <tr>\n",
       "      <th>4493</th>\n",
       "      <td>24.5</td>\n",
       "      <td>83.5</td>\n",
       "      <td>32.901730</td>\n",
       "      <td>-1.899634</td>\n",
       "      <td>32.166748</td>\n",
       "      <td>0.000735</td>\n",
       "      <td>NaN</td>\n",
       "      <td>185.353271</td>\n",
       "    </tr>\n",
       "    <tr>\n",
       "      <th>4494</th>\n",
       "      <td>24.5</td>\n",
       "      <td>84.5</td>\n",
       "      <td>38.011906</td>\n",
       "      <td>-1.899817</td>\n",
       "      <td>31.929979</td>\n",
       "      <td>0.000718</td>\n",
       "      <td>NaN</td>\n",
       "      <td>186.413223</td>\n",
       "    </tr>\n",
       "    <tr>\n",
       "      <th>4495</th>\n",
       "      <td>24.5</td>\n",
       "      <td>85.5</td>\n",
       "      <td>41.134144</td>\n",
       "      <td>-1.899695</td>\n",
       "      <td>31.524935</td>\n",
       "      <td>0.000698</td>\n",
       "      <td>NaN</td>\n",
       "      <td>186.520767</td>\n",
       "    </tr>\n",
       "    <tr>\n",
       "      <th>...</th>\n",
       "      <td>...</td>\n",
       "      <td>...</td>\n",
       "      <td>...</td>\n",
       "      <td>...</td>\n",
       "      <td>...</td>\n",
       "      <td>...</td>\n",
       "      <td>...</td>\n",
       "      <td>...</td>\n",
       "    </tr>\n",
       "    <tr>\n",
       "      <th>27280795</th>\n",
       "      <td>359.5</td>\n",
       "      <td>85.5</td>\n",
       "      <td>30.801374</td>\n",
       "      <td>-1.900000</td>\n",
       "      <td>31.889488</td>\n",
       "      <td>0.000620</td>\n",
       "      <td>406.971283</td>\n",
       "      <td>423.606689</td>\n",
       "    </tr>\n",
       "    <tr>\n",
       "      <th>27280796</th>\n",
       "      <td>359.5</td>\n",
       "      <td>86.5</td>\n",
       "      <td>49.919544</td>\n",
       "      <td>-1.899847</td>\n",
       "      <td>31.988329</td>\n",
       "      <td>0.000676</td>\n",
       "      <td>406.971283</td>\n",
       "      <td>423.666779</td>\n",
       "    </tr>\n",
       "    <tr>\n",
       "      <th>27280797</th>\n",
       "      <td>359.5</td>\n",
       "      <td>87.5</td>\n",
       "      <td>55.857330</td>\n",
       "      <td>-1.899542</td>\n",
       "      <td>31.618706</td>\n",
       "      <td>0.000617</td>\n",
       "      <td>406.971283</td>\n",
       "      <td>423.727844</td>\n",
       "    </tr>\n",
       "    <tr>\n",
       "      <th>27280798</th>\n",
       "      <td>359.5</td>\n",
       "      <td>88.5</td>\n",
       "      <td>56.759087</td>\n",
       "      <td>-1.899695</td>\n",
       "      <td>31.298952</td>\n",
       "      <td>0.000544</td>\n",
       "      <td>406.971283</td>\n",
       "      <td>423.789917</td>\n",
       "    </tr>\n",
       "    <tr>\n",
       "      <th>27280799</th>\n",
       "      <td>359.5</td>\n",
       "      <td>89.5</td>\n",
       "      <td>54.536575</td>\n",
       "      <td>-1.899817</td>\n",
       "      <td>31.113903</td>\n",
       "      <td>0.000518</td>\n",
       "      <td>406.971283</td>\n",
       "      <td>423.852936</td>\n",
       "    </tr>\n",
       "  </tbody>\n",
       "</table>\n",
       "<p>10495530 rows × 8 columns</p>\n",
       "</div>"
      ],
      "text/plain": [
       "           xlon  ylat        MLD       SST        SSS       Chl        XCO2  \\\n",
       "4491       24.5  81.5  26.198303 -1.899115  33.817749  0.000670         NaN   \n",
       "4492       24.5  82.5  40.107262 -1.899298  33.238289  0.000693         NaN   \n",
       "4493       24.5  83.5  32.901730 -1.899634  32.166748  0.000735         NaN   \n",
       "4494       24.5  84.5  38.011906 -1.899817  31.929979  0.000718         NaN   \n",
       "4495       24.5  85.5  41.134144 -1.899695  31.524935  0.000698         NaN   \n",
       "...         ...   ...        ...       ...        ...       ...         ...   \n",
       "27280795  359.5  85.5  30.801374 -1.900000  31.889488  0.000620  406.971283   \n",
       "27280796  359.5  86.5  49.919544 -1.899847  31.988329  0.000676  406.971283   \n",
       "27280797  359.5  87.5  55.857330 -1.899542  31.618706  0.000617  406.971283   \n",
       "27280798  359.5  88.5  56.759087 -1.899695  31.298952  0.000544  406.971283   \n",
       "27280799  359.5  89.5  54.536575 -1.899817  31.113903  0.000518  406.971283   \n",
       "\n",
       "                pCO2  \n",
       "4491      192.137589  \n",
       "4492      188.458038  \n",
       "4493      185.353271  \n",
       "4494      186.413223  \n",
       "4495      186.520767  \n",
       "...              ...  \n",
       "27280795  423.606689  \n",
       "27280796  423.666779  \n",
       "27280797  423.727844  \n",
       "27280798  423.789917  \n",
       "27280799  423.852936  \n",
       "\n",
       "[10495530 rows x 8 columns]"
      ]
     },
     "execution_count": 6,
     "metadata": {},
     "output_type": "execute_result"
    }
   ],
   "source": [
    "combined"
   ]
  },
  {
   "cell_type": "code",
   "execution_count": null,
   "id": "564405b4-85a0-4b76-871c-32e9068fb3ad",
   "metadata": {},
   "outputs": [],
   "source": [
    "combined.isna().sum()\n",
    "\n"
   ]
  },
  {
   "cell_type": "code",
   "execution_count": 7,
   "id": "5da22b31-6e3e-435b-8931-9583ea6a6c8c",
   "metadata": {},
   "outputs": [],
   "source": [
    "X_socat=combined_socat.iloc[:,3:-1]\n",
    "X=combined.iloc[:,3:-1]\n",
    "y=combined.loc[:,'pCO2']\n",
    "y_socat=combined_socat.loc[:,'pCO2_socat']\n",
    "\n"
   ]
  },
  {
   "cell_type": "code",
   "execution_count": 8,
   "id": "d929e951-e450-4d04-bf57-1e4e93402f82",
   "metadata": {},
   "outputs": [],
   "source": [
    "from sklearn.impute import SimpleImputer\n",
    "imp = SimpleImputer(missing_values=np.nan, strategy='mean')\n",
    "X=imp.fit_transform(X)\n",
    "X_socat=imp.fit_transform(X_socat)"
   ]
  },
  {
   "cell_type": "code",
   "execution_count": 9,
   "id": "3eee7b53-1fc5-4cd6-8375-e1b74a22e056",
   "metadata": {},
   "outputs": [
    {
     "name": "stderr",
     "output_type": "stream",
     "text": [
      "[Parallel(n_jobs=-1)]: Using backend ThreadingBackend with 4 concurrent workers.\n"
     ]
    },
    {
     "name": "stdout",
     "output_type": "stream",
     "text": [
      "building tree 1 of 20\n",
      "building tree 2 of 20\n",
      "building tree 3 of 20\n",
      "building tree 4 of 20\n",
      "building tree 5 of 20\n",
      "building tree 6 of 20\n",
      "building tree 7 of 20\n",
      "building tree 8 of 20\n",
      "building tree 9 of 20\n",
      "building tree 10 of 20\n",
      "building tree 11 of 20\n",
      "building tree 12 of 20\n",
      "building tree 13 of 20\n",
      "building tree 14 of 20\n",
      "building tree 15 of 20\n",
      "building tree 16 of 20\n",
      "building tree 17 of 20\n",
      "building tree 18 of 20\n",
      "building tree 19 of 20\n",
      "building tree 20 of 20\n"
     ]
    },
    {
     "name": "stderr",
     "output_type": "stream",
     "text": [
      "[Parallel(n_jobs=-1)]: Done  20 out of  20 | elapsed:  2.3min remaining:    0.0s\n",
      "[Parallel(n_jobs=-1)]: Done  20 out of  20 | elapsed:  2.3min finished\n",
      "[Parallel(n_jobs=-1)]: Using backend LokyBackend with 4 concurrent workers.\n",
      "[Parallel(n_jobs=-1)]: Done  20 out of  20 | elapsed:  2.4min remaining:    0.0s\n",
      "[Parallel(n_jobs=-1)]: Done  20 out of  20 | elapsed:  2.4min finished\n",
      "[Parallel(n_jobs=4)]: Using backend ThreadingBackend with 4 concurrent workers.\n",
      "[Parallel(n_jobs=4)]: Done  20 out of  20 | elapsed:    1.0s remaining:    0.0s\n",
      "[Parallel(n_jobs=4)]: Done  20 out of  20 | elapsed:    1.0s finished\n",
      "[Parallel(n_jobs=-1)]: Using backend LokyBackend with 4 concurrent workers.\n",
      "[Parallel(n_jobs=-1)]: Done  20 out of  20 | elapsed:  1.5min remaining:    0.0s\n",
      "[Parallel(n_jobs=-1)]: Done  20 out of  20 | elapsed:  1.5min finished\n",
      "[Parallel(n_jobs=4)]: Using backend ThreadingBackend with 4 concurrent workers.\n",
      "[Parallel(n_jobs=4)]: Done  20 out of  20 | elapsed:    0.9s remaining:    0.0s\n",
      "[Parallel(n_jobs=4)]: Done  20 out of  20 | elapsed:    0.9s finished\n",
      "[Parallel(n_jobs=-1)]: Using backend LokyBackend with 4 concurrent workers.\n",
      "[Parallel(n_jobs=-1)]: Done  20 out of  20 | elapsed:  1.5min remaining:    0.0s\n",
      "[Parallel(n_jobs=-1)]: Done  20 out of  20 | elapsed:  1.5min finished\n",
      "[Parallel(n_jobs=4)]: Using backend ThreadingBackend with 4 concurrent workers.\n"
     ]
    },
    {
     "name": "stdout",
     "output_type": "stream",
     "text": [
      "Scores: [41.50687631 41.54421502 41.56814968]\n",
      "Mean: 41.539747001895826\n",
      "Standard deviation: 0.025213475464226278\n"
     ]
    },
    {
     "name": "stderr",
     "output_type": "stream",
     "text": [
      "[Parallel(n_jobs=4)]: Done  20 out of  20 | elapsed:    0.9s remaining:    0.0s\n",
      "[Parallel(n_jobs=4)]: Done  20 out of  20 | elapsed:    0.9s finished\n"
     ]
    }
   ],
   "source": [
    "\n",
    "X_train, X_test, y_train, y_test = train_test_split(X, y, test_size=0.3, random_state= 73)\n",
    "\n",
    "regressor=RandomForestRegressor(n_estimators=20, random_state=42, verbose=3,n_jobs=-1, \n",
    "                                max_depth=10,warm_start= True)\n",
    "regressor.fit(X_train, y_train)\n",
    "\n",
    "def display_scores(scores):\n",
    "    print(\"Scores:\", scores)\n",
    "    print(\"Mean:\", scores.mean())\n",
    "    print(\"Standard deviation:\", scores.std())\n",
    "\n",
    "forest_scores = cross_val_score(regressor, X_train, y_train,\n",
    "                                scoring=\"neg_mean_squared_error\", cv=3)\n",
    "forest_rmse_scores = np.sqrt(-forest_scores)\n",
    "\n",
    "display_scores(forest_rmse_scores)"
   ]
  },
  {
   "cell_type": "code",
   "execution_count": 10,
   "id": "83126bef-f1c6-40d8-bf12-400e06e5cb19",
   "metadata": {},
   "outputs": [
    {
     "name": "stderr",
     "output_type": "stream",
     "text": [
      "[Parallel(n_jobs=4)]: Using backend ThreadingBackend with 4 concurrent workers.\n",
      "[Parallel(n_jobs=4)]: Done  20 out of  20 | elapsed:    1.2s remaining:    0.0s\n",
      "[Parallel(n_jobs=4)]: Done  20 out of  20 | elapsed:    1.2s finished\n"
     ]
    },
    {
     "data": {
      "text/plain": [
       "41.56949932953038"
      ]
     },
     "execution_count": 10,
     "metadata": {},
     "output_type": "execute_result"
    }
   ],
   "source": [
    "y_pred=regressor.predict(X_test)\n",
    "test_mse=mean_squared_error(y_test, y_pred,squared=True)\n",
    "np.sqrt(test_mse)"
   ]
  },
  {
   "cell_type": "code",
   "execution_count": 11,
   "id": "97e1219e-54d6-4904-84cd-8cf97dd6d4b3",
   "metadata": {},
   "outputs": [
    {
     "name": "stderr",
     "output_type": "stream",
     "text": [
      "[Parallel(n_jobs=4)]: Using backend ThreadingBackend with 4 concurrent workers.\n",
      "[Parallel(n_jobs=4)]: Done  20 out of  20 | elapsed:    1.5s remaining:    0.0s\n",
      "[Parallel(n_jobs=4)]: Done  20 out of  20 | elapsed:    1.5s finished\n"
     ]
    },
    {
     "data": {
      "text/plain": [
       "41.540973906989514"
      ]
     },
     "execution_count": 11,
     "metadata": {},
     "output_type": "execute_result"
    }
   ],
   "source": [
    "y_pred=regressor.predict(X)\n",
    "final_test_rmse=np.sqrt(mean_squared_error(y, y_pred,squared=True))\n",
    "error=y-y_pred\n",
    "\n",
    "final_test_rmse"
   ]
  },
  {
   "cell_type": "code",
   "execution_count": null,
   "id": "760501e9-2d3e-44f9-8d0f-4eab858b8e89",
   "metadata": {},
   "outputs": [],
   "source": []
  }
 ],
 "metadata": {
  "kernelspec": {
   "display_name": "venv2",
   "language": "python",
   "name": "venv2"
  },
  "language_info": {
   "codemirror_mode": {
    "name": "ipython",
    "version": 3
   },
   "file_extension": ".py",
   "mimetype": "text/x-python",
   "name": "python",
   "nbconvert_exporter": "python",
   "pygments_lexer": "ipython3",
   "version": "3.8.5"
  }
 },
 "nbformat": 4,
 "nbformat_minor": 5
}

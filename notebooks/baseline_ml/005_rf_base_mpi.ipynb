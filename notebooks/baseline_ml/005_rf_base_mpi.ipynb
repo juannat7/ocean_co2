{
 "cells": [
  {
   "cell_type": "markdown",
   "id": "1c854577-5d94-4012-814f-369563a3426a",
   "metadata": {},
   "source": [
    "# Creating baseline performance for MPI\n"
   ]
  },
  {
   "cell_type": "code",
   "execution_count": null,
   "id": "5af15ed2-0821-4e8e-af70-6a3142751bc0",
   "metadata": {},
   "outputs": [
    {
     "name": "stderr",
     "output_type": "stream",
     "text": [
      "/burg/glab/users/sk4973/venv2/lib/python3.8/site-packages/xarray/backends/cfgrib_.py:27: UserWarning: Failed to load cfgrib - most likely there is a problem accessing the ecCodes library. Try `import cfgrib` to get the full error message\n",
      "  warnings.warn(\n",
      "2022-10-09 16:52:57.095476: W tensorflow/stream_executor/platform/default/dso_loader.cc:60] Could not load dynamic library 'libcudart.so.11.0'; dlerror: libcudart.so.11.0: cannot open shared object file: No such file or directory; LD_LIBRARY_PATH: /cm/shared/apps/slurm/current/lib64/slurm:/cm/shared/apps/slurm/current/lib64\n",
      "2022-10-09 16:52:57.096082: I tensorflow/stream_executor/cuda/cudart_stub.cc:29] Ignore above cudart dlerror if you do not have a GPU set up on your machine.\n"
     ]
    }
   ],
   "source": [
    "import matplotlib.pyplot as plt\n",
    "import numpy as np\n",
    "import pandas as pd\n",
    "import xarray as xr\n",
    "#import hvplot.xarray\n",
    "import sys\n",
    "\n",
    "%matplotlib inline\n",
    "\n",
    "from sklearn.ensemble import RandomForestRegressor\n",
    "from sklearn.model_selection import cross_val_score\n",
    "\n",
    "from sklearn.model_selection import train_test_split\n",
    "from sklearn.metrics import mean_squared_error\n",
    "\n",
    "sys.path.insert(0, '../../src')\n",
    "\n",
    "from utils import df_to_xarray,read_xarray"
   ]
  },
  {
   "cell_type": "code",
   "execution_count": null,
   "id": "3984ce9c-5d0e-4553-b5f6-2d3ff1e9a3d8",
   "metadata": {},
   "outputs": [
    {
     "name": "stderr",
     "output_type": "stream",
     "text": [
      "/burg/glab/users/sk4973/venv2/lib/python3.8/site-packages/xarray/backends/plugins.py:61: RuntimeWarning: Engine 'cfgrib' loading failed:\n",
      "ecCodes library not found using ['eccodes', 'libeccodes.so', 'libeccodes']\n",
      "  warnings.warn(f\"Engine {name!r} loading failed:\\n{ex}\", RuntimeWarning)\n",
      "/tmp/ipykernel_45639/479448007.py:31: RuntimeWarning: Converting a CFTimeIndex with dates from a non-standard calendar, 'noleap', to a pandas.DatetimeIndex, which uses dates from the standard calendar.  This may lead to subtle errors in operations that depend on the length of time between dates.\n",
      "  xco2['time'] = xco2.indexes['time'].to_datetimeindex().strftime(\"%Y-%m\")\n"
     ]
    }
   ],
   "source": [
    "mpi_data_path = \"../../data/mpi_001\"\n",
    "\n",
    "dist_map = pd.read_csv(\"../../src/dist_map.csv\",header=None).to_numpy()\n",
    "dist_map = np.roll(np.fliplr(dist_map),180)\n",
    "dist_map = np.repeat(dist_map[np.newaxis, :, : ], 421, axis=0)\n",
    "\n",
    "def read_xarray_mpi(dir_name=\"\",num=\"006\"):\n",
    "    '''\n",
    "     read_xarray(dir)name) opens data and returns data in xarray format for each feature\n",
    "    '''\n",
    "    date=\"198201-201701\"\n",
    "  \n",
    "    file_type =\"MPI\"\n",
    "        \n",
    "    chl = xr.open_dataset(f'{dir_name}/Chl_2D_mon_{file_type}{num}_1x1_{date}.nc')\n",
    "\n",
    "    mld = xr.open_dataset(f'{dir_name}/MLD_2D_mon_{file_type}{num}_1x1_{date}.nc')\n",
    "\n",
    "    sss = xr.open_dataset(f'{dir_name}/SSS_2D_mon_{file_type}{num}_1x1_{date}.nc')\n",
    "\n",
    "    sst = xr.open_dataset(f'{dir_name}/SST_2D_mon_{file_type}{num}_1x1_{date}.nc')\n",
    "\n",
    "    xco2 = xr.open_dataset(f'../../data/member_001/XCO2_1D_mon_CESM001_native_198201-201701.nc')\n",
    "\n",
    "    pco2 = xr.open_dataset(f'{dir_name}/pCO2_2D_mon_{file_type}{num}_1x1_{date}.nc')\n",
    "\n",
    "    return chl,mld,sss,sst,xco2,pco2\n",
    "\n",
    "\n",
    "chl,mld,sss,sst,xco2,pco2 = read_xarray_mpi(mpi_data_path)\n",
    "xco2['time'] = xco2.indexes['time'].to_datetimeindex().strftime(\"%Y-%m\")"
   ]
  },
  {
   "cell_type": "code",
   "execution_count": null,
   "id": "14439c1c-1fc2-4ff4-8ddb-f89f53c13c56",
   "metadata": {},
   "outputs": [],
   "source": [
    "xco2_df = pd.DataFrame()\n",
    "xco2_df[\"XCO2\"] = xco2.XCO2\n",
    "xco2_df.index = xco2.time\n",
    "\n",
    "# data_read=xr.merge([mld.MLD,mld.MLD_socat,chl.Chl,chl.Chl_socat,sst.SST,sst.SST_socat,sss.SSS,sss.SSS_socat])\n",
    "# data_read=xr.merge([mld.MLD,chl.Chl,sst.SST,sss.SSS])\n",
    "\n",
    "data_read=xr.merge([chl.Chl,chl.Chl_socat,sst.SST,sst.SST_socat,sss.SSS,sss.SSS_socat])\n",
    "\n",
    "\n",
    "tmp_data=data_read.to_dataframe().reset_index()\n",
    "tmp_data[\"time\"] = tmp_data[\"time\"].dt.strftime(\"%Y-%m\")\n",
    "tmp_data = xco2_df.join(tmp_data.set_index('time'),how = \"right\")"
   ]
  },
  {
   "cell_type": "code",
   "execution_count": null,
   "id": "692f8ad3-b22d-45ba-955e-1b852d07a5be",
   "metadata": {},
   "outputs": [],
   "source": [
    "tmp_data.dropna(subset = [\"XCO2\"], inplace=True)\n",
    "tmp_data = tmp_data.reset_index()\n",
    "#tmp_data.columns = [\"time\",'XCO2','xlon', 'ylat','MLD','MLD_socat','Chl','Chl_socat','SST','SST_socat','SSS','SSS_socat']\n",
    "tmp_data.columns = [\"time\",'XCO2','xlon', 'ylat','Chl','Chl_socat','SST','SST_socat','SSS','SSS_socat']\n",
    "\n",
    "\n",
    "later_df = tmp_data"
   ]
  },
  {
   "cell_type": "code",
   "execution_count": null,
   "id": "161ac3c6-c2b3-4621-963f-0e72b96ca33e",
   "metadata": {},
   "outputs": [
    {
     "data": {
      "text/html": [
       "<div>\n",
       "<style scoped>\n",
       "    .dataframe tbody tr th:only-of-type {\n",
       "        vertical-align: middle;\n",
       "    }\n",
       "\n",
       "    .dataframe tbody tr th {\n",
       "        vertical-align: top;\n",
       "    }\n",
       "\n",
       "    .dataframe thead th {\n",
       "        text-align: right;\n",
       "    }\n",
       "</style>\n",
       "<table border=\"1\" class=\"dataframe\">\n",
       "  <thead>\n",
       "    <tr style=\"text-align: right;\">\n",
       "      <th></th>\n",
       "      <th>time</th>\n",
       "      <th>XCO2</th>\n",
       "      <th>xlon</th>\n",
       "      <th>ylat</th>\n",
       "      <th>Chl</th>\n",
       "      <th>Chl_socat</th>\n",
       "      <th>SST</th>\n",
       "      <th>SST_socat</th>\n",
       "      <th>SSS</th>\n",
       "      <th>SSS_socat</th>\n",
       "    </tr>\n",
       "  </thead>\n",
       "  <tbody>\n",
       "    <tr>\n",
       "      <th>0</th>\n",
       "      <td>1982-02</td>\n",
       "      <td>340.848541</td>\n",
       "      <td>0.5</td>\n",
       "      <td>-89.5</td>\n",
       "      <td>NaN</td>\n",
       "      <td>NaN</td>\n",
       "      <td>NaN</td>\n",
       "      <td>NaN</td>\n",
       "      <td>NaN</td>\n",
       "      <td>NaN</td>\n",
       "    </tr>\n",
       "    <tr>\n",
       "      <th>1</th>\n",
       "      <td>1982-02</td>\n",
       "      <td>340.848541</td>\n",
       "      <td>0.5</td>\n",
       "      <td>-88.5</td>\n",
       "      <td>NaN</td>\n",
       "      <td>NaN</td>\n",
       "      <td>NaN</td>\n",
       "      <td>NaN</td>\n",
       "      <td>NaN</td>\n",
       "      <td>NaN</td>\n",
       "    </tr>\n",
       "    <tr>\n",
       "      <th>2</th>\n",
       "      <td>1982-02</td>\n",
       "      <td>340.848541</td>\n",
       "      <td>0.5</td>\n",
       "      <td>-87.5</td>\n",
       "      <td>NaN</td>\n",
       "      <td>NaN</td>\n",
       "      <td>NaN</td>\n",
       "      <td>NaN</td>\n",
       "      <td>NaN</td>\n",
       "      <td>NaN</td>\n",
       "    </tr>\n",
       "    <tr>\n",
       "      <th>3</th>\n",
       "      <td>1982-02</td>\n",
       "      <td>340.848541</td>\n",
       "      <td>0.5</td>\n",
       "      <td>-86.5</td>\n",
       "      <td>NaN</td>\n",
       "      <td>NaN</td>\n",
       "      <td>NaN</td>\n",
       "      <td>NaN</td>\n",
       "      <td>NaN</td>\n",
       "      <td>NaN</td>\n",
       "    </tr>\n",
       "    <tr>\n",
       "      <th>4</th>\n",
       "      <td>1982-02</td>\n",
       "      <td>340.848541</td>\n",
       "      <td>0.5</td>\n",
       "      <td>-85.5</td>\n",
       "      <td>NaN</td>\n",
       "      <td>NaN</td>\n",
       "      <td>NaN</td>\n",
       "      <td>NaN</td>\n",
       "      <td>NaN</td>\n",
       "      <td>NaN</td>\n",
       "    </tr>\n",
       "  </tbody>\n",
       "</table>\n",
       "</div>"
      ],
      "text/plain": [
       "      time        XCO2  xlon  ylat  Chl  Chl_socat  SST  SST_socat  SSS  \\\n",
       "0  1982-02  340.848541   0.5 -89.5  NaN        NaN  NaN        NaN  NaN   \n",
       "1  1982-02  340.848541   0.5 -88.5  NaN        NaN  NaN        NaN  NaN   \n",
       "2  1982-02  340.848541   0.5 -87.5  NaN        NaN  NaN        NaN  NaN   \n",
       "3  1982-02  340.848541   0.5 -86.5  NaN        NaN  NaN        NaN  NaN   \n",
       "4  1982-02  340.848541   0.5 -85.5  NaN        NaN  NaN        NaN  NaN   \n",
       "\n",
       "   SSS_socat  \n",
       "0        NaN  \n",
       "1        NaN  \n",
       "2        NaN  \n",
       "3        NaN  \n",
       "4        NaN  "
      ]
     },
     "execution_count": 5,
     "metadata": {},
     "output_type": "execute_result"
    }
   ],
   "source": [
    "later_df.head()"
   ]
  },
  {
   "cell_type": "code",
   "execution_count": null,
   "id": "2a164135-82b0-415b-a7e6-97d713780df7",
   "metadata": {},
   "outputs": [
    {
     "data": {
      "text/plain": [
       "time         0\n",
       "XCO2         0\n",
       "xlon         0\n",
       "ylat         0\n",
       "Chl          0\n",
       "Chl_socat    0\n",
       "SST          0\n",
       "SST_socat    0\n",
       "SSS          0\n",
       "SSS_socat    0\n",
       "dtype: int64"
      ]
     },
     "execution_count": 6,
     "metadata": {},
     "output_type": "execute_result"
    }
   ],
   "source": [
    "tmp_data.dropna(subset = [\"Chl\"], inplace=True)\n",
    "tmp_data.isna().sum()"
   ]
  },
  {
   "cell_type": "code",
   "execution_count": null,
   "id": "efc47c08-a603-4dfc-b266-7e7f31b88c04",
   "metadata": {},
   "outputs": [],
   "source": [
    "pco2_data = pco2.pCO2.to_dataframe().reset_index()\n",
    "pco2_data_socat = pco2.pCO2_socat.to_dataframe().reset_index()\n",
    "\n",
    "\n",
    "tmp_data[\"pCO2_socat\"]=pco2_data_socat[\"pCO2_socat\"]\n",
    "tmp_data[\"pCO2\"]=pco2_data[\"pCO2\"]\n",
    "\n",
    "tmp_data.dropna(subset = [\"pCO2\"], inplace=True)"
   ]
  },
  {
   "cell_type": "code",
   "execution_count": null,
   "id": "17cfccab-442b-460e-9302-1c4487f1bda2",
   "metadata": {},
   "outputs": [
    {
     "data": {
      "text/html": [
       "<div>\n",
       "<style scoped>\n",
       "    .dataframe tbody tr th:only-of-type {\n",
       "        vertical-align: middle;\n",
       "    }\n",
       "\n",
       "    .dataframe tbody tr th {\n",
       "        vertical-align: top;\n",
       "    }\n",
       "\n",
       "    .dataframe thead th {\n",
       "        text-align: right;\n",
       "    }\n",
       "</style>\n",
       "<table border=\"1\" class=\"dataframe\">\n",
       "  <thead>\n",
       "    <tr style=\"text-align: right;\">\n",
       "      <th></th>\n",
       "      <th>time</th>\n",
       "      <th>XCO2</th>\n",
       "      <th>xlon</th>\n",
       "      <th>ylat</th>\n",
       "      <th>Chl</th>\n",
       "      <th>Chl_socat</th>\n",
       "      <th>SST</th>\n",
       "      <th>SST_socat</th>\n",
       "      <th>SSS</th>\n",
       "      <th>SSS_socat</th>\n",
       "      <th>pCO2_socat</th>\n",
       "      <th>pCO2</th>\n",
       "    </tr>\n",
       "  </thead>\n",
       "  <tbody>\n",
       "    <tr>\n",
       "      <th>4491</th>\n",
       "      <td>1982-02</td>\n",
       "      <td>340.848541</td>\n",
       "      <td>24.5</td>\n",
       "      <td>81.5</td>\n",
       "      <td>0.000545</td>\n",
       "      <td>0.0</td>\n",
       "      <td>-1.899268</td>\n",
       "      <td>-0.0</td>\n",
       "      <td>33.838451</td>\n",
       "      <td>0.0</td>\n",
       "      <td>0.0</td>\n",
       "      <td>192.137589</td>\n",
       "    </tr>\n",
       "    <tr>\n",
       "      <th>4492</th>\n",
       "      <td>1982-02</td>\n",
       "      <td>340.848541</td>\n",
       "      <td>24.5</td>\n",
       "      <td>82.5</td>\n",
       "      <td>0.000546</td>\n",
       "      <td>0.0</td>\n",
       "      <td>-1.898871</td>\n",
       "      <td>-0.0</td>\n",
       "      <td>33.419563</td>\n",
       "      <td>0.0</td>\n",
       "      <td>0.0</td>\n",
       "      <td>188.458038</td>\n",
       "    </tr>\n",
       "    <tr>\n",
       "      <th>4493</th>\n",
       "      <td>1982-02</td>\n",
       "      <td>340.848541</td>\n",
       "      <td>24.5</td>\n",
       "      <td>83.5</td>\n",
       "      <td>0.000563</td>\n",
       "      <td>0.0</td>\n",
       "      <td>-1.899603</td>\n",
       "      <td>-0.0</td>\n",
       "      <td>32.428059</td>\n",
       "      <td>0.0</td>\n",
       "      <td>0.0</td>\n",
       "      <td>185.353271</td>\n",
       "    </tr>\n",
       "    <tr>\n",
       "      <th>4494</th>\n",
       "      <td>1982-02</td>\n",
       "      <td>340.848541</td>\n",
       "      <td>24.5</td>\n",
       "      <td>84.5</td>\n",
       "      <td>0.000565</td>\n",
       "      <td>0.0</td>\n",
       "      <td>-1.899969</td>\n",
       "      <td>-0.0</td>\n",
       "      <td>32.275085</td>\n",
       "      <td>0.0</td>\n",
       "      <td>0.0</td>\n",
       "      <td>186.413223</td>\n",
       "    </tr>\n",
       "    <tr>\n",
       "      <th>4495</th>\n",
       "      <td>1982-02</td>\n",
       "      <td>340.848541</td>\n",
       "      <td>24.5</td>\n",
       "      <td>85.5</td>\n",
       "      <td>0.000552</td>\n",
       "      <td>0.0</td>\n",
       "      <td>-1.899725</td>\n",
       "      <td>-0.0</td>\n",
       "      <td>31.889830</td>\n",
       "      <td>0.0</td>\n",
       "      <td>0.0</td>\n",
       "      <td>186.520767</td>\n",
       "    </tr>\n",
       "  </tbody>\n",
       "</table>\n",
       "</div>"
      ],
      "text/plain": [
       "         time        XCO2  xlon  ylat       Chl  Chl_socat       SST  \\\n",
       "4491  1982-02  340.848541  24.5  81.5  0.000545        0.0 -1.899268   \n",
       "4492  1982-02  340.848541  24.5  82.5  0.000546        0.0 -1.898871   \n",
       "4493  1982-02  340.848541  24.5  83.5  0.000563        0.0 -1.899603   \n",
       "4494  1982-02  340.848541  24.5  84.5  0.000565        0.0 -1.899969   \n",
       "4495  1982-02  340.848541  24.5  85.5  0.000552        0.0 -1.899725   \n",
       "\n",
       "      SST_socat        SSS  SSS_socat  pCO2_socat        pCO2  \n",
       "4491       -0.0  33.838451        0.0         0.0  192.137589  \n",
       "4492       -0.0  33.419563        0.0         0.0  188.458038  \n",
       "4493       -0.0  32.428059        0.0         0.0  185.353271  \n",
       "4494       -0.0  32.275085        0.0         0.0  186.413223  \n",
       "4495       -0.0  31.889830        0.0         0.0  186.520767  "
      ]
     },
     "execution_count": 8,
     "metadata": {},
     "output_type": "execute_result"
    }
   ],
   "source": [
    "tmp_data.head()"
   ]
  },
  {
   "cell_type": "code",
   "execution_count": null,
   "id": "01862474-bf8b-4715-addf-afdb8929990a",
   "metadata": {},
   "outputs": [],
   "source": [
    "time = tmp_data.time"
   ]
  },
  {
   "cell_type": "code",
   "execution_count": null,
   "id": "980e2aae-ae9f-47df-a3fc-2878f0285ca0",
   "metadata": {},
   "outputs": [],
   "source": [
    "\n",
    "#features_socat = ['xlon', 'ylat','MLD_socat', 'SST_socat', 'SSS_socat','Chl_socat', 'XCO2','pCO2_socat']\n",
    "#features = ['xlon', 'ylat','MLD','SST','SSS','Chl','XCO2','pCO2']\n",
    "\n",
    "features_socat = ['xlon', 'ylat', 'SST_socat', 'SSS_socat','Chl_socat', 'XCO2','pCO2_socat']\n",
    "features = ['xlon', 'ylat','SST','SSS','Chl','XCO2','pCO2']\n",
    "\n",
    "\n",
    "\n",
    "# create separate dataframe for socat\n",
    "combined_socat=tmp_data[features_socat]\n",
    "combined=tmp_data[features]"
   ]
  },
  {
   "cell_type": "code",
   "execution_count": null,
   "id": "10cc2f7e-37d1-469f-b42b-7612a74f12b6",
   "metadata": {},
   "outputs": [],
   "source": [
    "X_socat=combined_socat.iloc[:,:-1]\n",
    "X=combined.iloc[:,:-1]\n",
    "y=combined.loc[:,'pCO2']\n",
    "y_socat=combined_socat.loc[:,'pCO2_socat']\n"
   ]
  },
  {
   "cell_type": "code",
   "execution_count": null,
   "id": "6eda08ed-b13a-488d-a106-dc51b1ccdd6f",
   "metadata": {},
   "outputs": [
    {
     "data": {
      "text/plain": [
       "(0, (10470600,))"
      ]
     },
     "execution_count": 12,
     "metadata": {},
     "output_type": "execute_result"
    }
   ],
   "source": [
    "y.isna().sum(), y.shape"
   ]
  },
  {
   "cell_type": "code",
   "execution_count": null,
   "id": "d929e951-e450-4d04-bf57-1e4e93402f82",
   "metadata": {},
   "outputs": [],
   "source": [
    "from sklearn.impute import SimpleImputer\n",
    "imp = SimpleImputer(missing_values=np.nan, strategy='mean')\n",
    "X=imp.fit_transform(X)\n",
    "X_socat=imp.fit_transform(X_socat)"
   ]
  },
  {
   "cell_type": "code",
   "execution_count": null,
   "id": "3eee7b53-1fc5-4cd6-8375-e1b74a22e056",
   "metadata": {},
   "outputs": [
    {
     "name": "stderr",
     "output_type": "stream",
     "text": [
      "[Parallel(n_jobs=-1)]: Using backend ThreadingBackend with 4 concurrent workers.\n"
     ]
    },
    {
     "name": "stdout",
     "output_type": "stream",
     "text": [
      "building tree 1 of 20building tree 2 of 20\n",
      "building tree 3 of 20\n",
      "\n",
      "building tree 4 of 20\n",
      "building tree 5 of 20\n",
      "building tree 6 of 20\n",
      "building tree 7 of 20\n",
      "building tree 8 of 20\n",
      "building tree 9 of 20\n",
      "building tree 10 of 20\n",
      "building tree 11 of 20\n",
      "building tree 12 of 20\n",
      "building tree 13 of 20\n",
      "building tree 14 of 20\n",
      "building tree 15 of 20\n",
      "building tree 16 of 20\n",
      "building tree 17 of 20\n",
      "building tree 18 of 20\n",
      "building tree 19 of 20\n",
      "building tree 20 of 20\n"
     ]
    },
    {
     "name": "stderr",
     "output_type": "stream",
     "text": [
      "[Parallel(n_jobs=-1)]: Done  20 out of  20 | elapsed:  1.1min remaining:    0.0s\n",
      "[Parallel(n_jobs=-1)]: Done  20 out of  20 | elapsed:  1.1min finished\n",
      "[Parallel(n_jobs=-1)]: Using backend LokyBackend with 4 concurrent workers.\n",
      "[Parallel(n_jobs=-1)]: Done  20 out of  20 | elapsed:   48.7s remaining:    0.0s\n",
      "[Parallel(n_jobs=-1)]: Done  20 out of  20 | elapsed:   48.7s finished\n",
      "[Parallel(n_jobs=4)]: Using backend ThreadingBackend with 4 concurrent workers.\n",
      "[Parallel(n_jobs=4)]: Done  20 out of  20 | elapsed:    0.9s remaining:    0.0s\n",
      "[Parallel(n_jobs=4)]: Done  20 out of  20 | elapsed:    0.9s finished\n",
      "[Parallel(n_jobs=-1)]: Using backend LokyBackend with 4 concurrent workers.\n",
      "[Parallel(n_jobs=-1)]: Done  20 out of  20 | elapsed:   45.9s remaining:    0.0s\n",
      "[Parallel(n_jobs=-1)]: Done  20 out of  20 | elapsed:   45.9s finished\n",
      "[Parallel(n_jobs=4)]: Using backend ThreadingBackend with 4 concurrent workers.\n",
      "[Parallel(n_jobs=4)]: Done  20 out of  20 | elapsed:    0.9s remaining:    0.0s\n",
      "[Parallel(n_jobs=4)]: Done  20 out of  20 | elapsed:    0.9s finished\n",
      "[Parallel(n_jobs=-1)]: Using backend LokyBackend with 4 concurrent workers.\n",
      "[Parallel(n_jobs=-1)]: Done  20 out of  20 | elapsed:   46.2s remaining:    0.0s\n",
      "[Parallel(n_jobs=-1)]: Done  20 out of  20 | elapsed:   46.2s finished\n",
      "[Parallel(n_jobs=4)]: Using backend ThreadingBackend with 4 concurrent workers.\n"
     ]
    },
    {
     "name": "stdout",
     "output_type": "stream",
     "text": [
      "Scores: [39.84218271 39.72166349 39.7158717 ]\n",
      "Mean: 39.759905966694284\n",
      "Standard deviation: 0.05822647069269309\n"
     ]
    },
    {
     "name": "stderr",
     "output_type": "stream",
     "text": [
      "[Parallel(n_jobs=4)]: Done  20 out of  20 | elapsed:    0.9s remaining:    0.0s\n",
      "[Parallel(n_jobs=4)]: Done  20 out of  20 | elapsed:    0.9s finished\n"
     ]
    }
   ],
   "source": [
    "\n",
    "X_train, X_test, y_train, y_test = train_test_split(X_socat, y_socat, test_size=0.3, random_state= 73)\n",
    "\n",
    "regressor=RandomForestRegressor(n_estimators=20, random_state=42, verbose=3,n_jobs=-1, \n",
    "                                max_depth=10,warm_start= True)\n",
    "regressor.fit(X_train, y_train)\n",
    "\n",
    "def display_scores(scores):\n",
    "    print(\"Scores:\", scores)\n",
    "    print(\"Mean:\", scores.mean())\n",
    "    print(\"Standard deviation:\", scores.std())\n",
    "\n",
    "forest_scores = cross_val_score(regressor, X_train, y_train,\n",
    "                                scoring=\"neg_mean_squared_error\", cv=3)\n",
    "forest_rmse_scores = np.sqrt(-forest_scores)\n",
    "\n",
    "display_scores(forest_rmse_scores)"
   ]
  },
  {
   "cell_type": "code",
   "execution_count": null,
   "id": "83126bef-f1c6-40d8-bf12-400e06e5cb19",
   "metadata": {},
   "outputs": [
    {
     "name": "stderr",
     "output_type": "stream",
     "text": [
      "[Parallel(n_jobs=4)]: Using backend ThreadingBackend with 4 concurrent workers.\n",
      "[Parallel(n_jobs=4)]: Done  20 out of  20 | elapsed:    1.1s remaining:    0.0s\n",
      "[Parallel(n_jobs=4)]: Done  20 out of  20 | elapsed:    1.1s finished\n"
     ]
    },
    {
     "data": {
      "text/plain": [
       "39.70344219851587"
      ]
     },
     "execution_count": 15,
     "metadata": {},
     "output_type": "execute_result"
    }
   ],
   "source": [
    "y_pred=regressor.predict(X_test)\n",
    "test_mse=mean_squared_error(y_test, y_pred,squared=True)\n",
    "np.sqrt(test_mse)"
   ]
  },
  {
   "cell_type": "code",
   "execution_count": null,
   "id": "97e1219e-54d6-4904-84cd-8cf97dd6d4b3",
   "metadata": {},
   "outputs": [
    {
     "name": "stderr",
     "output_type": "stream",
     "text": [
      "[Parallel(n_jobs=4)]: Using backend ThreadingBackend with 4 concurrent workers.\n",
      "[Parallel(n_jobs=4)]: Done  20 out of  20 | elapsed:    1.3s remaining:    0.0s\n",
      "[Parallel(n_jobs=4)]: Done  20 out of  20 | elapsed:    1.3s finished\n"
     ]
    },
    {
     "data": {
      "text/plain": [
       "362.26302028572417"
      ]
     },
     "execution_count": 16,
     "metadata": {},
     "output_type": "execute_result"
    }
   ],
   "source": [
    "y_pred=regressor.predict(X)\n",
    "final_test_rmse=np.sqrt(mean_squared_error(y, y_pred,squared=True))\n",
    "error=y-y_pred\n",
    "\n",
    "final_test_rmse"
   ]
  },
  {
   "cell_type": "code",
   "execution_count": null,
   "id": "760501e9-2d3e-44f9-8d0f-4eab858b8e89",
   "metadata": {},
   "outputs": [],
   "source": [
    "## Full Data\n",
    "# rmse with MLD : 40.462 uatm -> 31.9733 uatm\n",
    "# rmse with Dist : 41.541 uatm -> 32.84 uatm with coordinate\n",
    "\n",
    "## Socat \n",
    "# # rmse with MLD : on full  348.32 uatm with coordinate"
   ]
  },
  {
   "cell_type": "code",
   "execution_count": null,
   "id": "8bdb8636-28d7-4f81-a6df-04f8bce7e373",
   "metadata": {},
   "outputs": [],
   "source": [
    "predicted_df = pd.DataFrame(X, columns = ['xlon', 'ylat','Chl','SST','SSS','XCO2'])\n",
    "#predicted_df = pd.DataFrame(X, columns = ['xlon', 'ylat','MLD','SST','SSS','Chl','XCO2'])\n",
    "predicted_df[\"pred\"] = y_pred"
   ]
  },
  {
   "cell_type": "code",
   "execution_count": null,
   "id": "508ce678-a7a6-4c90-92f6-f24b3328b6a6",
   "metadata": {},
   "outputs": [],
   "source": [
    "predicted_df[\"res\"] = error.to_numpy()\n",
    "predicted_df[\"true\"] = y.to_numpy()"
   ]
  },
  {
   "cell_type": "code",
   "execution_count": null,
   "id": "d174af88-372d-4e2b-8de6-70c31e27a8f4",
   "metadata": {},
   "outputs": [
    {
     "data": {
      "text/html": [
       "<div>\n",
       "<style scoped>\n",
       "    .dataframe tbody tr th:only-of-type {\n",
       "        vertical-align: middle;\n",
       "    }\n",
       "\n",
       "    .dataframe tbody tr th {\n",
       "        vertical-align: top;\n",
       "    }\n",
       "\n",
       "    .dataframe thead th {\n",
       "        text-align: right;\n",
       "    }\n",
       "</style>\n",
       "<table border=\"1\" class=\"dataframe\">\n",
       "  <thead>\n",
       "    <tr style=\"text-align: right;\">\n",
       "      <th></th>\n",
       "      <th>xlon</th>\n",
       "      <th>ylat</th>\n",
       "      <th>Chl</th>\n",
       "      <th>SST</th>\n",
       "      <th>SSS</th>\n",
       "      <th>XCO2</th>\n",
       "      <th>pred</th>\n",
       "      <th>res</th>\n",
       "      <th>true</th>\n",
       "    </tr>\n",
       "  </thead>\n",
       "  <tbody>\n",
       "    <tr>\n",
       "      <th>0</th>\n",
       "      <td>24.5</td>\n",
       "      <td>81.5</td>\n",
       "      <td>-1.899268</td>\n",
       "      <td>33.838451</td>\n",
       "      <td>0.000545</td>\n",
       "      <td>340.848541</td>\n",
       "      <td>0.082873</td>\n",
       "      <td>192.054715</td>\n",
       "      <td>192.137589</td>\n",
       "    </tr>\n",
       "    <tr>\n",
       "      <th>1</th>\n",
       "      <td>24.5</td>\n",
       "      <td>82.5</td>\n",
       "      <td>-1.898871</td>\n",
       "      <td>33.419563</td>\n",
       "      <td>0.000546</td>\n",
       "      <td>340.848541</td>\n",
       "      <td>0.082873</td>\n",
       "      <td>188.375165</td>\n",
       "      <td>188.458038</td>\n",
       "    </tr>\n",
       "    <tr>\n",
       "      <th>2</th>\n",
       "      <td>24.5</td>\n",
       "      <td>83.5</td>\n",
       "      <td>-1.899603</td>\n",
       "      <td>32.428059</td>\n",
       "      <td>0.000563</td>\n",
       "      <td>340.848541</td>\n",
       "      <td>0.082873</td>\n",
       "      <td>185.270398</td>\n",
       "      <td>185.353271</td>\n",
       "    </tr>\n",
       "    <tr>\n",
       "      <th>3</th>\n",
       "      <td>24.5</td>\n",
       "      <td>84.5</td>\n",
       "      <td>-1.899969</td>\n",
       "      <td>32.275085</td>\n",
       "      <td>0.000565</td>\n",
       "      <td>340.848541</td>\n",
       "      <td>0.082873</td>\n",
       "      <td>186.330350</td>\n",
       "      <td>186.413223</td>\n",
       "    </tr>\n",
       "    <tr>\n",
       "      <th>4</th>\n",
       "      <td>24.5</td>\n",
       "      <td>85.5</td>\n",
       "      <td>-1.899725</td>\n",
       "      <td>31.889830</td>\n",
       "      <td>0.000552</td>\n",
       "      <td>340.848541</td>\n",
       "      <td>0.066084</td>\n",
       "      <td>186.454683</td>\n",
       "      <td>186.520767</td>\n",
       "    </tr>\n",
       "  </tbody>\n",
       "</table>\n",
       "</div>"
      ],
      "text/plain": [
       "   xlon  ylat       Chl        SST       SSS        XCO2      pred  \\\n",
       "0  24.5  81.5 -1.899268  33.838451  0.000545  340.848541  0.082873   \n",
       "1  24.5  82.5 -1.898871  33.419563  0.000546  340.848541  0.082873   \n",
       "2  24.5  83.5 -1.899603  32.428059  0.000563  340.848541  0.082873   \n",
       "3  24.5  84.5 -1.899969  32.275085  0.000565  340.848541  0.082873   \n",
       "4  24.5  85.5 -1.899725  31.889830  0.000552  340.848541  0.066084   \n",
       "\n",
       "          res        true  \n",
       "0  192.054715  192.137589  \n",
       "1  188.375165  188.458038  \n",
       "2  185.270398  185.353271  \n",
       "3  186.330350  186.413223  \n",
       "4  186.454683  186.520767  "
      ]
     },
     "execution_count": 20,
     "metadata": {},
     "output_type": "execute_result"
    }
   ],
   "source": [
    "predicted_df.head()"
   ]
  },
  {
   "cell_type": "code",
   "execution_count": null,
   "id": "949a667e-a966-4b3e-b3e9-a62a02fec46a",
   "metadata": {},
   "outputs": [
    {
     "data": {
      "text/plain": [
       "(time          0\n",
       " XCO2          0\n",
       " xlon          0\n",
       " ylat          0\n",
       " Chl           0\n",
       " Chl_socat     0\n",
       " SST           0\n",
       " SST_socat     0\n",
       " SSS           0\n",
       " SSS_socat     0\n",
       " pCO2_socat    0\n",
       " pCO2          0\n",
       " dtype: int64,\n",
       " (10470600, 12))"
      ]
     },
     "execution_count": 21,
     "metadata": {},
     "output_type": "execute_result"
    }
   ],
   "source": [
    "later_df.isna().sum(), later_df.shape"
   ]
  },
  {
   "cell_type": "code",
   "execution_count": null,
   "id": "0df661c6-573d-4ace-b080-40b7908503cf",
   "metadata": {},
   "outputs": [],
   "source": [
    "later_df = later_df.reset_index(drop=True)"
   ]
  },
  {
   "cell_type": "code",
   "execution_count": null,
   "id": "00bb99a9-9b1d-4331-8dad-ae2b52d4505e",
   "metadata": {},
   "outputs": [
    {
     "data": {
      "text/html": [
       "<div>\n",
       "<style scoped>\n",
       "    .dataframe tbody tr th:only-of-type {\n",
       "        vertical-align: middle;\n",
       "    }\n",
       "\n",
       "    .dataframe tbody tr th {\n",
       "        vertical-align: top;\n",
       "    }\n",
       "\n",
       "    .dataframe thead th {\n",
       "        text-align: right;\n",
       "    }\n",
       "</style>\n",
       "<table border=\"1\" class=\"dataframe\">\n",
       "  <thead>\n",
       "    <tr style=\"text-align: right;\">\n",
       "      <th></th>\n",
       "      <th>time</th>\n",
       "      <th>XCO2</th>\n",
       "      <th>xlon</th>\n",
       "      <th>ylat</th>\n",
       "      <th>Chl</th>\n",
       "      <th>Chl_socat</th>\n",
       "      <th>SST</th>\n",
       "      <th>SST_socat</th>\n",
       "      <th>SSS</th>\n",
       "      <th>SSS_socat</th>\n",
       "      <th>pCO2_socat</th>\n",
       "      <th>pCO2</th>\n",
       "    </tr>\n",
       "  </thead>\n",
       "  <tbody>\n",
       "    <tr>\n",
       "      <th>0</th>\n",
       "      <td>1982-02</td>\n",
       "      <td>340.848541</td>\n",
       "      <td>24.5</td>\n",
       "      <td>81.5</td>\n",
       "      <td>0.000545</td>\n",
       "      <td>0.0</td>\n",
       "      <td>-1.899268</td>\n",
       "      <td>-0.0</td>\n",
       "      <td>33.838451</td>\n",
       "      <td>0.0</td>\n",
       "      <td>0.0</td>\n",
       "      <td>192.137589</td>\n",
       "    </tr>\n",
       "    <tr>\n",
       "      <th>1</th>\n",
       "      <td>1982-02</td>\n",
       "      <td>340.848541</td>\n",
       "      <td>24.5</td>\n",
       "      <td>82.5</td>\n",
       "      <td>0.000546</td>\n",
       "      <td>0.0</td>\n",
       "      <td>-1.898871</td>\n",
       "      <td>-0.0</td>\n",
       "      <td>33.419563</td>\n",
       "      <td>0.0</td>\n",
       "      <td>0.0</td>\n",
       "      <td>188.458038</td>\n",
       "    </tr>\n",
       "    <tr>\n",
       "      <th>2</th>\n",
       "      <td>1982-02</td>\n",
       "      <td>340.848541</td>\n",
       "      <td>24.5</td>\n",
       "      <td>83.5</td>\n",
       "      <td>0.000563</td>\n",
       "      <td>0.0</td>\n",
       "      <td>-1.899603</td>\n",
       "      <td>-0.0</td>\n",
       "      <td>32.428059</td>\n",
       "      <td>0.0</td>\n",
       "      <td>0.0</td>\n",
       "      <td>185.353271</td>\n",
       "    </tr>\n",
       "    <tr>\n",
       "      <th>3</th>\n",
       "      <td>1982-02</td>\n",
       "      <td>340.848541</td>\n",
       "      <td>24.5</td>\n",
       "      <td>84.5</td>\n",
       "      <td>0.000565</td>\n",
       "      <td>0.0</td>\n",
       "      <td>-1.899969</td>\n",
       "      <td>-0.0</td>\n",
       "      <td>32.275085</td>\n",
       "      <td>0.0</td>\n",
       "      <td>0.0</td>\n",
       "      <td>186.413223</td>\n",
       "    </tr>\n",
       "    <tr>\n",
       "      <th>4</th>\n",
       "      <td>1982-02</td>\n",
       "      <td>340.848541</td>\n",
       "      <td>24.5</td>\n",
       "      <td>85.5</td>\n",
       "      <td>0.000552</td>\n",
       "      <td>0.0</td>\n",
       "      <td>-1.899725</td>\n",
       "      <td>-0.0</td>\n",
       "      <td>31.889830</td>\n",
       "      <td>0.0</td>\n",
       "      <td>0.0</td>\n",
       "      <td>186.520767</td>\n",
       "    </tr>\n",
       "  </tbody>\n",
       "</table>\n",
       "</div>"
      ],
      "text/plain": [
       "      time        XCO2  xlon  ylat       Chl  Chl_socat       SST  SST_socat  \\\n",
       "0  1982-02  340.848541  24.5  81.5  0.000545        0.0 -1.899268       -0.0   \n",
       "1  1982-02  340.848541  24.5  82.5  0.000546        0.0 -1.898871       -0.0   \n",
       "2  1982-02  340.848541  24.5  83.5  0.000563        0.0 -1.899603       -0.0   \n",
       "3  1982-02  340.848541  24.5  84.5  0.000565        0.0 -1.899969       -0.0   \n",
       "4  1982-02  340.848541  24.5  85.5  0.000552        0.0 -1.899725       -0.0   \n",
       "\n",
       "         SSS  SSS_socat  pCO2_socat        pCO2  \n",
       "0  33.838451        0.0         0.0  192.137589  \n",
       "1  33.419563        0.0         0.0  188.458038  \n",
       "2  32.428059        0.0         0.0  185.353271  \n",
       "3  32.275085        0.0         0.0  186.413223  \n",
       "4  31.889830        0.0         0.0  186.520767  "
      ]
     },
     "execution_count": 23,
     "metadata": {},
     "output_type": "execute_result"
    }
   ],
   "source": [
    "later_df.head()"
   ]
  },
  {
   "cell_type": "code",
   "execution_count": 24,
   "id": "219e68d6-91ab-463f-819e-62626b696c09",
   "metadata": {},
   "outputs": [
    {
     "data": {
      "text/plain": [
       "(xlon    0\n",
       " ylat    0\n",
       " Chl     0\n",
       " SST     0\n",
       " SSS     0\n",
       " XCO2    0\n",
       " pred    0\n",
       " res     0\n",
       " true    0\n",
       " dtype: int64,\n",
       " (10470600, 9))"
      ]
     },
     "execution_count": 24,
     "metadata": {},
     "output_type": "execute_result"
    }
   ],
   "source": [
    "predicted_df.isna().sum(), predicted_df.shape"
   ]
  },
  {
   "cell_type": "code",
   "execution_count": 25,
   "id": "6ceb745c-5544-403a-a83f-8d7e5d302f1e",
   "metadata": {},
   "outputs": [
    {
     "data": {
      "text/html": [
       "<div>\n",
       "<style scoped>\n",
       "    .dataframe tbody tr th:only-of-type {\n",
       "        vertical-align: middle;\n",
       "    }\n",
       "\n",
       "    .dataframe tbody tr th {\n",
       "        vertical-align: top;\n",
       "    }\n",
       "\n",
       "    .dataframe thead th {\n",
       "        text-align: right;\n",
       "    }\n",
       "</style>\n",
       "<table border=\"1\" class=\"dataframe\">\n",
       "  <thead>\n",
       "    <tr style=\"text-align: right;\">\n",
       "      <th></th>\n",
       "      <th>xlon</th>\n",
       "      <th>ylat</th>\n",
       "      <th>Chl</th>\n",
       "      <th>SST</th>\n",
       "      <th>SSS</th>\n",
       "      <th>XCO2</th>\n",
       "      <th>pred</th>\n",
       "      <th>res</th>\n",
       "      <th>true</th>\n",
       "    </tr>\n",
       "  </thead>\n",
       "  <tbody>\n",
       "    <tr>\n",
       "      <th>0</th>\n",
       "      <td>24.5</td>\n",
       "      <td>81.5</td>\n",
       "      <td>-1.899268</td>\n",
       "      <td>33.838451</td>\n",
       "      <td>0.000545</td>\n",
       "      <td>340.848541</td>\n",
       "      <td>0.082873</td>\n",
       "      <td>192.054715</td>\n",
       "      <td>192.137589</td>\n",
       "    </tr>\n",
       "    <tr>\n",
       "      <th>1</th>\n",
       "      <td>24.5</td>\n",
       "      <td>82.5</td>\n",
       "      <td>-1.898871</td>\n",
       "      <td>33.419563</td>\n",
       "      <td>0.000546</td>\n",
       "      <td>340.848541</td>\n",
       "      <td>0.082873</td>\n",
       "      <td>188.375165</td>\n",
       "      <td>188.458038</td>\n",
       "    </tr>\n",
       "    <tr>\n",
       "      <th>2</th>\n",
       "      <td>24.5</td>\n",
       "      <td>83.5</td>\n",
       "      <td>-1.899603</td>\n",
       "      <td>32.428059</td>\n",
       "      <td>0.000563</td>\n",
       "      <td>340.848541</td>\n",
       "      <td>0.082873</td>\n",
       "      <td>185.270398</td>\n",
       "      <td>185.353271</td>\n",
       "    </tr>\n",
       "    <tr>\n",
       "      <th>3</th>\n",
       "      <td>24.5</td>\n",
       "      <td>84.5</td>\n",
       "      <td>-1.899969</td>\n",
       "      <td>32.275085</td>\n",
       "      <td>0.000565</td>\n",
       "      <td>340.848541</td>\n",
       "      <td>0.082873</td>\n",
       "      <td>186.330350</td>\n",
       "      <td>186.413223</td>\n",
       "    </tr>\n",
       "    <tr>\n",
       "      <th>4</th>\n",
       "      <td>24.5</td>\n",
       "      <td>85.5</td>\n",
       "      <td>-1.899725</td>\n",
       "      <td>31.889830</td>\n",
       "      <td>0.000552</td>\n",
       "      <td>340.848541</td>\n",
       "      <td>0.066084</td>\n",
       "      <td>186.454683</td>\n",
       "      <td>186.520767</td>\n",
       "    </tr>\n",
       "  </tbody>\n",
       "</table>\n",
       "</div>"
      ],
      "text/plain": [
       "   xlon  ylat       Chl        SST       SSS        XCO2      pred  \\\n",
       "0  24.5  81.5 -1.899268  33.838451  0.000545  340.848541  0.082873   \n",
       "1  24.5  82.5 -1.898871  33.419563  0.000546  340.848541  0.082873   \n",
       "2  24.5  83.5 -1.899603  32.428059  0.000563  340.848541  0.082873   \n",
       "3  24.5  84.5 -1.899969  32.275085  0.000565  340.848541  0.082873   \n",
       "4  24.5  85.5 -1.899725  31.889830  0.000552  340.848541  0.066084   \n",
       "\n",
       "          res        true  \n",
       "0  192.054715  192.137589  \n",
       "1  188.375165  188.458038  \n",
       "2  185.270398  185.353271  \n",
       "3  186.330350  186.413223  \n",
       "4  186.454683  186.520767  "
      ]
     },
     "execution_count": 25,
     "metadata": {},
     "output_type": "execute_result"
    },
    {
     "name": "stdout",
     "output_type": "stream",
     "text": [
      "building tree 2 of 20\n",
      "building tree 7 of 20\n",
      "building tree 9 of 20\n",
      "building tree 13 of 20\n",
      "building tree 17 of 20\n",
      "building tree 1 of 20\n",
      "building tree 6 of 20\n",
      "building tree 10 of 20\n",
      "building tree 15 of 20\n",
      "building tree 18 of 20\n",
      "building tree 4 of 20\n",
      "building tree 5 of 20\n",
      "building tree 9 of 20\n",
      "building tree 14 of 20\n",
      "building tree 17 of 20\n",
      "building tree 4 of 20\n",
      "building tree 8 of 20\n",
      "building tree 12 of 20\n",
      "building tree 16 of 20\n",
      "building tree 19 of 20\n",
      "building tree 3 of 20\n",
      "building tree 8 of 20\n",
      "building tree 12 of 20\n",
      "building tree 14 of 20\n",
      "building tree 19 of 20\n",
      "building tree 2 of 20\n",
      "building tree 6 of 20\n",
      "building tree 11 of 20\n",
      "building tree 13 of 20\n",
      "building tree 18 of 20\n",
      "building tree 1 of 20\n",
      "building tree 5 of 20\n",
      "building tree 11 of 20\n",
      "building tree 15 of 20\n",
      "building tree 18 of 20\n",
      "building tree 2 of 20\n",
      "building tree 5 of 20\n",
      "building tree 9 of 20\n",
      "building tree 16 of 20\n",
      "building tree 17 of 20\n",
      "building tree 1 of 20\n",
      "building tree 8 of 20\n",
      "building tree 12 of 20\n",
      "building tree 16 of 20\n",
      "building tree 19 of 20\n",
      "building tree 3 of 20\n",
      "building tree 6 of 20\n",
      "building tree 10 of 20\n",
      "building tree 14 of 20\n",
      "building tree 20 of 20\n",
      "building tree 4 of 20\n",
      "building tree 7 of 20\n",
      "building tree 11 of 20\n",
      "building tree 13 of 20\n",
      "building tree 20 of 20\n",
      "building tree 3 of 20\n",
      "building tree 7 of 20\n",
      "building tree 10 of 20\n",
      "building tree 15 of 20\n",
      "building tree 20 of 20\n"
     ]
    }
   ],
   "source": [
    "predicted_df.head()"
   ]
  },
  {
   "cell_type": "code",
   "execution_count": 26,
   "id": "b0dc928c-81c5-44d0-9069-97646538625f",
   "metadata": {},
   "outputs": [],
   "source": [
    "#new_df = pd.merge(later_df, predicted_df,  how='inner', left_on=['xlon', 'ylat','MLD','SST','SSS','Chl','XCO2'], right_on = ['xlon', 'ylat','MLD','SST','SSS','Chl','XCO2'])\n",
    "new_df = pd.merge(later_df, predicted_df,  how='inner', \n",
    "                  left_on=['xlon', 'ylat','SST','SSS','Chl','XCO2'], \n",
    "                  right_on = ['xlon', 'ylat','SST','SSS','Chl','XCO2'])\n",
    "\n",
    "\n",
    "\n"
   ]
  },
  {
   "cell_type": "code",
   "execution_count": 29,
   "id": "3da8b5be-d1e3-4b4b-800f-4f8cb3bab913",
   "metadata": {},
   "outputs": [
    {
     "data": {
      "text/html": [
       "<div>\n",
       "<style scoped>\n",
       "    .dataframe tbody tr th:only-of-type {\n",
       "        vertical-align: middle;\n",
       "    }\n",
       "\n",
       "    .dataframe tbody tr th {\n",
       "        vertical-align: top;\n",
       "    }\n",
       "\n",
       "    .dataframe thead th {\n",
       "        text-align: right;\n",
       "    }\n",
       "</style>\n",
       "<table border=\"1\" class=\"dataframe\">\n",
       "  <thead>\n",
       "    <tr style=\"text-align: right;\">\n",
       "      <th></th>\n",
       "      <th>time</th>\n",
       "      <th>XCO2</th>\n",
       "      <th>xlon</th>\n",
       "      <th>ylat</th>\n",
       "      <th>Chl</th>\n",
       "      <th>Chl_socat</th>\n",
       "      <th>SST</th>\n",
       "      <th>SST_socat</th>\n",
       "      <th>SSS</th>\n",
       "      <th>SSS_socat</th>\n",
       "      <th>pCO2_socat</th>\n",
       "      <th>pCO2</th>\n",
       "      <th>pred</th>\n",
       "      <th>res</th>\n",
       "      <th>true</th>\n",
       "    </tr>\n",
       "  </thead>\n",
       "  <tbody>\n",
       "  </tbody>\n",
       "</table>\n",
       "</div>"
      ],
      "text/plain": [
       "Empty DataFrame\n",
       "Columns: [time, XCO2, xlon, ylat, Chl, Chl_socat, SST, SST_socat, SSS, SSS_socat, pCO2_socat, pCO2, pred, res, true]\n",
       "Index: []"
      ]
     },
     "execution_count": 29,
     "metadata": {},
     "output_type": "execute_result"
    }
   ],
   "source": []
  },
  {
   "cell_type": "code",
   "execution_count": 28,
   "id": "742da1d6-5335-4666-9e2b-ac12f29c0af8",
   "metadata": {},
   "outputs": [
    {
     "data": {
      "text/plain": [
       "time          0.0\n",
       "XCO2          0.0\n",
       "xlon          0.0\n",
       "ylat          0.0\n",
       "Chl           0.0\n",
       "Chl_socat     0.0\n",
       "SST           0.0\n",
       "SST_socat     0.0\n",
       "SSS           0.0\n",
       "SSS_socat     0.0\n",
       "pCO2_socat    0.0\n",
       "pCO2          0.0\n",
       "pred          0.0\n",
       "res           0.0\n",
       "true          0.0\n",
       "dtype: float64"
      ]
     },
     "execution_count": 28,
     "metadata": {},
     "output_type": "execute_result"
    }
   ],
   "source": [
    "new_df.isna().sum()"
   ]
  },
  {
   "cell_type": "code",
   "execution_count": null,
   "id": "f214dc71-0f14-428e-b7ee-4d0e1cfd3c81",
   "metadata": {},
   "outputs": [],
   "source": [
    "col_names = [\"time\",\"lon\",\"lat\",\"pred\"]\n",
    "pred_df = new_df[[\"time\",\"xlon\",\"ylat\",\"pred\"]]\n",
    "pred_df.columns = col_names\n",
    "pred_df['time'] = pd.to_datetime(pred_df['time'])\n",
    "pred_df = pred_df.set_index([\"time\",\"lat\",\"lon\"])\n",
    "\n",
    "\n",
    "col_names = [\"time\",\"lon\",\"lat\",\"res\"]\n",
    "\n",
    "res_df = new_df[[\"time\",\"xlon\",\"ylat\",\"res\"]]\n",
    "res_df.columns = col_names\n",
    "res_df['time'] = pd.to_datetime(res_df['time'])\n",
    "res_df = res_df.set_index([\"time\",\"lat\",\"lon\"])\n",
    "\n",
    "\n",
    "pred_xarray = pred_df.to_xarray()\n",
    "res_xarray = res_df.to_xarray()"
   ]
  },
  {
   "cell_type": "code",
   "execution_count": 30,
   "id": "1656618d-6ee2-4db3-8032-938c828d3a35",
   "metadata": {},
   "outputs": [
    {
     "data": {
      "text/plain": [
       "<matplotlib.collections.QuadMesh at 0x1554115981c0>"
      ]
     },
     "execution_count": 30,
     "metadata": {},
     "output_type": "execute_result"
    },
    {
     "data": {
      "image/png": "[encoded data removed]",
      "text/plain": [
       "<Figure size 432x288 with 2 Axes>"
      ]
     },
     "metadata": {
      "needs_background": "light"
     },
     "output_type": "display_data"
    }
   ],
   "source": [
    "pred_xarray.pred[419].plot()"
   ]
  },
  {
   "cell_type": "code",
   "execution_count": 31,
   "id": "31f7c776-4188-4c7f-8143-075241ba4b5c",
   "metadata": {},
   "outputs": [
    {
     "data": {
      "text/plain": [
       "<matplotlib.collections.QuadMesh at 0x155454813880>"
      ]
     },
     "execution_count": 31,
     "metadata": {},
     "output_type": "execute_result"
    },
    {
     "data": {
      "image/png": "[encoded data removed]",
      "text/plain": [
       "<Figure size 432x288 with 2 Axes>"
      ]
     },
     "metadata": {
      "needs_background": "light"
     },
     "output_type": "display_data"
    }
   ],
   "source": [
    "res_xarray.res[419].plot()"
   ]
  },
  {
   "cell_type": "code",
   "execution_count": 32,
   "id": "7586d58a-540c-407d-afdc-1110347ef99a",
   "metadata": {},
   "outputs": [
    {
     "name": "stderr",
     "output_type": "stream",
     "text": [
      "/tmp/ipykernel_33320/3732057223.py:4: SettingWithCopyWarning: \n",
      "A value is trying to be set on a copy of a slice from a DataFrame.\n",
      "Try using .loc[row_indexer,col_indexer] = value instead\n",
      "\n",
      "See the caveats in the documentation: https://pandas.pydata.org/pandas-docs/stable/user_guide/indexing.html#returning-a-view-versus-a-copy\n",
      "  true_df['time'] = pd.to_datetime(true_df['time'])\n"
     ]
    },
    {
     "data": {
      "text/plain": [
       "<matplotlib.collections.QuadMesh at 0x1553a04d3490>"
      ]
     },
     "execution_count": 32,
     "metadata": {},
     "output_type": "execute_result"
    },
    {
     "data": {
      "image/png": "[encoded data removed]",
      "text/plain": [
       "<Figure size 432x288 with 2 Axes>"
      ]
     },
     "metadata": {
      "needs_background": "light"
     },
     "output_type": "display_data"
    }
   ],
   "source": [
    "col_names = [\"time\",\"lon\",\"lat\",\"true\"]\n",
    "true_df = new_df[[\"time\",\"xlon\",\"ylat\",\"true\"]]\n",
    "true_df.columns = col_names\n",
    "true_df['time'] = pd.to_datetime(true_df['time'])\n",
    "true_df = true_df.set_index([\"time\",\"lat\",\"lon\"])\n",
    "\n",
    "\n",
    "true_xarray = true_df.to_xarray()\n",
    "\n",
    "true_xarray.true[419].plot()"
   ]
  },
  {
   "cell_type": "code",
   "execution_count": 33,
   "id": "ee9cd5d2-52bf-4fcc-accb-5ae199ffd0c6",
   "metadata": {},
   "outputs": [
    {
     "data": {
      "text/plain": [
       "<matplotlib.collections.QuadMesh at 0x1553ab8b37f0>"
      ]
     },
     "execution_count": 33,
     "metadata": {},
     "output_type": "execute_result"
    },
    {
     "data": {
      "image/png": "[encoded data removed]",
      "text/plain": [
       "<Figure size 432x288 with 2 Axes>"
      ]
     },
     "metadata": {
      "needs_background": "light"
     },
     "output_type": "display_data"
    }
   ],
   "source": [
    "pco2.pCO2[419].plot()"
   ]
  },
  {
   "cell_type": "code",
   "execution_count": null,
   "id": "f300a83e-0d7b-431a-97c3-91a6941ded6b",
   "metadata": {},
   "outputs": [],
   "source": []
  }
 ],
 "metadata": {
  "kernelspec": {
   "display_name": "venv2",
   "language": "python",
   "name": "venv2"
  },
  "language_info": {
   "codemirror_mode": {
    "name": "ipython",
    "version": 3
   },
   "file_extension": ".py",
   "mimetype": "text/x-python",
   "name": "python",
   "nbconvert_exporter": "python",
   "pygments_lexer": "ipython3",
   "version": "3.8.5"
  }
 },
 "nbformat": 4,
 "nbformat_minor": 5
}

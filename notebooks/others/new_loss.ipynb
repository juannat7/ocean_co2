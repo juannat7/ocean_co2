{
 "cells": [
  {
   "cell_type": "markdown",
   "metadata": {},
   "source": [
    "# Modifications\n",
    "\n",
    "- new loss function, eliminate the continent, so we can really focus on the ~ocean~ -> not a good idea; knowing the information on where the continent is matters?\n",
    "- kernel size to 5? Experiment! -> works well on simpler model\n",
    "- also want to see the generalization capability of the model -> works well"
   ]
  },
  {
   "cell_type": "code",
   "execution_count": 61,
   "metadata": {},
   "outputs": [],
   "source": [
    "import imp\n",
    "import matplotlib.pyplot as plt\n",
    "import numpy as np\n",
    "import pandas as pd\n",
    "import xarray as xr\n",
    "import sys\n",
    "import tensorflow as tf\n",
    "from tensorflow import keras\n",
    "import os\n",
    "from sklearn.model_selection import train_test_split\n",
    "tf.random.set_seed(42)\n",
    "\n",
    "sys.path.insert(0, '../src')\n",
    "\n",
    "from utils import df_to_xarray,read_xarray,plot_image"
   ]
  },
  {
   "cell_type": "code",
   "execution_count": 62,
   "metadata": {},
   "outputs": [],
   "source": [
    "# Reading Data\n",
    "dir_name=\"../data/data1\"\n",
    "val_dir_name=\"../data/data2\"\n",
    "\n",
    "\n",
    "chl,mld,sss,sst,u10,fg_co2,xco2,icefrac,patm,pco2=read_xarray(dir_name)\n",
    "\n"
   ]
  },
  {
   "cell_type": "code",
   "execution_count": 96,
   "metadata": {},
   "outputs": [],
   "source": [
    "def convert_nan(arr):\n",
    "    nans=np.isnan(arr)\n",
    "    min_val=arr[~nans].min()\n",
    "    #print(min_val)\n",
    "    arr[nans]=min_val-1\n",
    "    return arr\n",
    "\n",
    "def add_dimension(arr):\n",
    "    images=np.expand_dims(arr, axis=3)\n",
    "    return images\n",
    "\n",
    "def scale_image(arr):\n",
    "    ## Normal\n",
    "    #arr=(arr-np.mean(arr))/np.std(arr)\n",
    "    \n",
    "    ## Min-Max\n",
    "    # min_val=arr.min()\n",
    "    # max_val=arr.max()\n",
    "    # arr=arr/(min_val-max_val)\n",
    "\n",
    "    ## Image Scale\n",
    "    min_pixel = arr.min() \n",
    "    max_pixel = arr.max()\n",
    "    new_min = 0\n",
    "    new_max = 255\n",
    "    arr = (arr-min_pixel)*(255)/(max_pixel-min_pixel) \n",
    "    return arr\n",
    "  \n",
    "\n",
    "def preprocess_image_reduced(data,xco2=False):\n",
    "    if xco2:\n",
    "        return data\n",
    "    return scale_image(convert_nan(data))"
   ]
  },
  {
   "cell_type": "code",
   "execution_count": 108,
   "metadata": {},
   "outputs": [],
   "source": [
    "def inverse_scale_image(arr, df):\n",
    "    old_min = np.min(df)\n",
    "    old_max = np.max(df)\n",
    "    output = arr*(old_max-old_min)/255 + old_min\n",
    "    return output"
   ]
  },
  {
   "cell_type": "code",
   "execution_count": 97,
   "metadata": {},
   "outputs": [
    {
     "name": "stdout",
     "output_type": "stream",
     "text": [
      "340.84854 407.2084\n",
      "\n",
      "xco2 shape: \n",
      "(421, 180, 360) (421, 180, 360)\n"
     ]
    }
   ],
   "source": [
    "#xco2 values are a constant value across the globe, so creating an image layer with constant value for the model\n",
    "xco2_images=[]\n",
    "min_xco2=np.min(xco2.XCO2.data)\n",
    "max_xco2=np.max(xco2.XCO2.data)\n",
    "new_min=0\n",
    "new_max=255\n",
    "print(min_xco2, max_xco2)\n",
    "print()\n",
    "\n",
    "\n",
    "for i in xco2.XCO2.data:\n",
    "    num = (i-min_xco2)*(new_max-new_min)/(max_xco2-min_xco2)+new_min\n",
    "    tmp = (np.repeat(num,180*360)).reshape(180,-1)\n",
    "    xco2_images.append(tmp)\n",
    "\n",
    "xco2_images=np.array(xco2_images)\n",
    "\n",
    "print(\"xco2 shape: \")\n",
    "print(xco2_images.shape, chl.Chl.data.shape)\n",
    "\n",
    "\n",
    "chl_images=preprocess_image_reduced(chl.Chl.data)\n",
    "mld_images=preprocess_image_reduced(mld.MLD.data)\n",
    "sss_images=preprocess_image_reduced(sss.SSS.data)\n",
    "sst_images=preprocess_image_reduced(sst.SST.data)\n",
    "xco2_images=preprocess_image_reduced(xco2_images,xco2=True)\n",
    "pco2_images=preprocess_image_reduced(pco2.pCO2.data)\n",
    "\n",
    "X = np.stack((chl_images, mld_images, sss_images, sst_images,xco2_images), axis = 1)\n"
   ]
  },
  {
   "cell_type": "code",
   "execution_count": 98,
   "metadata": {},
   "outputs": [
    {
     "data": {
      "text/plain": [
       "(421, 180, 360, 5)"
      ]
     },
     "execution_count": 98,
     "metadata": {},
     "output_type": "execute_result"
    }
   ],
   "source": [
    "X=X.reshape((421,180,360,5))\n",
    "X.shape"
   ]
  },
  {
   "cell_type": "code",
   "execution_count": 99,
   "metadata": {},
   "outputs": [
    {
     "data": {
      "text/plain": [
       "(180, 360, 5)"
      ]
     },
     "execution_count": 99,
     "metadata": {},
     "output_type": "execute_result"
    }
   ],
   "source": [
    "INPUT_SHAPE=X[0].shape\n",
    "OUTPUT_SHAPE=pco2_images[0].shape\n",
    "\n",
    "INPUT_SHAPE"
   ]
  },
  {
   "cell_type": "code",
   "execution_count": 100,
   "metadata": {},
   "outputs": [],
   "source": [
    "import tensorflow.keras.backend as kb\n",
    "import tensorflow as tf\n",
    "from tensorflow.keras import backend as K\n",
    "\n",
    "\n",
    "def custom_rmse(y_true, y_pred):\n",
    "#     y_pred = y_pred[y_true != 0]\n",
    "#     y_true = y_true[y_true != 0]\n",
    "    y_pred = tf.convert_to_tensor(y_pred)\n",
    "    y_true = tf.cast(y_true, y_pred.dtype)\n",
    "    \n",
    "    return K.sqrt(K.mean(tf.math.squared_difference(y_pred, y_true), axis=-1))\n",
    "\n"
   ]
  },
  {
   "cell_type": "code",
   "execution_count": 101,
   "metadata": {},
   "outputs": [
    {
     "name": "stdout",
     "output_type": "stream",
     "text": [
      "Model: \"sequential_22\"\n",
      "_________________________________________________________________\n",
      "Layer (type)                 Output Shape              Param #   \n",
      "=================================================================\n",
      "conv2d_194 (Conv2D)          (None, 180, 360, 64)      8064      \n",
      "_________________________________________________________________\n",
      "conv2d_195 (Conv2D)          (None, 180, 360, 64)      102464    \n",
      "_________________________________________________________________\n",
      "max_pooling2d_32 (MaxPooling (None, 60, 120, 64)       0         \n",
      "_________________________________________________________________\n",
      "dropout_32 (Dropout)         (None, 60, 120, 64)       0         \n",
      "_________________________________________________________________\n",
      "conv2d_196 (Conv2D)          (None, 60, 120, 128)      204928    \n",
      "_________________________________________________________________\n",
      "conv2d_197 (Conv2D)          (None, 60, 120, 128)      409728    \n",
      "_________________________________________________________________\n",
      "up_sampling2d_32 (UpSampling (None, 180, 360, 128)     0         \n",
      "_________________________________________________________________\n",
      "conv2d_198 (Conv2D)          (None, 180, 360, 64)      204864    \n",
      "_________________________________________________________________\n",
      "conv2d_199 (Conv2D)          (None, 180, 360, 2)       3202      \n",
      "_________________________________________________________________\n",
      "conv2d_200 (Conv2D)          (None, 180, 360, 1)       3         \n",
      "_________________________________________________________________\n",
      "reshape_22 (Reshape)         (None, 180, 360)          0         \n",
      "=================================================================\n",
      "Total params: 933,253\n",
      "Trainable params: 933,253\n",
      "Non-trainable params: 0\n",
      "_________________________________________________________________\n"
     ]
    }
   ],
   "source": [
    "from functools import partial\n",
    "\n",
    "DefaultConv2D = partial(keras.layers.Conv2D,\n",
    "                        kernel_size=5,activation='elu', padding=\"SAME\")\n",
    "\n",
    "base_model = keras.models.Sequential([\n",
    "    DefaultConv2D(filters=64, input_shape=INPUT_SHAPE),\n",
    "    DefaultConv2D(filters=64),\n",
    "    keras.layers.MaxPooling2D(pool_size=3),\n",
    "    keras.layers.BatchNormalization(),\n",
    "    keras.layers.Dropout(0.3),\n",
    "\n",
    "    DefaultConv2D(filters=128),\n",
    "    DefaultConv2D(filters=128),\n",
    "\n",
    "    keras.layers.UpSampling2D(size=3),\n",
    "    keras.layers.BatchNormalization(),\n",
    "    DefaultConv2D(filters=64),    \n",
    "    DefaultConv2D(filters=2),\n",
    "    DefaultConv2D(filters=1,kernel_size=1),\n",
    "    keras.layers.Reshape(OUTPUT_SHAPE)\n",
    "   \n",
    "])\n",
    "\n",
    "\n",
    "\n",
    "## BEST SO FAR ##\n",
    "\n",
    "base_model.summary()"
   ]
  },
  {
   "cell_type": "code",
   "execution_count": 102,
   "metadata": {},
   "outputs": [],
   "source": [
    "base_model.compile(loss=custom_rmse, optimizer=\"nadam\", metrics=[\"mean_squared_error\"])"
   ]
  },
  {
   "cell_type": "code",
   "execution_count": 114,
   "metadata": {},
   "outputs": [
    {
     "name": "stdout",
     "output_type": "stream",
     "text": [
      "Epoch 1/100\n",
      "14/14 [==============================] - 11s 527ms/step - loss: 19.9659 - mean_squared_error: 494.5015 - val_loss: 26.4264 - val_mean_squared_error: 979.5381\n",
      "Epoch 2/100\n",
      "14/14 [==============================] - 6s 460ms/step - loss: 26.5675 - mean_squared_error: 904.6233 - val_loss: 20.9560 - val_mean_squared_error: 539.1412\n",
      "Epoch 3/100\n",
      "14/14 [==============================] - 6s 461ms/step - loss: 19.6132 - mean_squared_error: 483.2688 - val_loss: 18.4748 - val_mean_squared_error: 436.7166\n",
      "Epoch 4/100\n",
      "14/14 [==============================] - 6s 459ms/step - loss: 18.9437 - mean_squared_error: 454.3122 - val_loss: 19.7360 - val_mean_squared_error: 479.9722\n",
      "Epoch 5/100\n",
      "14/14 [==============================] - 6s 461ms/step - loss: 18.5683 - mean_squared_error: 439.8395 - val_loss: 16.9600 - val_mean_squared_error: 376.2731\n",
      "Epoch 6/100\n",
      "14/14 [==============================] - 6s 463ms/step - loss: 17.9612 - mean_squared_error: 412.3351 - val_loss: 19.8302 - val_mean_squared_error: 504.3185\n",
      "Epoch 7/100\n",
      "14/14 [==============================] - 6s 461ms/step - loss: 17.6480 - mean_squared_error: 403.6647 - val_loss: 16.6386 - val_mean_squared_error: 370.9091\n",
      "Epoch 8/100\n",
      "14/14 [==============================] - 6s 460ms/step - loss: 17.0121 - mean_squared_error: 378.2591 - val_loss: 18.4335 - val_mean_squared_error: 446.4188\n",
      "Epoch 9/100\n",
      "14/14 [==============================] - 6s 461ms/step - loss: 16.7157 - mean_squared_error: 367.8140 - val_loss: 17.3423 - val_mean_squared_error: 387.9967\n",
      "Epoch 10/100\n",
      "14/14 [==============================] - 6s 461ms/step - loss: 17.2140 - mean_squared_error: 387.4208 - val_loss: 15.8879 - val_mean_squared_error: 338.5439\n",
      "Epoch 11/100\n",
      "14/14 [==============================] - 6s 461ms/step - loss: 16.0919 - mean_squared_error: 345.7223 - val_loss: 17.1172 - val_mean_squared_error: 385.3438\n",
      "Epoch 12/100\n",
      "14/14 [==============================] - 6s 460ms/step - loss: 16.3582 - mean_squared_error: 356.9786 - val_loss: 17.7258 - val_mean_squared_error: 413.2952\n",
      "Epoch 13/100\n",
      "14/14 [==============================] - 6s 461ms/step - loss: 15.9419 - mean_squared_error: 340.7727 - val_loss: 14.9981 - val_mean_squared_error: 314.7268\n",
      "Epoch 14/100\n",
      "14/14 [==============================] - 6s 461ms/step - loss: 15.1266 - mean_squared_error: 314.5404 - val_loss: 14.6588 - val_mean_squared_error: 299.4993\n",
      "Epoch 15/100\n",
      "14/14 [==============================] - 6s 462ms/step - loss: 15.2427 - mean_squared_error: 318.5935 - val_loss: 15.2498 - val_mean_squared_error: 317.5025\n",
      "Epoch 16/100\n",
      "14/14 [==============================] - 6s 461ms/step - loss: 15.1858 - mean_squared_error: 320.5263 - val_loss: 14.7295 - val_mean_squared_error: 306.0988\n",
      "Epoch 17/100\n",
      "14/14 [==============================] - 6s 462ms/step - loss: 14.6573 - mean_squared_error: 301.6240 - val_loss: 13.8664 - val_mean_squared_error: 278.9364\n",
      "Epoch 18/100\n",
      "14/14 [==============================] - 6s 460ms/step - loss: 14.1655 - mean_squared_error: 285.8064 - val_loss: 14.4200 - val_mean_squared_error: 293.1123\n",
      "Epoch 19/100\n",
      "14/14 [==============================] - 6s 461ms/step - loss: 14.4258 - mean_squared_error: 294.0932 - val_loss: 14.5342 - val_mean_squared_error: 307.3265\n",
      "Epoch 20/100\n",
      "14/14 [==============================] - 6s 460ms/step - loss: 14.3509 - mean_squared_error: 292.1238 - val_loss: 13.0689 - val_mean_squared_error: 255.4649\n",
      "Epoch 21/100\n",
      "14/14 [==============================] - 6s 461ms/step - loss: 13.5423 - mean_squared_error: 269.0179 - val_loss: 16.5990 - val_mean_squared_error: 359.3656\n",
      "Epoch 22/100\n",
      "14/14 [==============================] - 6s 462ms/step - loss: 14.1812 - mean_squared_error: 287.3433 - val_loss: 13.2857 - val_mean_squared_error: 260.9116\n",
      "Epoch 23/100\n",
      "14/14 [==============================] - 6s 461ms/step - loss: 13.1219 - mean_squared_error: 256.3207 - val_loss: 14.0498 - val_mean_squared_error: 280.2914\n",
      "Epoch 24/100\n",
      "14/14 [==============================] - 6s 461ms/step - loss: 13.5590 - mean_squared_error: 268.2125 - val_loss: 13.1922 - val_mean_squared_error: 265.2424\n",
      "Epoch 25/100\n",
      "14/14 [==============================] - 6s 460ms/step - loss: 13.1619 - mean_squared_error: 258.1656 - val_loss: 12.3795 - val_mean_squared_error: 239.1608\n",
      "Epoch 26/100\n",
      "14/14 [==============================] - 6s 461ms/step - loss: 12.9626 - mean_squared_error: 251.9821 - val_loss: 12.4956 - val_mean_squared_error: 241.1010\n",
      "Epoch 27/100\n",
      "14/14 [==============================] - 6s 460ms/step - loss: 12.8551 - mean_squared_error: 250.7629 - val_loss: 14.7726 - val_mean_squared_error: 324.2625\n",
      "Epoch 28/100\n",
      "14/14 [==============================] - 6s 461ms/step - loss: 13.4511 - mean_squared_error: 271.5232 - val_loss: 12.1395 - val_mean_squared_error: 237.0310\n",
      "Epoch 29/100\n",
      "14/14 [==============================] - 6s 460ms/step - loss: 12.4960 - mean_squared_error: 240.2137 - val_loss: 12.0964 - val_mean_squared_error: 231.3991\n",
      "Epoch 30/100\n",
      "14/14 [==============================] - 6s 462ms/step - loss: 12.3943 - mean_squared_error: 237.7168 - val_loss: 12.1189 - val_mean_squared_error: 237.1322\n",
      "Epoch 31/100\n",
      "14/14 [==============================] - 6s 461ms/step - loss: 12.1347 - mean_squared_error: 232.2950 - val_loss: 14.2221 - val_mean_squared_error: 287.8433\n",
      "Epoch 32/100\n",
      "14/14 [==============================] - 6s 461ms/step - loss: 12.4746 - mean_squared_error: 241.7063 - val_loss: 11.9214 - val_mean_squared_error: 227.2566\n",
      "Epoch 33/100\n",
      "14/14 [==============================] - 6s 461ms/step - loss: 12.7011 - mean_squared_error: 247.1821 - val_loss: 11.9768 - val_mean_squared_error: 228.6825\n",
      "Epoch 34/100\n",
      "14/14 [==============================] - 6s 459ms/step - loss: 12.0764 - mean_squared_error: 230.5069 - val_loss: 11.9230 - val_mean_squared_error: 232.0919\n",
      "Epoch 35/100\n",
      "14/14 [==============================] - 6s 462ms/step - loss: 11.6508 - mean_squared_error: 222.2552 - val_loss: 11.4539 - val_mean_squared_error: 218.1292\n",
      "Epoch 36/100\n",
      "14/14 [==============================] - 6s 460ms/step - loss: 11.8272 - mean_squared_error: 225.4775 - val_loss: 11.0568 - val_mean_squared_error: 208.6187\n",
      "Epoch 37/100\n",
      "14/14 [==============================] - 6s 461ms/step - loss: 11.8106 - mean_squared_error: 225.8655 - val_loss: 10.9119 - val_mean_squared_error: 206.7363\n",
      "Epoch 38/100\n",
      "14/14 [==============================] - 6s 461ms/step - loss: 11.4433 - mean_squared_error: 217.0427 - val_loss: 10.9936 - val_mean_squared_error: 210.6731\n",
      "Epoch 39/100\n",
      "14/14 [==============================] - 6s 461ms/step - loss: 11.4999 - mean_squared_error: 219.1082 - val_loss: 10.8765 - val_mean_squared_error: 204.7742\n",
      "Epoch 40/100\n",
      "14/14 [==============================] - 6s 461ms/step - loss: 11.2088 - mean_squared_error: 212.1675 - val_loss: 10.7553 - val_mean_squared_error: 206.1508\n",
      "Epoch 41/100\n",
      "14/14 [==============================] - 6s 461ms/step - loss: 11.3137 - mean_squared_error: 214.3261 - val_loss: 11.0411 - val_mean_squared_error: 207.9547\n",
      "Epoch 42/100\n",
      "14/14 [==============================] - 6s 461ms/step - loss: 10.9803 - mean_squared_error: 207.6234 - val_loss: 11.7449 - val_mean_squared_error: 225.6129\n",
      "Epoch 43/100\n",
      "14/14 [==============================] - 6s 461ms/step - loss: 11.4612 - mean_squared_error: 218.8074 - val_loss: 13.5454 - val_mean_squared_error: 268.4596\n",
      "Epoch 44/100\n",
      "14/14 [==============================] - 6s 461ms/step - loss: 11.5453 - mean_squared_error: 221.7245 - val_loss: 10.4110 - val_mean_squared_error: 197.8860\n",
      "Epoch 45/100\n",
      "14/14 [==============================] - 6s 461ms/step - loss: 10.9870 - mean_squared_error: 207.5694 - val_loss: 10.4064 - val_mean_squared_error: 198.1027\n",
      "Epoch 46/100\n",
      "14/14 [==============================] - 6s 462ms/step - loss: 10.6067 - mean_squared_error: 199.5650 - val_loss: 10.8970 - val_mean_squared_error: 210.6776\n",
      "Epoch 47/100\n",
      "14/14 [==============================] - 6s 459ms/step - loss: 10.9146 - mean_squared_error: 206.1526 - val_loss: 10.1954 - val_mean_squared_error: 192.3542\n",
      "Epoch 48/100\n",
      "14/14 [==============================] - 6s 460ms/step - loss: 10.6479 - mean_squared_error: 201.4105 - val_loss: 10.1988 - val_mean_squared_error: 193.4212\n",
      "Epoch 49/100\n",
      "14/14 [==============================] - 6s 462ms/step - loss: 10.5199 - mean_squared_error: 198.5754 - val_loss: 11.1978 - val_mean_squared_error: 216.0284\n",
      "Epoch 50/100\n",
      "14/14 [==============================] - 6s 460ms/step - loss: 10.8536 - mean_squared_error: 204.6468 - val_loss: 10.6680 - val_mean_squared_error: 205.3555\n",
      "Epoch 51/100\n",
      "14/14 [==============================] - 6s 461ms/step - loss: 10.9145 - mean_squared_error: 208.2535 - val_loss: 10.2246 - val_mean_squared_error: 196.4238\n",
      "Epoch 52/100\n",
      "14/14 [==============================] - 6s 460ms/step - loss: 10.6700 - mean_squared_error: 201.9972 - val_loss: 10.2290 - val_mean_squared_error: 192.1595\n",
      "Epoch 00052: early stopping\n"
     ]
    }
   ],
   "source": [
    "model_path=\"../models/base_model/base_model_new.h5\"\n",
    "early_stopings = tf.keras.callbacks.EarlyStopping(monitor='val_loss', min_delta=0, patience=5, verbose=1, mode='min')\n",
    "checkpoint =  tf.keras.callbacks.ModelCheckpoint(model_path, monitor='val_loss', save_best_only=True, mode='min', verbose=0)\n",
    "callbacks=[early_stopings,checkpoint]\n",
    "\n",
    "history = base_model.fit(X,pco2_images, epochs=100, validation_data=(X,pco2_images),workers=-1,batch_size=32,callbacks=callbacks)\n",
    "\n"
   ]
  },
  {
   "cell_type": "code",
   "execution_count": 115,
   "metadata": {},
   "outputs": [
    {
     "name": "stdout",
     "output_type": "stream",
     "text": [
      "WARNING:tensorflow:6 out of the last 6 calls to <function Model.make_predict_function.<locals>.predict_function at 0x15547fa5a3a0> triggered tf.function retracing. Tracing is expensive and the excessive number of tracings could be due to (1) creating @tf.function repeatedly in a loop, (2) passing tensors with different shapes, (3) passing Python objects instead of tensors. For (1), please define your @tf.function outside of the loop. For (2), @tf.function has experimental_relax_shapes=True option that relaxes argument shapes that can avoid unnecessary retracing. For (3), please refer to https://www.tensorflow.org/guide/function#controlling_retracing and https://www.tensorflow.org/api_docs/python/tf/function for  more details.\n",
      "1/1 [==============================] - 0s 423ms/step\n"
     ]
    }
   ],
   "source": [
    "best_model = tf.keras.models.load_model('../models/base_model/base_model_new.h5', custom_objects={'custom_rmse':custom_rmse})\n",
    "predicted_image=best_model.predict(X[419:421],verbose=1)"
   ]
  },
  {
   "cell_type": "code",
   "execution_count": 116,
   "metadata": {},
   "outputs": [
    {
     "data": {
      "image/png": "[encoded data removed]",
      "text/plain": [
       "<Figure size 432x288 with 2 Axes>"
      ]
     },
     "metadata": {
      "needs_background": "light"
     },
     "output_type": "display_data"
    },
    {
     "data": {
      "text/plain": [
       "<Figure size 432x288 with 0 Axes>"
      ]
     },
     "metadata": {},
     "output_type": "display_data"
    }
   ],
   "source": [
    "import matplotlib.pyplot as plt\n",
    "\n",
    "figure, axis = plt.subplots(1, 2)\n",
    "\n",
    "\n",
    "axis[0].imshow(np.squeeze(predicted_image[1]), cmap=\"gray\", interpolation=\"nearest\")\n",
    "axis[0].set_title(\"prediction\")\n",
    "axis[1].imshow(np.squeeze(pco2_images[419:421][1]), cmap=\"gray\", interpolation=\"nearest\")\n",
    "axis[1].set_title(\"true\")\n",
    "\n",
    "plt.show()\n",
    "plt.savefig('base_model_prediction.png')"
   ]
  },
  {
   "cell_type": "code",
   "execution_count": 117,
   "metadata": {},
   "outputs": [
    {
     "data": {
      "text/plain": [
       "54.26488754782829"
      ]
     },
     "execution_count": 117,
     "metadata": {},
     "output_type": "execute_result"
    }
   ],
   "source": [
    "arr=predicted_image[1]\n",
    "output=inverse_scale_image(arr, pco2.pCO2.data)\n",
    "\n",
    "np.sqrt(np.mean((pco2.pCO2.data[419:421][1]-output)**2))\n"
   ]
  },
  {
   "cell_type": "code",
   "execution_count": 118,
   "metadata": {},
   "outputs": [
    {
     "data": {
      "image/png": "[encoded data removed]",
      "text/plain": [
       "<Figure size 432x288 with 1 Axes>"
      ]
     },
     "metadata": {
      "needs_background": "light"
     },
     "output_type": "display_data"
    }
   ],
   "source": [
    "difference=np.squeeze(pco2_images[419:421][1])-np.squeeze(predicted_image[0])\n",
    "plot_image(difference)"
   ]
  },
  {
   "cell_type": "code",
   "execution_count": 119,
   "metadata": {},
   "outputs": [
    {
     "name": "stdout",
     "output_type": "stream",
     "text": [
      "Model: \"sequential_23\"\n",
      "_________________________________________________________________\n",
      "Layer (type)                 Output Shape              Param #   \n",
      "=================================================================\n",
      "conv2d_201 (Conv2D)          (None, 180, 360, 64)      8064      \n",
      "_________________________________________________________________\n",
      "conv2d_202 (Conv2D)          (None, 180, 360, 64)      102464    \n",
      "_________________________________________________________________\n",
      "max_pooling2d_33 (MaxPooling (None, 60, 120, 64)       0         \n",
      "_________________________________________________________________\n",
      "dropout_33 (Dropout)         (None, 60, 120, 64)       0         \n",
      "_________________________________________________________________\n",
      "conv2d_203 (Conv2D)          (None, 60, 120, 128)      204928    \n",
      "_________________________________________________________________\n",
      "conv2d_204 (Conv2D)          (None, 60, 120, 128)      409728    \n",
      "_________________________________________________________________\n",
      "max_pooling2d_34 (MaxPooling (None, 20, 40, 128)       0         \n",
      "_________________________________________________________________\n",
      "dropout_34 (Dropout)         (None, 20, 40, 128)       0         \n",
      "_________________________________________________________________\n",
      "conv2d_205 (Conv2D)          (None, 20, 40, 256)       819456    \n",
      "_________________________________________________________________\n",
      "conv2d_206 (Conv2D)          (None, 20, 40, 256)       1638656   \n",
      "_________________________________________________________________\n",
      "up_sampling2d_33 (UpSampling (None, 60, 120, 256)      0         \n",
      "_________________________________________________________________\n",
      "conv2d_207 (Conv2D)          (None, 60, 120, 128)      819328    \n",
      "_________________________________________________________________\n",
      "conv2d_208 (Conv2D)          (None, 60, 120, 128)      409728    \n",
      "_________________________________________________________________\n",
      "up_sampling2d_34 (UpSampling (None, 180, 360, 128)     0         \n",
      "_________________________________________________________________\n",
      "conv2d_209 (Conv2D)          (None, 180, 360, 64)      204864    \n",
      "_________________________________________________________________\n",
      "conv2d_210 (Conv2D)          (None, 180, 360, 2)       3202      \n",
      "_________________________________________________________________\n",
      "conv2d_211 (Conv2D)          (None, 180, 360, 1)       3         \n",
      "_________________________________________________________________\n",
      "reshape_23 (Reshape)         (None, 180, 360)          0         \n",
      "=================================================================\n",
      "Total params: 4,620,421\n",
      "Trainable params: 4,620,421\n",
      "Non-trainable params: 0\n",
      "_________________________________________________________________\n"
     ]
    }
   ],
   "source": [
    "\n",
    "#kernel_size matters, 2 does not work\n",
    "\n",
    "model1 = keras.models.Sequential([\n",
    "    DefaultConv2D(filters=64, input_shape=INPUT_SHAPE),\n",
    "    DefaultConv2D(filters=64),\n",
    "    keras.layers.MaxPooling2D(pool_size=3),\n",
    "    keras.layers.Dropout(0.3),\n",
    "\n",
    "    DefaultConv2D(filters=128),\n",
    "    DefaultConv2D(filters=128),\n",
    "    keras.layers.MaxPooling2D(pool_size=3),\n",
    "    keras.layers.Dropout(0.3),\n",
    "\n",
    "    DefaultConv2D(filters=256),\n",
    "    DefaultConv2D(filters=256),\n",
    "\n",
    "    keras.layers.UpSampling2D(size=3),\n",
    "    DefaultConv2D(filters=128),\n",
    "    DefaultConv2D(filters=128),\n",
    "\n",
    "    keras.layers.UpSampling2D(size=3),\n",
    "    DefaultConv2D(filters=64),\n",
    "    DefaultConv2D(filters=2),\n",
    "    DefaultConv2D(filters=1,kernel_size=1),\n",
    "    keras.layers.Reshape(OUTPUT_SHAPE)\n",
    "   \n",
    "])\n",
    "\n",
    "model1.summary()\n"
   ]
  },
  {
   "cell_type": "code",
   "execution_count": 120,
   "metadata": {},
   "outputs": [],
   "source": [
    "model1.compile(loss=custom_rmse, optimizer=\"nadam\", metrics=[\"mean_squared_error\"])"
   ]
  },
  {
   "cell_type": "code",
   "execution_count": null,
   "metadata": {},
   "outputs": [
    {
     "name": "stdout",
     "output_type": "stream",
     "text": [
      "Epoch 1/100\n",
      "14/14 [==============================] - 9s 556ms/step - loss: 63.0435 - mean_squared_error: 4522.2768 - val_loss: 62.6599 - val_mean_squared_error: 4464.8701\n",
      "Epoch 2/100\n",
      "14/14 [==============================] - 7s 513ms/step - loss: 62.5428 - mean_squared_error: 4447.8298 - val_loss: 62.6450 - val_mean_squared_error: 4460.6562\n",
      "Epoch 3/100\n",
      "14/14 [==============================] - 7s 512ms/step - loss: 62.6868 - mean_squared_error: 4466.7698 - val_loss: 62.6168 - val_mean_squared_error: 4456.3232\n",
      "Epoch 4/100\n",
      "14/14 [==============================] - 7s 513ms/step - loss: 62.6015 - mean_squared_error: 4453.4453 - val_loss: 62.5884 - val_mean_squared_error: 4451.9751\n",
      "Epoch 5/100\n",
      "14/14 [==============================] - 7s 513ms/step - loss: 62.5416 - mean_squared_error: 4446.8417 - val_loss: 62.5602 - val_mean_squared_error: 4447.6362\n",
      "Epoch 6/100\n",
      "14/14 [==============================] - 7s 513ms/step - loss: 62.3974 - mean_squared_error: 4425.2514 - val_loss: 62.5319 - val_mean_squared_error: 4443.3062\n",
      "Epoch 7/100\n",
      "14/14 [==============================] - 7s 514ms/step - loss: 62.5477 - mean_squared_error: 4445.7603 - val_loss: 62.5037 - val_mean_squared_error: 4438.9849\n",
      "Epoch 8/100\n",
      "14/14 [==============================] - 7s 512ms/step - loss: 62.6796 - mean_squared_error: 4459.6456 - val_loss: 62.4756 - val_mean_squared_error: 4434.6704\n",
      "Epoch 9/100\n",
      "14/14 [==============================] - 7s 513ms/step - loss: 62.1958 - mean_squared_error: 4393.3900 - val_loss: 62.4475 - val_mean_squared_error: 4430.3628\n",
      "Epoch 10/100\n",
      "14/14 [==============================] - 7s 514ms/step - loss: 62.0710 - mean_squared_error: 4379.0660 - val_loss: 62.4194 - val_mean_squared_error: 4426.0625\n",
      "Epoch 11/100\n",
      " 9/14 [==================>...........] - ETA: 1s - loss: 62.5335 - mean_squared_error: 4445.6247"
     ]
    }
   ],
   "source": [
    "model_path=\"../models/base_model/reduceddim_model1.h5\"\n",
    "early_stopings = tf.keras.callbacks.EarlyStopping(monitor='val_loss', min_delta=0, patience=5, verbose=1, mode='min')\n",
    "checkpoint =  tf.keras.callbacks.ModelCheckpoint(model_path, monitor='val_loss', save_best_only=True, mode='min', verbose=0)\n",
    "callbacks=[early_stopings,checkpoint]\n",
    "\n",
    "history = model1.fit(X,pco2_images, epochs=100, validation_data=(X,pco2_images),workers=-1,batch_size=32,callbacks=callbacks)\n",
    "\n",
    "\n"
   ]
  },
  {
   "cell_type": "code",
   "execution_count": 77,
   "metadata": {},
   "outputs": [
    {
     "name": "stdout",
     "output_type": "stream",
     "text": [
      "1/1 [==============================] - 0s 399ms/step\n"
     ]
    }
   ],
   "source": [
    "best_model = tf.keras.models.load_model('../models/base_model/reduceddim_model1.h5', custom_objects={'custom_rmse':custom_rmse})\n",
    "predicted_image=best_model.predict(X[419:421],verbose=1)"
   ]
  },
  {
   "cell_type": "code",
   "execution_count": 78,
   "metadata": {},
   "outputs": [
    {
     "data": {
      "image/png": "[encoded data removed]",
      "text/plain": [
       "<Figure size 432x288 with 2 Axes>"
      ]
     },
     "metadata": {
      "needs_background": "light"
     },
     "output_type": "display_data"
    }
   ],
   "source": [
    "import matplotlib.pyplot as plt\n",
    "\n",
    "figure, axis = plt.subplots(1, 2)\n",
    "\n",
    "\n",
    "axis[0].imshow(np.squeeze(predicted_image[1]), cmap=\"gray\", interpolation=\"nearest\")\n",
    "axis[0].set_title(\"prediction\")\n",
    "axis[1].imshow(np.squeeze(pco2_images[419:421][1]), cmap=\"gray\", interpolation=\"nearest\")\n",
    "axis[1].set_title(\"true\")\n",
    "\n",
    "plt.show()"
   ]
  },
  {
   "cell_type": "code",
   "execution_count": null,
   "metadata": {},
   "outputs": [],
   "source": []
  }
 ],
 "metadata": {
  "kernelspec": {
   "display_name": "venv",
   "language": "python",
   "name": "venv"
  },
  "language_info": {
   "codemirror_mode": {
    "name": "ipython",
    "version": 3
   },
   "file_extension": ".py",
   "mimetype": "text/x-python",
   "name": "python",
   "nbconvert_exporter": "python",
   "pygments_lexer": "ipython3",
   "version": "3.8.5"
  }
 },
 "nbformat": 4,
 "nbformat_minor": 4
}

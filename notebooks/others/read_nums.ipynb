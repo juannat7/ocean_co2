{
 "cells": [
  {
   "cell_type": "code",
   "execution_count": 19,
   "id": "3828124a-e398-4f96-9593-358b6ac006a9",
   "metadata": {},
   "outputs": [],
   "source": [
    "import json\n",
    "import wget\n",
    "\n",
    "dir_name = \"../../filenames.json\"\n",
    "\n",
    "\n",
    "with open(dir_name) as f:\n",
    "    data = json.load(f)\n"
   ]
  },
  {
   "cell_type": "code",
   "execution_count": 20,
   "id": "c018d9ef-c065-4cfe-9e73-7894e67ab8a8",
   "metadata": {},
   "outputs": [
    {
     "name": "stdout",
     "output_type": "stream",
     "text": [
      "https://ndownloader.figshare.com/files/16129505\n",
      "https://ndownloader.figshare.com/files/16129943\n",
      "https://ndownloader.figshare.com/files/16130009\n",
      "https://ndownloader.figshare.com/files/16130027\n",
      "https://ndownloader.figshare.com/files/16130069\n",
      "https://ndownloader.figshare.com/files/16130075\n",
      "https://ndownloader.figshare.com/files/16130078\n",
      "https://ndownloader.figshare.com/files/16130084\n",
      "https://ndownloader.figshare.com/files/16130096\n",
      "https://ndownloader.figshare.com/files/16130099\n",
      "https://ndownloader.figshare.com/files/16130105\n",
      "https://ndownloader.figshare.com/files/16129778\n",
      "https://ndownloader.figshare.com/files/16129748\n",
      "https://ndownloader.figshare.com/files/16129685\n",
      "https://ndownloader.figshare.com/files/16129508\n",
      "https://ndownloader.figshare.com/files/16129532\n",
      "https://ndownloader.figshare.com/files/16129586\n",
      "https://ndownloader.figshare.com/files/16129610\n",
      "https://ndownloader.figshare.com/files/16129613\n",
      "https://ndownloader.figshare.com/files/16129616\n",
      "https://ndownloader.figshare.com/files/16129619\n",
      "https://ndownloader.figshare.com/files/16129622\n",
      "https://ndownloader.figshare.com/files/16129625\n",
      "https://ndownloader.figshare.com/files/16129643\n",
      "https://ndownloader.figshare.com/files/16130108\n"
     ]
    }
   ],
   "source": [
    "tar_dir = \"../../data\"\n",
    "\n",
    "for d in data[\"files\"]:\n",
    "    base_url = \"https://ndownloader.figshare.com/files\"\n",
    "    url = base_url+\"/\"+str(d[\"id\"])\n",
    "    \n",
    "    print(url)\n",
    "    filename = wget.download(url,tar_dir)\n",
    "    \n"
   ]
  },
  {
   "cell_type": "code",
   "execution_count": 21,
   "id": "06617736-1f81-49bc-943f-8aafc1908779",
   "metadata": {},
   "outputs": [],
   "source": [
    "import tarfile\n",
    "import os\n",
    "\n",
    "for path, directories, files in os.walk('../../data'):\n",
    "    for f in files:\n",
    "        if f.endswith(\".tar.gz\"):\n",
    "            tar = tarfile.open(os.path.join(path,f), 'r:gz')\n",
    "            tar.extractall(path=path)\n",
    "            tar.close()"
   ]
  },
  {
   "cell_type": "code",
   "execution_count": null,
   "id": "dcea6325-7f3f-48f3-99aa-40f96b9506ab",
   "metadata": {},
   "outputs": [],
   "source": []
  }
 ],
 "metadata": {
  "kernelspec": {
   "display_name": "venv2",
   "language": "python",
   "name": "venv2"
  },
  "language_info": {
   "codemirror_mode": {
    "name": "ipython",
    "version": 3
   },
   "file_extension": ".py",
   "mimetype": "text/x-python",
   "name": "python",
   "nbconvert_exporter": "python",
   "pygments_lexer": "ipython3",
   "version": "3.8.5"
  }
 },
 "nbformat": 4,
 "nbformat_minor": 5
}

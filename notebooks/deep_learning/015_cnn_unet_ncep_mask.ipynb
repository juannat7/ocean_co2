{
 "cells": [
  {
   "cell_type": "markdown",
   "id": "85af18a4-22d6-4e2a-baf6-f309829c3b3b",
   "metadata": {},
   "source": [
    "# CNN UNET new pretrained model with NCEP region masked\n"
   ]
  },
  {
   "cell_type": "code",
   "execution_count": 1,
   "id": "385c1d8b-c6b7-44f3-94ce-bdfccd22a7a3",
   "metadata": {},
   "outputs": [
    {
     "name": "stderr",
     "output_type": "stream",
     "text": [
      "/burg/glab/users/sk4973/venv/lib/python3.8/site-packages/xarray/backends/cfgrib_.py:27: UserWarning: Failed to load cfgrib - most likely there is a problem accessing the ecCodes library. Try `import cfgrib` to get the full error message\n",
      "  warnings.warn(\n",
      "2022-04-07 14:46:35.314907: I tensorflow/stream_executor/platform/default/dso_loader.cc:49] Successfully opened dynamic library libcudart.so.11.0\n"
     ]
    }
   ],
   "source": [
    "import imp\n",
    "import matplotlib.pyplot as plt\n",
    "import numpy as np\n",
    "import pandas as pd\n",
    "import xarray as xr\n",
    "import sys\n",
    "import tensorflow as tf\n",
    "from tensorflow import keras\n",
    "\n",
    "%matplotlib inline\n",
    "\n",
    "import os\n",
    "tf.random.set_seed(42)\n",
    "\n",
    "\n",
    "sys.path.insert(0, '../../src')\n",
    "from utils import df_to_xarray,read_xarray,inverse_scale_image, get_point_prediction, custom_rmse\n",
    "\n",
    "sys.path.insert(0, '../../src/preprocess')\n",
    "from data_preprocess import preprocess_image_reduced,preprocess_images"
   ]
  },
  {
   "cell_type": "code",
   "execution_count": 13,
   "id": "97872cd4-a1ba-497d-801e-b8c5f38c0f2a",
   "metadata": {},
   "outputs": [
    {
     "ename": "IndexError",
     "evalue": "boolean index did not match indexed array along dimension 0; dimension is 180 but corresponding boolean dimension is 179",
     "output_type": "error",
     "traceback": [
      "\u001b[0;31m---------------------------------------------------------------------------\u001b[0m",
      "\u001b[0;31mIndexError\u001b[0m                                Traceback (most recent call last)",
      "\u001b[0;32m/tmp/ipykernel_3032244/1434081768.py\u001b[0m in \u001b[0;36m<module>\u001b[0;34m\u001b[0m\n\u001b[1;32m     33\u001b[0m \u001b[0;34m\u001b[0m\u001b[0m\n\u001b[1;32m     34\u001b[0m     \u001b[0;32mreturn\u001b[0m \u001b[0;34m[\u001b[0m\u001b[0;34m]\u001b[0m\u001b[0;34m\u001b[0m\u001b[0;34m\u001b[0m\u001b[0m\n\u001b[0;32m---> 35\u001b[0;31m \u001b[0ma\u001b[0m\u001b[0;34m=\u001b[0m\u001b[0mncep_mask\u001b[0m\u001b[0;34m(\u001b[0m\u001b[0;34m)\u001b[0m\u001b[0;34m\u001b[0m\u001b[0;34m\u001b[0m\u001b[0m\n\u001b[0m",
      "\u001b[0;32m/tmp/ipykernel_3032244/1434081768.py\u001b[0m in \u001b[0;36mncep_mask\u001b[0;34m()\u001b[0m\n\u001b[1;32m     14\u001b[0m \u001b[0;34m\u001b[0m\u001b[0m\n\u001b[1;32m     15\u001b[0m     \u001b[0;31m### remove arctic\u001b[0m\u001b[0;34m\u001b[0m\u001b[0;34m\u001b[0m\u001b[0;34m\u001b[0m\u001b[0m\n\u001b[0;32m---> 16\u001b[0;31m     \u001b[0mmask\u001b[0m\u001b[0;34m[\u001b[0m\u001b[0mlat\u001b[0m\u001b[0;34m>\u001b[0m\u001b[0;36m79\u001b[0m\u001b[0;34m]\u001b[0m \u001b[0;34m=\u001b[0m \u001b[0;36m0\u001b[0m\u001b[0;34m\u001b[0m\u001b[0;34m\u001b[0m\u001b[0m\n\u001b[0m\u001b[1;32m     17\u001b[0m     \u001b[0mmask\u001b[0m\u001b[0;34m[\u001b[0m\u001b[0;34m(\u001b[0m\u001b[0;34m(\u001b[0m\u001b[0mlat\u001b[0m\u001b[0;34m>\u001b[0m\u001b[0;36m67\u001b[0m\u001b[0;34m)\u001b[0m \u001b[0;34m&\u001b[0m \u001b[0;34m(\u001b[0m\u001b[0mlat\u001b[0m\u001b[0;34m<\u001b[0m\u001b[0;36m80\u001b[0m\u001b[0;34m)\u001b[0m\u001b[0;34m)\u001b[0m\u001b[0;34m]\u001b[0m\u001b[0;34m[\u001b[0m\u001b[0;34m(\u001b[0m\u001b[0;34m(\u001b[0m\u001b[0mlon\u001b[0m\u001b[0;34m>\u001b[0m\u001b[0;36m20\u001b[0m\u001b[0;34m)\u001b[0m \u001b[0;34m&\u001b[0m \u001b[0;34m(\u001b[0m\u001b[0mlon\u001b[0m\u001b[0;34m<\u001b[0m\u001b[0;36m180\u001b[0m\u001b[0;34m)\u001b[0m\u001b[0;34m)\u001b[0m\u001b[0;34m]\u001b[0m \u001b[0;34m=\u001b[0m \u001b[0;36m0\u001b[0m\u001b[0;34m\u001b[0m\u001b[0;34m\u001b[0m\u001b[0m\n\u001b[1;32m     18\u001b[0m     \u001b[0mmask\u001b[0m\u001b[0;34m[\u001b[0m\u001b[0;34m(\u001b[0m\u001b[0mlat\u001b[0m\u001b[0;34m>\u001b[0m\u001b[0;36m67\u001b[0m\u001b[0;34m)\u001b[0m \u001b[0;34m&\u001b[0m \u001b[0;34m(\u001b[0m\u001b[0mlat\u001b[0m\u001b[0;34m<\u001b[0m\u001b[0;36m80\u001b[0m\u001b[0;34m)\u001b[0m\u001b[0;34m]\u001b[0m\u001b[0;34m[\u001b[0m\u001b[0;34m(\u001b[0m\u001b[0mlon\u001b[0m\u001b[0;34m>\u001b[0m\u001b[0;36m180\u001b[0m\u001b[0;34m)\u001b[0m \u001b[0;34m&\u001b[0m \u001b[0;34m(\u001b[0m\u001b[0mlon\u001b[0m\u001b[0;34m<\u001b[0m\u001b[0;36m260\u001b[0m\u001b[0;34m)\u001b[0m\u001b[0;34m]\u001b[0m \u001b[0;34m=\u001b[0m \u001b[0;36m0\u001b[0m\u001b[0;34m\u001b[0m\u001b[0;34m\u001b[0m\u001b[0m\n",
      "\u001b[0;31mIndexError\u001b[0m: boolean index did not match indexed array along dimension 0; dimension is 180 but corresponding boolean dimension is 179"
     ]
    }
   ],
   "source": [
    "def ncep_mask():\n",
    "    '''ncep_mask\n",
    "    This masks out regions in the \n",
    "    NCEP land-sea mask (https://www.esrl.noaa.gov/psd/data/gridded/data.ncep.reanalysis.surface.html)\n",
    "    to define the open ocean. Regions removed include:\n",
    "    - Arctic ocean : defined as North of 79N\n",
    "    - Hudson Bay\n",
    "    - caspian sea, black sea, mediterranean sea, baltic sea, Java sea, Red sea\n",
    "    '''\n",
    "    mask = np.ones((180, 360))\n",
    "    lat = np.arange(180)\n",
    "    lon = np.arange(360)\n",
    "\n",
    "    \n",
    "    ### remove arctic\n",
    "    mask[lat>79] = 0\n",
    "    mask[((lat>67) & (lat<80))][((lon>20) & (lon<180))] = 0\n",
    "    mask[(lat>67) & (lat<80)][(lon>180) & (lon<260)] = 0\n",
    "    \n",
    "    plt.imshow(mask)\n",
    "    \n",
    "#     ### remove caspian sea, black sea, mediterranean sea, and baltic sea\n",
    "    \n",
    "#     data = data.where(~((lat>24) & (lat<70) & (lon>14) & (lon<70)))\n",
    "    \n",
    "#     ### remove hudson bay\n",
    "#     data = data.where(~((lat>50) & (lat<70) & (lon>-100+360) & (lon<-70+360)))\n",
    "#     data = data.where(~((lat>70) & (lat<80) & (lon>-130+360) & (lon<-80+360)))\n",
    "    \n",
    "#     ### Remove Red sea\n",
    "#     data = data.where(~((lat>10) & (lat<25) & (lon>10) & (lon<45)))\n",
    "#     data = data.where(~((lat>20) & (lat<50) & (lon>0) & (lon<20)))\n",
    "    \n",
    "    return []\n",
    "a=ncep_mask()"
   ]
  },
  {
   "cell_type": "code",
   "execution_count": 26,
   "id": "700e3c2c-b58b-4ba9-9940-45c8df5ee670",
   "metadata": {},
   "outputs": [
    {
     "name": "stderr",
     "output_type": "stream",
     "text": [
      "/burg/glab/users/sk4973/venv/lib/python3.8/site-packages/numpy/core/_asarray.py:102: VisibleDeprecationWarning: Creating an ndarray from ragged nested sequences (which is a list-or-tuple of lists-or-tuples-or ndarrays with different lengths or shapes) is deprecated. If you meant to do this, you must specify 'dtype=object' when creating the ndarray.\n",
      "  return array(a, dtype, copy=False, order=order)\n"
     ]
    },
    {
     "ename": "IndexError",
     "evalue": "arrays used as indices must be of integer (or boolean) type",
     "output_type": "error",
     "traceback": [
      "\u001b[0;31m---------------------------------------------------------------------------\u001b[0m",
      "\u001b[0;31mIndexError\u001b[0m                                Traceback (most recent call last)",
      "\u001b[0;32m/tmp/ipykernel_3032244/1795078733.py\u001b[0m in \u001b[0;36m<module>\u001b[0;34m\u001b[0m\n\u001b[1;32m      9\u001b[0m \u001b[0mtmp3\u001b[0m \u001b[0;34m=\u001b[0m \u001b[0mnp\u001b[0m\u001b[0;34m.\u001b[0m\u001b[0mix_\u001b[0m\u001b[0;34m(\u001b[0m\u001b[0;34m(\u001b[0m\u001b[0mtmp\u001b[0m\u001b[0;34m,\u001b[0m\u001b[0mtmp2\u001b[0m\u001b[0;34m)\u001b[0m\u001b[0;34m)\u001b[0m\u001b[0;34m\u001b[0m\u001b[0;34m\u001b[0m\u001b[0m\n\u001b[1;32m     10\u001b[0m \u001b[0;34m\u001b[0m\u001b[0m\n\u001b[0;32m---> 11\u001b[0;31m \u001b[0mmask\u001b[0m\u001b[0;34m[\u001b[0m\u001b[0mtmp3\u001b[0m\u001b[0;34m]\u001b[0m \u001b[0;34m=\u001b[0m \u001b[0;36m0\u001b[0m\u001b[0;34m\u001b[0m\u001b[0;34m\u001b[0m\u001b[0m\n\u001b[0m\u001b[1;32m     12\u001b[0m \u001b[0;31m#mask[(lat>67) & (lat<80)][(lon>180) & (lon<260)] = 0\u001b[0m\u001b[0;34m\u001b[0m\u001b[0;34m\u001b[0m\u001b[0;34m\u001b[0m\u001b[0m\n\u001b[1;32m     13\u001b[0m \u001b[0;34m\u001b[0m\u001b[0m\n",
      "\u001b[0;31mIndexError\u001b[0m: arrays used as indices must be of integer (or boolean) type"
     ]
    }
   ],
   "source": [
    "mask = np.ones((180, 360))\n",
    "lat =np.arange(180)\n",
    "lon = np.arange(360)\n",
    "\n",
    "\n",
    "mask[lat>79] = 0\n",
    "tmp = lat[(67 < lat) & (lat < 80)]\n",
    "tmp2 = lon[(20 < lon) & (lon < 180)]\n",
    "tmp3 = np.ix_((tmp,tmp2))\n",
    "\n",
    "mask[tmp3] = 0\n",
    "#mask[(lat>67) & (lat<80)][(lon>180) & (lon<260)] = 0\n",
    "    "
   ]
  },
  {
   "cell_type": "code",
   "execution_count": 20,
   "id": "2df2081a-adfc-4108-a62d-23ca67d269d5",
   "metadata": {},
   "outputs": [
    {
     "data": {
      "text/plain": [
       "<matplotlib.image.AxesImage at 0x1554c4d3fbb0>"
      ]
     },
     "execution_count": 20,
     "metadata": {},
     "output_type": "execute_result"
    },
    {
     "data": {
      "image/png": "[encoded data removed]",
      "text/plain": [
       "<Figure size 432x288 with 1 Axes>"
      ]
     },
     "metadata": {
      "needs_background": "light"
     },
     "output_type": "display_data"
    }
   ],
   "source": [
    "plt.imshow(mask)"
   ]
  },
  {
   "cell_type": "code",
   "execution_count": 27,
   "id": "46fc52f0-b5b1-4613-b6aa-f4624181ab9b",
   "metadata": {},
   "outputs": [
    {
     "name": "stdout",
     "output_type": "stream",
     "text": [
      "(array([array([68, 69, 70, 71, 72, 73, 74, 75, 76, 77, 78, 79]),\n",
      "       array([ 21,  22,  23,  24,  25,  26,  27,  28,  29,  30,  31,  32,  33,\n",
      "               34,  35,  36,  37,  38,  39,  40,  41,  42,  43,  44,  45,  46,\n",
      "               47,  48,  49,  50,  51,  52,  53,  54,  55,  56,  57,  58,  59,\n",
      "               60,  61,  62,  63,  64,  65,  66,  67,  68,  69,  70,  71,  72,\n",
      "               73,  74,  75,  76,  77,  78,  79,  80,  81,  82,  83,  84,  85,\n",
      "               86,  87,  88,  89,  90,  91,  92,  93,  94,  95,  96,  97,  98,\n",
      "               99, 100, 101, 102, 103, 104, 105, 106, 107, 108, 109, 110, 111,\n",
      "              112, 113, 114, 115, 116, 117, 118, 119, 120, 121, 122, 123, 124,\n",
      "              125, 126, 127, 128, 129, 130, 131, 132, 133, 134, 135, 136, 137,\n",
      "              138, 139, 140, 141, 142, 143, 144, 145, 146, 147, 148, 149, 150,\n",
      "              151, 152, 153, 154, 155, 156, 157, 158, 159, 160, 161, 162, 163,\n",
      "              164, 165, 166, 167, 168, 169, 170, 171, 172, 173, 174, 175, 176,\n",
      "              177, 178, 179])                                                 ],\n",
      "      dtype=object),)\n"
     ]
    }
   ],
   "source": [
    "print(tmp3)"
   ]
  },
  {
   "cell_type": "code",
   "execution_count": null,
   "id": "22a6dff1-8755-4694-866e-f8b305b05d0a",
   "metadata": {},
   "outputs": [],
   "source": []
  }
 ],
 "metadata": {
  "kernelspec": {
   "display_name": "venv",
   "language": "python",
   "name": "venv"
  },
  "language_info": {
   "codemirror_mode": {
    "name": "ipython",
    "version": 3
   },
   "file_extension": ".py",
   "mimetype": "text/x-python",
   "name": "python",
   "nbconvert_exporter": "python",
   "pygments_lexer": "ipython3",
   "version": "3.8.5"
  }
 },
 "nbformat": 4,
 "nbformat_minor": 5
}

{
 "cells": [
  {
   "cell_type": "code",
   "execution_count": 1,
   "id": "a0ddf03f-ffd7-4c90-b7a7-461f27f44524",
   "metadata": {},
   "outputs": [
    {
     "name": "stderr",
     "output_type": "stream",
     "text": [
      "/burg/glab/users/sk4973/venv/lib/python3.8/site-packages/xarray/backends/cfgrib_.py:27: UserWarning: Failed to load cfgrib - most likely there is a problem accessing the ecCodes library. Try `import cfgrib` to get the full error message\n",
      "  warnings.warn(\n",
      "2022-02-28 14:39:23.442661: I tensorflow/stream_executor/platform/default/dso_loader.cc:49] Successfully opened dynamic library libcudart.so.11.0\n"
     ]
    }
   ],
   "source": [
    "import imp\n",
    "import matplotlib.pyplot as plt\n",
    "import numpy as np\n",
    "import pandas as pd\n",
    "import xarray as xr\n",
    "import sys\n",
    "import tensorflow as tf\n",
    "from tensorflow import keras\n",
    "\n",
    "%matplotlib inline\n",
    "\n",
    "from sklearn.ensemble import RandomForestRegressor\n",
    "from sklearn.model_selection import train_test_split\n",
    "from sklearn.pipeline import Pipeline\n",
    "from sklearn.preprocessing import StandardScaler\n",
    "from sklearn.metrics import mean_squared_error\n",
    "from sklearn.impute import SimpleImputer\n",
    "\n",
    "import os\n",
    "tf.random.set_seed(42)\n",
    "\n",
    "\n",
    "sys.path.insert(0, '../../src')\n",
    "from utils import df_to_xarray,read_xarray,inverse_scale_image, get_point_prediction\n",
    "\n",
    "sys.path.insert(0, '../../src/preprocess')\n",
    "from data_preprocess import preprocess_image_reduced,preprocess_images_nfp"
   ]
  },
  {
   "cell_type": "code",
   "execution_count": 2,
   "id": "8e7edc55-c098-44e7-8b0f-3caaa540ff6e",
   "metadata": {},
   "outputs": [],
   "source": [
    "import tensorflow.keras.backend as kb\n",
    "import tensorflow as tf\n",
    "from tensorflow.keras import backend as K\n",
    "\n",
    "def custom_rmse(y_true, y_pred):\n",
    "    \"\"\"\n",
    "    custom_rmse(y_true, y_pred)\n",
    "    calculates root square mean value with focusing only on the ocean\n",
    "    \"\"\"\n",
    "    y_pred = y_pred[y_true != 0]\n",
    "    y_true = y_true[y_true != 0]\n",
    "    y_pred = tf.convert_to_tensor(y_pred)\n",
    "    y_true = tf.cast(y_true, y_pred.dtype)\n",
    "    \n",
    "    return K.sqrt(K.mean(tf.math.squared_difference(y_pred, y_true), axis=-1))"
   ]
  },
  {
   "cell_type": "code",
   "execution_count": 3,
   "id": "cf336491-e707-47cc-a5f0-d5f7d3857d58",
   "metadata": {},
   "outputs": [
    {
     "name": "stderr",
     "output_type": "stream",
     "text": [
      "/burg/glab/users/sk4973/venv/lib/python3.8/site-packages/xarray/backends/plugins.py:61: RuntimeWarning: Engine 'cfgrib' loading failed:\n",
      "ecCodes library not found using ['eccodes', 'libeccodes.so', 'libeccodes']\n",
      "  warnings.warn(f\"Engine {name!r} loading failed:\\n{ex}\", RuntimeWarning)\n"
     ]
    }
   ],
   "source": [
    "dir_name=\"../../data/data1\"\n",
    "val_dir_name=\"../../data/data2\"\n",
    "\n",
    "data,pco2 = preprocess_images_nfp(dir_name)\n",
    "data_socat, pco2_socat = preprocess_images_nfp(dir_name, socat = True)\n",
    "\n",
    "val_data,val_pco2 = preprocess_images_nfp(val_dir_name,\"035\")\n",
    "val_data_socat,val_pco2_socat = preprocess_images_nfp(val_dir_name,\"035\",socat=True)"
   ]
  },
  {
   "cell_type": "code",
   "execution_count": 4,
   "id": "a5f6e20e-dd40-49d7-86d5-cb354608b88a",
   "metadata": {},
   "outputs": [],
   "source": [
    "X_index=np.lib.stride_tricks.sliding_window_view(range(421),3) \n",
    "\n",
    "y=np.expand_dims(pco2_socat[X_index][1:],axis=4)\n",
    "X=data_socat[X_index][:-1]\n",
    "\n",
    "#validation data\n",
    "# val_y=np.expand_dims(val_pco2[X_index][1:],axis=4)\n",
    "# val_X=val_data[X_index][:-1]"
   ]
  },
  {
   "cell_type": "code",
   "execution_count": 37,
   "id": "d03adcce-5207-48ba-bcba-e5ebb0385e9b",
   "metadata": {},
   "outputs": [],
   "source": [
    "best_model = tf.keras.models.load_model('../../models/transfer_CNN_LSTM.h5', custom_objects={'custom_rmse':custom_rmse})\n",
    "\n"
   ]
  },
  {
   "cell_type": "code",
   "execution_count": 38,
   "id": "a433c21c-f561-4d88-b37f-ea93c47ed8f2",
   "metadata": {},
   "outputs": [
    {
     "name": "stdout",
     "output_type": "stream",
     "text": [
      "14/14 [==============================] - 10s 761ms/step\n"
     ]
    }
   ],
   "source": [
    "predicted_frames=best_model.predict(X,verbose=1)\n",
    "predicted_frames[y==0]=0.0"
   ]
  },
  {
   "cell_type": "code",
   "execution_count": 39,
   "id": "608e9cfb-886f-41f1-b9c2-f7b1f6578764",
   "metadata": {},
   "outputs": [],
   "source": [
    "def inverse_scale_image_nfp(arr, df):\n",
    "    \"\"\"\n",
    "    inverse_scale_image(arr, df):\n",
    "    - inverses the pco2 scaling\n",
    "    \"\"\"\n",
    "    \n",
    "    old_min = np.nanmin(df)\n",
    "    old_max = np.nanmax(df)\n",
    "    y_pred = arr*(old_max-old_min)/255+old_min\n",
    "    \n",
    "    tmp=np.nan_to_num(df[X_index][1:])\n",
    "    y_true=np.expand_dims(tmp,axis=4)\n",
    "    y_pred[y_true==0]=0\n",
    "    return y_true,y_pred"
   ]
  },
  {
   "cell_type": "code",
   "execution_count": 40,
   "id": "da208bec-03f6-4405-9760-ad7de50a3cd6",
   "metadata": {},
   "outputs": [],
   "source": [
    "chl,mld,sss,sst,u10,fg_co2,xco2,icefrac,patm,pco2_tmp = read_xarray(dir_name)\n",
    "y_true,y_pred=inverse_scale_image_nfp(predicted_frames,pco2_tmp.pCO2_socat.data)  "
   ]
  },
  {
   "cell_type": "code",
   "execution_count": 44,
   "id": "5d41f8d3-22d9-41fd-b731-2803c644f342",
   "metadata": {},
   "outputs": [
    {
     "data": {
      "text/plain": [
       "735681"
      ]
     },
     "execution_count": 44,
     "metadata": {},
     "output_type": "execute_result"
    }
   ],
   "source": [
    "y_pred_tmp = y_pred\n",
    "y_true_tmp = y_true\n",
    "\n",
    "y_pred_tmp = y_pred_tmp[y_true_tmp != 0]\n",
    "y_true_tmp = y_true_tmp[y_true_tmp != 0]\n",
    "\n",
    "len(y_pred_tmp)"
   ]
  },
  {
   "cell_type": "code",
   "execution_count": 43,
   "id": "b314168e-4d68-4de2-9a85-0f06348b06a8",
   "metadata": {},
   "outputs": [
    {
     "data": {
      "text/plain": [
       "<tf.Tensor: shape=(), dtype=float64, numpy=186.02894578357274>"
      ]
     },
     "execution_count": 43,
     "metadata": {},
     "output_type": "execute_result"
    }
   ],
   "source": [
    "custom_rmse(y_pred,y_true)"
   ]
  },
  {
   "cell_type": "code",
   "execution_count": 22,
   "id": "26387753-afd1-4be4-8757-64e24ef8e893",
   "metadata": {},
   "outputs": [
    {
     "data": {
      "text/plain": [
       "164.56778626492934"
      ]
     },
     "execution_count": 22,
     "metadata": {},
     "output_type": "execute_result"
    }
   ],
   "source": [
    "np.sqrt(np.sum((y_true[:,:1]-y_pred[:,:1])**2)/np.sum(y_pred[:,:1] != 0.0))"
   ]
  },
  {
   "cell_type": "code",
   "execution_count": null,
   "id": "e397bff2-f259-4085-a5bb-878f0b3534b9",
   "metadata": {},
   "outputs": [],
   "source": [
    "np.sqrt(np.sum((y_true[:,:1]-y_pred[:,:1])**2)/np.sum(y_pred!=0.0))"
   ]
  },
  {
   "cell_type": "code",
   "execution_count": 26,
   "id": "135c1ac9-ce36-4c15-bb8b-2111803377ff",
   "metadata": {},
   "outputs": [
    {
     "data": {
      "text/plain": [
       "15.65516579702969"
      ]
     },
     "execution_count": 26,
     "metadata": {},
     "output_type": "execute_result"
    }
   ],
   "source": [
    "np.sqrt(np.mean((y_true[:,:1]-y_pred[:,:1])**2))"
   ]
  },
  {
   "cell_type": "code",
   "execution_count": 9,
   "id": "64aa4a53-d853-4f94-8a2e-ed572378a00b",
   "metadata": {},
   "outputs": [],
   "source": [
    "import imageio\n",
    "import matplotlib.colors as mcolors\n",
    "\n",
    "d = y_pred - y_true\n",
    "\n",
    "norm = mcolors.TwoSlopeNorm(vmin=d.min(), vmax = d.max(), vcenter=0)\n",
    "\n",
    "filenames = []\n",
    "\n",
    "for i in range(418):\n",
    "    # plot the line chart\n",
    "    figure, axis = plt.subplots(2, 2,figsize=(12, 6))\n",
    "\n",
    "    img=axis[0][0].imshow(np.flipud(y_pred[i][1]),cmap=\"coolwarm\", interpolation=\"nearest\")\n",
    "    axis[0][0].set_title(\"prediction\")\n",
    "    plt.colorbar(img,ax=axis)\n",
    "\n",
    "    img1=axis[0][1].imshow(np.flipud(y_true[i][1]),cmap=\"coolwarm\", interpolation=\"nearest\")\n",
    "    axis[0][1].set_title(\"true\")\n",
    "\n",
    "    diff=np.flipud(np.squeeze(y_pred[i][1]-y_true[i][1]))\n",
    "    img2=axis[1][0].imshow(diff,cmap=\"RdBu\", interpolation=\"nearest\",norm=norm)\n",
    "    axis[1][0].set_title(\"residual\")\n",
    "    plt.colorbar(img2,ax=axis)\n",
    "    \n",
    "    img2=axis[1][1].imshow(np.flipud(X[i][1][:,:,5]),cmap=\"coolwarm\", interpolation=\"nearest\")\n",
    "    axis[1][1].set_title(\"input: previous pco2\")\n",
    "    # create file name and append it to a list\n",
    "    filename = f'{i}.png'\n",
    "    filenames.append(filename)\n",
    "    \n",
    "    # save frame\n",
    "    plt.savefig(filename)\n",
    "    plt.close()\n",
    "\n",
    "\n",
    "with imageio.get_writer('../../assets/cnn-lstm-tf-socat.gif', mode='I') as writer:\n",
    "    for filename in filenames:\n",
    "        image = imageio.imread(filename)\n",
    "        writer.append_data(image)\n",
    "        \n",
    "# Remove files\n",
    "for filename in set(filenames):\n",
    "    os.remove(filename)"
   ]
  },
  {
   "cell_type": "code",
   "execution_count": null,
   "id": "60756f59-ce94-4ebe-894b-fc76b85b9390",
   "metadata": {},
   "outputs": [],
   "source": []
  }
 ],
 "metadata": {
  "kernelspec": {
   "display_name": "venv",
   "language": "python",
   "name": "venv"
  },
  "language_info": {
   "codemirror_mode": {
    "name": "ipython",
    "version": 3
   },
   "file_extension": ".py",
   "mimetype": "text/x-python",
   "name": "python",
   "nbconvert_exporter": "python",
   "pygments_lexer": "ipython3",
   "version": "3.8.5"
  }
 },
 "nbformat": 4,
 "nbformat_minor": 5
}

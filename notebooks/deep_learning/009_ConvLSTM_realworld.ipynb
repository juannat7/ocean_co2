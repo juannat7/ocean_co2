{
 "cells": [
  {
   "cell_type": "markdown",
   "id": "b5c4324f-06e0-45f6-9459-5b16d5bfb52b",
   "metadata": {},
   "source": [
    "# Real World Data ConvLSTM"
   ]
  },
  {
   "cell_type": "code",
   "execution_count": 1,
   "id": "d794ec32-b6f5-449b-b27a-11e7ecbe49a8",
   "metadata": {},
   "outputs": [
    {
     "name": "stderr",
     "output_type": "stream",
     "text": [
      "/burg/glab/users/sk4973/venv2/lib/python3.8/site-packages/xarray/backends/cfgrib_.py:27: UserWarning: Failed to load cfgrib - most likely there is a problem accessing the ecCodes library. Try `import cfgrib` to get the full error message\n",
      "  warnings.warn(\n",
      "2022-11-14 06:21:13.064299: I tensorflow/stream_executor/platform/default/dso_loader.cc:49] Successfully opened dynamic library libcudart.so.11.0\n"
     ]
    }
   ],
   "source": [
    "import matplotlib.pyplot as plt\n",
    "import numpy as np\n",
    "import pandas as pd\n",
    "import xarray as xr\n",
    "import sys\n",
    "import tensorflow as tf\n",
    "from tensorflow import keras\n",
    "import os\n",
    "from pyseaflux import fCO2_to_pCO2\n",
    "\n",
    "sys.path.insert(0, '../../src')\n",
    "\n",
    "from utils import df_to_xarray,read_xarray, custom_rmse\n",
    "\n",
    "sys.path.insert(0, '../../src/preprocess')\n",
    "from data_preprocess import preprocess_image_reduced,preprocess_images_nfp, inverse_scale_frame\n",
    "from data_preprocess import preprocess_images, inverse_scale_image, preprocess_image_reduced"
   ]
  },
  {
   "cell_type": "code",
   "execution_count": 2,
   "id": "729c8321-feae-437f-a72a-bbffd5a25441",
   "metadata": {},
   "outputs": [],
   "source": [
    "dist_map = pd.read_csv(\"../../src/dist_map.csv\",header=None).to_numpy()\n",
    "dist_map = np.roll(np.fliplr(dist_map),180)\n",
    "dist_map = np.repeat(dist_map[np.newaxis, :, : ], 480, axis=0)\n",
    "\n",
    "\n",
    "def pco2_socat_preprocess(arr):\n",
    "    nans=np.isnan(arr)\n",
    "    arr[nans] = 0 \n",
    "    arr[arr>1000]=0\n",
    "    return arr\n",
    "\n",
    "def xco2_preprocess(data):\n",
    "    output = []\n",
    "    min_xco2 = np.min(data)\n",
    "    max_xco2=np.max(data)\n",
    "    new_min=0\n",
    "    new_max=255\n",
    "    \n",
    "    for d in data:\n",
    "        num = (d-min_xco2)*(new_max-new_min)/(max_xco2-min_xco2)+new_min\n",
    "        output.append(num)\n",
    "    return output"
   ]
  },
  {
   "cell_type": "code",
   "execution_count": 3,
   "id": "3de62a02-3fb9-4b8f-9c54-a5941d44826f",
   "metadata": {},
   "outputs": [
    {
     "name": "stderr",
     "output_type": "stream",
     "text": [
      "/burg/glab/users/sk4973/venv2/lib/python3.8/site-packages/xarray/backends/plugins.py:61: RuntimeWarning: Engine 'cfgrib' loading failed:\n",
      "ecCodes library not found using ['eccodes', 'libeccodes.so', 'libeccodes']\n",
      "  warnings.warn(f\"Engine {name!r} loading failed:\\n{ex}\", RuntimeWarning)\n"
     ]
    }
   ],
   "source": [
    "dir_name = \"../../data/real_world/MERGED-DATA_1x1_mon_198201-202112.nc\"\n",
    "data = xr.open_dataset(f'{dir_name}')\n",
    "\n",
    "pco2_converted = fCO2_to_pCO2(data.fco2_ave_unwtd.data,data.sst.data)"
   ]
  },
  {
   "cell_type": "code",
   "execution_count": null,
   "id": "e1364464-205a-4341-944e-b288df387596",
   "metadata": {},
   "outputs": [],
   "source": [
    "spco2_socat_non"
   ]
  },
  {
   "cell_type": "code",
   "execution_count": 15,
   "id": "5a7a2582-b825-43e7-b67b-47464490273e",
   "metadata": {},
   "outputs": [
    {
     "data": {
      "text/plain": [
       "(array([2.0000e+00, 7.0000e+00, 2.1000e+01, 5.6000e+01, 8.6000e+01,\n",
       "        1.7300e+02, 3.0600e+02, 4.1000e+02, 6.4600e+02, 9.9700e+02,\n",
       "        1.4670e+03, 2.0590e+03, 3.3200e+03, 5.2700e+03, 1.1782e+04,\n",
       "        2.5753e+04, 4.9306e+04, 6.6154e+04, 6.4284e+04, 4.7157e+04,\n",
       "        2.6311e+04, 1.1970e+04, 5.4110e+03, 2.9270e+03, 1.6990e+03,\n",
       "        9.4800e+02, 4.4500e+02, 2.6100e+02, 1.3200e+02, 8.5000e+01,\n",
       "        5.5000e+01, 4.2000e+01, 3.4000e+01, 1.4000e+01, 8.0000e+00,\n",
       "        8.0000e+00, 1.0000e+01, 6.0000e+00, 6.0000e+00, 3.0000e+00,\n",
       "        2.0000e+00, 1.0000e+00, 2.0000e+00, 1.0000e+00, 2.0000e+00,\n",
       "        0.0000e+00, 0.0000e+00, 0.0000e+00, 0.0000e+00, 3.0000e+00]),\n",
       " array([ 44.66965724,  62.36448851,  80.05931978,  97.75415105,\n",
       "        115.44898232, 133.14381359, 150.83864486, 168.53347613,\n",
       "        186.2283074 , 203.92313867, 221.61796994, 239.31280121,\n",
       "        257.00763248, 274.70246375, 292.39729502, 310.09212629,\n",
       "        327.78695756, 345.48178883, 363.1766201 , 380.87145137,\n",
       "        398.56628264, 416.26111391, 433.95594518, 451.65077645,\n",
       "        469.34560772, 487.04043899, 504.73527026, 522.43010153,\n",
       "        540.1249328 , 557.81976407, 575.51459534, 593.20942661,\n",
       "        610.90425788, 628.59908915, 646.29392042, 663.98875169,\n",
       "        681.68358296, 699.37841423, 717.0732455 , 734.76807677,\n",
       "        752.46290804, 770.15773931, 787.85257058, 805.54740185,\n",
       "        823.24223312, 840.93706439, 858.63189566, 876.32672693,\n",
       "        894.0215582 , 911.71638947, 929.41122074]),\n",
       " <BarContainer object of 50 artists>)"
      ]
     },
     "execution_count": 15,
     "metadata": {},
     "output_type": "execute_result"
    },
    {
     "data": {
      "image/png": "[encoded data removed]",
      "text/plain": [
       "<Figure size 432x288 with 1 Axes>"
      ]
     },
     "metadata": {
      "needs_background": "light"
     },
     "output_type": "display_data"
    }
   ],
   "source": [
    "pco2_socat_non = pco2_converted [pco2_converted!=0]\n",
    "plt.hist(pco2_socat_non,bins=50)"
   ]
  },
  {
   "cell_type": "markdown",
   "id": "bf251b38-72f0-400e-a83e-702b69dc6423",
   "metadata": {},
   "source": [
    "## Data Preprocessing\n",
    "\n",
    "- min - max scaling ?"
   ]
  },
  {
   "cell_type": "code",
   "execution_count": 4,
   "id": "6a8cc0d4-13b3-4e70-8ea9-e714b73bf496",
   "metadata": {},
   "outputs": [
    {
     "data": {
      "text/plain": [
       "((180, 360, 5), (480, 180, 360, 5), (480, 180, 360))"
      ]
     },
     "execution_count": 4,
     "metadata": {},
     "output_type": "execute_result"
    }
   ],
   "source": [
    "chl_images = preprocess_image_reduced(data.chl.data)\n",
    "sss_images = preprocess_image_reduced(data.sss.data)\n",
    "sst_images = preprocess_image_reduced(data.sst.data)\n",
    "dist_map = preprocess_image_reduced(dist_map)\n",
    "xco2_images = xco2_preprocess(data.atm_pco2_uatm.data)\n",
    "\n",
    "X= np.dstack((chl_images, dist_map, sss_images, sst_images, xco2_images))\n",
    "X_all = X.reshape((480,180,360,5),order='F')\n",
    "\n",
    "y_all = pco2_socat_preprocess(pco2_converted)\n",
    "\n",
    "INPUT_SHAPE=X_all[0].shape\n",
    "OUTPUT_SHAPE=y_all[0].shape\n",
    "\n",
    "INPUT_SHAPE, X_all.shape, y_all.shape"
   ]
  },
  {
   "cell_type": "markdown",
   "id": "aebd46f8-f575-4c17-af47-1cf07288d270",
   "metadata": {},
   "source": [
    "## Transfer Learning 1\n",
    "- With 1998 date"
   ]
  },
  {
   "cell_type": "code",
   "execution_count": 5,
   "id": "f7f2d792-369d-4157-a0a8-c0bba580fb6b",
   "metadata": {},
   "outputs": [
    {
     "data": {
      "text/plain": [
       "<matplotlib.colorbar.Colorbar at 0x1554d78cafa0>"
      ]
     },
     "execution_count": 5,
     "metadata": {},
     "output_type": "execute_result"
    },
    {
     "data": {
      "image/png": "[encoded data removed]",
      "text/plain": [
       "<Figure size 432x288 with 2 Axes>"
      ]
     },
     "metadata": {
      "needs_background": "light"
     },
     "output_type": "display_data"
    }
   ],
   "source": [
    "img=plt.imshow(y_all[400])\n",
    "plt.colorbar(img)"
   ]
  },
  {
   "cell_type": "code",
   "execution_count": 75,
   "id": "af5214e5-8fd9-42b6-93f2-d4b25ae56abb",
   "metadata": {},
   "outputs": [
    {
     "name": "stdout",
     "output_type": "stream",
     "text": [
      "15/15 [==============================] - 1s 71ms/step\n"
     ]
    }
   ],
   "source": [
    "model_path=\"../../models/base_model/u_net_dist.h5\"\n",
    "\n",
    "cnn_model = tf.keras.models.load_model(model_path, custom_objects={'custom_rmse':custom_rmse})\n",
    "predicted_image= cnn_model.predict(X_all,verbose=1)\n",
    "coord=np.isnan(np.repeat(np.expand_dims(data.mask.data,axis=0),480,axis=0))\n",
    "predicted_image[coord] = 0\n",
    "y_all[coord]=0"
   ]
  },
  {
   "cell_type": "code",
   "execution_count": 76,
   "id": "4e6bd667-70a1-4399-99fc-01e83ab996ec",
   "metadata": {},
   "outputs": [
    {
     "name": "stdout",
     "output_type": "stream",
     "text": [
      "tf.Tensor(290.60327, shape=(), dtype=float32)\n"
     ]
    }
   ],
   "source": [
    "# without transfer learning rmse\n",
    "print(custom_rmse(y_all,predicted_image))"
   ]
  },
  {
   "cell_type": "code",
   "execution_count": 21,
   "id": "83ce6ab4-6f37-44cc-9622-975d0303be13",
   "metadata": {},
   "outputs": [
    {
     "data": {
      "text/plain": [
       "<matplotlib.image.AxesImage at 0x155478295130>"
      ]
     },
     "execution_count": 21,
     "metadata": {},
     "output_type": "execute_result"
    },
    {
     "data": {
      "image/png": "[encoded data removed]",
      "text/plain": [
       "<Figure size 432x288 with 1 Axes>"
      ]
     },
     "metadata": {
      "needs_background": "light"
     },
     "output_type": "display_data"
    }
   ],
   "source": [
    "#without any training\n",
    "plt.imshow(predicted_image[400])"
   ]
  },
  {
   "cell_type": "code",
   "execution_count": 26,
   "id": "2cb8c9a6-43cb-400c-a590-1d0af02656a6",
   "metadata": {},
   "outputs": [],
   "source": [
    "# transfer learning\n",
    "for layer in cnn_model.layers[:-4]:\n",
    "    layer.trainable = False\n"
   ]
  },
  {
   "cell_type": "code",
   "execution_count": 33,
   "id": "f03acd71-d68e-4559-b877-723c3613932e",
   "metadata": {},
   "outputs": [
    {
     "name": "stdout",
     "output_type": "stream",
     "text": [
      "Epoch 1/100\n",
      "8/8 [==============================] - 4s 446ms/step - loss: 140.4006 - val_loss: 146.6436\n",
      "Epoch 2/100\n",
      "8/8 [==============================] - 3s 336ms/step - loss: 132.4845 - val_loss: 144.1377\n",
      "Epoch 3/100\n",
      "8/8 [==============================] - 3s 337ms/step - loss: 132.2951 - val_loss: 142.6896\n",
      "Epoch 4/100\n",
      "8/8 [==============================] - 3s 335ms/step - loss: 128.4128 - val_loss: 142.7078\n",
      "Epoch 5/100\n",
      "8/8 [==============================] - 3s 336ms/step - loss: 131.7293 - val_loss: 141.6247\n",
      "Epoch 6/100\n",
      "8/8 [==============================] - 3s 337ms/step - loss: 126.6815 - val_loss: 141.4268\n",
      "Epoch 7/100\n",
      "8/8 [==============================] - 3s 335ms/step - loss: 131.2720 - val_loss: 140.9979\n",
      "Epoch 8/100\n",
      "8/8 [==============================] - 3s 338ms/step - loss: 125.4653 - val_loss: 140.9596\n",
      "Epoch 9/100\n",
      "8/8 [==============================] - 3s 336ms/step - loss: 127.8336 - val_loss: 140.7093\n",
      "Epoch 10/100\n",
      "8/8 [==============================] - 3s 337ms/step - loss: 129.0567 - val_loss: 144.4977\n",
      "Epoch 11/100\n",
      "8/8 [==============================] - 3s 336ms/step - loss: 131.6699 - val_loss: 140.4256\n",
      "Epoch 12/100\n",
      "8/8 [==============================] - 3s 336ms/step - loss: 127.8965 - val_loss: 139.8853\n",
      "Epoch 13/100\n",
      "8/8 [==============================] - 3s 337ms/step - loss: 125.7719 - val_loss: 140.6743\n",
      "Epoch 14/100\n",
      "8/8 [==============================] - 3s 337ms/step - loss: 129.4783 - val_loss: 140.0764\n",
      "Epoch 15/100\n",
      "8/8 [==============================] - 3s 335ms/step - loss: 128.3723 - val_loss: 139.7688\n",
      "Epoch 16/100\n",
      "8/8 [==============================] - 3s 336ms/step - loss: 125.0607 - val_loss: 139.5840\n",
      "Epoch 17/100\n",
      "8/8 [==============================] - 3s 337ms/step - loss: 127.9917 - val_loss: 139.5820\n",
      "Epoch 18/100\n",
      "8/8 [==============================] - 3s 334ms/step - loss: 127.5224 - val_loss: 138.8235\n",
      "Epoch 19/100\n",
      "8/8 [==============================] - 3s 335ms/step - loss: 123.7407 - val_loss: 138.5888\n",
      "Epoch 20/100\n",
      "8/8 [==============================] - 3s 337ms/step - loss: 127.4581 - val_loss: 138.7070\n",
      "Epoch 21/100\n",
      "8/8 [==============================] - 3s 337ms/step - loss: 127.9029 - val_loss: 138.3772\n",
      "Epoch 22/100\n",
      "8/8 [==============================] - 3s 335ms/step - loss: 126.6167 - val_loss: 138.2817\n",
      "Epoch 23/100\n",
      "8/8 [==============================] - 3s 335ms/step - loss: 123.1191 - val_loss: 138.3367\n",
      "Epoch 24/100\n",
      "8/8 [==============================] - 3s 337ms/step - loss: 128.0641 - val_loss: 137.9409\n",
      "Epoch 25/100\n",
      "8/8 [==============================] - 3s 334ms/step - loss: 121.0857 - val_loss: 137.6259\n",
      "Epoch 26/100\n",
      "8/8 [==============================] - 3s 337ms/step - loss: 127.5220 - val_loss: 137.1377\n",
      "Epoch 27/100\n",
      "8/8 [==============================] - 3s 334ms/step - loss: 127.6582 - val_loss: 137.2156\n",
      "Epoch 28/100\n",
      "8/8 [==============================] - 3s 338ms/step - loss: 122.7833 - val_loss: 136.6139\n",
      "Epoch 29/100\n",
      "8/8 [==============================] - 3s 336ms/step - loss: 122.4655 - val_loss: 137.5782\n",
      "Epoch 30/100\n",
      "8/8 [==============================] - 3s 337ms/step - loss: 124.4444 - val_loss: 137.3277\n",
      "Epoch 31/100\n",
      "8/8 [==============================] - 3s 336ms/step - loss: 128.2679 - val_loss: 136.9509\n",
      "Epoch 32/100\n",
      "8/8 [==============================] - 3s 338ms/step - loss: 124.5654 - val_loss: 136.7856\n",
      "Epoch 33/100\n",
      "8/8 [==============================] - 3s 336ms/step - loss: 123.3944 - val_loss: 136.5159\n",
      "Epoch 34/100\n",
      "8/8 [==============================] - 3s 336ms/step - loss: 123.2476 - val_loss: 136.1622\n",
      "Epoch 35/100\n",
      "8/8 [==============================] - 3s 335ms/step - loss: 125.3324 - val_loss: 135.8632\n",
      "Epoch 36/100\n",
      "8/8 [==============================] - 3s 343ms/step - loss: 125.6323 - val_loss: 136.3872\n",
      "Epoch 37/100\n",
      "8/8 [==============================] - 3s 335ms/step - loss: 123.5036 - val_loss: 135.4195\n",
      "Epoch 38/100\n",
      "8/8 [==============================] - 3s 337ms/step - loss: 125.1869 - val_loss: 135.6897\n",
      "Epoch 39/100\n",
      "8/8 [==============================] - 3s 338ms/step - loss: 120.4158 - val_loss: 135.0213\n",
      "Epoch 40/100\n",
      "8/8 [==============================] - 3s 336ms/step - loss: 124.8465 - val_loss: 134.7106\n",
      "Epoch 41/100\n",
      "8/8 [==============================] - 3s 335ms/step - loss: 123.9331 - val_loss: 134.3396\n",
      "Epoch 42/100\n",
      "8/8 [==============================] - 3s 338ms/step - loss: 121.2157 - val_loss: 133.9912\n",
      "Epoch 43/100\n",
      "8/8 [==============================] - 3s 336ms/step - loss: 122.6871 - val_loss: 134.1122\n",
      "Epoch 44/100\n",
      "8/8 [==============================] - 3s 338ms/step - loss: 120.8931 - val_loss: 133.5838\n",
      "Epoch 45/100\n",
      "8/8 [==============================] - 3s 339ms/step - loss: 123.5529 - val_loss: 133.8795\n",
      "Epoch 46/100\n",
      "8/8 [==============================] - 3s 338ms/step - loss: 123.8289 - val_loss: 133.6046\n",
      "Epoch 47/100\n",
      "8/8 [==============================] - 3s 337ms/step - loss: 119.9451 - val_loss: 133.4058\n",
      "Epoch 48/100\n",
      "8/8 [==============================] - 3s 336ms/step - loss: 122.0212 - val_loss: 134.0600\n",
      "Epoch 49/100\n",
      "8/8 [==============================] - 3s 334ms/step - loss: 121.4010 - val_loss: 134.5930\n",
      "Epoch 50/100\n",
      "8/8 [==============================] - 3s 339ms/step - loss: 123.7002 - val_loss: 134.3721\n",
      "Epoch 51/100\n",
      "8/8 [==============================] - 3s 335ms/step - loss: 120.0518 - val_loss: 133.8373\n",
      "Epoch 52/100\n",
      "8/8 [==============================] - 3s 339ms/step - loss: 120.2363 - val_loss: 133.3064\n",
      "Epoch 53/100\n",
      "8/8 [==============================] - 3s 335ms/step - loss: 121.9784 - val_loss: 132.9179\n",
      "Epoch 54/100\n",
      "8/8 [==============================] - 3s 338ms/step - loss: 119.4886 - val_loss: 132.3627\n",
      "Epoch 55/100\n",
      "8/8 [==============================] - 3s 337ms/step - loss: 119.6520 - val_loss: 132.4394\n",
      "Epoch 56/100\n",
      "8/8 [==============================] - 3s 338ms/step - loss: 120.1474 - val_loss: 132.1337\n",
      "Epoch 57/100\n",
      "8/8 [==============================] - 3s 335ms/step - loss: 119.2580 - val_loss: 131.8610\n",
      "Epoch 58/100\n",
      "8/8 [==============================] - 3s 338ms/step - loss: 120.5352 - val_loss: 131.3785\n",
      "Epoch 59/100\n",
      "8/8 [==============================] - 3s 335ms/step - loss: 117.6987 - val_loss: 131.2293\n",
      "Epoch 60/100\n",
      "8/8 [==============================] - 3s 338ms/step - loss: 115.4940 - val_loss: 131.4660\n",
      "Epoch 61/100\n",
      "8/8 [==============================] - 3s 336ms/step - loss: 119.3523 - val_loss: 130.6556\n",
      "Epoch 62/100\n",
      "8/8 [==============================] - 3s 338ms/step - loss: 116.7034 - val_loss: 130.9099\n",
      "Epoch 63/100\n",
      "8/8 [==============================] - 3s 341ms/step - loss: 116.2305 - val_loss: 130.5534\n",
      "Epoch 64/100\n",
      "8/8 [==============================] - 3s 344ms/step - loss: 119.9123 - val_loss: 130.9483\n",
      "Epoch 65/100\n",
      "8/8 [==============================] - 3s 343ms/step - loss: 112.7844 - val_loss: 130.2276\n",
      "Epoch 66/100\n",
      "8/8 [==============================] - 3s 342ms/step - loss: 116.7069 - val_loss: 130.6544\n",
      "Epoch 67/100\n",
      "8/8 [==============================] - 3s 347ms/step - loss: 117.7744 - val_loss: 129.6429\n",
      "Epoch 68/100\n",
      "8/8 [==============================] - 3s 344ms/step - loss: 117.2618 - val_loss: 129.1661\n",
      "Epoch 69/100\n",
      "8/8 [==============================] - 3s 345ms/step - loss: 115.7696 - val_loss: 129.6794\n",
      "Epoch 70/100\n",
      "8/8 [==============================] - 3s 348ms/step - loss: 118.1537 - val_loss: 128.6115\n",
      "Epoch 71/100\n",
      "8/8 [==============================] - 3s 345ms/step - loss: 114.5133 - val_loss: 128.4246\n",
      "Epoch 72/100\n",
      "8/8 [==============================] - 3s 342ms/step - loss: 116.1887 - val_loss: 129.4459\n",
      "Epoch 73/100\n",
      "8/8 [==============================] - 3s 351ms/step - loss: 117.8720 - val_loss: 129.2672\n",
      "Epoch 74/100\n",
      "8/8 [==============================] - 3s 348ms/step - loss: 117.5079 - val_loss: 128.2171\n",
      "Epoch 75/100\n",
      "8/8 [==============================] - 3s 347ms/step - loss: 119.5829 - val_loss: 128.0494\n",
      "Epoch 76/100\n",
      "8/8 [==============================] - 3s 363ms/step - loss: 117.4808 - val_loss: 127.4984\n",
      "Epoch 77/100\n",
      "8/8 [==============================] - 3s 343ms/step - loss: 113.8169 - val_loss: 128.2536\n",
      "Epoch 78/100\n",
      "8/8 [==============================] - 3s 341ms/step - loss: 116.8877 - val_loss: 127.4846\n",
      "Epoch 79/100\n",
      "8/8 [==============================] - 3s 345ms/step - loss: 116.6259 - val_loss: 127.2032\n",
      "Epoch 80/100\n",
      "8/8 [==============================] - 3s 348ms/step - loss: 116.1413 - val_loss: 126.8183\n",
      "Epoch 81/100\n",
      "8/8 [==============================] - 3s 341ms/step - loss: 114.1594 - val_loss: 127.1782\n",
      "Epoch 82/100\n",
      "8/8 [==============================] - 3s 338ms/step - loss: 115.4871 - val_loss: 126.6225\n",
      "Epoch 83/100\n",
      "8/8 [==============================] - 3s 337ms/step - loss: 115.3021 - val_loss: 126.4771\n",
      "Epoch 84/100\n",
      "8/8 [==============================] - 3s 335ms/step - loss: 114.0050 - val_loss: 126.1709\n",
      "Epoch 85/100\n",
      "8/8 [==============================] - 3s 336ms/step - loss: 109.9616 - val_loss: 126.0314\n",
      "Epoch 86/100\n",
      "8/8 [==============================] - 3s 337ms/step - loss: 114.2395 - val_loss: 125.9706\n",
      "Epoch 87/100\n",
      "8/8 [==============================] - 3s 338ms/step - loss: 114.2158 - val_loss: 126.5731\n",
      "Epoch 88/100\n",
      "8/8 [==============================] - 3s 335ms/step - loss: 112.4577 - val_loss: 125.6487\n",
      "Epoch 89/100\n",
      "8/8 [==============================] - 3s 337ms/step - loss: 115.8042 - val_loss: 127.9011\n",
      "Epoch 90/100\n",
      "8/8 [==============================] - 3s 340ms/step - loss: 116.9793 - val_loss: 127.6377\n",
      "Epoch 91/100\n",
      "8/8 [==============================] - 3s 337ms/step - loss: 117.1414 - val_loss: 127.3033\n",
      "Epoch 92/100\n",
      "8/8 [==============================] - 3s 334ms/step - loss: 114.3365 - val_loss: 126.9921\n",
      "Epoch 93/100\n",
      "8/8 [==============================] - 3s 337ms/step - loss: 115.0375 - val_loss: 126.5865\n",
      "Epoch 94/100\n",
      "8/8 [==============================] - 3s 336ms/step - loss: 116.9846 - val_loss: 126.2655\n",
      "Epoch 95/100\n",
      "8/8 [==============================] - 3s 335ms/step - loss: 110.8178 - val_loss: 126.7875\n",
      "Epoch 96/100\n",
      "8/8 [==============================] - 3s 334ms/step - loss: 118.6371 - val_loss: 125.8610\n",
      "Epoch 97/100\n",
      "8/8 [==============================] - 3s 335ms/step - loss: 114.4838 - val_loss: 125.5159\n",
      "Epoch 98/100\n",
      "8/8 [==============================] - 3s 336ms/step - loss: 114.7586 - val_loss: 125.3067\n",
      "Epoch 99/100\n",
      "8/8 [==============================] - 3s 338ms/step - loss: 115.4987 - val_loss: 124.8892\n",
      "Epoch 100/100\n",
      "8/8 [==============================] - 3s 336ms/step - loss: 113.6986 - val_loss: 124.7263\n"
     ]
    }
   ],
   "source": [
    "from tensorflow.keras import backend as K\n",
    "tf.keras.backend.clear_session()\n",
    "tf.random.set_seed(42)\n",
    "# best : lr = 0.05 , batch_size = 64\n",
    "\n",
    "optimizer = keras.optimizers.Adam(learning_rate=0.03)\n",
    "\n",
    "cnn_model.compile(loss=custom_rmse, optimizer=optimizer)\n",
    "\n",
    "model_path=\"../../models/transfer_CNN_real.h5\"\n",
    "\n",
    "early_stopings = tf.keras.callbacks.EarlyStopping(monitor='val_loss', min_delta=0, patience=10, verbose=1, mode='min')\n",
    "checkpoint =  tf.keras.callbacks.ModelCheckpoint(model_path, monitor='val_loss', save_best_only=True, mode='min', verbose=0)\n",
    "callbacks=[early_stopings,checkpoint]\n",
    "\n",
    "history = cnn_model.fit(X_all,y_all, epochs=100, \n",
    "                         validation_data=(X_all,y_all),\n",
    "                         workers=-1,batch_size=64,\n",
    "                         callbacks=callbacks)"
   ]
  },
  {
   "cell_type": "code",
   "execution_count": 89,
   "id": "93566f61-4c07-4d78-bec1-47509a5d11f8",
   "metadata": {},
   "outputs": [
    {
     "name": "stdout",
     "output_type": "stream",
     "text": [
      "15/15 [==============================] - 1s 74ms/step\n"
     ]
    }
   ],
   "source": [
    "#best perfoming : transfer_CNN_real2\n",
    "#cnn_model = tf.keras.models.load_model('../../models/transfer_CNN_real2.h5', custom_objects={'custom_rmse':custom_rmse})\n",
    "cnn_model = tf.keras.models.load_model('../../models/transfer_CNN_real.h5', custom_objects={'custom_rmse':custom_rmse})\n",
    "\n",
    "\n",
    "predicted_image = cnn_model.predict(X_all,verbose=1)\n",
    "coord=np.isnan(np.repeat(np.expand_dims(data.mask.data,axis=0),480,axis=0))\n",
    "predicted_image[coord] = 0"
   ]
  },
  {
   "cell_type": "code",
   "execution_count": 90,
   "id": "07a25f92-b875-4380-a658-4319460fd4b6",
   "metadata": {},
   "outputs": [
    {
     "data": {
      "text/plain": [
       "<matplotlib.colorbar.Colorbar at 0x15486c7c1430>"
      ]
     },
     "execution_count": 90,
     "metadata": {},
     "output_type": "execute_result"
    },
    {
     "data": {
      "image/png": "[encoded data removed]",
      "text/plain": [
       "<Figure size 432x288 with 2 Axes>"
      ]
     },
     "metadata": {
      "needs_background": "light"
     },
     "output_type": "display_data"
    }
   ],
   "source": [
    "import matplotlib.colors as mcolors\n",
    "\n",
    "\n",
    "norm = mcolors.Normalize(vmin=0, vmax = 750)\n",
    "\n",
    "img=plt.imshow(np.flipud(predicted_image[280]),cmap=\"coolwarm\", interpolation=\"nearest\", norm=norm)\n",
    "plt.colorbar(img)"
   ]
  },
  {
   "cell_type": "code",
   "execution_count": 91,
   "id": "a9886491-a541-4751-a3ab-b45128cacfd5",
   "metadata": {},
   "outputs": [
    {
     "data": {
      "text/plain": [
       "<matplotlib.colorbar.Colorbar at 0x15486c6f7a00>"
      ]
     },
     "execution_count": 91,
     "metadata": {},
     "output_type": "execute_result"
    },
    {
     "data": {
      "image/png": "[encoded data removed]",
      "text/plain": [
       "<Figure size 432x288 with 2 Axes>"
      ]
     },
     "metadata": {
      "needs_background": "light"
     },
     "output_type": "display_data"
    }
   ],
   "source": [
    "img=plt.imshow(np.flipud(y_all[280]),cmap=\"coolwarm\", interpolation=\"nearest\", norm=norm)\n",
    "plt.colorbar(img)"
   ]
  },
  {
   "cell_type": "code",
   "execution_count": 92,
   "id": "9bdbb8d5-ae51-42fc-91a4-c0fd41af0612",
   "metadata": {},
   "outputs": [
    {
     "data": {
      "text/plain": [
       "<tf.Tensor: shape=(), dtype=float32, numpy=39.33033>"
      ]
     },
     "execution_count": 92,
     "metadata": {},
     "output_type": "execute_result"
    }
   ],
   "source": [
    "custom_rmse(y_all,predicted_image)"
   ]
  },
  {
   "cell_type": "markdown",
   "id": "ba3bf1f8-ca41-4452-90d1-da0d504d2642",
   "metadata": {
    "jp-MarkdownHeadingCollapsed": true,
    "tags": []
   },
   "source": [
    "## Transfer learning 2\n",
    "- after 1998 date"
   ]
  },
  {
   "cell_type": "code",
   "execution_count": 62,
   "id": "3c939f52-f6ec-4e9e-9cdb-7fd9dcff9edd",
   "metadata": {},
   "outputs": [
    {
     "data": {
      "text/plain": [
       "((180, 360, 5), (288, 180, 360, 5), (288, 180, 360))"
      ]
     },
     "execution_count": 62,
     "metadata": {},
     "output_type": "execute_result"
    }
   ],
   "source": [
    "chl_images = preprocess_image_reduced(data.chl.data)\n",
    "sss_images = preprocess_image_reduced(data.sss.data)\n",
    "sst_images = preprocess_image_reduced(data.sst.data)\n",
    "dist_map = preprocess_image_reduced(dist_map)\n",
    "X = np.dstack((chl_images, dist_map, sss_images, sst_images, xco2_images))\n",
    "X = X.reshape((480,180,360,5),order='F')\n",
    "y = pco2_socat_preprocess(data.fco2_ave_unwtd.data)\n",
    "\n",
    "X_all = X[192:]\n",
    "y_all = y[192:]\n",
    "\n",
    "INPUT_SHAPE=X_all[0].shape\n",
    "OUTPUT_SHAPE=y_all[0].shape\n",
    "\n",
    "INPUT_SHAPE, X_all.shape, y_all.shape"
   ]
  },
  {
   "cell_type": "code",
   "execution_count": 63,
   "id": "9d4c8a42-5fde-4d63-ba8c-e3926fbfb589",
   "metadata": {},
   "outputs": [],
   "source": [
    "model_path=\"../../models/base_model/u_net_dist.h5\"\n",
    "\n",
    "cnn_model = tf.keras.models.load_model(model_path, custom_objects={'custom_rmse':custom_rmse})\n"
   ]
  },
  {
   "cell_type": "code",
   "execution_count": 65,
   "id": "764971e3-972c-430f-a2b6-66b46019eae4",
   "metadata": {},
   "outputs": [
    {
     "name": "stdout",
     "output_type": "stream",
     "text": [
      "Epoch 1/50\n",
      "9/9 [==============================] - 3s 275ms/step - loss: 153.9352 - val_loss: 119.4640\n",
      "Epoch 2/50\n",
      "9/9 [==============================] - 2s 258ms/step - loss: 129.4935 - val_loss: 128.1852\n",
      "Epoch 3/50\n",
      "9/9 [==============================] - 2s 258ms/step - loss: 122.4043 - val_loss: 102.8802\n",
      "Epoch 4/50\n",
      "9/9 [==============================] - 2s 258ms/step - loss: 105.0523 - val_loss: 96.0997\n",
      "Epoch 5/50\n",
      "9/9 [==============================] - 2s 258ms/step - loss: 103.9604 - val_loss: 87.2156\n",
      "Epoch 6/50\n",
      "9/9 [==============================] - 2s 257ms/step - loss: 94.5996 - val_loss: 88.5298\n",
      "Epoch 7/50\n",
      "9/9 [==============================] - 2s 258ms/step - loss: 92.3820 - val_loss: 85.3086\n",
      "Epoch 8/50\n",
      "9/9 [==============================] - 2s 257ms/step - loss: 90.7703 - val_loss: 79.2675\n",
      "Epoch 9/50\n",
      "9/9 [==============================] - 2s 259ms/step - loss: 84.2269 - val_loss: 73.1920\n",
      "Epoch 10/50\n",
      "9/9 [==============================] - 2s 256ms/step - loss: 73.7306 - val_loss: 67.4303\n",
      "Epoch 11/50\n",
      "9/9 [==============================] - 2s 258ms/step - loss: 80.7087 - val_loss: 77.1967\n",
      "Epoch 12/50\n",
      "9/9 [==============================] - 2s 257ms/step - loss: 77.1096 - val_loss: 70.2686\n",
      "Epoch 13/50\n",
      "9/9 [==============================] - 2s 259ms/step - loss: 71.8150 - val_loss: 64.7282\n",
      "Epoch 14/50\n",
      "9/9 [==============================] - 2s 258ms/step - loss: 66.4047 - val_loss: 59.7885\n",
      "Epoch 15/50\n",
      "9/9 [==============================] - 2s 258ms/step - loss: 61.2855 - val_loss: 53.5572\n",
      "Epoch 16/50\n",
      "9/9 [==============================] - 2s 257ms/step - loss: 64.8587 - val_loss: 77.0105\n",
      "Epoch 17/50\n",
      "9/9 [==============================] - 2s 258ms/step - loss: 67.0869 - val_loss: 51.6728\n",
      "Epoch 18/50\n",
      "9/9 [==============================] - 2s 258ms/step - loss: 56.9873 - val_loss: 56.1208\n",
      "Epoch 19/50\n",
      "9/9 [==============================] - 2s 256ms/step - loss: 59.1932 - val_loss: 55.4864\n",
      "Epoch 20/50\n",
      "9/9 [==============================] - 2s 258ms/step - loss: 58.2358 - val_loss: 52.4633\n",
      "Epoch 21/50\n",
      "9/9 [==============================] - 2s 258ms/step - loss: 53.0336 - val_loss: 49.6964\n",
      "Epoch 22/50\n",
      "9/9 [==============================] - 2s 258ms/step - loss: 52.1246 - val_loss: 48.1483\n",
      "Epoch 23/50\n",
      "9/9 [==============================] - 2s 258ms/step - loss: 52.3808 - val_loss: 48.2665\n",
      "Epoch 24/50\n",
      "9/9 [==============================] - 2s 257ms/step - loss: 52.0330 - val_loss: 48.1112\n",
      "Epoch 25/50\n",
      "9/9 [==============================] - 2s 259ms/step - loss: 49.6827 - val_loss: 47.6224\n",
      "Epoch 26/50\n",
      "9/9 [==============================] - 2s 256ms/step - loss: 50.2739 - val_loss: 47.0302\n",
      "Epoch 27/50\n",
      "9/9 [==============================] - 2s 259ms/step - loss: 49.0291 - val_loss: 46.6399\n",
      "Epoch 28/50\n",
      "9/9 [==============================] - 2s 257ms/step - loss: 48.6750 - val_loss: 46.2025\n",
      "Epoch 29/50\n",
      "9/9 [==============================] - 2s 257ms/step - loss: 47.6810 - val_loss: 45.7850\n",
      "Epoch 30/50\n",
      "9/9 [==============================] - 2s 258ms/step - loss: 47.4646 - val_loss: 45.7194\n",
      "Epoch 31/50\n",
      "9/9 [==============================] - 2s 258ms/step - loss: 47.4113 - val_loss: 45.9975\n",
      "Epoch 32/50\n",
      "9/9 [==============================] - 2s 257ms/step - loss: 47.0962 - val_loss: 46.3323\n",
      "Epoch 33/50\n",
      "9/9 [==============================] - 2s 257ms/step - loss: 48.1652 - val_loss: 45.5764\n",
      "Epoch 34/50\n",
      "9/9 [==============================] - 2s 258ms/step - loss: 46.3520 - val_loss: 45.2337\n",
      "Epoch 35/50\n",
      "9/9 [==============================] - 2s 260ms/step - loss: 47.2847 - val_loss: 44.2979\n",
      "Epoch 36/50\n",
      "9/9 [==============================] - 2s 257ms/step - loss: 46.1680 - val_loss: 44.5057\n",
      "Epoch 37/50\n",
      "9/9 [==============================] - 2s 259ms/step - loss: 45.7035 - val_loss: 43.5410\n",
      "Epoch 38/50\n",
      "9/9 [==============================] - 2s 258ms/step - loss: 44.6995 - val_loss: 44.2748\n",
      "Epoch 39/50\n",
      "9/9 [==============================] - 2s 258ms/step - loss: 46.6216 - val_loss: 45.0388\n",
      "Epoch 40/50\n",
      "9/9 [==============================] - 2s 258ms/step - loss: 44.5887 - val_loss: 44.2299\n",
      "Epoch 41/50\n",
      "9/9 [==============================] - 2s 257ms/step - loss: 44.2913 - val_loss: 43.9052\n",
      "Epoch 42/50\n",
      "9/9 [==============================] - 2s 256ms/step - loss: 44.8630 - val_loss: 44.1592\n",
      "Epoch 43/50\n",
      "9/9 [==============================] - 2s 258ms/step - loss: 44.2771 - val_loss: 43.9536\n",
      "Epoch 44/50\n",
      "9/9 [==============================] - 2s 258ms/step - loss: 44.2667 - val_loss: 43.2748\n",
      "Epoch 45/50\n",
      "9/9 [==============================] - 2s 259ms/step - loss: 42.8376 - val_loss: 42.0448\n",
      "Epoch 46/50\n",
      "9/9 [==============================] - 2s 257ms/step - loss: 42.3912 - val_loss: 40.4466\n",
      "Epoch 47/50\n",
      "9/9 [==============================] - 2s 259ms/step - loss: 41.2385 - val_loss: 39.8628\n",
      "Epoch 48/50\n",
      "9/9 [==============================] - 2s 257ms/step - loss: 40.8488 - val_loss: 39.6375\n",
      "Epoch 49/50\n",
      "9/9 [==============================] - 2s 256ms/step - loss: 38.4478 - val_loss: 38.8551\n",
      "Epoch 50/50\n",
      "9/9 [==============================] - 2s 257ms/step - loss: 41.0295 - val_loss: 38.9818\n"
     ]
    }
   ],
   "source": [
    "for layer in cnn_model.layers[:-4]:\n",
    "    layer.trainable = False\n",
    "\n",
    "tf.keras.backend.clear_session()\n",
    "\n",
    "optimizer = keras.optimizers.Adam(learning_rate=0.01)\n",
    "\n",
    "\n",
    "cnn_model.compile(loss=custom_rmse, optimizer=optimizer)\n",
    "\n",
    "model_path=\"../../models/transfer_CNN_real2.h5\"\n",
    "\n",
    "early_stopings = tf.keras.callbacks.EarlyStopping(monitor='val_loss', min_delta=0, patience=10, verbose=1, mode='min')\n",
    "checkpoint =  tf.keras.callbacks.ModelCheckpoint(model_path, monitor='val_loss', save_best_only=True, mode='min', verbose=0)\n",
    "callbacks=[early_stopings,checkpoint]\n",
    "\n",
    "history = cnn_model.fit(X_all,y_all, epochs=50, \n",
    "                         validation_data=(X_all,y_all),\n",
    "                         workers=-1,batch_size=32,\n",
    "                         callbacks=callbacks)"
   ]
  },
  {
   "cell_type": "code",
   "execution_count": null,
   "id": "ffc84e36-4417-44ba-b88a-d0baa3407e9f",
   "metadata": {},
   "outputs": [],
   "source": [
    "cnn_model = tf.keras.models.load_model('../../models/transfer_CNN_real2.h5', custom_objects={'custom_rmse':custom_rmse})\n",
    "\n",
    "predicted_image = cnn_model.predict(X_all,verbose=1)\n",
    "coord=np.isnan(np.repeat(np.expand_dims(data.mask.data,axis=0),288,axis=0))\n",
    "predicted_image[coord] = 0\n",
    "\n",
    "full_truth = data.fco2_ave_unwtd.data[192:]\n",
    "full_truth[coord] = 0"
   ]
  },
  {
   "cell_type": "code",
   "execution_count": 68,
   "id": "12767c11-7617-43a8-a352-b2e5ed66ef0b",
   "metadata": {},
   "outputs": [
    {
     "data": {
      "text/plain": [
       "<tf.Tensor: shape=(), dtype=float32, numpy=38.310745>"
      ]
     },
     "execution_count": 68,
     "metadata": {},
     "output_type": "execute_result"
    }
   ],
   "source": [
    "custom_rmse(full_truth,predicted_image)"
   ]
  },
  {
   "cell_type": "code",
   "execution_count": 69,
   "id": "f7f0fc57-4aa4-4202-a383-19d28d5afef5",
   "metadata": {},
   "outputs": [
    {
     "data": {
      "text/plain": [
       "<matplotlib.colorbar.Colorbar at 0x155496677dc0>"
      ]
     },
     "execution_count": 69,
     "metadata": {},
     "output_type": "execute_result"
    },
    {
     "data": {
      "image/png": "[encoded data removed]",
      "text/plain": [
       "<Figure size 432x288 with 2 Axes>"
      ]
     },
     "metadata": {
      "needs_background": "light"
     },
     "output_type": "display_data"
    }
   ],
   "source": [
    "import matplotlib.colors as mcolors\n",
    "norm = mcolors.Normalize(vmin=0, vmax = 500)\n",
    "\n",
    "img=plt.imshow(np.flipud(predicted_image[280]),cmap=\"coolwarm\", interpolation=\"nearest\", norm=norm)\n",
    "plt.colorbar(img)"
   ]
  },
  {
   "cell_type": "code",
   "execution_count": 70,
   "id": "7a5954ef-17a9-4036-9a7b-d624dd297b75",
   "metadata": {},
   "outputs": [
    {
     "data": {
      "text/plain": [
       "<matplotlib.colorbar.Colorbar at 0x1554965a36a0>"
      ]
     },
     "execution_count": 70,
     "metadata": {},
     "output_type": "execute_result"
    },
    {
     "data": {
      "image/png": "[encoded data removed]",
      "text/plain": [
       "<Figure size 432x288 with 2 Axes>"
      ]
     },
     "metadata": {
      "needs_background": "light"
     },
     "output_type": "display_data"
    }
   ],
   "source": [
    "img=plt.imshow(np.flipud(full_truth[280]),cmap=\"Blues\", interpolation=\"nearest\", norm=norm)\n",
    "plt.colorbar(img)"
   ]
  },
  {
   "cell_type": "markdown",
   "id": "dd5c72ee-c641-4dfd-8ed7-7f413c2628b1",
   "metadata": {},
   "source": [
    "## ConvLSTM transfer learning"
   ]
  },
  {
   "cell_type": "code",
   "execution_count": 94,
   "id": "d8ec2d00-175a-4c1f-9399-252c1038d12a",
   "metadata": {},
   "outputs": [
    {
     "data": {
      "text/plain": [
       "((477, 3, 180, 360, 6), (477, 3, 180, 360, 1))"
      ]
     },
     "execution_count": 94,
     "metadata": {},
     "output_type": "execute_result"
    }
   ],
   "source": [
    "X_index=np.lib.stride_tricks.sliding_window_view(range(480),3)\n",
    "X = np.dstack((chl_images, dist_map, sss_images, sst_images, xco2_images,predicted_image))\n",
    "X = X.reshape((480,180,360,6),order='F')\n",
    "X = X[X_index][:-1]\n",
    "\n",
    "y_tf=np.expand_dims(y_all[X_index][1:],axis=4)\n",
    "\n",
    "X.shape, y_tf.shape # changed sliding"
   ]
  },
  {
   "cell_type": "code",
   "execution_count": 95,
   "id": "2b7ac27d-c4fa-4ae6-bce4-85056f4fe65f",
   "metadata": {},
   "outputs": [],
   "source": [
    "tf.keras.backend.clear_session()\n",
    "\n",
    "convlstm_model_path = \"../../models/ConvLSTM_with_pco2_2.h5\"\n",
    "convlstm_model = tf.keras.models.load_model(convlstm_model_path, custom_objects={'custom_rmse':custom_rmse})\n",
    "\n"
   ]
  },
  {
   "cell_type": "code",
   "execution_count": 96,
   "id": "de07b4aa-83c0-4371-9082-0732b269d94e",
   "metadata": {},
   "outputs": [
    {
     "name": "stdout",
     "output_type": "stream",
     "text": [
      "(477, 3, 180, 360, 1)\n",
      "15/15 [==============================] - 17s 1s/step\n",
      "ConvLSTM Full RMSE score w/o finetuning:\n",
      "tf.Tensor(150.11697, shape=(), dtype=float32)\n"
     ]
    }
   ],
   "source": [
    "\n",
    "tmp = np.nan_to_num(data.fco2_ave_unwtd.data[X_index][1:])\n",
    "y_true_full = np.expand_dims(tmp,axis=4)\n",
    "print(y_true_full.shape)\n",
    "\n",
    "coord = (y_true_full==0.0)\n",
    "\n",
    "predicted_frames= convlstm_model.predict(X,verbose=1)\n",
    "predicted_frames[coord] = 0\n",
    "\n",
    "print(\"ConvLSTM Full RMSE score w/o finetuning:\")\n",
    "a=custom_rmse(y_true_full[:,1:2],predicted_frames[:,1:2])\n",
    "print(a)"
   ]
  },
  {
   "cell_type": "code",
   "execution_count": 97,
   "id": "6a25ded1-a6e3-4efd-a4f5-1d335a86ba19",
   "metadata": {},
   "outputs": [],
   "source": [
    "for layer in convlstm_model.layers[:-2]:\n",
    "    layer.trainable = False"
   ]
  },
  {
   "cell_type": "code",
   "execution_count": 98,
   "id": "4e33e2a1-1cc6-41fa-ab25-b82c389eeb81",
   "metadata": {},
   "outputs": [],
   "source": [
    "convlstm_model.compile(\n",
    "    loss=custom_rmse, optimizer=keras.optimizers.Adam(learning_rate=2e-3),\n",
    ")\n",
    "\n",
    "model_path=\"../../models/transfer_ConvLSTM_real.h5\"\n",
    "\n",
    "early_stopings = tf.keras.callbacks.EarlyStopping(monitor='val_loss', min_delta=0, patience=5, verbose=1, mode='min')\n",
    "checkpoint =  tf.keras.callbacks.ModelCheckpoint(model_path, monitor='val_loss', save_best_only=True, mode='min', verbose=0)\n",
    "callbacks=[early_stopings,checkpoint]\n",
    "\n",
    "epochs = 50\n",
    "batch_size = 16"
   ]
  },
  {
   "cell_type": "code",
   "execution_count": 99,
   "id": "a7f22b97-3ad4-4900-ae71-e354f947e493",
   "metadata": {},
   "outputs": [
    {
     "name": "stdout",
     "output_type": "stream",
     "text": [
      "Epoch 1/50\n",
      "30/30 [==============================] - 57s 2s/step - loss: 74.8718 - val_loss: 43.5458\n",
      "Epoch 2/50\n",
      "30/30 [==============================] - 43s 1s/step - loss: 42.3532 - val_loss: 39.1223\n",
      "Epoch 3/50\n",
      "30/30 [==============================] - 43s 1s/step - loss: 38.3768 - val_loss: 36.8664\n",
      "Epoch 4/50\n",
      "30/30 [==============================] - 43s 1s/step - loss: 36.6124 - val_loss: 35.6869\n",
      "Epoch 5/50\n",
      "30/30 [==============================] - 43s 1s/step - loss: 36.1353 - val_loss: 36.5103\n",
      "Epoch 6/50\n",
      "30/30 [==============================] - 43s 1s/step - loss: 35.4528 - val_loss: 34.7724\n",
      "Epoch 7/50\n",
      "30/30 [==============================] - 47s 2s/step - loss: 35.0455 - val_loss: 34.5897\n",
      "Epoch 8/50\n",
      "30/30 [==============================] - 43s 1s/step - loss: 34.1153 - val_loss: 33.7513\n",
      "Epoch 9/50\n",
      "30/30 [==============================] - 43s 1s/step - loss: 33.9100 - val_loss: 33.9125\n",
      "Epoch 10/50\n",
      "30/30 [==============================] - 44s 1s/step - loss: 33.6536 - val_loss: 33.4552\n",
      "Epoch 11/50\n",
      "30/30 [==============================] - 44s 1s/step - loss: 33.0823 - val_loss: 33.5085\n",
      "Epoch 12/50\n",
      "30/30 [==============================] - 43s 1s/step - loss: 33.1854 - val_loss: 33.1144\n",
      "Epoch 13/50\n",
      "30/30 [==============================] - 43s 1s/step - loss: 32.7532 - val_loss: 35.0387\n",
      "Epoch 14/50\n",
      "30/30 [==============================] - 43s 1s/step - loss: 33.2699 - val_loss: 32.5982\n",
      "Epoch 15/50\n",
      "30/30 [==============================] - 52s 2s/step - loss: 32.8118 - val_loss: 32.5361\n",
      "Epoch 16/50\n",
      "30/30 [==============================] - 46s 2s/step - loss: 32.6215 - val_loss: 32.6346\n",
      "Epoch 17/50\n",
      "30/30 [==============================] - 43s 1s/step - loss: 32.1886 - val_loss: 32.5192\n",
      "Epoch 18/50\n",
      "30/30 [==============================] - 48s 2s/step - loss: 32.2023 - val_loss: 32.0857\n",
      "Epoch 19/50\n",
      "30/30 [==============================] - 47s 2s/step - loss: 32.4216 - val_loss: 32.7091\n",
      "Epoch 20/50\n",
      "30/30 [==============================] - 43s 1s/step - loss: 32.0776 - val_loss: 32.1354\n",
      "Epoch 21/50\n",
      "30/30 [==============================] - 44s 1s/step - loss: 31.9250 - val_loss: 34.9239\n",
      "Epoch 22/50\n",
      "30/30 [==============================] - 43s 1s/step - loss: 32.5206 - val_loss: 32.4719\n",
      "Epoch 23/50\n",
      "30/30 [==============================] - 43s 1s/step - loss: 32.1898 - val_loss: 31.9768\n",
      "Epoch 24/50\n",
      "30/30 [==============================] - 46s 1s/step - loss: 31.6770 - val_loss: 31.7138\n",
      "Epoch 25/50\n",
      "30/30 [==============================] - 43s 1s/step - loss: 31.7889 - val_loss: 32.2361\n",
      "Epoch 26/50\n",
      "30/30 [==============================] - 43s 1s/step - loss: 31.7253 - val_loss: 31.5680\n",
      "Epoch 27/50\n",
      "30/30 [==============================] - 43s 1s/step - loss: 32.2586 - val_loss: 33.3056\n",
      "Epoch 28/50\n",
      "30/30 [==============================] - 43s 1s/step - loss: 31.4959 - val_loss: 31.9096\n",
      "Epoch 29/50\n",
      " 3/30 [==>...........................] - ETA: 23s - loss: 32.4245"
     ]
    },
    {
     "ename": "KeyboardInterrupt",
     "evalue": "",
     "output_type": "error",
     "traceback": [
      "\u001b[0;31m---------------------------------------------------------------------------\u001b[0m",
      "\u001b[0;31mKeyboardInterrupt\u001b[0m                         Traceback (most recent call last)",
      "Input \u001b[0;32mIn [99]\u001b[0m, in \u001b[0;36m<cell line: 1>\u001b[0;34m()\u001b[0m\n\u001b[0;32m----> 1\u001b[0m history \u001b[38;5;241m=\u001b[39m \u001b[43mconvlstm_model\u001b[49m\u001b[38;5;241;43m.\u001b[39;49m\u001b[43mfit\u001b[49m\u001b[43m(\u001b[49m\n\u001b[1;32m      2\u001b[0m \u001b[43m    \u001b[49m\u001b[43mX\u001b[49m\u001b[43m,\u001b[49m\n\u001b[1;32m      3\u001b[0m \u001b[43m    \u001b[49m\u001b[43my_tf\u001b[49m\u001b[43m,\u001b[49m\n\u001b[1;32m      4\u001b[0m \u001b[43m    \u001b[49m\u001b[43mbatch_size\u001b[49m\u001b[38;5;241;43m=\u001b[39;49m\u001b[43mbatch_size\u001b[49m\u001b[43m,\u001b[49m\n\u001b[1;32m      5\u001b[0m \u001b[43m    \u001b[49m\u001b[43mepochs\u001b[49m\u001b[38;5;241;43m=\u001b[39;49m\u001b[43mepochs\u001b[49m\u001b[43m,\u001b[49m\n\u001b[1;32m      6\u001b[0m \u001b[43m    \u001b[49m\u001b[43mvalidation_data\u001b[49m\u001b[38;5;241;43m=\u001b[39;49m\u001b[43m(\u001b[49m\u001b[43mX\u001b[49m\u001b[43m,\u001b[49m\u001b[43m \u001b[49m\u001b[43my_tf\u001b[49m\u001b[43m)\u001b[49m\u001b[43m,\u001b[49m\n\u001b[1;32m      7\u001b[0m \u001b[43m    \u001b[49m\u001b[43mcallbacks\u001b[49m\u001b[38;5;241;43m=\u001b[39;49m\u001b[43mcallbacks\u001b[49m\u001b[43m,\u001b[49m\n\u001b[1;32m      8\u001b[0m \u001b[43m)\u001b[49m\n",
      "File \u001b[0;32m/burg/glab/users/sk4973/venv2/lib/python3.8/site-packages/tensorflow/python/keras/engine/training.py:1105\u001b[0m, in \u001b[0;36mModel.fit\u001b[0;34m(self, x, y, batch_size, epochs, verbose, callbacks, validation_split, validation_data, shuffle, class_weight, sample_weight, initial_epoch, steps_per_epoch, validation_steps, validation_batch_size, validation_freq, max_queue_size, workers, use_multiprocessing)\u001b[0m\n\u001b[1;32m   1103\u001b[0m logs \u001b[38;5;241m=\u001b[39m tmp_logs  \u001b[38;5;66;03m# No error, now safe to assign to logs.\u001b[39;00m\n\u001b[1;32m   1104\u001b[0m end_step \u001b[38;5;241m=\u001b[39m step \u001b[38;5;241m+\u001b[39m data_handler\u001b[38;5;241m.\u001b[39mstep_increment\n\u001b[0;32m-> 1105\u001b[0m \u001b[43mcallbacks\u001b[49m\u001b[38;5;241;43m.\u001b[39;49m\u001b[43mon_train_batch_end\u001b[49m\u001b[43m(\u001b[49m\u001b[43mend_step\u001b[49m\u001b[43m,\u001b[49m\u001b[43m \u001b[49m\u001b[43mlogs\u001b[49m\u001b[43m)\u001b[49m\n\u001b[1;32m   1106\u001b[0m \u001b[38;5;28;01mif\u001b[39;00m \u001b[38;5;28mself\u001b[39m\u001b[38;5;241m.\u001b[39mstop_training:\n\u001b[1;32m   1107\u001b[0m   \u001b[38;5;28;01mbreak\u001b[39;00m\n",
      "File \u001b[0;32m/burg/glab/users/sk4973/venv2/lib/python3.8/site-packages/tensorflow/python/keras/callbacks.py:454\u001b[0m, in \u001b[0;36mCallbackList.on_train_batch_end\u001b[0;34m(self, batch, logs)\u001b[0m\n\u001b[1;32m    447\u001b[0m \u001b[38;5;124;03m\"\"\"Calls the `on_train_batch_end` methods of its callbacks.\u001b[39;00m\n\u001b[1;32m    448\u001b[0m \n\u001b[1;32m    449\u001b[0m \u001b[38;5;124;03mArguments:\u001b[39;00m\n\u001b[1;32m    450\u001b[0m \u001b[38;5;124;03m    batch: Integer, index of batch within the current epoch.\u001b[39;00m\n\u001b[1;32m    451\u001b[0m \u001b[38;5;124;03m    logs: Dict. Aggregated metric results up until this batch.\u001b[39;00m\n\u001b[1;32m    452\u001b[0m \u001b[38;5;124;03m\"\"\"\u001b[39;00m\n\u001b[1;32m    453\u001b[0m \u001b[38;5;28;01mif\u001b[39;00m \u001b[38;5;28mself\u001b[39m\u001b[38;5;241m.\u001b[39m_should_call_train_batch_hooks:\n\u001b[0;32m--> 454\u001b[0m   \u001b[38;5;28;43mself\u001b[39;49m\u001b[38;5;241;43m.\u001b[39;49m\u001b[43m_call_batch_hook\u001b[49m\u001b[43m(\u001b[49m\u001b[43mModeKeys\u001b[49m\u001b[38;5;241;43m.\u001b[39;49m\u001b[43mTRAIN\u001b[49m\u001b[43m,\u001b[49m\u001b[43m \u001b[49m\u001b[38;5;124;43m'\u001b[39;49m\u001b[38;5;124;43mend\u001b[39;49m\u001b[38;5;124;43m'\u001b[39;49m\u001b[43m,\u001b[49m\u001b[43m \u001b[49m\u001b[43mbatch\u001b[49m\u001b[43m,\u001b[49m\u001b[43m \u001b[49m\u001b[43mlogs\u001b[49m\u001b[38;5;241;43m=\u001b[39;49m\u001b[43mlogs\u001b[49m\u001b[43m)\u001b[49m\n",
      "File \u001b[0;32m/burg/glab/users/sk4973/venv2/lib/python3.8/site-packages/tensorflow/python/keras/callbacks.py:296\u001b[0m, in \u001b[0;36mCallbackList._call_batch_hook\u001b[0;34m(self, mode, hook, batch, logs)\u001b[0m\n\u001b[1;32m    294\u001b[0m   \u001b[38;5;28mself\u001b[39m\u001b[38;5;241m.\u001b[39m_call_batch_begin_hook(mode, batch, logs)\n\u001b[1;32m    295\u001b[0m \u001b[38;5;28;01melif\u001b[39;00m hook \u001b[38;5;241m==\u001b[39m \u001b[38;5;124m'\u001b[39m\u001b[38;5;124mend\u001b[39m\u001b[38;5;124m'\u001b[39m:\n\u001b[0;32m--> 296\u001b[0m   \u001b[38;5;28;43mself\u001b[39;49m\u001b[38;5;241;43m.\u001b[39;49m\u001b[43m_call_batch_end_hook\u001b[49m\u001b[43m(\u001b[49m\u001b[43mmode\u001b[49m\u001b[43m,\u001b[49m\u001b[43m \u001b[49m\u001b[43mbatch\u001b[49m\u001b[43m,\u001b[49m\u001b[43m \u001b[49m\u001b[43mlogs\u001b[49m\u001b[43m)\u001b[49m\n\u001b[1;32m    297\u001b[0m \u001b[38;5;28;01melse\u001b[39;00m:\n\u001b[1;32m    298\u001b[0m   \u001b[38;5;28;01mraise\u001b[39;00m \u001b[38;5;167;01mValueError\u001b[39;00m(\u001b[38;5;124m'\u001b[39m\u001b[38;5;124mUnrecognized hook: \u001b[39m\u001b[38;5;132;01m{}\u001b[39;00m\u001b[38;5;124m'\u001b[39m\u001b[38;5;241m.\u001b[39mformat(hook))\n",
      "File \u001b[0;32m/burg/glab/users/sk4973/venv2/lib/python3.8/site-packages/tensorflow/python/keras/callbacks.py:316\u001b[0m, in \u001b[0;36mCallbackList._call_batch_end_hook\u001b[0;34m(self, mode, batch, logs)\u001b[0m\n\u001b[1;32m    313\u001b[0m   batch_time \u001b[38;5;241m=\u001b[39m time\u001b[38;5;241m.\u001b[39mtime() \u001b[38;5;241m-\u001b[39m \u001b[38;5;28mself\u001b[39m\u001b[38;5;241m.\u001b[39m_batch_start_time\n\u001b[1;32m    314\u001b[0m   \u001b[38;5;28mself\u001b[39m\u001b[38;5;241m.\u001b[39m_batch_times\u001b[38;5;241m.\u001b[39mappend(batch_time)\n\u001b[0;32m--> 316\u001b[0m \u001b[38;5;28;43mself\u001b[39;49m\u001b[38;5;241;43m.\u001b[39;49m\u001b[43m_call_batch_hook_helper\u001b[49m\u001b[43m(\u001b[49m\u001b[43mhook_name\u001b[49m\u001b[43m,\u001b[49m\u001b[43m \u001b[49m\u001b[43mbatch\u001b[49m\u001b[43m,\u001b[49m\u001b[43m \u001b[49m\u001b[43mlogs\u001b[49m\u001b[43m)\u001b[49m\n\u001b[1;32m    318\u001b[0m \u001b[38;5;28;01mif\u001b[39;00m \u001b[38;5;28mlen\u001b[39m(\u001b[38;5;28mself\u001b[39m\u001b[38;5;241m.\u001b[39m_batch_times) \u001b[38;5;241m>\u001b[39m\u001b[38;5;241m=\u001b[39m \u001b[38;5;28mself\u001b[39m\u001b[38;5;241m.\u001b[39m_num_batches_for_timing_check:\n\u001b[1;32m    319\u001b[0m   end_hook_name \u001b[38;5;241m=\u001b[39m hook_name\n",
      "File \u001b[0;32m/burg/glab/users/sk4973/venv2/lib/python3.8/site-packages/tensorflow/python/keras/callbacks.py:356\u001b[0m, in \u001b[0;36mCallbackList._call_batch_hook_helper\u001b[0;34m(self, hook_name, batch, logs)\u001b[0m\n\u001b[1;32m    354\u001b[0m hook \u001b[38;5;241m=\u001b[39m \u001b[38;5;28mgetattr\u001b[39m(callback, hook_name)\n\u001b[1;32m    355\u001b[0m \u001b[38;5;28;01mif\u001b[39;00m \u001b[38;5;28mgetattr\u001b[39m(callback, \u001b[38;5;124m'\u001b[39m\u001b[38;5;124m_supports_tf_logs\u001b[39m\u001b[38;5;124m'\u001b[39m, \u001b[38;5;28;01mFalse\u001b[39;00m):\n\u001b[0;32m--> 356\u001b[0m   \u001b[43mhook\u001b[49m\u001b[43m(\u001b[49m\u001b[43mbatch\u001b[49m\u001b[43m,\u001b[49m\u001b[43m \u001b[49m\u001b[43mlogs\u001b[49m\u001b[43m)\u001b[49m\n\u001b[1;32m    357\u001b[0m \u001b[38;5;28;01melse\u001b[39;00m:\n\u001b[1;32m    358\u001b[0m   \u001b[38;5;28;01mif\u001b[39;00m numpy_logs \u001b[38;5;129;01mis\u001b[39;00m \u001b[38;5;28;01mNone\u001b[39;00m:  \u001b[38;5;66;03m# Only convert once.\u001b[39;00m\n",
      "File \u001b[0;32m/burg/glab/users/sk4973/venv2/lib/python3.8/site-packages/tensorflow/python/keras/callbacks.py:1020\u001b[0m, in \u001b[0;36mProgbarLogger.on_train_batch_end\u001b[0;34m(self, batch, logs)\u001b[0m\n\u001b[1;32m   1019\u001b[0m \u001b[38;5;28;01mdef\u001b[39;00m \u001b[38;5;21mon_train_batch_end\u001b[39m(\u001b[38;5;28mself\u001b[39m, batch, logs\u001b[38;5;241m=\u001b[39m\u001b[38;5;28;01mNone\u001b[39;00m):\n\u001b[0;32m-> 1020\u001b[0m   \u001b[38;5;28;43mself\u001b[39;49m\u001b[38;5;241;43m.\u001b[39;49m\u001b[43m_batch_update_progbar\u001b[49m\u001b[43m(\u001b[49m\u001b[43mbatch\u001b[49m\u001b[43m,\u001b[49m\u001b[43m \u001b[49m\u001b[43mlogs\u001b[49m\u001b[43m)\u001b[49m\n",
      "File \u001b[0;32m/burg/glab/users/sk4973/venv2/lib/python3.8/site-packages/tensorflow/python/keras/callbacks.py:1084\u001b[0m, in \u001b[0;36mProgbarLogger._batch_update_progbar\u001b[0;34m(self, batch, logs)\u001b[0m\n\u001b[1;32m   1080\u001b[0m   \u001b[38;5;28mself\u001b[39m\u001b[38;5;241m.\u001b[39mseen \u001b[38;5;241m+\u001b[39m\u001b[38;5;241m=\u001b[39m add_seen\n\u001b[1;32m   1082\u001b[0m \u001b[38;5;28;01mif\u001b[39;00m \u001b[38;5;28mself\u001b[39m\u001b[38;5;241m.\u001b[39mverbose \u001b[38;5;241m==\u001b[39m \u001b[38;5;241m1\u001b[39m:\n\u001b[1;32m   1083\u001b[0m   \u001b[38;5;66;03m# Only block async when verbose = 1.\u001b[39;00m\n\u001b[0;32m-> 1084\u001b[0m   logs \u001b[38;5;241m=\u001b[39m \u001b[43mtf_utils\u001b[49m\u001b[38;5;241;43m.\u001b[39;49m\u001b[43mto_numpy_or_python_type\u001b[49m\u001b[43m(\u001b[49m\u001b[43mlogs\u001b[49m\u001b[43m)\u001b[49m\n\u001b[1;32m   1085\u001b[0m   \u001b[38;5;28mself\u001b[39m\u001b[38;5;241m.\u001b[39mprogbar\u001b[38;5;241m.\u001b[39mupdate(\u001b[38;5;28mself\u001b[39m\u001b[38;5;241m.\u001b[39mseen, \u001b[38;5;28mlist\u001b[39m(logs\u001b[38;5;241m.\u001b[39mitems()), finalize\u001b[38;5;241m=\u001b[39m\u001b[38;5;28;01mFalse\u001b[39;00m)\n",
      "File \u001b[0;32m/burg/glab/users/sk4973/venv2/lib/python3.8/site-packages/tensorflow/python/keras/utils/tf_utils.py:514\u001b[0m, in \u001b[0;36mto_numpy_or_python_type\u001b[0;34m(tensors)\u001b[0m\n\u001b[1;32m    511\u001b[0m     \u001b[38;5;28;01mreturn\u001b[39;00m x\u001b[38;5;241m.\u001b[39mitem() \u001b[38;5;28;01mif\u001b[39;00m np\u001b[38;5;241m.\u001b[39mndim(x) \u001b[38;5;241m==\u001b[39m \u001b[38;5;241m0\u001b[39m \u001b[38;5;28;01melse\u001b[39;00m x\n\u001b[1;32m    512\u001b[0m   \u001b[38;5;28;01mreturn\u001b[39;00m t  \u001b[38;5;66;03m# Don't turn ragged or sparse tensors to NumPy.\u001b[39;00m\n\u001b[0;32m--> 514\u001b[0m \u001b[38;5;28;01mreturn\u001b[39;00m \u001b[43mnest\u001b[49m\u001b[38;5;241;43m.\u001b[39;49m\u001b[43mmap_structure\u001b[49m\u001b[43m(\u001b[49m\u001b[43m_to_single_numpy_or_python_type\u001b[49m\u001b[43m,\u001b[49m\u001b[43m \u001b[49m\u001b[43mtensors\u001b[49m\u001b[43m)\u001b[49m\n",
      "File \u001b[0;32m/burg/glab/users/sk4973/venv2/lib/python3.8/site-packages/tensorflow/python/util/nest.py:659\u001b[0m, in \u001b[0;36mmap_structure\u001b[0;34m(func, *structure, **kwargs)\u001b[0m\n\u001b[1;32m    655\u001b[0m flat_structure \u001b[38;5;241m=\u001b[39m (flatten(s, expand_composites) \u001b[38;5;28;01mfor\u001b[39;00m s \u001b[38;5;129;01min\u001b[39;00m structure)\n\u001b[1;32m    656\u001b[0m entries \u001b[38;5;241m=\u001b[39m \u001b[38;5;28mzip\u001b[39m(\u001b[38;5;241m*\u001b[39mflat_structure)\n\u001b[1;32m    658\u001b[0m \u001b[38;5;28;01mreturn\u001b[39;00m pack_sequence_as(\n\u001b[0;32m--> 659\u001b[0m     structure[\u001b[38;5;241m0\u001b[39m], [func(\u001b[38;5;241m*\u001b[39mx) \u001b[38;5;28;01mfor\u001b[39;00m x \u001b[38;5;129;01min\u001b[39;00m entries],\n\u001b[1;32m    660\u001b[0m     expand_composites\u001b[38;5;241m=\u001b[39mexpand_composites)\n",
      "File \u001b[0;32m/burg/glab/users/sk4973/venv2/lib/python3.8/site-packages/tensorflow/python/util/nest.py:659\u001b[0m, in \u001b[0;36m<listcomp>\u001b[0;34m(.0)\u001b[0m\n\u001b[1;32m    655\u001b[0m flat_structure \u001b[38;5;241m=\u001b[39m (flatten(s, expand_composites) \u001b[38;5;28;01mfor\u001b[39;00m s \u001b[38;5;129;01min\u001b[39;00m structure)\n\u001b[1;32m    656\u001b[0m entries \u001b[38;5;241m=\u001b[39m \u001b[38;5;28mzip\u001b[39m(\u001b[38;5;241m*\u001b[39mflat_structure)\n\u001b[1;32m    658\u001b[0m \u001b[38;5;28;01mreturn\u001b[39;00m pack_sequence_as(\n\u001b[0;32m--> 659\u001b[0m     structure[\u001b[38;5;241m0\u001b[39m], [\u001b[43mfunc\u001b[49m\u001b[43m(\u001b[49m\u001b[38;5;241;43m*\u001b[39;49m\u001b[43mx\u001b[49m\u001b[43m)\u001b[49m \u001b[38;5;28;01mfor\u001b[39;00m x \u001b[38;5;129;01min\u001b[39;00m entries],\n\u001b[1;32m    660\u001b[0m     expand_composites\u001b[38;5;241m=\u001b[39mexpand_composites)\n",
      "File \u001b[0;32m/burg/glab/users/sk4973/venv2/lib/python3.8/site-packages/tensorflow/python/keras/utils/tf_utils.py:510\u001b[0m, in \u001b[0;36mto_numpy_or_python_type.<locals>._to_single_numpy_or_python_type\u001b[0;34m(t)\u001b[0m\n\u001b[1;32m    508\u001b[0m \u001b[38;5;28;01mdef\u001b[39;00m \u001b[38;5;21m_to_single_numpy_or_python_type\u001b[39m(t):\n\u001b[1;32m    509\u001b[0m   \u001b[38;5;28;01mif\u001b[39;00m \u001b[38;5;28misinstance\u001b[39m(t, ops\u001b[38;5;241m.\u001b[39mTensor):\n\u001b[0;32m--> 510\u001b[0m     x \u001b[38;5;241m=\u001b[39m \u001b[43mt\u001b[49m\u001b[38;5;241;43m.\u001b[39;49m\u001b[43mnumpy\u001b[49m\u001b[43m(\u001b[49m\u001b[43m)\u001b[49m\n\u001b[1;32m    511\u001b[0m     \u001b[38;5;28;01mreturn\u001b[39;00m x\u001b[38;5;241m.\u001b[39mitem() \u001b[38;5;28;01mif\u001b[39;00m np\u001b[38;5;241m.\u001b[39mndim(x) \u001b[38;5;241m==\u001b[39m \u001b[38;5;241m0\u001b[39m \u001b[38;5;28;01melse\u001b[39;00m x\n\u001b[1;32m    512\u001b[0m   \u001b[38;5;28;01mreturn\u001b[39;00m t\n",
      "File \u001b[0;32m/burg/glab/users/sk4973/venv2/lib/python3.8/site-packages/tensorflow/python/framework/ops.py:1071\u001b[0m, in \u001b[0;36m_EagerTensorBase.numpy\u001b[0;34m(self)\u001b[0m\n\u001b[1;32m   1048\u001b[0m \u001b[38;5;124;03m\"\"\"Copy of the contents of this Tensor into a NumPy array or scalar.\u001b[39;00m\n\u001b[1;32m   1049\u001b[0m \n\u001b[1;32m   1050\u001b[0m \u001b[38;5;124;03mUnlike NumPy arrays, Tensors are immutable, so this method has to copy\u001b[39;00m\n\u001b[0;32m   (...)\u001b[0m\n\u001b[1;32m   1068\u001b[0m \u001b[38;5;124;03m    NumPy dtype.\u001b[39;00m\n\u001b[1;32m   1069\u001b[0m \u001b[38;5;124;03m\"\"\"\u001b[39;00m\n\u001b[1;32m   1070\u001b[0m \u001b[38;5;66;03m# TODO(slebedev): Consider avoiding a copy for non-CPU or remote tensors.\u001b[39;00m\n\u001b[0;32m-> 1071\u001b[0m maybe_arr \u001b[38;5;241m=\u001b[39m \u001b[38;5;28;43mself\u001b[39;49m\u001b[38;5;241;43m.\u001b[39;49m\u001b[43m_numpy\u001b[49m\u001b[43m(\u001b[49m\u001b[43m)\u001b[49m  \u001b[38;5;66;03m# pylint: disable=protected-access\u001b[39;00m\n\u001b[1;32m   1072\u001b[0m \u001b[38;5;28;01mreturn\u001b[39;00m maybe_arr\u001b[38;5;241m.\u001b[39mcopy() \u001b[38;5;28;01mif\u001b[39;00m \u001b[38;5;28misinstance\u001b[39m(maybe_arr, np\u001b[38;5;241m.\u001b[39mndarray) \u001b[38;5;28;01melse\u001b[39;00m maybe_arr\n",
      "File \u001b[0;32m/burg/glab/users/sk4973/venv2/lib/python3.8/site-packages/tensorflow/python/framework/ops.py:1037\u001b[0m, in \u001b[0;36m_EagerTensorBase._numpy\u001b[0;34m(self)\u001b[0m\n\u001b[1;32m   1035\u001b[0m \u001b[38;5;28;01mdef\u001b[39;00m \u001b[38;5;21m_numpy\u001b[39m(\u001b[38;5;28mself\u001b[39m):\n\u001b[1;32m   1036\u001b[0m   \u001b[38;5;28;01mtry\u001b[39;00m:\n\u001b[0;32m-> 1037\u001b[0m     \u001b[38;5;28;01mreturn\u001b[39;00m \u001b[38;5;28;43mself\u001b[39;49m\u001b[38;5;241;43m.\u001b[39;49m\u001b[43m_numpy_internal\u001b[49m\u001b[43m(\u001b[49m\u001b[43m)\u001b[49m\n\u001b[1;32m   1038\u001b[0m   \u001b[38;5;28;01mexcept\u001b[39;00m core\u001b[38;5;241m.\u001b[39m_NotOkStatusException \u001b[38;5;28;01mas\u001b[39;00m e:  \u001b[38;5;66;03m# pylint: disable=protected-access\u001b[39;00m\n\u001b[1;32m   1039\u001b[0m     six\u001b[38;5;241m.\u001b[39mraise_from(core\u001b[38;5;241m.\u001b[39m_status_to_exception(e\u001b[38;5;241m.\u001b[39mcode, e\u001b[38;5;241m.\u001b[39mmessage), \u001b[38;5;28;01mNone\u001b[39;00m)\n",
      "\u001b[0;31mKeyboardInterrupt\u001b[0m: "
     ]
    }
   ],
   "source": [
    "history = convlstm_model.fit(\n",
    "    X,\n",
    "    y_tf,\n",
    "    batch_size=batch_size,\n",
    "    epochs=epochs,\n",
    "    validation_data=(X, y_tf),\n",
    "    callbacks=callbacks,\n",
    ")"
   ]
  },
  {
   "cell_type": "code",
   "execution_count": 100,
   "id": "e906fd15-ebed-4609-af8e-dc1c6edd07f2",
   "metadata": {},
   "outputs": [
    {
     "data": {
      "text/plain": [
       "(477, 3, 180, 360)"
      ]
     },
     "execution_count": 100,
     "metadata": {},
     "output_type": "execute_result"
    }
   ],
   "source": [
    "coord=np.isnan(np.repeat(np.expand_dims(data.mask.data,axis=0),480,axis=0)[X_index][1:])\n",
    "coord.shape"
   ]
  },
  {
   "cell_type": "code",
   "execution_count": 101,
   "id": "ae15f8fe-1698-498d-af2c-9e3c537a16c6",
   "metadata": {},
   "outputs": [
    {
     "name": "stdout",
     "output_type": "stream",
     "text": [
      "15/15 [==============================] - 21s 1s/step\n"
     ]
    }
   ],
   "source": [
    "tf_model = tf.keras.models.load_model(\"../../models/transfer_ConvLSTM_real.h5\", custom_objects={'custom_rmse':custom_rmse})\n",
    "\n",
    "\n",
    "predicted_frames= tf_model.predict(X,verbose=1)\n",
    "predicted_frames[coord] = 0\n",
    "y_true_full[coord]= 0"
   ]
  },
  {
   "cell_type": "code",
   "execution_count": 102,
   "id": "efd8d800-5dc1-473d-8aa4-cd424f92e19d",
   "metadata": {},
   "outputs": [
    {
     "name": "stdout",
     "output_type": "stream",
     "text": [
      "Full RMSE score:\n",
      "tf.Tensor(31.217478, shape=(), dtype=float32)\n"
     ]
    }
   ],
   "source": [
    "print(\"Full RMSE score:\")\n",
    "a=custom_rmse(y_true_full[:,1:2],predicted_frames[:,1:2])\n",
    "print(a)"
   ]
  },
  {
   "cell_type": "code",
   "execution_count": 103,
   "id": "001afc9d-fcd1-47f5-8a56-5631f7f512fb",
   "metadata": {},
   "outputs": [
    {
     "name": "stderr",
     "output_type": "stream",
     "text": [
      "/tmp/ipykernel_2937990/2200734154.py:2: MatplotlibDeprecationWarning: Starting from Matplotlib 3.6, colorbar() will steal space from the mappable's axes, rather than from the current axes, to place the colorbar.  To silence this warning, explicitly pass the 'ax' argument to colorbar().\n",
      "  plt.colorbar(img)\n"
     ]
    },
    {
     "data": {
      "text/plain": [
       "<matplotlib.colorbar.Colorbar at 0x154860a26c40>"
      ]
     },
     "execution_count": 103,
     "metadata": {},
     "output_type": "execute_result"
    },
    {
     "data": {
      "image/png": "[encoded data removed]",
      "text/plain": [
       "<Figure size 432x288 with 2 Axes>"
      ]
     },
     "metadata": {
      "needs_background": "light"
     },
     "output_type": "display_data"
    }
   ],
   "source": [
    "plt.imshow(y_true_full[:,1:2][418][0],cmap=\"coolwarm\",interpolation=\"nearest\", norm=norm)\n",
    "plt.colorbar(img)"
   ]
  },
  {
   "cell_type": "code",
   "execution_count": 104,
   "id": "a18910eb-1a49-453a-aaf0-2410f8e801dd",
   "metadata": {},
   "outputs": [
    {
     "data": {
      "text/plain": [
       "<matplotlib.colorbar.Colorbar at 0x1548609109a0>"
      ]
     },
     "execution_count": 104,
     "metadata": {},
     "output_type": "execute_result"
    },
    {
     "data": {
      "image/png": "[encoded data removed]",
      "text/plain": [
       "<Figure size 432x288 with 2 Axes>"
      ]
     },
     "metadata": {
      "needs_background": "light"
     },
     "output_type": "display_data"
    }
   ],
   "source": [
    "import matplotlib.colors as mcolors\n",
    "norm = mcolors.Normalize(vmin=0, vmax = 750)\n",
    "\n",
    "img=plt.imshow(np.flipud(predicted_frames[418,1:2][0]),cmap=\"coolwarm\", interpolation=\"nearest\", norm=norm)\n",
    "plt.colorbar(img)"
   ]
  },
  {
   "cell_type": "code",
   "execution_count": null,
   "id": "64f4330f-e058-4149-8586-a79834145dbc",
   "metadata": {},
   "outputs": [],
   "source": [
    "plt.hist(predicted_frames[predicted_frames!=0.0])"
   ]
  },
  {
   "cell_type": "markdown",
   "id": "6044acdd-4879-459b-a139-c7449afc866c",
   "metadata": {},
   "source": [
    "# Gif Generation"
   ]
  },
  {
   "cell_type": "code",
   "execution_count": 105,
   "id": "ae2695a7-3275-472f-8b21-8f201d552d23",
   "metadata": {},
   "outputs": [
    {
     "name": "stdout",
     "output_type": "stream",
     "text": [
      "0th photo generated\n",
      "40th photo generated\n",
      "80th photo generated\n",
      "120th photo generated\n",
      "160th photo generated\n",
      "200th photo generated\n",
      "240th photo generated\n",
      "280th photo generated\n",
      "320th photo generated\n",
      "360th photo generated\n",
      "400th photo generated\n",
      "440th photo generated\n"
     ]
    }
   ],
   "source": [
    "# gif generation for convLSTM\n",
    "\n",
    "import matplotlib.colors as mcolors\n",
    "import imageio\n",
    "\n",
    "\n",
    "norm = mcolors.Normalize(vmin=0, vmax = 750)\n",
    "norm2 = mcolors.TwoSlopeNorm(vmin=-500, vmax = 500, vcenter=0)\n",
    "\n",
    "\n",
    "filenames = []\n",
    "\n",
    "for i in range(477):\n",
    "    figure, axis = plt.subplots(1, 2,figsize=(18, 10))\n",
    "    frame_pred = predicted_frames[i,1:2][0]\n",
    "    y_true = y_true_full[i,1:2][0]\n",
    "    \n",
    "    img=axis[0].imshow(np.flipud(frame_pred),cmap=\"coolwarm\", interpolation=\"nearest\", norm=norm)\n",
    "    axis[0].set_title(\"prediction\")\n",
    "    plt.colorbar(img,ax=axis)\n",
    "\n",
    "    img1=axis[1].imshow(np.flipud(y_true),cmap=\"coolwarm\", interpolation=\"nearest\",norm=norm)\n",
    "    axis[1].set_title(\"true\")\n",
    "\n",
    "    text = \"rmse: \"+str(np.round(custom_rmse(y_true,frame_pred),2))\n",
    "    plt.text(-60, -60, text, fontsize = 20)\n",
    "    \n",
    "    filename = f'{i}.png'\n",
    "    filenames.append(filename)\n",
    "    \n",
    "    # save frame\n",
    "    plt.savefig(filename)\n",
    "    plt.close()\n",
    "    \n",
    "    if i%40 == 0:\n",
    "        print(str(i)+\"th photo generated\")\n",
    "\n",
    "with imageio.get_writer('../../assets/convlstm_real_transfer.gif', mode='I',fps=0.5) as writer:\n",
    "    for filename in filenames:\n",
    "        image = imageio.imread(filename)\n",
    "        writer.append_data(image)\n",
    "        \n",
    "# Remove files\n",
    "for filename in set(filenames):\n",
    "    os.remove(filename)"
   ]
  },
  {
   "cell_type": "code",
   "execution_count": null,
   "id": "b09a200c-c47f-4ec9-ad6f-f2524cc075ae",
   "metadata": {},
   "outputs": [
    {
     "name": "stdout",
     "output_type": "stream",
     "text": [
      "0th photo generated\n",
      "40th photo generated\n",
      "80th photo generated\n",
      "120th photo generated\n",
      "160th photo generated\n",
      "200th photo generated\n",
      "240th photo generated\n",
      "280th photo generated\n",
      "320th photo generated\n",
      "360th photo generated\n",
      "400th photo generated\n",
      "440th photo generated\n"
     ]
    }
   ],
   "source": [
    "# gif generation for cnn\n",
    "\n",
    "import matplotlib.colors as mcolors\n",
    "import imageio\n",
    "\n",
    "\n",
    "norm = mcolors.Normalize(vmin=0, vmax = 750)\n",
    "\n",
    "\n",
    "filenames = []\n",
    "\n",
    "for i in range(480):\n",
    "    figure, axis = plt.subplots(1, 2,figsize=(18, 10))\n",
    "    \n",
    "    img=axis[0].imshow(np.flipud(predicted_image[i]),cmap=\"coolwarm\", interpolation=\"nearest\", norm=norm)\n",
    "    axis[0].set_title(\"prediction\")\n",
    "    plt.colorbar(img,ax=axis)\n",
    "\n",
    "    img1=axis[1].imshow(np.flipud(y_all[i]),cmap=\"coolwarm\", interpolation=\"nearest\",norm=norm)\n",
    "    axis[1].set_title(\"true\")\n",
    "\n",
    "    text = \"rmse: \"+str(np.round(custom_rmse(y_all[i],predicted_image[i]),2))\n",
    "    plt.text(-60, -60, text, fontsize = 20)\n",
    "    \n",
    "    filename = f'{i}.png'\n",
    "    filenames.append(filename)\n",
    "    \n",
    "    # save frame\n",
    "    plt.savefig(filename)\n",
    "    plt.close()\n",
    "    \n",
    "    if i%40 == 0:\n",
    "        print(str(i)+\"th photo generated\")\n",
    "\n",
    "\n",
    "with imageio.get_writer('../../assets/cnn_real_transfer.gif', mode='I',fps=0.5) as writer:\n",
    "    for filename in filenames:\n",
    "        image = imageio.imread(filename)\n",
    "        writer.append_data(image)\n",
    "        \n",
    "# Remove files\n",
    "for filename in set(filenames):\n",
    "    os.remove(filename)"
   ]
  },
  {
   "cell_type": "code",
   "execution_count": null,
   "id": "1f7dd2f0-50cf-491f-bb08-e8fbc84fdc79",
   "metadata": {},
   "outputs": [],
   "source": []
  }
 ],
 "metadata": {
  "kernelspec": {
   "display_name": "venv2",
   "language": "python",
   "name": "venv2"
  },
  "language_info": {
   "codemirror_mode": {
    "name": "ipython",
    "version": 3
   },
   "file_extension": ".py",
   "mimetype": "text/x-python",
   "name": "python",
   "nbconvert_exporter": "python",
   "pygments_lexer": "ipython3",
   "version": "3.8.5"
  }
 },
 "nbformat": 4,
 "nbformat_minor": 5
}

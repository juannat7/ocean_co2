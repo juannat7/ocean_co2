{
 "cells": [
  {
   "cell_type": "markdown",
   "id": "36d96220-a312-4867-a8cf-4d14919c3174",
   "metadata": {},
   "source": [
    "## Transfer Learning from CNN LSTM\n"
   ]
  },
  {
   "cell_type": "code",
   "execution_count": 1,
   "id": "fc08f351-e66b-4972-b99f-370e204452e7",
   "metadata": {},
   "outputs": [
    {
     "name": "stderr",
     "output_type": "stream",
     "text": [
      "/burg/glab/users/sk4973/venv/lib/python3.8/site-packages/xarray/backends/cfgrib_.py:27: UserWarning: Failed to load cfgrib - most likely there is a problem accessing the ecCodes library. Try `import cfgrib` to get the full error message\n",
      "  warnings.warn(\n",
      "2022-01-30 14:21:15.905960: I tensorflow/stream_executor/platform/default/dso_loader.cc:49] Successfully opened dynamic library libcudart.so.11.0\n"
     ]
    }
   ],
   "source": [
    "import imp\n",
    "import matplotlib.pyplot as plt\n",
    "import numpy as np\n",
    "import pandas as pd\n",
    "import xarray as xr\n",
    "import sys\n",
    "import tensorflow as tf\n",
    "from tensorflow import keras\n",
    "\n",
    "import os\n",
    "tf.random.set_seed(42)\n",
    "\n",
    "\n",
    "sys.path.insert(0, '../../src')\n",
    "from utils import df_to_xarray,read_xarray,inverse_scale_image, get_point_prediction\n",
    "\n",
    "sys.path.insert(0, '../../src/preprocess')\n",
    "from data_preprocess import preprocess_image_reduced"
   ]
  },
  {
   "cell_type": "code",
   "execution_count": 5,
   "id": "de2d7fe9-e99b-4a0a-9cd5-acc0a04495a6",
   "metadata": {},
   "outputs": [],
   "source": [
    "def preprocess_images_nfp(dir_name,num=\"001\",socat=False):\n",
    "    \n",
    "    chl,mld,sss,sst,u10,fg_co2,xco2,icefrac,patm,pco2 = read_xarray(dir_name,num)\n",
    "    \n",
    "    if socat:\n",
    "\n",
    "        chl_images = preprocess_image_reduced(chl.Chl_socat.data)\n",
    "        mld_images = preprocess_image_reduced(mld.MLD_socat.data)\n",
    "        sss_images = preprocess_image_reduced(sss.SSS_socat.data)\n",
    "        sst_images = preprocess_image_reduced(sst.SST_socat.data)\n",
    "        xco2_images = preprocess_image_reduced(xco2.XCO2.data,xco2=True)\n",
    "        pco2_images_socat = preprocess_image_reduced(pco2.pCO2_socat.data)\n",
    "    else:\n",
    "        chl_images = preprocess_image_reduced(chl.Chl.data)\n",
    "        mld_images = preprocess_image_reduced(mld.MLD.data)\n",
    "        sss_images = preprocess_image_reduced(sss.SSS.data)\n",
    "        sst_images = preprocess_image_reduced(sst.SST.data)\n",
    "        xco2_images = preprocess_image_reduced(xco2.XCO2.data,xco2=True)\n",
    "\n",
    "    pco2_images = preprocess_image_reduced(pco2.pCO2.data)\n",
    "    \n",
    "    X = np.dstack((chl_images, mld_images, sss_images, sst_images, xco2_images,pco2_images_socat))\n",
    "    X = X.reshape((421,180,360,6),order='F')\n",
    "\n",
    "    return X, pco2_images\n",
    "\n"
   ]
  },
  {
   "cell_type": "code",
   "execution_count": 6,
   "id": "d1427a3b-1c03-4816-814e-c710bb8672d8",
   "metadata": {},
   "outputs": [],
   "source": [
    "dir_name=\"../../data/data1\"\n",
    "val_dir_name=\"../../data/data2\"\n",
    "\n",
    "\n",
    "data,pco2 = preprocess_images_nfp(dir_name,socat=True)\n",
    "test_data,test_pco2 = preprocess_images_nfp(val_dir_name,\"035\",True)"
   ]
  },
  {
   "cell_type": "code",
   "execution_count": 7,
   "id": "a6106380-2aa2-490a-94d8-a9f7069479b6",
   "metadata": {},
   "outputs": [],
   "source": [
    "import tensorflow.keras.backend as kb\n",
    "import tensorflow as tf\n",
    "from tensorflow.keras import backend as K\n",
    "\n",
    "def custom_rmse(y_true, y_pred):\n",
    "    \"\"\"\n",
    "    custom_rmse(y_true, y_pred)\n",
    "    calculates root square mean value with focusing only on the ocean\n",
    "    \"\"\"\n",
    "    y_pred = y_pred[y_true != 0]\n",
    "    y_true = y_true[y_true != 0]\n",
    "    y_pred = tf.convert_to_tensor(y_pred)\n",
    "    y_true = tf.cast(y_true, y_pred.dtype)\n",
    "    \n",
    "    return K.sqrt(K.mean(tf.math.squared_difference(y_pred, y_true), axis=-1))"
   ]
  },
  {
   "cell_type": "code",
   "execution_count": 8,
   "id": "0a8d445c-a1f7-4be2-98f2-1a4ace3317ee",
   "metadata": {},
   "outputs": [],
   "source": [
    "X_index=np.lib.stride_tricks.sliding_window_view(range(421),3) \n",
    "\n",
    "# gives you gradient exploding problem\n",
    "\n",
    "y=np.expand_dims(pco2[X_index][1:],axis=4)\n",
    "X=data[X_index][:-1]\n",
    "\n",
    "\n",
    "val_y=np.expand_dims(test_pco2[X_index][1:],axis=4)\n",
    "val_X=test_data[X_index][:-1]"
   ]
  },
  {
   "cell_type": "code",
   "execution_count": 9,
   "id": "d82a524e-6615-4ef1-8e97-bc33a47ddafe",
   "metadata": {},
   "outputs": [
    {
     "data": {
      "text/plain": [
       "(3, 180, 360, 6)"
      ]
     },
     "execution_count": 9,
     "metadata": {},
     "output_type": "execute_result"
    }
   ],
   "source": [
    "INPUT_SHAPE=X[0].shape\n",
    "OUTPUT_SHAPE=y[0].shape\n",
    "\n",
    "INPUT_SHAPE"
   ]
  },
  {
   "cell_type": "code",
   "execution_count": null,
   "id": "8efd2351-651a-42ff-953f-1ded7476dfbd",
   "metadata": {},
   "outputs": [],
   "source": [
    "best_model = tf.keras.models.load_model('../../models/base_CNN_LSTM.h5', custom_objects={'custom_rmse':custom_rmse})\n",
    "predicted_frames=best_model.predict(X,verbose=1)"
   ]
  }
 ],
 "metadata": {
  "kernelspec": {
   "display_name": "venv",
   "language": "python",
   "name": "venv"
  },
  "language_info": {
   "codemirror_mode": {
    "name": "ipython",
    "version": 3
   },
   "file_extension": ".py",
   "mimetype": "text/x-python",
   "name": "python",
   "nbconvert_exporter": "python",
   "pygments_lexer": "ipython3",
   "version": "3.8.5"
  }
 },
 "nbformat": 4,
 "nbformat_minor": 5
}

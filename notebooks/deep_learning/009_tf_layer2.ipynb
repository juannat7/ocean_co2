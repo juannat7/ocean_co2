{
 "cells": [
  {
   "cell_type": "markdown",
   "id": "36d96220-a312-4867-a8cf-4d14919c3174",
   "metadata": {},
   "source": [
    "## Transfer Learning from CNN-LSTM\n",
    "\n",
    "\n",
    "### Method 1 - 2 \n",
    "- Data preprocess the same way for input\n",
    "- Only train the second to last +last cnn layer, and freeze the rest\n",
    "\n",
    "\n",
    "### Bench Marks\n",
    "**Final Result for Random Forest trained on SOCAT**\n",
    "\n",
    "Test Set RMSE: 30.56 | Whole Grid Rmse: 42.12\n",
    "\n",
    "\n",
    "**Final Result for XGBoost trained on SOCAT**\n",
    "\n",
    "Test Set RMSE:28.43698261274142 | Whole Grid Rmse:37.709863752151215\n",
    "\n",
    "### Result\n",
    "**[:-2],*[:-4],'../../models/transfer_CNN_LSTM_FINAL.h5'  BEST PERFORMING**\n",
    "\n",
    "Test Set RMSE: ~14.75 | Whole Grid RMSE: ~6.7\n",
    "\n",
    "- resting and training again help lower the rmse score"
   ]
  },
  {
   "cell_type": "code",
   "execution_count": null,
   "id": "3dffdba9-3503-484f-ae72-94892892e655",
   "metadata": {},
   "outputs": [],
   "source": [
    "tf.keras.backend.clear_session()"
   ]
  },
  {
   "cell_type": "code",
   "execution_count": 2,
   "id": "ac8c632b-bac2-4435-9f3e-ca66ef63a763",
   "metadata": {},
   "outputs": [],
   "source": [
    "def inverse_scale_image_nfp(arr, df):\n",
    "    \"\"\"\n",
    "    inverse_scale_image(arr, df):\n",
    "    - inverses the pco2 scaling\n",
    "    \"\"\"\n",
    "    df_tmp = df[df!=0.0]\n",
    "    \n",
    "    old_min = np.nanmin(df_tmp)\n",
    "    old_max = np.nanmax(df_tmp)\n",
    "    y_pred = arr*(old_max-old_min)/255+old_min\n",
    "    \n",
    "    tmp=np.nan_to_num(df[X_index][1:])\n",
    "    y_true=np.expand_dims(tmp,axis=4)\n",
    "    y_pred[y_true==0]=0\n",
    "    return y_true,y_pred"
   ]
  },
  {
   "cell_type": "code",
   "execution_count": 3,
   "id": "fc08f351-e66b-4972-b99f-370e204452e7",
   "metadata": {},
   "outputs": [
    {
     "name": "stderr",
     "output_type": "stream",
     "text": [
      "/burg/glab/users/sk4973/venv/lib/python3.8/site-packages/xarray/backends/cfgrib_.py:27: UserWarning: Failed to load cfgrib - most likely there is a problem accessing the ecCodes library. Try `import cfgrib` to get the full error message\n",
      "  warnings.warn(\n",
      "2022-03-22 08:30:42.817067: I tensorflow/stream_executor/platform/default/dso_loader.cc:49] Successfully opened dynamic library libcudart.so.11.0\n"
     ]
    }
   ],
   "source": [
    "import imp\n",
    "import matplotlib.pyplot as plt\n",
    "import numpy as np\n",
    "import pandas as pd\n",
    "import xarray as xr\n",
    "import sys\n",
    "import tensorflow as tf\n",
    "from tensorflow import keras\n",
    "\n",
    "%matplotlib inline\n",
    "\n",
    "from sklearn.ensemble import RandomForestRegressor\n",
    "from sklearn.model_selection import train_test_split\n",
    "from sklearn.pipeline import Pipeline\n",
    "from sklearn.preprocessing import StandardScaler\n",
    "from sklearn.metrics import mean_squared_error\n",
    "from sklearn.impute import SimpleImputer\n",
    "\n",
    "import os\n",
    "tf.random.set_seed(42)\n",
    "\n",
    "\n",
    "sys.path.insert(0, '../../src')\n",
    "from utils import df_to_xarray,read_xarray,inverse_scale_image, get_point_prediction\n",
    "\n",
    "sys.path.insert(0, '../../src/preprocess')\n",
    "from data_preprocess import preprocess_image_reduced,preprocess_images_nfp"
   ]
  },
  {
   "cell_type": "code",
   "execution_count": 4,
   "id": "187e6351-a184-4587-847f-fc6ccc04641b",
   "metadata": {},
   "outputs": [
    {
     "name": "stdout",
     "output_type": "stream",
     "text": [
      "Num GPUs Available:  1\n"
     ]
    },
    {
     "name": "stderr",
     "output_type": "stream",
     "text": [
      "2022-03-22 08:31:30.694981: I tensorflow/compiler/jit/xla_cpu_device.cc:41] Not creating XLA devices, tf_xla_enable_xla_devices not set\n",
      "2022-03-22 08:31:30.776179: I tensorflow/stream_executor/platform/default/dso_loader.cc:49] Successfully opened dynamic library libcuda.so.1\n",
      "2022-03-22 08:31:30.958365: I tensorflow/core/common_runtime/gpu/gpu_device.cc:1720] Found device 0 with properties: \n",
      "pciBusID: 0000:3b:00.0 name: Quadro RTX 8000 computeCapability: 7.5\n",
      "coreClock: 1.62GHz coreCount: 72 deviceMemorySize: 44.49GiB deviceMemoryBandwidth: 581.23GiB/s\n",
      "2022-03-22 08:31:30.958413: I tensorflow/stream_executor/platform/default/dso_loader.cc:49] Successfully opened dynamic library libcudart.so.11.0\n",
      "2022-03-22 08:31:33.030242: I tensorflow/stream_executor/platform/default/dso_loader.cc:49] Successfully opened dynamic library libcublas.so.11\n",
      "2022-03-22 08:31:33.030320: I tensorflow/stream_executor/platform/default/dso_loader.cc:49] Successfully opened dynamic library libcublasLt.so.11\n",
      "2022-03-22 08:31:33.545331: I tensorflow/stream_executor/platform/default/dso_loader.cc:49] Successfully opened dynamic library libcufft.so.10\n",
      "2022-03-22 08:31:33.677104: I tensorflow/stream_executor/platform/default/dso_loader.cc:49] Successfully opened dynamic library libcurand.so.10\n",
      "2022-03-22 08:31:36.015515: I tensorflow/stream_executor/platform/default/dso_loader.cc:49] Successfully opened dynamic library libcusolver.so.10\n",
      "2022-03-22 08:31:36.241237: I tensorflow/stream_executor/platform/default/dso_loader.cc:49] Successfully opened dynamic library libcusparse.so.11\n",
      "2022-03-22 08:31:36.326481: I tensorflow/stream_executor/platform/default/dso_loader.cc:49] Successfully opened dynamic library libcudnn.so.8\n",
      "2022-03-22 08:31:36.378796: I tensorflow/core/common_runtime/gpu/gpu_device.cc:1862] Adding visible gpu devices: 0\n"
     ]
    }
   ],
   "source": [
    "print(\"Num GPUs Available: \", len(tf.config.list_physical_devices('GPU')))"
   ]
  },
  {
   "cell_type": "code",
   "execution_count": 5,
   "id": "f2f90026-6b1f-4845-ae55-92ab9fa7f7bd",
   "metadata": {},
   "outputs": [],
   "source": [
    "import tensorflow.keras.backend as kb\n",
    "import tensorflow as tf\n",
    "from tensorflow.keras import backend as K\n",
    "\n",
    "def custom_rmse(y_true, y_pred):\n",
    "    \"\"\"\n",
    "    custom_rmse(y_true, y_pred)\n",
    "    calculates root square mean value with focusing only on the ocean\n",
    "    \"\"\"\n",
    "    y_pred = y_pred[(y_true != 0) & (y_true != 0.0)]\n",
    "    y_true = y_true[(y_true != 0) & (y_true != 0.0)]\n",
    "    \n",
    "    y_pred = tf.convert_to_tensor(y_pred)\n",
    "    y_true = tf.cast(y_true, y_pred.dtype)\n",
    "\n",
    "    return K.sqrt(K.mean(tf.math.squared_difference(y_pred, y_true),axis= -1))"
   ]
  },
  {
   "cell_type": "code",
   "execution_count": 6,
   "id": "3aa76e31-8a91-4d1d-80a2-f6ba2af5ac47",
   "metadata": {},
   "outputs": [
    {
     "name": "stderr",
     "output_type": "stream",
     "text": [
      "/burg/glab/users/sk4973/venv/lib/python3.8/site-packages/xarray/backends/plugins.py:61: RuntimeWarning: Engine 'cfgrib' loading failed:\n",
      "ecCodes library not found using ['eccodes', 'libeccodes.so', 'libeccodes']\n",
      "  warnings.warn(f\"Engine {name!r} loading failed:\\n{ex}\", RuntimeWarning)\n"
     ]
    }
   ],
   "source": [
    "dir_name=\"../../data/data1\"\n",
    "val_dir_name=\"../../data/data2\"\n",
    "\n",
    "data,pco2 = preprocess_images_nfp(dir_name)\n",
    "data_socat, pco2_socat = preprocess_images_nfp(dir_name, socat = True)\n",
    "\n",
    "val_data,val_pco2 = preprocess_images_nfp(val_dir_name,\"035\")\n",
    "val_data_socat,val_pco2_socat = preprocess_images_nfp(val_dir_name,\"035\",socat=True)\n",
    "\n"
   ]
  },
  {
   "cell_type": "code",
   "execution_count": 12,
   "id": "9ba0a6e6-ae9f-4fa4-8a67-419a0e47f049",
   "metadata": {},
   "outputs": [
    {
     "name": "stdout",
     "output_type": "stream",
     "text": [
      "(418, 3, 180, 360, 6) (418, 3, 180, 360, 1)\n"
     ]
    }
   ],
   "source": [
    "X_index=np.lib.stride_tricks.sliding_window_view(range(421),3) \n",
    "\n",
    "y=np.expand_dims(pco2_socat[X_index][1:],axis=4)\n",
    "X=data_socat[X_index][:-1]\n",
    "\n",
    "#validation data\n",
    "val_y=np.expand_dims(val_pco2_socat[X_index][1:],axis=4)\n",
    "val_X=val_data_socat[X_index][:-1]\n",
    "\n",
    "print(X.shape, y.shape)\n",
    "\n",
    "INPUT_SHAPE = X.shape[0]"
   ]
  },
  {
   "cell_type": "code",
   "execution_count": 8,
   "id": "02da5eec-aded-4053-bf96-16acc9f445bf",
   "metadata": {},
   "outputs": [
    {
     "name": "stderr",
     "output_type": "stream",
     "text": [
      "2022-03-22 08:32:01.446469: I tensorflow/core/platform/cpu_feature_guard.cc:142] This TensorFlow binary is optimized with oneAPI Deep Neural Network Library (oneDNN) to use the following CPU instructions in performance-critical operations:  AVX512F\n",
      "To enable them in other operations, rebuild TensorFlow with the appropriate compiler flags.\n",
      "2022-03-22 08:32:01.464476: I tensorflow/compiler/jit/xla_gpu_device.cc:99] Not creating XLA devices, tf_xla_enable_xla_devices not set\n",
      "2022-03-22 08:32:01.482281: I tensorflow/core/common_runtime/gpu/gpu_device.cc:1720] Found device 0 with properties: \n",
      "pciBusID: 0000:3b:00.0 name: Quadro RTX 8000 computeCapability: 7.5\n",
      "coreClock: 1.62GHz coreCount: 72 deviceMemorySize: 44.49GiB deviceMemoryBandwidth: 581.23GiB/s\n",
      "2022-03-22 08:32:01.482357: I tensorflow/stream_executor/platform/default/dso_loader.cc:49] Successfully opened dynamic library libcudart.so.11.0\n",
      "2022-03-22 08:32:01.482404: I tensorflow/stream_executor/platform/default/dso_loader.cc:49] Successfully opened dynamic library libcublas.so.11\n",
      "2022-03-22 08:32:01.482418: I tensorflow/stream_executor/platform/default/dso_loader.cc:49] Successfully opened dynamic library libcublasLt.so.11\n",
      "2022-03-22 08:32:01.482432: I tensorflow/stream_executor/platform/default/dso_loader.cc:49] Successfully opened dynamic library libcufft.so.10\n",
      "2022-03-22 08:32:01.482446: I tensorflow/stream_executor/platform/default/dso_loader.cc:49] Successfully opened dynamic library libcurand.so.10\n",
      "2022-03-22 08:32:01.482460: I tensorflow/stream_executor/platform/default/dso_loader.cc:49] Successfully opened dynamic library libcusolver.so.10\n",
      "2022-03-22 08:32:01.482473: I tensorflow/stream_executor/platform/default/dso_loader.cc:49] Successfully opened dynamic library libcusparse.so.11\n",
      "2022-03-22 08:32:01.482485: I tensorflow/stream_executor/platform/default/dso_loader.cc:49] Successfully opened dynamic library libcudnn.so.8\n",
      "2022-03-22 08:32:01.484685: I tensorflow/core/common_runtime/gpu/gpu_device.cc:1862] Adding visible gpu devices: 0\n",
      "2022-03-22 08:32:01.509360: I tensorflow/stream_executor/platform/default/dso_loader.cc:49] Successfully opened dynamic library libcudart.so.11.0\n",
      "2022-03-22 08:32:07.006399: I tensorflow/core/common_runtime/gpu/gpu_device.cc:1261] Device interconnect StreamExecutor with strength 1 edge matrix:\n",
      "2022-03-22 08:32:07.006420: I tensorflow/core/common_runtime/gpu/gpu_device.cc:1267]      0 \n",
      "2022-03-22 08:32:07.006428: I tensorflow/core/common_runtime/gpu/gpu_device.cc:1280] 0:   N \n",
      "2022-03-22 08:32:07.039603: I tensorflow/core/common_runtime/gpu/gpu_device.cc:1406] Created TensorFlow device (/job:localhost/replica:0/task:0/device:GPU:0 with 42529 MB memory) -> physical GPU (device: 0, name: Quadro RTX 8000, pci bus id: 0000:3b:00.0, compute capability: 7.5)\n"
     ]
    }
   ],
   "source": [
    "from tensorflow.keras.layers import Dense, Reshape, Conv2D, MaxPool2D , Flatten, Input\n",
    "\n",
    "base_model = tf.keras.models.load_model('../../models/base_CNN_LSTM_new.h5', custom_objects={'custom_rmse':custom_rmse})\n"
   ]
  },
  {
   "cell_type": "code",
   "execution_count": 9,
   "id": "0cfc7bb2-7b6c-4e59-87b4-c7694597e960",
   "metadata": {},
   "outputs": [
    {
     "name": "stdout",
     "output_type": "stream",
     "text": [
      "0 <tensorflow.python.keras.layers.convolutional_recurrent.ConvLSTM2D object at 0x15550d059be0>\n",
      "1 <tensorflow.python.keras.layers.normalization_v2.BatchNormalization object at 0x1554ba9ca640>\n",
      "2 <tensorflow.python.keras.layers.convolutional_recurrent.ConvLSTM2D object at 0x1554b966b8b0>\n",
      "3 <tensorflow.python.keras.layers.normalization_v2.BatchNormalization object at 0x1554b96c4970>\n",
      "4 <tensorflow.python.keras.layers.convolutional_recurrent.ConvLSTM2D object at 0x1554d7087070>\n",
      "5 <tensorflow.python.keras.layers.convolutional.Conv3D object at 0x1554ba9d1310>\n"
     ]
    }
   ],
   "source": [
    "for index, layer in enumerate(base_model.layers):\n",
    "    print(index, layer)"
   ]
  },
  {
   "cell_type": "code",
   "execution_count": 10,
   "id": "d73e3221-9a19-489d-b8e5-d984254c0240",
   "metadata": {},
   "outputs": [
    {
     "name": "stdout",
     "output_type": "stream",
     "text": [
      "Model: \"sequential\"\n",
      "_________________________________________________________________\n",
      "Layer (type)                 Output Shape              Param #   \n",
      "=================================================================\n",
      "conv_lst_m2d (ConvLSTM2D)    (None, 3, 180, 360, 32)   121728    \n",
      "_________________________________________________________________\n",
      "batch_normalization (BatchNo (None, 3, 180, 360, 32)   128       \n",
      "_________________________________________________________________\n",
      "conv_lst_m2d_1 (ConvLSTM2D)  (None, 3, 180, 360, 32)   73856     \n",
      "_________________________________________________________________\n",
      "batch_normalization_1 (Batch (None, 3, 180, 360, 32)   128       \n",
      "_________________________________________________________________\n",
      "conv_lst_m2d_2 (ConvLSTM2D)  (None, 3, 180, 360, 32)   8320      \n",
      "_________________________________________________________________\n",
      "conv3d (Conv3D)              (None, 3, 180, 360, 1)    865       \n",
      "=================================================================\n",
      "Total params: 205,025\n",
      "Trainable params: 83,105\n",
      "Non-trainable params: 121,920\n",
      "_________________________________________________________________\n"
     ]
    }
   ],
   "source": [
    "for layer in base_model.layers[:-4]:\n",
    "    layer.trainable = False\n",
    "    \n",
    "base_model.summary()"
   ]
  },
  {
   "cell_type": "code",
   "execution_count": null,
   "id": "faef9b63-f7f0-4f32-acf3-64be0abab961",
   "metadata": {},
   "outputs": [],
   "source": [
    "# inputs = layers.Input(shape = INPUT_SHAPE, name='inputLayer')\n",
    "# x = base_model(inputs)\n",
    "# x = layers.GlobalAveragePooling2D(name='poolingLayer')(x)\n",
    "# x = layers.Dense(101, name='outputLayer')(x)\n",
    "# outputs = layers.Activation(activation=\"softmax\", dtype=tf.float32, name='activationLayer')(x)"
   ]
  },
  {
   "cell_type": "code",
   "execution_count": 13,
   "id": "351723aa-8bdf-45ed-a14f-331495941d58",
   "metadata": {},
   "outputs": [],
   "source": [
    "base_model.compile(\n",
    "    loss=custom_rmse, optimizer=keras.optimizers.Adam(learning_rate=0.03),\n",
    ")\n",
    "\n",
    "model_path=\"../../models/transfer_CNN_LSTM.h5\"\n",
    "\n",
    "early_stopings = tf.keras.callbacks.EarlyStopping(monitor='val_loss', min_delta=0, patience=5, verbose=1, mode='min')\n",
    "checkpoint =  tf.keras.callbacks.ModelCheckpoint(model_path, monitor='val_loss', save_best_only=True, mode='min', verbose=0)\n",
    "callbacks=[early_stopings,checkpoint]\n",
    "\n",
    "epochs = 50\n",
    "batch_size = 16"
   ]
  },
  {
   "cell_type": "code",
   "execution_count": 14,
   "id": "e69f77ec-9782-4f9b-957c-a852455e710c",
   "metadata": {},
   "outputs": [
    {
     "name": "stderr",
     "output_type": "stream",
     "text": [
      "2022-03-22 08:33:19.461163: I tensorflow/compiler/mlir/mlir_graph_optimization_pass.cc:116] None of the MLIR optimization passes are enabled (registered 2)\n",
      "2022-03-22 08:33:19.758161: I tensorflow/core/platform/profile_utils/cpu_utils.cc:112] CPU Frequency: 2900000000 Hz\n"
     ]
    },
    {
     "name": "stdout",
     "output_type": "stream",
     "text": [
      "Epoch 1/50\n"
     ]
    },
    {
     "name": "stderr",
     "output_type": "stream",
     "text": [
      "2022-03-22 08:33:27.298246: I tensorflow/stream_executor/platform/default/dso_loader.cc:49] Successfully opened dynamic library libcudnn.so.8\n",
      "2022-03-22 08:34:28.771568: I tensorflow/stream_executor/platform/default/dso_loader.cc:49] Successfully opened dynamic library libcublas.so.11\n",
      "2022-03-22 08:34:35.326946: I tensorflow/stream_executor/platform/default/dso_loader.cc:49] Successfully opened dynamic library libcublasLt.so.11\n"
     ]
    },
    {
     "name": "stdout",
     "output_type": "stream",
     "text": [
      "27/27 [==============================] - 123s 2s/step - loss: 23.3630 - val_loss: 17.3789\n",
      "Epoch 2/50\n",
      "27/27 [==============================] - 34s 1s/step - loss: 14.9442 - val_loss: 31.9874\n",
      "Epoch 3/50\n",
      "27/27 [==============================] - 34s 1s/step - loss: 13.9169 - val_loss: 12.8807\n",
      "Epoch 4/50\n",
      "27/27 [==============================] - 34s 1s/step - loss: 12.6414 - val_loss: 11.9499\n",
      "Epoch 5/50\n",
      "27/27 [==============================] - 34s 1s/step - loss: 11.7604 - val_loss: 11.8902\n",
      "Epoch 6/50\n",
      "27/27 [==============================] - 34s 1s/step - loss: 11.4011 - val_loss: 11.0614\n",
      "Epoch 7/50\n",
      "27/27 [==============================] - 34s 1s/step - loss: 10.9600 - val_loss: 10.8937\n",
      "Epoch 8/50\n",
      "27/27 [==============================] - 34s 1s/step - loss: 11.0900 - val_loss: 10.7330\n",
      "Epoch 9/50\n",
      "27/27 [==============================] - 34s 1s/step - loss: 10.9104 - val_loss: 10.4237\n",
      "Epoch 10/50\n",
      "27/27 [==============================] - 34s 1s/step - loss: 10.5973 - val_loss: 10.3829\n",
      "Epoch 11/50\n",
      "27/27 [==============================] - 34s 1s/step - loss: 10.6362 - val_loss: 10.3106\n",
      "Epoch 12/50\n",
      "27/27 [==============================] - 34s 1s/step - loss: 10.2026 - val_loss: 10.7277\n",
      "Epoch 13/50\n",
      "27/27 [==============================] - 34s 1s/step - loss: 10.7489 - val_loss: 10.6026\n",
      "Epoch 14/50\n",
      "27/27 [==============================] - 34s 1s/step - loss: 10.1355 - val_loss: 11.4608\n",
      "Epoch 15/50\n",
      "27/27 [==============================] - 34s 1s/step - loss: 10.2314 - val_loss: 11.6607\n",
      "Epoch 16/50\n",
      "27/27 [==============================] - 34s 1s/step - loss: 9.8066 - val_loss: 10.9528\n",
      "Epoch 00016: early stopping\n"
     ]
    }
   ],
   "source": [
    "history = base_model.fit(\n",
    "    X,\n",
    "    y,\n",
    "    batch_size=batch_size,\n",
    "    epochs=epochs,\n",
    "    validation_data=(X, y),\n",
    "    callbacks=callbacks,\n",
    ")"
   ]
  },
  {
   "cell_type": "code",
   "execution_count": 15,
   "id": "c70dacdd-ac3a-4a17-861d-2dda8651f5d5",
   "metadata": {},
   "outputs": [
    {
     "data": {
      "text/plain": [
       "Text(0.5, 0, 'epoch')"
      ]
     },
     "execution_count": 15,
     "metadata": {},
     "output_type": "execute_result"
    },
    {
     "data": {
      "image/png": "[encoded data removed]",
      "text/plain": [
       "<Figure size 640x480 with 1 Axes>"
      ]
     },
     "metadata": {
      "needs_background": "light"
     },
     "output_type": "display_data"
    }
   ],
   "source": [
    "from matplotlib.pyplot import figure\n",
    "\n",
    "figure(figsize=(8, 6), dpi=80)\n",
    "\n",
    "plt.plot(history.history[\"val_loss\"])\n",
    "plt.ylabel('val_loss')\n",
    "plt.xlabel('epoch')"
   ]
  },
  {
   "cell_type": "markdown",
   "id": "8e07b86e-3363-4401-af8d-351413263926",
   "metadata": {},
   "source": [
    "### Assessing Performance"
   ]
  },
  {
   "cell_type": "code",
   "execution_count": 21,
   "id": "e029b67b-3a6a-49d9-a58e-f6d5f2926f67",
   "metadata": {},
   "outputs": [
    {
     "name": "stdout",
     "output_type": "stream",
     "text": [
      "14/14 [==============================] - 10s 748ms/step\n"
     ]
    }
   ],
   "source": [
    "best_model = tf.keras.models.load_model('../../models/transfer_CNN_LSTM.h5', custom_objects={'custom_rmse':custom_rmse})\n",
    "\n",
    "X_index=np.lib.stride_tricks.sliding_window_view(range(421),3) \n",
    "\n",
    "y=np.expand_dims(pco2_socat[X_index][1:],axis=4)\n",
    "X=data_socat[X_index][:-1]\n",
    "\n",
    "predicted_frames=best_model.predict(X,verbose=1)"
   ]
  },
  {
   "cell_type": "code",
   "execution_count": 22,
   "id": "0f963ddb-c976-4b33-97eb-8f4af7567720",
   "metadata": {},
   "outputs": [],
   "source": [
    "predicted_frames[y==0]=0.0"
   ]
  },
  {
   "cell_type": "code",
   "execution_count": 23,
   "id": "d3d7098a-247d-4d9e-b61d-3c7bb65eb1c0",
   "metadata": {},
   "outputs": [
    {
     "data": {
      "text/plain": [
       "<tf.Tensor: shape=(), dtype=float32, numpy=9.607834>"
      ]
     },
     "execution_count": 23,
     "metadata": {},
     "output_type": "execute_result"
    }
   ],
   "source": [
    "custom_rmse(y,predicted_frames)"
   ]
  },
  {
   "cell_type": "code",
   "execution_count": 24,
   "id": "b75d8ef6-bb0f-408a-9afe-fb1b90498f1b",
   "metadata": {},
   "outputs": [
    {
     "data": {
      "image/png": "[encoded data removed]",
      "text/plain": [
       "<Figure size 864x432 with 6 Axes>"
      ]
     },
     "metadata": {
      "needs_background": "light"
     },
     "output_type": "display_data"
    }
   ],
   "source": [
    "import matplotlib.colors as mcolors\n",
    "figure, axis = plt.subplots(2, 2,figsize=(12, 6))\n",
    "\n",
    "d = predicted_frames - y\n",
    "\n",
    "\n",
    "norm = mcolors.TwoSlopeNorm(vmin=d.min(), vmax = d.max(), vcenter=0)\n",
    "\n",
    "\n",
    "img=axis[0][0].imshow(np.flipud(predicted_frames[0][1]),cmap=\"coolwarm\", interpolation=\"nearest\")\n",
    "axis[0][0].set_title(\"prediction\")\n",
    "plt.colorbar(img,ax=axis)\n",
    "\n",
    "img1=axis[0][1].imshow(np.flipud(y[0][1]),cmap=\"coolwarm\", interpolation=\"nearest\")\n",
    "axis[0][1].set_title(\"true\")\n",
    "\n",
    "diff=np.flipud(np.squeeze(predicted_frames[0][1]-y[0][1]))\n",
    "img2=axis[1][0].imshow(diff,cmap=\"RdBu\", interpolation=\"nearest\",norm=norm)\n",
    "axis[1][0].set_title(\"residual\")\n",
    "plt.colorbar(img2,ax=axis)\n",
    "\n",
    "\n",
    "img2=axis[1][1].imshow(np.flipud(X[0][1][:,:,5]),cmap=\"coolwarm\", interpolation=\"nearest\")\n",
    "axis[1][1].set_title(\"input: previous pco2\")\n",
    "plt.show()"
   ]
  },
  {
   "cell_type": "markdown",
   "id": "c8dd5bab-9530-440e-a505-74080c8ffac7",
   "metadata": {},
   "source": [
    "### Inverse"
   ]
  },
  {
   "cell_type": "code",
   "execution_count": 25,
   "id": "5bc3a8a4-a4e4-499f-be86-872351599da3",
   "metadata": {},
   "outputs": [],
   "source": [
    "#chl,mld,sss,sst,u10,fg_co2,xco2,icefrac,patm,pco2_tmp = read_xarray(val_dir_name,\"035\")\n",
    "\n",
    "chl,mld,sss,sst,u10,fg_co2,xco2,icefrac,patm,pco2_tmp = read_xarray(dir_name)\n",
    "y_true,y_pred=inverse_scale_image_nfp(predicted_frames,pco2_tmp.pCO2_socat.data)  "
   ]
  },
  {
   "cell_type": "code",
   "execution_count": 26,
   "id": "a43bc30b-e398-4d3a-ba93-976c5f4096c6",
   "metadata": {},
   "outputs": [
    {
     "name": "stdout",
     "output_type": "stream",
     "text": [
      "Scaled back socat RMSE score:\n"
     ]
    },
    {
     "data": {
      "text/plain": [
       "46.27016445924689"
      ]
     },
     "execution_count": 26,
     "metadata": {},
     "output_type": "execute_result"
    }
   ],
   "source": [
    "y_pred_tmp = y_pred[:,:1]\n",
    "y_true_tmp = y_true[:,:1]\n",
    "\n",
    "# y_pred_tmp = y_pred\n",
    "# y_true_tmp = y_true\n",
    "\n",
    "\n",
    "y_pred_tmp = y_pred_tmp[y_true_tmp != 0.0]\n",
    "y_true_tmp = y_true_tmp[y_true_tmp != 0.0]\n",
    "\n",
    "\n",
    "print(\"Scaled back socat RMSE score:\")\n",
    "np.sqrt(np.mean((y_true_tmp-y_pred_tmp)**2))"
   ]
  },
  {
   "cell_type": "code",
   "execution_count": 27,
   "id": "dadb316f-c2e8-410d-a888-b93abba7ead4",
   "metadata": {},
   "outputs": [
    {
     "data": {
      "text/plain": [
       "<tf.Tensor: shape=(), dtype=float64, numpy=46.27016445924689>"
      ]
     },
     "execution_count": 27,
     "metadata": {},
     "output_type": "execute_result"
    }
   ],
   "source": [
    "\n",
    "custom_rmse(y_pred_tmp,y_true_tmp)\n",
    "\n",
    "\n"
   ]
  },
  {
   "cell_type": "markdown",
   "id": "8e97e83c-bafa-45b1-b8e9-a36abae4698e",
   "metadata": {},
   "source": [
    "### full data set\n"
   ]
  },
  {
   "cell_type": "code",
   "execution_count": 28,
   "id": "06c6573e-9bb0-48a9-92c8-2c8927a80c00",
   "metadata": {},
   "outputs": [
    {
     "name": "stdout",
     "output_type": "stream",
     "text": [
      "14/14 [==============================] - 10s 751ms/step\n"
     ]
    }
   ],
   "source": [
    "\n",
    "y=np.expand_dims(pco2[X_index][1:],axis=4)\n",
    "X=data[X_index][:-1]\n",
    "\n",
    "predicted_frames=best_model.predict(X,verbose=1)\n",
    "predicted_frames[y==0]=0.0\n",
    "\n",
    "chl,mld,sss,sst,u10,fg_co2,xco2,icefrac,patm,pco2_tmp = read_xarray(dir_name)\n",
    "y_true,y_pred=inverse_scale_image_nfp(predicted_frames,pco2_tmp.pCO2.data)  "
   ]
  },
  {
   "cell_type": "code",
   "execution_count": 30,
   "id": "724f6908-6ebe-434d-9f55-76062b28fdb0",
   "metadata": {},
   "outputs": [
    {
     "data": {
      "text/plain": [
       "<tf.Tensor: shape=(), dtype=float64, numpy=54.87842427395272>"
      ]
     },
     "execution_count": 30,
     "metadata": {},
     "output_type": "execute_result"
    }
   ],
   "source": [
    "y_pred_tmp = y_pred[:,:1]\n",
    "y_true_tmp = y_true[:,:1]\n",
    "\n",
    "custom_rmse(y_pred_tmp,y_true_tmp)\n",
    "\n"
   ]
  },
  {
   "cell_type": "code",
   "execution_count": null,
   "id": "a9857d16-df94-49cf-9720-ba93585b2441",
   "metadata": {},
   "outputs": [],
   "source": []
  }
 ],
 "metadata": {
  "kernelspec": {
   "display_name": "venv",
   "language": "python",
   "name": "venv"
  },
  "language_info": {
   "codemirror_mode": {
    "name": "ipython",
    "version": 3
   },
   "file_extension": ".py",
   "mimetype": "text/x-python",
   "name": "python",
   "nbconvert_exporter": "python",
   "pygments_lexer": "ipython3",
   "version": "3.8.5"
  }
 },
 "nbformat": 4,
 "nbformat_minor": 5
}

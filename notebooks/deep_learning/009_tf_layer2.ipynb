{
 "cells": [
  {
   "cell_type": "markdown",
   "id": "36d96220-a312-4867-a8cf-4d14919c3174",
   "metadata": {},
   "source": [
    "## Transfer Learning from CNN-LSTM\n",
    "\n",
    "\n",
    "### Method 1 - 2 \n",
    "- Data preprocess the same way for input\n",
    "- Only train the second to last +last cnn layer, and freeze the rest\n",
    "\n",
    "\n",
    "### Bench Marks\n",
    "**Final Result for Random Forest trained on SOCAT**\n",
    "\n",
    "Test Set RMSE: 30.56 | Whole Grid Rmse: 42.12\n",
    "\n",
    "\n",
    "**Final Result for XGBoost trained on SOCAT**\n",
    "\n",
    "Test Set RMSE:28.43698261274142 | Whole Grid Rmse:37.709863752151215\n",
    "\n",
    "### Result\n",
    "**[:-2],*[:-4],'../../models/transfer_CNN_LSTM_FINAL.h5'  BEST PERFORMING**\n",
    "\n",
    "Test Set RMSE: ~14.75 | Whole Grid RMSE: ~6.7\n",
    "\n",
    "- resting and training again help lower the rmse score"
   ]
  },
  {
   "cell_type": "code",
   "execution_count": 28,
   "id": "3dffdba9-3503-484f-ae72-94892892e655",
   "metadata": {},
   "outputs": [],
   "source": [
    "tf.keras.backend.clear_session()"
   ]
  },
  {
   "cell_type": "code",
   "execution_count": 1,
   "id": "fc08f351-e66b-4972-b99f-370e204452e7",
   "metadata": {},
   "outputs": [
    {
     "name": "stderr",
     "output_type": "stream",
     "text": [
      "/burg/glab/users/sk4973/venv/lib/python3.8/site-packages/xarray/backends/cfgrib_.py:27: UserWarning: Failed to load cfgrib - most likely there is a problem accessing the ecCodes library. Try `import cfgrib` to get the full error message\n",
      "  warnings.warn(\n",
      "2022-02-22 10:35:28.892426: I tensorflow/stream_executor/platform/default/dso_loader.cc:49] Successfully opened dynamic library libcudart.so.11.0\n"
     ]
    }
   ],
   "source": [
    "import imp\n",
    "import matplotlib.pyplot as plt\n",
    "import numpy as np\n",
    "import pandas as pd\n",
    "import xarray as xr\n",
    "import sys\n",
    "import tensorflow as tf\n",
    "from tensorflow import keras\n",
    "\n",
    "%matplotlib inline\n",
    "\n",
    "from sklearn.ensemble import RandomForestRegressor\n",
    "from sklearn.model_selection import train_test_split\n",
    "from sklearn.pipeline import Pipeline\n",
    "from sklearn.preprocessing import StandardScaler\n",
    "from sklearn.metrics import mean_squared_error\n",
    "from sklearn.impute import SimpleImputer\n",
    "\n",
    "import os\n",
    "tf.random.set_seed(42)\n",
    "\n",
    "\n",
    "sys.path.insert(0, '../../src')\n",
    "from utils import df_to_xarray,read_xarray,inverse_scale_image, get_point_prediction\n",
    "\n",
    "sys.path.insert(0, '../../src/preprocess')\n",
    "from data_preprocess import preprocess_image_reduced,preprocess_images_nfp"
   ]
  },
  {
   "cell_type": "code",
   "execution_count": 29,
   "id": "187e6351-a184-4587-847f-fc6ccc04641b",
   "metadata": {},
   "outputs": [
    {
     "name": "stdout",
     "output_type": "stream",
     "text": [
      "Num GPUs Available:  1\n"
     ]
    }
   ],
   "source": [
    "print(\"Num GPUs Available: \", len(tf.config.list_physical_devices('GPU')))"
   ]
  },
  {
   "cell_type": "code",
   "execution_count": 3,
   "id": "f2f90026-6b1f-4845-ae55-92ab9fa7f7bd",
   "metadata": {},
   "outputs": [],
   "source": [
    "import tensorflow.keras.backend as kb\n",
    "import tensorflow as tf\n",
    "from tensorflow.keras import backend as K\n",
    "\n",
    "def custom_rmse(y_true, y_pred):\n",
    "    \"\"\"\n",
    "    custom_rmse(y_true, y_pred)\n",
    "    calculates root square mean value with focusing only on the ocean\n",
    "    \"\"\"\n",
    "    y_pred = y_pred[y_true != 0]\n",
    "    y_true = y_true[y_true != 0]\n",
    "    y_pred = tf.convert_to_tensor(y_pred)\n",
    "    y_true = tf.cast(y_true, y_pred.dtype)\n",
    "    \n",
    "    return K.sqrt(K.mean(tf.math.squared_difference(y_pred, y_true), axis=-1))"
   ]
  },
  {
   "cell_type": "code",
   "execution_count": 4,
   "id": "3aa76e31-8a91-4d1d-80a2-f6ba2af5ac47",
   "metadata": {},
   "outputs": [
    {
     "name": "stderr",
     "output_type": "stream",
     "text": [
      "/burg/glab/users/sk4973/venv/lib/python3.8/site-packages/xarray/backends/plugins.py:61: RuntimeWarning: Engine 'cfgrib' loading failed:\n",
      "ecCodes library not found using ['eccodes', 'libeccodes.so', 'libeccodes']\n",
      "  warnings.warn(f\"Engine {name!r} loading failed:\\n{ex}\", RuntimeWarning)\n"
     ]
    }
   ],
   "source": [
    "dir_name=\"../../data/data1\"\n",
    "val_dir_name=\"../../data/data2\"\n",
    "\n",
    "data,pco2 = preprocess_images_nfp(dir_name)\n",
    "data_socat, pco2_socat = preprocess_images_nfp(dir_name, socat = True)\n",
    "\n",
    "val_data,val_pco2 = preprocess_images_nfp(val_dir_name,\"035\")\n",
    "val_data_socat,val_pco2_socat = preprocess_images_nfp(val_dir_name,\"035\",socat=True)\n",
    "\n"
   ]
  },
  {
   "cell_type": "code",
   "execution_count": 5,
   "id": "9ba0a6e6-ae9f-4fa4-8a67-419a0e47f049",
   "metadata": {},
   "outputs": [
    {
     "name": "stdout",
     "output_type": "stream",
     "text": [
      "(418, 3, 180, 360, 6) (418, 3, 180, 360, 1)\n"
     ]
    }
   ],
   "source": [
    "X_index=np.lib.stride_tricks.sliding_window_view(range(421),3) \n",
    "\n",
    "y=np.expand_dims(pco2_socat[X_index][1:],axis=4)\n",
    "X=data_socat[X_index][:-1]\n",
    "\n",
    "#validation data\n",
    "val_y=np.expand_dims(val_pco2[X_index][1:],axis=4)\n",
    "val_X=val_data[X_index][:-1]\n",
    "\n",
    "print(X.shape, y.shape)"
   ]
  },
  {
   "cell_type": "code",
   "execution_count": 30,
   "id": "02da5eec-aded-4053-bf96-16acc9f445bf",
   "metadata": {},
   "outputs": [],
   "source": [
    "from tensorflow.keras.layers import Dense, Reshape, Conv2D, MaxPool2D , Flatten, Input\n",
    "\n",
    "base_model = tf.keras.models.load_model('../../models/base_CNN_LSTM.h5', custom_objects={'custom_rmse':custom_rmse})\n"
   ]
  },
  {
   "cell_type": "code",
   "execution_count": 8,
   "id": "0cfc7bb2-7b6c-4e59-87b4-c7694597e960",
   "metadata": {},
   "outputs": [
    {
     "name": "stdout",
     "output_type": "stream",
     "text": [
      "0 <tensorflow.python.keras.layers.convolutional_recurrent.ConvLSTM2D object at 0x15554e821910>\n",
      "1 <tensorflow.python.keras.layers.normalization_v2.BatchNormalization object at 0x15550d0e75e0>\n",
      "2 <tensorflow.python.keras.layers.convolutional_recurrent.ConvLSTM2D object at 0x1554b9390d30>\n",
      "3 <tensorflow.python.keras.layers.normalization_v2.BatchNormalization object at 0x1554b93f5460>\n",
      "4 <tensorflow.python.keras.layers.convolutional_recurrent.ConvLSTM2D object at 0x1554b9390b20>\n",
      "5 <tensorflow.python.keras.layers.convolutional.Conv3D object at 0x15550d0f3dc0>\n"
     ]
    }
   ],
   "source": [
    "for index, layer in enumerate(base_model.layers):\n",
    "    print(index, layer)"
   ]
  },
  {
   "cell_type": "code",
   "execution_count": 31,
   "id": "d73e3221-9a19-489d-b8e5-d984254c0240",
   "metadata": {},
   "outputs": [
    {
     "name": "stdout",
     "output_type": "stream",
     "text": [
      "Model: \"sequential_1\"\n",
      "_________________________________________________________________\n",
      "Layer (type)                 Output Shape              Param #   \n",
      "=================================================================\n",
      "conv_lst_m2d_3 (ConvLSTM2D)  (None, 3, 180, 360, 32)   121728    \n",
      "_________________________________________________________________\n",
      "batch_normalization_2 (Batch (None, 3, 180, 360, 32)   128       \n",
      "_________________________________________________________________\n",
      "conv_lst_m2d_4 (ConvLSTM2D)  (None, 3, 180, 360, 32)   73856     \n",
      "_________________________________________________________________\n",
      "batch_normalization_3 (Batch (None, 3, 180, 360, 32)   128       \n",
      "_________________________________________________________________\n",
      "conv_lst_m2d_5 (ConvLSTM2D)  (None, 3, 180, 360, 32)   8320      \n",
      "_________________________________________________________________\n",
      "conv3d_1 (Conv3D)            (None, 3, 180, 360, 1)    865       \n",
      "=================================================================\n",
      "Total params: 205,025\n",
      "Trainable params: 9,185\n",
      "Non-trainable params: 195,840\n",
      "_________________________________________________________________\n"
     ]
    }
   ],
   "source": [
    "for layer in base_model.layers[:-2]:\n",
    "    layer.trainable = False\n",
    "    \n",
    "base_model.summary()"
   ]
  },
  {
   "cell_type": "code",
   "execution_count": 33,
   "id": "351723aa-8bdf-45ed-a14f-331495941d58",
   "metadata": {},
   "outputs": [],
   "source": [
    "base_model.compile(\n",
    "    loss=custom_rmse, optimizer=keras.optimizers.Adam(learning_rate=0.07),\n",
    ")\n",
    "\n",
    "model_path=\"../../models/transfer_CNN_LSTM.h5\"\n",
    "\n",
    "early_stopings = tf.keras.callbacks.EarlyStopping(monitor='val_loss', min_delta=0, patience=4, verbose=1, mode='min')\n",
    "checkpoint =  tf.keras.callbacks.ModelCheckpoint(model_path, monitor='val_loss', save_best_only=True, mode='min', verbose=0)\n",
    "callbacks=[early_stopings,checkpoint]\n",
    "\n",
    "epochs = 50\n",
    "batch_size = 8"
   ]
  },
  {
   "cell_type": "code",
   "execution_count": null,
   "id": "e69f77ec-9782-4f9b-957c-a852455e710c",
   "metadata": {},
   "outputs": [],
   "source": [
    "base_model.fit(\n",
    "    X,\n",
    "    y,\n",
    "    batch_size=batch_size,\n",
    "    epochs=epochs,\n",
    "    validation_data=(X, y),\n",
    "    callbacks=callbacks,\n",
    ")"
   ]
  },
  {
   "cell_type": "markdown",
   "id": "8e07b86e-3363-4401-af8d-351413263926",
   "metadata": {},
   "source": [
    "### Assessing Performance"
   ]
  },
  {
   "cell_type": "code",
   "execution_count": 44,
   "id": "e029b67b-3a6a-49d9-a58e-f6d5f2926f67",
   "metadata": {},
   "outputs": [
    {
     "name": "stdout",
     "output_type": "stream",
     "text": [
      "14/14 [==============================] - 10s 761ms/step\n"
     ]
    }
   ],
   "source": [
    "best_model = tf.keras.models.load_model('../../models/transfer_CNN_LSTM.h5', custom_objects={'custom_rmse':custom_rmse})\n",
    "\n",
    "X_index=np.lib.stride_tricks.sliding_window_view(range(421),3) \n",
    "\n",
    "y=np.expand_dims(pco2_socat[X_index][1:],axis=4)\n",
    "X=data_socat[X_index][:-1]\n",
    "\n",
    "predicted_frames=best_model.predict(X,verbose=1)"
   ]
  },
  {
   "cell_type": "code",
   "execution_count": 45,
   "id": "0f963ddb-c976-4b33-97eb-8f4af7567720",
   "metadata": {},
   "outputs": [],
   "source": [
    "predicted_frames[y==0]=0.0"
   ]
  },
  {
   "cell_type": "code",
   "execution_count": 46,
   "id": "cedd747b-5fa8-4dc8-92ae-84d5c8252933",
   "metadata": {},
   "outputs": [
    {
     "data": {
      "image/png": "[encoded data removed]",
      "text/plain": [
       "<Figure size 864x432 with 6 Axes>"
      ]
     },
     "metadata": {
      "needs_background": "light"
     },
     "output_type": "display_data"
    }
   ],
   "source": [
    "figure, axis = plt.subplots(2, 2,figsize=(12, 6))\n",
    "\n",
    "\n",
    "img=axis[0][0].imshow(np.flipud(predicted_frames[0][1]),cmap=\"coolwarm\", interpolation=\"nearest\")\n",
    "axis[0][0].set_title(\"prediction\")\n",
    "plt.colorbar(img,ax=axis)\n",
    "\n",
    "img1=axis[0][1].imshow(np.flipud(y[0][1]),cmap=\"coolwarm\", interpolation=\"nearest\")\n",
    "axis[0][1].set_title(\"true\")\n",
    "\n",
    "diff=np.flipud(np.squeeze(predicted_frames[0][1]-y[0][1]))\n",
    "img2=axis[1][0].imshow(diff,cmap=\"RdBu\", interpolation=\"nearest\")\n",
    "axis[1][0].set_title(\"residual\")\n",
    "plt.colorbar(img2,ax=axis)\n",
    "\n",
    "\n",
    "img2=axis[1][1].imshow(np.flipud(X[0][1][:,:,5]),cmap=\"coolwarm\", interpolation=\"nearest\")\n",
    "axis[1][1].set_title(\"input: previous pco2\")\n",
    "\n",
    "plt.savefig('../../assets/transfer_nfp.png')\n",
    "\n",
    "plt.show()"
   ]
  },
  {
   "cell_type": "markdown",
   "id": "c8dd5bab-9530-440e-a505-74080c8ffac7",
   "metadata": {},
   "source": [
    "### Inverse"
   ]
  },
  {
   "cell_type": "code",
   "execution_count": 40,
   "id": "cf32025f-4e6f-4582-88c4-bda139d2a502",
   "metadata": {},
   "outputs": [],
   "source": [
    "def inverse_scale_image_nfp(arr, df):\n",
    "    \"\"\"\n",
    "    inverse_scale_image(arr, df):\n",
    "    - inverses the pco2 scaling\n",
    "    \"\"\"\n",
    "    \n",
    "    old_min = np.nanmin(df)\n",
    "    old_max = np.nanmax(df)\n",
    "    y_pred = arr*(old_max-old_min)/255+old_min\n",
    "    \n",
    "    tmp=np.nan_to_num(df[X_index][1:])\n",
    "    y_true=np.expand_dims(tmp,axis=4)\n",
    "    y_pred[y_true==0]=0\n",
    "    return y_true,y_pred"
   ]
  },
  {
   "cell_type": "code",
   "execution_count": 48,
   "id": "5bc3a8a4-a4e4-499f-be86-872351599da3",
   "metadata": {},
   "outputs": [],
   "source": [
    "#chl,mld,sss,sst,u10,fg_co2,xco2,icefrac,patm,pco2_tmp = read_xarray(val_dir_name,\"035\")\n",
    "\n",
    "chl,mld,sss,sst,u10,fg_co2,xco2,icefrac,patm,pco2_tmp = read_xarray(dir_name)\n",
    "\n",
    "\n",
    "\n",
    "y_true,y_pred=inverse_scale_image_nfp(predicted_frames,pco2_tmp.pCO2_socat.data)  "
   ]
  },
  {
   "cell_type": "code",
   "execution_count": 42,
   "id": "f83e3ae4-13d7-46f1-b46a-fc1399b0de15",
   "metadata": {},
   "outputs": [
    {
     "name": "stdout",
     "output_type": "stream",
     "text": [
      "Scaled back socat RMSE score:\n"
     ]
    },
    {
     "data": {
      "text/plain": [
       "14.2768463042409"
      ]
     },
     "execution_count": 42,
     "metadata": {},
     "output_type": "execute_result"
    }
   ],
   "source": [
    "print(\"Scaled back socat RMSE score:\")\n",
    "np.sqrt(np.mean((y_true[:,:1]-y_pred[:,:1])**2))"
   ]
  },
  {
   "cell_type": "markdown",
   "id": "8e97e83c-bafa-45b1-b8e9-a36abae4698e",
   "metadata": {},
   "source": [
    "### full data set\n"
   ]
  },
  {
   "cell_type": "code",
   "execution_count": 49,
   "id": "06c6573e-9bb0-48a9-92c8-2c8927a80c00",
   "metadata": {},
   "outputs": [
    {
     "name": "stdout",
     "output_type": "stream",
     "text": [
      "14/14 [==============================] - 10s 760ms/step\n",
      "Scaled back whole grid RMSE score:\n"
     ]
    },
    {
     "data": {
      "text/plain": [
       "6.064516629394448"
      ]
     },
     "execution_count": 49,
     "metadata": {},
     "output_type": "execute_result"
    }
   ],
   "source": [
    "\n",
    "y=np.expand_dims(pco2[X_index][1:],axis=4)\n",
    "X=data[X_index][:-1]\n",
    "\n",
    "predicted_frames=best_model.predict(X,verbose=1)\n",
    "predicted_frames[y==0]=0.0\n",
    "\n",
    "chl,mld,sss,sst,u10,fg_co2,xco2,icefrac,patm,pco2_tmp = read_xarray(dir_name)\n",
    "y_true,y_pred=inverse_scale_image_nfp(predicted_frames,pco2_tmp.pCO2.data)  \n",
    "\n",
    "print(\"Scaled back whole grid RMSE score:\")\n",
    "np.sqrt(np.mean((y_true[:,:1]-y_pred[:,:1])**2))"
   ]
  },
  {
   "cell_type": "code",
   "execution_count": null,
   "id": "724f6908-6ebe-434d-9f55-76062b28fdb0",
   "metadata": {},
   "outputs": [],
   "source": []
  },
  {
   "cell_type": "code",
   "execution_count": null,
   "id": "a9857d16-df94-49cf-9720-ba93585b2441",
   "metadata": {},
   "outputs": [],
   "source": []
  }
 ],
 "metadata": {
  "kernelspec": {
   "display_name": "venv",
   "language": "python",
   "name": "venv"
  },
  "language_info": {
   "codemirror_mode": {
    "name": "ipython",
    "version": 3
   },
   "file_extension": ".py",
   "mimetype": "text/x-python",
   "name": "python",
   "nbconvert_exporter": "python",
   "pygments_lexer": "ipython3",
   "version": "3.8.5"
  }
 },
 "nbformat": 4,
 "nbformat_minor": 5
}

{
 "cells": [
  {
   "cell_type": "markdown",
   "id": "012f80e3-065f-4481-8b61-0b16c778386f",
   "metadata": {},
   "source": [
    "## generate previous frames with pCO2 and fit it against ConvLSTM"
   ]
  },
  {
   "cell_type": "code",
   "execution_count": 1,
   "id": "c7c497b4-9499-4832-aed7-d1c3b9d4b5e9",
   "metadata": {},
   "outputs": [
    {
     "name": "stderr",
     "output_type": "stream",
     "text": [
      "/burg/glab/users/sk4973/venv2/lib/python3.8/site-packages/xarray/backends/cfgrib_.py:27: UserWarning: Failed to load cfgrib - most likely there is a problem accessing the ecCodes library. Try `import cfgrib` to get the full error message\n",
      "  warnings.warn(\n",
      "2022-06-02 11:16:36.497926: I tensorflow/stream_executor/platform/default/dso_loader.cc:49] Successfully opened dynamic library libcudart.so.11.0\n"
     ]
    }
   ],
   "source": [
    "import matplotlib.pyplot as plt\n",
    "import numpy as np\n",
    "import pandas as pd\n",
    "import xarray as xr\n",
    "import sys\n",
    "import tensorflow as tf\n",
    "from tensorflow import keras\n",
    "import os\n",
    "\n",
    "sys.path.insert(0, '../../src')\n",
    "\n",
    "from utils import df_to_xarray,read_xarray, custom_rmse\n",
    "\n",
    "sys.path.insert(0, '../../src/preprocess')\n",
    "from data_preprocess import preprocess_image_reduced,preprocess_images_nfp, inverse_scale_frame\n",
    "from data_preprocess import preprocess_images, inverse_scale_image, preprocess_image_reduced"
   ]
  },
  {
   "cell_type": "markdown",
   "id": "4a7ea67d-8bc2-422f-8c39-0de87dd0ed5c",
   "metadata": {},
   "source": [
    "### Previous Frame generation"
   ]
  },
  {
   "cell_type": "code",
   "execution_count": 2,
   "id": "fa606ac5-b88d-4281-8e36-383af8d7b510",
   "metadata": {},
   "outputs": [
    {
     "name": "stderr",
     "output_type": "stream",
     "text": [
      "/burg/glab/users/sk4973/venv2/lib/python3.8/site-packages/xarray/backends/plugins.py:61: RuntimeWarning: Engine 'cfgrib' loading failed:\n",
      "ecCodes library not found using ['eccodes', 'libeccodes.so', 'libeccodes']\n",
      "  warnings.warn(f\"Engine {name!r} loading failed:\\n{ex}\", RuntimeWarning)\n"
     ]
    }
   ],
   "source": [
    "dist_map = pd.read_csv(\"../../src/dist_map.csv\",header=None).to_numpy()\n",
    "dist_map = np.roll(np.fliplr(dist_map),180)\n",
    "dist_map = np.repeat(dist_map[np.newaxis, :, : ], 421, axis=0)\n",
    "\n",
    "\n",
    "dir_name = \"../../data/data1\"\n",
    "val_dir_name = \"../../data/data2\"\n",
    "\n",
    "chl,mld,sss,sst,u10,xco2,icefrac,patm,pco2 = read_xarray(dir_name)\n"
   ]
  },
  {
   "cell_type": "code",
   "execution_count": 3,
   "id": "c19c52f6-2585-4067-9621-ff3e338de811",
   "metadata": {},
   "outputs": [
    {
     "data": {
      "text/plain": [
       "(180, 360, 5)"
      ]
     },
     "execution_count": 3,
     "metadata": {},
     "output_type": "execute_result"
    }
   ],
   "source": [
    "# substituting mld with dist_map\n",
    "\n",
    "chl_images = preprocess_image_reduced(chl.Chl.data)\n",
    "sss_images = preprocess_image_reduced(sss.SSS.data)\n",
    "sst_images = preprocess_image_reduced(sst.SST.data)\n",
    "xco2_images = preprocess_image_reduced(xco2.XCO2.data,xco2=True)\n",
    "y1 = preprocess_image_reduced(pco2.pCO2.data)\n",
    "dist_map = preprocess_image_reduced(dist_map)\n",
    "    \n",
    "\n",
    "X1 = np.dstack((chl_images, dist_map, sss_images, sst_images, xco2_images))\n",
    "X1 = X1.reshape((421,180,360,5),order='F')\n",
    "\n",
    "INPUT_SHAPE=X1[0].shape\n",
    "INPUT_SHAPE"
   ]
  },
  {
   "cell_type": "code",
   "execution_count": 4,
   "id": "e3138c85-aa29-4253-bca7-1ed4873ae06c",
   "metadata": {},
   "outputs": [],
   "source": [
    "chl,mld,sss,sst,u10,xco2,icefrac,patm,pco2 = read_xarray(val_dir_name, num = \"035\")\n",
    "\n",
    "chl_images = preprocess_image_reduced(chl.Chl.data)\n",
    "sss_images = preprocess_image_reduced(sss.SSS.data)\n",
    "sst_images = preprocess_image_reduced(sst.SST.data)\n",
    "xco2_images = preprocess_image_reduced(xco2.XCO2.data,xco2=True)\n",
    "y2 = preprocess_image_reduced(pco2.pCO2.data)\n",
    "dist_map = preprocess_image_reduced(dist_map)\n",
    "    \n",
    "\n",
    "X2 = np.dstack((chl_images, dist_map, sss_images, sst_images, xco2_images))\n",
    "X2 = X2.reshape((421,180,360,5),order='F')"
   ]
  },
  {
   "cell_type": "code",
   "execution_count": 5,
   "id": "2a374f14-c912-4d3e-b7da-48ee20510f8d",
   "metadata": {},
   "outputs": [],
   "source": [
    "import sklearn\n",
    "from sklearn.model_selection import train_test_split\n",
    "\n",
    "X=np.concatenate((X1, X2), axis = 0)\n",
    "y=np.concatenate((y1,y2),axis = 0)\n",
    "\n",
    "\n",
    "train_X, val_X, train_y, val_y = train_test_split(X, y, test_size=0.3)"
   ]
  },
  {
   "cell_type": "code",
   "execution_count": 6,
   "id": "ab479e66-ecd2-4de0-8202-5a334e598ecd",
   "metadata": {},
   "outputs": [
    {
     "data": {
      "text/plain": [
       "(673, 180, 360, 5)"
      ]
     },
     "execution_count": 6,
     "metadata": {},
     "output_type": "execute_result"
    }
   ],
   "source": [
    "train_X.shape"
   ]
  },
  {
   "cell_type": "code",
   "execution_count": 7,
   "id": "2c61b8a1-ea67-4abd-b2c6-c3e6009caa7e",
   "metadata": {},
   "outputs": [],
   "source": [
    "OUTPUT_SHAPE = y[0].shape"
   ]
  },
  {
   "cell_type": "code",
   "execution_count": 10,
   "id": "a71dcf66-0fb2-475f-830f-4e0e44cec5ac",
   "metadata": {},
   "outputs": [],
   "source": [
    "tf.keras.backend.clear_session()\n",
    "\n",
    "from functools import partial\n",
    "\n",
    "DefaultConv2D = partial(keras.layers.Conv2D,\n",
    "                        kernel_size=5,activation='elu',\n",
    "                        padding=\"SAME\")\n",
    "\n",
    "base_model = keras.models.Sequential([\n",
    "    DefaultConv2D(filters=32, input_shape=INPUT_SHAPE),\n",
    "    DefaultConv2D(filters=32),\n",
    "    keras.layers.MaxPooling2D(pool_size=3),\n",
    "    keras.layers.Dropout(0.2),\n",
    "    DefaultConv2D(filters=64),\n",
    "    DefaultConv2D(filters=64),\n",
    "    keras.layers.MaxPooling2D(pool_size=3),\n",
    "    keras.layers.Dropout(0.2),\n",
    "    DefaultConv2D(filters=128),\n",
    "    DefaultConv2D(filters=128),\n",
    "    keras.layers.UpSampling2D(size=3),\n",
    "    DefaultConv2D(filters=64),\n",
    "    DefaultConv2D(filters=64),\n",
    "    keras.layers.Dropout(0.2),\n",
    "    keras.layers.UpSampling2D(size=3),\n",
    "    DefaultConv2D(filters=32),\n",
    "    DefaultConv2D(filters=2),\n",
    "    DefaultConv2D(filters=1,kernel_size=1),\n",
    "    keras.layers.Reshape(OUTPUT_SHAPE)\n",
    "])\n",
    "\n",
    "myLearnRate=0.0003\n",
    "custom_opt = tf.keras.optimizers.Adam(learning_rate=myLearnRate)\n",
    "base_model.compile(loss=custom_rmse, optimizer=custom_opt)"
   ]
  },
  {
   "cell_type": "code",
   "execution_count": 11,
   "id": "d4ba4bec-c490-46fe-9724-efbf9f55cdb5",
   "metadata": {},
   "outputs": [
    {
     "name": "stdout",
     "output_type": "stream",
     "text": [
      "Epoch 1/500\n",
      "22/22 [==============================] - 6s 243ms/step - loss: 57.3389 - val_loss: 20.0186\n",
      "Epoch 2/500\n",
      "22/22 [==============================] - 5s 225ms/step - loss: 17.8102 - val_loss: 19.1259\n",
      "Epoch 3/500\n",
      "22/22 [==============================] - 5s 225ms/step - loss: 14.8403 - val_loss: 17.5650\n",
      "Epoch 4/500\n",
      "22/22 [==============================] - 5s 225ms/step - loss: 13.6062 - val_loss: 26.1775\n",
      "Epoch 5/500\n",
      "22/22 [==============================] - 5s 224ms/step - loss: 14.1077 - val_loss: 14.4968\n",
      "Epoch 6/500\n",
      "22/22 [==============================] - 5s 225ms/step - loss: 11.4594 - val_loss: 10.5814\n",
      "Epoch 7/500\n",
      "22/22 [==============================] - 5s 225ms/step - loss: 11.6875 - val_loss: 12.4638\n",
      "Epoch 8/500\n",
      "22/22 [==============================] - 5s 225ms/step - loss: 9.4140 - val_loss: 12.4856\n",
      "Epoch 9/500\n",
      "22/22 [==============================] - 5s 225ms/step - loss: 8.9399 - val_loss: 14.3562\n",
      "Epoch 10/500\n",
      "22/22 [==============================] - 5s 224ms/step - loss: 8.4070 - val_loss: 16.4982\n",
      "Epoch 11/500\n",
      "22/22 [==============================] - 5s 225ms/step - loss: 9.1977 - val_loss: 11.4582\n",
      "Epoch 12/500\n",
      "22/22 [==============================] - 5s 225ms/step - loss: 7.8962 - val_loss: 10.1644\n",
      "Epoch 13/500\n",
      "22/22 [==============================] - 5s 225ms/step - loss: 7.3590 - val_loss: 10.9100\n",
      "Epoch 14/500\n",
      "22/22 [==============================] - 5s 225ms/step - loss: 7.3138 - val_loss: 11.5525\n",
      "Epoch 15/500\n",
      "22/22 [==============================] - 5s 225ms/step - loss: 7.2347 - val_loss: 6.3391\n",
      "Epoch 16/500\n",
      "22/22 [==============================] - 5s 225ms/step - loss: 6.9061 - val_loss: 6.3470\n",
      "Epoch 17/500\n",
      "22/22 [==============================] - 5s 225ms/step - loss: 6.6753 - val_loss: 10.4290\n",
      "Epoch 18/500\n",
      "22/22 [==============================] - 5s 225ms/step - loss: 6.7576 - val_loss: 5.7385\n",
      "Epoch 19/500\n",
      "22/22 [==============================] - 5s 225ms/step - loss: 7.2435 - val_loss: 8.3271\n",
      "Epoch 20/500\n",
      "22/22 [==============================] - 5s 225ms/step - loss: 6.1140 - val_loss: 13.1333\n",
      "Epoch 21/500\n",
      "22/22 [==============================] - 5s 225ms/step - loss: 7.3062 - val_loss: 5.8490\n",
      "Epoch 22/500\n",
      "22/22 [==============================] - 5s 225ms/step - loss: 6.7961 - val_loss: 5.5819\n",
      "Epoch 23/500\n",
      "22/22 [==============================] - 5s 224ms/step - loss: 6.3209 - val_loss: 8.9020\n",
      "Epoch 24/500\n",
      "22/22 [==============================] - 5s 225ms/step - loss: 6.2564 - val_loss: 7.6676\n",
      "Epoch 25/500\n",
      "22/22 [==============================] - 5s 224ms/step - loss: 6.0518 - val_loss: 8.8801\n",
      "Epoch 26/500\n",
      "22/22 [==============================] - 5s 225ms/step - loss: 6.3051 - val_loss: 8.5048\n",
      "Epoch 27/500\n",
      "22/22 [==============================] - 5s 225ms/step - loss: 6.0776 - val_loss: 8.1461\n",
      "Epoch 28/500\n",
      "22/22 [==============================] - 5s 225ms/step - loss: 6.1924 - val_loss: 5.0024\n",
      "Epoch 29/500\n",
      "22/22 [==============================] - 5s 225ms/step - loss: 5.8271 - val_loss: 8.3770\n",
      "Epoch 30/500\n",
      "22/22 [==============================] - 5s 225ms/step - loss: 5.8600 - val_loss: 5.0199\n",
      "Epoch 31/500\n",
      "22/22 [==============================] - 5s 226ms/step - loss: 6.0557 - val_loss: 6.8087\n",
      "Epoch 32/500\n",
      "22/22 [==============================] - 5s 224ms/step - loss: 5.6991 - val_loss: 8.2593\n",
      "Epoch 33/500\n",
      "22/22 [==============================] - 5s 225ms/step - loss: 5.9738 - val_loss: 6.8893\n",
      "Epoch 34/500\n",
      "22/22 [==============================] - 5s 225ms/step - loss: 5.5450 - val_loss: 4.8736\n",
      "Epoch 35/500\n",
      "22/22 [==============================] - 5s 226ms/step - loss: 5.9039 - val_loss: 8.9530\n",
      "Epoch 36/500\n",
      "22/22 [==============================] - 5s 225ms/step - loss: 6.4426 - val_loss: 6.8141\n",
      "Epoch 37/500\n",
      "22/22 [==============================] - 5s 226ms/step - loss: 5.6046 - val_loss: 7.2379\n",
      "Epoch 38/500\n",
      "22/22 [==============================] - 5s 224ms/step - loss: 5.8007 - val_loss: 7.3938\n",
      "Epoch 39/500\n",
      "22/22 [==============================] - 5s 225ms/step - loss: 5.6397 - val_loss: 4.8407\n",
      "Epoch 40/500\n",
      "22/22 [==============================] - 5s 225ms/step - loss: 5.6695 - val_loss: 6.7184\n",
      "Epoch 41/500\n",
      "22/22 [==============================] - 5s 225ms/step - loss: 5.4553 - val_loss: 6.2812\n",
      "Epoch 42/500\n",
      "22/22 [==============================] - 5s 226ms/step - loss: 5.2053 - val_loss: 4.5527\n",
      "Epoch 43/500\n",
      "22/22 [==============================] - 5s 226ms/step - loss: 5.6808 - val_loss: 4.9295\n",
      "Epoch 44/500\n",
      "22/22 [==============================] - 5s 225ms/step - loss: 5.1361 - val_loss: 6.3105\n",
      "Epoch 45/500\n",
      "22/22 [==============================] - 5s 226ms/step - loss: 5.1542 - val_loss: 8.4173\n",
      "Epoch 46/500\n",
      "22/22 [==============================] - 5s 224ms/step - loss: 6.0680 - val_loss: 8.1809\n",
      "Epoch 47/500\n",
      "22/22 [==============================] - 5s 225ms/step - loss: 6.3918 - val_loss: 4.6556\n",
      "Epoch 48/500\n",
      "22/22 [==============================] - 5s 225ms/step - loss: 5.1282 - val_loss: 6.0303\n",
      "Epoch 49/500\n",
      "22/22 [==============================] - 5s 224ms/step - loss: 5.0411 - val_loss: 7.4069\n",
      "Epoch 50/500\n",
      "22/22 [==============================] - 5s 225ms/step - loss: 5.3675 - val_loss: 6.6013\n",
      "Epoch 51/500\n",
      "22/22 [==============================] - 5s 226ms/step - loss: 5.1216 - val_loss: 7.6599\n",
      "Epoch 52/500\n",
      "22/22 [==============================] - 5s 225ms/step - loss: 5.9888 - val_loss: 4.4626\n",
      "Epoch 53/500\n",
      "22/22 [==============================] - 5s 225ms/step - loss: 5.0303 - val_loss: 6.1807\n",
      "Epoch 54/500\n",
      "22/22 [==============================] - 5s 224ms/step - loss: 5.0887 - val_loss: 4.8993\n",
      "Epoch 55/500\n",
      "22/22 [==============================] - 5s 225ms/step - loss: 4.8872 - val_loss: 4.5934\n",
      "Epoch 56/500\n",
      "22/22 [==============================] - 5s 224ms/step - loss: 5.1014 - val_loss: 5.8934\n",
      "Epoch 57/500\n",
      "22/22 [==============================] - 5s 226ms/step - loss: 6.2873 - val_loss: 4.3331\n",
      "Epoch 58/500\n",
      "22/22 [==============================] - 5s 224ms/step - loss: 4.9528 - val_loss: 4.3200\n",
      "Epoch 59/500\n",
      "22/22 [==============================] - 5s 225ms/step - loss: 5.0757 - val_loss: 4.8863\n",
      "Epoch 60/500\n",
      "22/22 [==============================] - 5s 225ms/step - loss: 5.5850 - val_loss: 5.9822\n",
      "Epoch 61/500\n",
      "22/22 [==============================] - 5s 225ms/step - loss: 4.8842 - val_loss: 5.9591\n",
      "Epoch 62/500\n",
      "22/22 [==============================] - 5s 224ms/step - loss: 4.7754 - val_loss: 5.8056\n",
      "Epoch 63/500\n",
      "22/22 [==============================] - 5s 226ms/step - loss: 6.3247 - val_loss: 5.0070\n",
      "Epoch 64/500\n",
      "22/22 [==============================] - 5s 224ms/step - loss: 4.9237 - val_loss: 4.2264\n",
      "Epoch 65/500\n",
      "22/22 [==============================] - 5s 225ms/step - loss: 4.9674 - val_loss: 6.6823\n",
      "Epoch 66/500\n",
      "22/22 [==============================] - 5s 225ms/step - loss: 5.2604 - val_loss: 4.1486\n",
      "Epoch 67/500\n",
      "22/22 [==============================] - 5s 224ms/step - loss: 4.8408 - val_loss: 5.6124\n",
      "Epoch 68/500\n",
      "22/22 [==============================] - 5s 224ms/step - loss: 4.9044 - val_loss: 4.1461\n",
      "Epoch 69/500\n",
      "22/22 [==============================] - 5s 226ms/step - loss: 4.6623 - val_loss: 3.9928\n",
      "Epoch 70/500\n",
      "22/22 [==============================] - 5s 224ms/step - loss: 4.6398 - val_loss: 4.2160\n",
      "Epoch 71/500\n",
      "22/22 [==============================] - 5s 224ms/step - loss: 5.1827 - val_loss: 4.2713\n",
      "Epoch 72/500\n",
      "22/22 [==============================] - 5s 226ms/step - loss: 4.7253 - val_loss: 4.1747\n",
      "Epoch 73/500\n",
      "22/22 [==============================] - 5s 226ms/step - loss: 4.8497 - val_loss: 4.4230\n",
      "Epoch 74/500\n",
      "22/22 [==============================] - 5s 224ms/step - loss: 5.0025 - val_loss: 4.1529\n",
      "Epoch 75/500\n",
      "22/22 [==============================] - 5s 225ms/step - loss: 5.0674 - val_loss: 6.7752\n",
      "Epoch 76/500\n",
      "22/22 [==============================] - 5s 225ms/step - loss: 5.1835 - val_loss: 5.4793\n",
      "Epoch 77/500\n",
      "22/22 [==============================] - 5s 224ms/step - loss: 4.7200 - val_loss: 4.6899\n",
      "Epoch 78/500\n",
      "22/22 [==============================] - 5s 225ms/step - loss: 4.5114 - val_loss: 4.2085\n",
      "Epoch 79/500\n",
      "22/22 [==============================] - 5s 225ms/step - loss: 4.4216 - val_loss: 5.7556\n",
      "Epoch 00079: early stopping\n"
     ]
    }
   ],
   "source": [
    "model_path=\"../../models/base_model/u_net_dist.h5\"\n",
    "early_stopings = tf.keras.callbacks.EarlyStopping(monitor='val_loss', min_delta=0, patience=10, verbose=1, mode='min')\n",
    "checkpoint =  tf.keras.callbacks.ModelCheckpoint(model_path, monitor='val_loss', save_best_only=True, mode='min', verbose=0)\n",
    "callbacks=[early_stopings,checkpoint]\n",
    "\n",
    "history = base_model.fit(train_X,train_y, epochs=500, \n",
    "                         validation_data=(val_X,val_y),\n",
    "                         workers=-1,batch_size=32,\n",
    "                         callbacks=callbacks)\n",
    "\n"
   ]
  },
  {
   "cell_type": "code",
   "execution_count": 12,
   "id": "7e8ce0bf-2eba-4951-8d10-4d0e6892b2a0",
   "metadata": {},
   "outputs": [
    {
     "name": "stdout",
     "output_type": "stream",
     "text": [
      "14/14 [==============================] - 1s 105ms/step\n"
     ]
    }
   ],
   "source": [
    "cnn_model = tf.keras.models.load_model('../../models/base_model/u_net_dist.h5', custom_objects={'custom_rmse':custom_rmse})\n",
    "predicted_image= cnn_model.predict(X1,verbose=1)\n",
    "predicted_image[y1==0]=0.0"
   ]
  },
  {
   "cell_type": "code",
   "execution_count": 13,
   "id": "a1225931-5a2e-4825-9fa7-d98c1bc87c93",
   "metadata": {},
   "outputs": [
    {
     "name": "stdout",
     "output_type": "stream",
     "text": [
      "14/14 [==============================] - 1s 69ms/step\n"
     ]
    }
   ],
   "source": [
    "pred_val= cnn_model.predict(X2,verbose=1)\n",
    "pred_val[y2==0]=0.0"
   ]
  },
  {
   "cell_type": "code",
   "execution_count": 14,
   "id": "9391fcdf-da2b-4d38-90df-93297fa31034",
   "metadata": {},
   "outputs": [
    {
     "name": "stdout",
     "output_type": "stream",
     "text": [
      "tf.Tensor(3.9614232599089325, shape=(), dtype=float64)\n",
      "tf.Tensor(3.9614232599089325, shape=(), dtype=float64)\n"
     ]
    }
   ],
   "source": [
    "print(custom_rmse(predicted_image,y1))\n",
    "print(custom_rmse(predicted_image,y1))"
   ]
  },
  {
   "cell_type": "code",
   "execution_count": 15,
   "id": "5f4e04ba-ab19-4f29-b92c-69eef6b0d926",
   "metadata": {},
   "outputs": [
    {
     "name": "stdout",
     "output_type": "stream",
     "text": [
      "val Full RMSE score:\n",
      "12.058516976846477\n",
      "val SOCAT RMSE score:\n",
      "12.562377522080558\n"
     ]
    }
   ],
   "source": [
    "chl,mld,sss,sst,u10,xco2,icefrac,patm,pco2t2 = read_xarray(val_dir_name,num=\"035\")\n",
    "\n",
    "y_true,y_pred = inverse_scale_image(pred_val,pco2t2.pCO2.data)\n",
    "\n",
    "\n",
    "y_pred_socat = np.copy(y_pred)\n",
    "y_true_socat = np.nan_to_num(pco2t2.pCO2_socat.data)\n",
    "y_pred_socat[y_true_socat==0]=0.0\n",
    "\n",
    "\n",
    "print(\"val Full RMSE score:\")\n",
    "a=custom_rmse(y_pred,y_true)\n",
    "print(a.numpy())\n",
    "\n",
    "print(\"val SOCAT RMSE score:\")\n",
    "b=custom_rmse(y_pred_socat,y_true_socat)\n",
    "print(b.numpy())"
   ]
  },
  {
   "cell_type": "code",
   "execution_count": 16,
   "id": "871ec4ac-7d0c-482a-8b1c-9a9e25c2d5c7",
   "metadata": {},
   "outputs": [
    {
     "name": "stdout",
     "output_type": "stream",
     "text": [
      "Full RMSE score:\n",
      "11.02816741070206\n",
      "SOCAT RMSE score:\n",
      "11.368634315376179\n"
     ]
    }
   ],
   "source": [
    "chl,mld,sss,sst,u10,xco2,icefrac,patm,pco2t2 = read_xarray(dir_name)\n",
    "\n",
    "y_true,y_pred = inverse_scale_image(predicted_image,pco2t2.pCO2.data)\n",
    "\n",
    "y_pred_socat = np.copy(y_pred)\n",
    "y_true_socat = np.nan_to_num(pco2t2.pCO2_socat.data)\n",
    "y_pred_socat[y_true_socat==0]=0.0\n",
    "\n",
    "\n",
    "print(\"Full RMSE score:\")\n",
    "a=custom_rmse(y_pred,y_true)\n",
    "print(a.numpy())\n",
    "\n",
    "print(\"SOCAT RMSE score:\")\n",
    "b=custom_rmse(y_pred_socat,y_true_socat)\n",
    "print(b.numpy())"
   ]
  },
  {
   "cell_type": "markdown",
   "id": "508f881b-211e-410a-8431-ce8d304e538e",
   "metadata": {},
   "source": [
    "### Using the prediction as input in ConvLSTM"
   ]
  },
  {
   "cell_type": "code",
   "execution_count": 17,
   "id": "523ddf86-ab51-40c5-a699-a28f54f6d0c9",
   "metadata": {},
   "outputs": [],
   "source": [
    "chl,mld,sss,sst,u10,xco2,icefrac,patm,pco2 = read_xarray(dir_name)\n",
    "\n",
    "chl_images = preprocess_image_reduced(chl.Chl.data)\n",
    "sss_images = preprocess_image_reduced(sss.SSS.data)\n",
    "sst_images = preprocess_image_reduced(sst.SST.data)\n",
    "xco2_images = preprocess_image_reduced(xco2.XCO2.data,xco2=True)\n",
    "y1 = preprocess_image_reduced(pco2.pCO2.data)\n",
    "dist_map = preprocess_image_reduced(dist_map)\n",
    "    \n",
    "\n",
    "Xc1 = np.dstack((chl_images, dist_map, sss_images, sst_images, xco2_images,predicted_image))\n",
    "Xc1 = Xc1.reshape((421,180,360,6),order='F')"
   ]
  },
  {
   "cell_type": "code",
   "execution_count": 18,
   "id": "8417f932-9170-4f2f-9ecd-4202f4df46a7",
   "metadata": {},
   "outputs": [],
   "source": [
    "chl,mld,sss,sst,u10,xco2,icefrac,patm,pco2 = read_xarray(val_dir_name,num=\"035\")\n",
    "\n",
    "chl_images = preprocess_image_reduced(chl.Chl.data)\n",
    "sss_images = preprocess_image_reduced(sss.SSS.data)\n",
    "sst_images = preprocess_image_reduced(sst.SST.data)\n",
    "xco2_images = preprocess_image_reduced(xco2.XCO2.data,xco2=True)\n",
    "y2 = preprocess_image_reduced(pco2.pCO2.data)\n",
    "dist_map = preprocess_image_reduced(dist_map)\n",
    "    \n",
    "\n",
    "Xc2 = np.dstack((chl_images, dist_map, sss_images, sst_images, xco2_images,pred_val))\n",
    "Xc2 = Xc2.reshape((421,180,360,6),order='F')"
   ]
  },
  {
   "cell_type": "code",
   "execution_count": 23,
   "id": "a006b6ce-e685-4e6e-acd7-866fd8927ff3",
   "metadata": {},
   "outputs": [],
   "source": [
    "X=np.concatenate((Xc1, Xc2), axis = 0)\n",
    "y=np.concatenate((y1,y2),axis = 0)\n",
    "\n",
    "train_X, val_X, train_y, val_y = train_test_split(X, y, test_size=0.4)"
   ]
  },
  {
   "cell_type": "code",
   "execution_count": 24,
   "id": "c9797792-3fcf-4211-bfbb-fff9d4967d53",
   "metadata": {},
   "outputs": [
    {
     "name": "stdout",
     "output_type": "stream",
     "text": [
      "train set shape\n",
      "(502, 3, 180, 360, 6) (502, 3, 180, 360, 1)\n",
      "val set shape\n",
      "(334, 3, 180, 360, 6) (334, 3, 180, 360, 1)\n"
     ]
    }
   ],
   "source": [
    "train_X_index=np.lib.stride_tricks.sliding_window_view(range(train_X.shape[0]),3) \n",
    "val_X_index=np.lib.stride_tricks.sliding_window_view(range(val_X.shape[0]),3) \n",
    "\n",
    "train_y=np.expand_dims(train_y[train_X_index][1:],axis=4)\n",
    "train_X=train_X[train_X_index][:-1]\n",
    "\n",
    "val_y=np.expand_dims(val_y[val_X_index][1:],axis=4)\n",
    "val_X=val_X[val_X_index][:-1]\n",
    "\n",
    "print(\"train set shape\")\n",
    "print(train_X.shape, train_y.shape)\n",
    "\n",
    "print(\"val set shape\")\n",
    "print(val_X.shape, val_y.shape)\n",
    "\n",
    "INPUT_SHAPE = train_X[0].shape\n"
   ]
  },
  {
   "cell_type": "code",
   "execution_count": 25,
   "id": "dc371398-7716-4629-afc6-a683bed25845",
   "metadata": {},
   "outputs": [],
   "source": [
    "tf.keras.backend.clear_session()\n",
    "\n",
    "DefaultConvLSTM2D = partial(keras.layers.ConvLSTM2D,\n",
    "                        filters=32, kernel_size=(5, 5),\n",
    "                        padding=\"same\",return_sequences=True,\n",
    "                        activation=\"elu\",)\n",
    "\n",
    "\n",
    "\n",
    "model = keras.models.Sequential([\n",
    "    DefaultConvLSTM2D(input_shape=INPUT_SHAPE),\n",
    "    keras.layers.BatchNormalization(),\n",
    "    DefaultConvLSTM2D(kernel_size=(3,3)),\n",
    "    keras.layers.BatchNormalization(),\n",
    "    DefaultConvLSTM2D(kernel_size=(1,1)),\n",
    "    keras.layers.Conv3D(filters = 1, kernel_size=(3,3,3),activation=\"elu\", padding=\"same\")\n",
    "    \n",
    "])\n",
    "\n",
    "\n",
    "model.compile(\n",
    "    loss=custom_rmse, optimizer=keras.optimizers.Adam(learning_rate=0.0008),\n",
    ")"
   ]
  },
  {
   "cell_type": "code",
   "execution_count": 26,
   "id": "82eb2a2f-9b6c-445a-a6ac-b2de8514f04a",
   "metadata": {},
   "outputs": [
    {
     "name": "stdout",
     "output_type": "stream",
     "text": [
      "Epoch 1/50\n",
      "63/63 [==============================] - 57s 821ms/step - loss: 71.1406 - val_loss: 44.0886\n",
      "Epoch 2/50\n",
      "63/63 [==============================] - 50s 789ms/step - loss: 12.7096 - val_loss: 41.7066\n",
      "Epoch 3/50\n",
      "63/63 [==============================] - 50s 789ms/step - loss: 10.4852 - val_loss: 34.7774\n",
      "Epoch 4/50\n",
      "63/63 [==============================] - 50s 791ms/step - loss: 9.6246 - val_loss: 25.5624\n",
      "Epoch 5/50\n",
      "63/63 [==============================] - 50s 792ms/step - loss: 9.3704 - val_loss: 19.6948\n",
      "Epoch 6/50\n",
      "63/63 [==============================] - 50s 789ms/step - loss: 9.1101 - val_loss: 13.7487\n",
      "Epoch 7/50\n",
      "63/63 [==============================] - 50s 789ms/step - loss: 8.8996 - val_loss: 11.1801\n",
      "Epoch 8/50\n",
      "63/63 [==============================] - 50s 789ms/step - loss: 8.7515 - val_loss: 10.5847\n",
      "Epoch 9/50\n",
      "63/63 [==============================] - 50s 789ms/step - loss: 8.7310 - val_loss: 10.8258\n",
      "Epoch 10/50\n",
      "63/63 [==============================] - 50s 788ms/step - loss: 8.5581 - val_loss: 8.9529\n",
      "Epoch 11/50\n",
      "63/63 [==============================] - 50s 794ms/step - loss: 8.4093 - val_loss: 9.6644\n",
      "Epoch 12/50\n",
      "63/63 [==============================] - 50s 788ms/step - loss: 8.5650 - val_loss: 10.6152\n",
      "Epoch 13/50\n",
      "63/63 [==============================] - 49s 788ms/step - loss: 8.9051 - val_loss: 10.2342\n",
      "Epoch 14/50\n",
      "63/63 [==============================] - 50s 788ms/step - loss: 8.4577 - val_loss: 8.9341\n",
      "Epoch 15/50\n",
      "63/63 [==============================] - 50s 788ms/step - loss: 8.3948 - val_loss: 9.1122\n",
      "Epoch 16/50\n",
      "63/63 [==============================] - 50s 788ms/step - loss: 8.5408 - val_loss: 8.5244\n",
      "Epoch 17/50\n",
      "63/63 [==============================] - 50s 790ms/step - loss: 8.4189 - val_loss: 8.1431\n",
      "Epoch 18/50\n",
      "63/63 [==============================] - 50s 791ms/step - loss: 8.4027 - val_loss: 8.5632\n",
      "Epoch 19/50\n",
      "63/63 [==============================] - 50s 789ms/step - loss: 8.4778 - val_loss: 9.8800\n",
      "Epoch 20/50\n",
      "63/63 [==============================] - 50s 792ms/step - loss: 8.3781 - val_loss: 8.4538\n",
      "Epoch 21/50\n",
      "63/63 [==============================] - 50s 791ms/step - loss: 8.3946 - val_loss: 8.4670\n",
      "Epoch 00021: early stopping\n"
     ]
    }
   ],
   "source": [
    "model_path=\"../../models/ConvLSTM_with_pco2.h5\"\n",
    "\n",
    "early_stopings = tf.keras.callbacks.EarlyStopping(monitor='val_loss', min_delta=0, patience=4, verbose=1, mode='min')\n",
    "checkpoint =  tf.keras.callbacks.ModelCheckpoint(model_path, monitor='val_loss', save_best_only=True, mode='min', verbose=0)\n",
    "callbacks=[early_stopings,checkpoint]\n",
    "\n",
    "epochs = 50\n",
    "batch_size = 8\n",
    "\n",
    "# Fit the model to the training data.\n",
    "hist = model.fit(\n",
    "    train_X,\n",
    "    train_y,\n",
    "    batch_size=batch_size,\n",
    "    epochs=epochs,\n",
    "    validation_data=(val_X,val_y),\n",
    "    callbacks=callbacks,\n",
    ")"
   ]
  },
  {
   "cell_type": "code",
   "execution_count": 31,
   "id": "f1624519-31ac-4e96-b07b-afac6dd66047",
   "metadata": {},
   "outputs": [
    {
     "name": "stdout",
     "output_type": "stream",
     "text": [
      "14/14 [==============================] - 10s 759ms/step\n"
     ]
    }
   ],
   "source": [
    "X_index=np.lib.stride_tricks.sliding_window_view(range(421),3) \n",
    "#Xc1 = Xc1[X_index][:-1]\n",
    "y1=np.expand_dims(y1[X_index][1:],axis=4)\n",
    "\n",
    "best_model = tf.keras.models.load_model('../../models/ConvLSTM_with_pco2.h5', custom_objects={'custom_rmse':custom_rmse})\n",
    "pred1=best_model.predict(Xc1,verbose=1)\n",
    "pred1[y1==0]=0.0\n",
    "\n",
    "\n",
    "chl,mld,sss,sst,u10,xco2,icefrac,patm,pco2t2 = read_xarray(dir_name)\n",
    "\n",
    "y_true,y_pred = inverse_scale_frame(pred1,pco2t2.pCO2.data)\n",
    "\n",
    "y_pred_socat = np.copy(y_pred)\n",
    "y_true_socat=np.expand_dims(pco2t2.pCO2_socat.data[X_index][1:],axis=4)\n",
    "y_true_socat = np.nan_to_num(y_true_socat)\n",
    "y_pred_socat[y_true_socat==0]=0.0"
   ]
  },
  {
   "cell_type": "code",
   "execution_count": 32,
   "id": "7401382d-6e30-4e10-99e6-f8d7a13f6be5",
   "metadata": {},
   "outputs": [
    {
     "name": "stdout",
     "output_type": "stream",
     "text": [
      "Full RMSE score:\n",
      "13.297245652779377\n",
      "SOCAT RMSE score:\n",
      "14.11339686155869\n"
     ]
    }
   ],
   "source": [
    "print(\"Full RMSE score:\")\n",
    "a=custom_rmse(y_pred[:,:2],y_true[:,:2])\n",
    "print(a.numpy())\n",
    "\n",
    "print(\"SOCAT RMSE score:\")\n",
    "b=custom_rmse(y_pred_socat[:,:2],y_true_socat[:,:2])\n",
    "print(b.numpy())"
   ]
  },
  {
   "cell_type": "code",
   "execution_count": 35,
   "id": "5e6c1c2b-17ac-4afc-9bd7-2e9646fd0057",
   "metadata": {},
   "outputs": [],
   "source": [
    "import imageio\n",
    "import matplotlib.colors as mcolors\n",
    "\n",
    "\n",
    "d = y_pred-y_true\n",
    "\n",
    "\n",
    "norm = mcolors.TwoSlopeNorm(vmin=d.min(), vmax = d.max(), vcenter=0)\n",
    "\n",
    "\n",
    "filenames = []\n",
    "\n",
    "for i in range(418):\n",
    "    # plot the line chart\n",
    "    figure, axis = plt.subplots(2, 2,figsize=(12, 6))\n",
    "\n",
    "    img=axis[0][0].imshow(np.flipud(y_pred[i][1]),cmap=\"coolwarm\", interpolation=\"nearest\")\n",
    "    axis[0][0].set_title(\"prediction\")\n",
    "    plt.colorbar(img,ax=axis)\n",
    "\n",
    "    img1=axis[0][1].imshow(np.flipud(y_true[i][1]),cmap=\"coolwarm\", interpolation=\"nearest\")\n",
    "    axis[0][1].set_title(\"true\")\n",
    "\n",
    "    diff=np.flipud(np.squeeze(y_pred[i][1]-y_true[i][1]))\n",
    "    img2=axis[1][0].imshow(diff,cmap=\"RdBu\", interpolation=\"nearest\",norm=norm)\n",
    "    axis[1][0].set_title(\"residual\")\n",
    "    plt.colorbar(img2,ax=axis)\n",
    "    \n",
    "    img2=axis[1][1].imshow(np.flipud(Xc1[i][1][:,:,5]),cmap=\"coolwarm\", interpolation=\"nearest\")\n",
    "    axis[1][1].set_title(\"input: previous predicted pco2\")\n",
    "    # create file name and append it to a list\n",
    "    filename = f'{i}.png'\n",
    "    filenames.append(filename)\n",
    "    \n",
    "    # save frame\n",
    "    plt.savefig(filename)\n",
    "    plt.close()\n",
    "\n",
    "\n",
    "with imageio.get_writer('../../assets/cnn-lstm-new.gif', mode='I') as writer:\n",
    "    for filename in filenames:\n",
    "        image = imageio.imread(filename)\n",
    "        writer.append_data(image)\n",
    "        \n",
    "# Remove files\n",
    "for filename in set(filenames):\n",
    "    os.remove(filename)"
   ]
  },
  {
   "cell_type": "code",
   "execution_count": null,
   "id": "2fc53f23-41fb-4be4-9415-fa9b14dec233",
   "metadata": {},
   "outputs": [],
   "source": []
  }
 ],
 "metadata": {
  "kernelspec": {
   "display_name": "venv2",
   "language": "python",
   "name": "venv2"
  },
  "language_info": {
   "codemirror_mode": {
    "name": "ipython",
    "version": 3
   },
   "file_extension": ".py",
   "mimetype": "text/x-python",
   "name": "python",
   "nbconvert_exporter": "python",
   "pygments_lexer": "ipython3",
   "version": "3.8.5"
  }
 },
 "nbformat": 4,
 "nbformat_minor": 5
}

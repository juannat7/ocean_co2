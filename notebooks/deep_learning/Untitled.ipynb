{
 "cells": [
  {
   "cell_type": "markdown",
   "id": "72ce930b-b3bf-42a3-aba6-c989b954bc86",
   "metadata": {},
   "source": [
    "## PyTorch ConvLSTM with Socat Mask\n",
    "\n",
    "### Differences\n",
    "1. Distance Map instead of MLD\n",
    "2. Included Prof. Zheng's recommendation : \n",
    "\n",
    "### Referencfes\n",
    "- https://github.com/leap-stc/LEAPCourse-Climate-Pred-Challenges/blob/main/Project-StarterCodes/Project2-PhysicsML/doc/project2_desc.md"
   ]
  },
  {
   "cell_type": "code",
   "execution_count": 6,
   "id": "0a7661df-81f8-4964-977c-025e1ebb290f",
   "metadata": {},
   "outputs": [],
   "source": [
    "import numpy as np\n",
    "import pandas as pd\n",
    "import xarray as xr\n",
    "import os\n",
    "import matplotlib.pyplot as plt\n",
    "import torch\n",
    "import torchvision\n",
    "from torch.nn import functional as F\n",
    "from torch.utils.data import DataLoader, TensorDataset\n",
    "from multiprocessing import Process"
   ]
  },
  {
   "cell_type": "code",
   "execution_count": 5,
   "id": "fdb57bc9-d273-4169-b8c8-b7844bd56918",
   "metadata": {},
   "outputs": [],
   "source": [
    "import imp\n",
    "import sys\n",
    "\n",
    "sys.path.insert(0, '../../src')\n",
    "from utils import df_to_xarray,read_xarray, get_point_prediction\n",
    "\n",
    "sys.path.insert(0, '../../src/preprocess')\n",
    "from data_preprocess import preprocess_image_reduced,preprocess_images_nfp, inverse_scale_frame"
   ]
  },
  {
   "cell_type": "code",
   "execution_count": 4,
   "id": "afb74e30-e0a6-488e-9dd3-407b1000e479",
   "metadata": {},
   "outputs": [
    {
     "name": "stderr",
     "output_type": "stream",
     "text": [
      "/burg/glab/users/sk4973/venv2/lib/python3.8/site-packages/xarray/backends/plugins.py:61: RuntimeWarning: Engine 'cfgrib' loading failed:\n",
      "ecCodes library not found using ['eccodes', 'libeccodes.so', 'libeccodes']\n",
      "  warnings.warn(f\"Engine {name!r} loading failed:\\n{ex}\", RuntimeWarning)\n"
     ]
    },
    {
     "name": "stdout",
     "output_type": "stream",
     "text": [
      "(418, 3, 180, 360, 6) (418, 3, 180, 360, 1)\n"
     ]
    }
   ],
   "source": [
    "dist_map = pd.read_csv(\"../../src/dist_map.csv\",header=None).to_numpy()\n",
    "dist_map = np.roll(np.fliplr(dist_map),180)\n",
    "dist_map = np.repeat(dist_map[np.newaxis, :, : ], 421, axis=0)\n",
    "\n",
    "\n",
    "dir_name = \"../../data/data1\"\n",
    "val_dir_name = \"../../data/data2\"\n",
    "\n",
    "chl,mld,sss,sst,u10,xco2,icefrac,patm,pco2 = read_xarray(dir_name)\n",
    "chl_images = preprocess_image_reduced(chl.Chl.data)\n",
    "sss_images = preprocess_image_reduced(sss.SSS.data)\n",
    "sst_images = preprocess_image_reduced(sst.SST.data)\n",
    "xco2_images = preprocess_image_reduced(xco2.XCO2.data,xco2=True)\n",
    "y1 = preprocess_image_reduced(pco2.pCO2.data)\n",
    "dist_map = preprocess_image_reduced(dist_map)\n",
    "    \n",
    "\n",
    "X1 = np.dstack((chl_images, dist_map, sss_images, sst_images, xco2_images))\n",
    "X1 = X1.reshape((421,180,360,5),order='F')\n",
    "\n",
    "\n",
    "X_index=np.lib.stride_tricks.sliding_window_view(range(421),3) \n",
    "\n",
    "\n",
    "INPUT_SHAPE=X1[0].shape\n",
    "INPUT_SHAPE\n",
    "\n",
    "INPUT_SHAPE = X[0].shape"
   ]
  },
  {
   "cell_type": "code",
   "execution_count": null,
   "id": "9e13dadf-1cd2-4162-9666-0cde8987aad9",
   "metadata": {},
   "outputs": [],
   "source": []
  }
 ],
 "metadata": {
  "kernelspec": {
   "display_name": "venv2",
   "language": "python",
   "name": "venv2"
  },
  "language_info": {
   "codemirror_mode": {
    "name": "ipython",
    "version": 3
   },
   "file_extension": ".py",
   "mimetype": "text/x-python",
   "name": "python",
   "nbconvert_exporter": "python",
   "pygments_lexer": "ipython3",
   "version": "3.8.5"
  }
 },
 "nbformat": 4,
 "nbformat_minor": 5
}

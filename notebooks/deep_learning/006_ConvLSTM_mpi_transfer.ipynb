{
 "cells": [
  {
   "cell_type": "markdown",
   "id": "012f80e3-065f-4481-8b61-0b16c778386f",
   "metadata": {},
   "source": [
    "## generate previous frames with pCO2 and fit it against ConvLSTM for multiple members"
   ]
  },
  {
   "cell_type": "code",
   "execution_count": 1,
   "id": "c7c497b4-9499-4832-aed7-d1c3b9d4b5e9",
   "metadata": {},
   "outputs": [
    {
     "name": "stderr",
     "output_type": "stream",
     "text": [
      "/burg/glab/users/sk4973/venv2/lib/python3.8/site-packages/xarray/backends/cfgrib_.py:27: UserWarning: Failed to load cfgrib - most likely there is a problem accessing the ecCodes library. Try `import cfgrib` to get the full error message\n",
      "  warnings.warn(\n",
      "2022-09-26 11:07:59.799240: I tensorflow/stream_executor/platform/default/dso_loader.cc:49] Successfully opened dynamic library libcudart.so.11.0\n"
     ]
    }
   ],
   "source": [
    "import matplotlib.pyplot as plt\n",
    "import numpy as np\n",
    "import pandas as pd\n",
    "import xarray as xr\n",
    "import sys\n",
    "import tensorflow as tf\n",
    "from tensorflow import keras\n",
    "import os\n",
    "\n",
    "sys.path.insert(0, '../../src')\n",
    "\n",
    "from utils import df_to_xarray,read_xarray, custom_rmse\n",
    "\n",
    "sys.path.insert(0, '../../src/preprocess')\n",
    "from data_preprocess import preprocess_image_reduced,preprocess_images_nfp, inverse_scale_frame\n",
    "from data_preprocess import preprocess_images, inverse_scale_image, preprocess_image_reduced"
   ]
  },
  {
   "cell_type": "markdown",
   "id": "4a7ea67d-8bc2-422f-8c39-0de87dd0ed5c",
   "metadata": {},
   "source": [
    "### Previous Frame generation"
   ]
  },
  {
   "cell_type": "code",
   "execution_count": 2,
   "id": "8115c973-ef73-46a6-b8b7-9142c659c03f",
   "metadata": {},
   "outputs": [],
   "source": [
    "dist_map = pd.read_csv(\"../../src/dist_map.csv\",header=None).to_numpy()\n",
    "dist_map = np.roll(np.fliplr(dist_map),180)\n",
    "dist_map = np.repeat(dist_map[np.newaxis, :, : ], 421, axis=0)\n",
    "\n",
    "def custom_rmse2(y_true, y_pred):\n",
    "    \"\"\"\n",
    "    custom_rmse(y_true, y_pred)\n",
    "    calculates root square mean value with focusing only on the ocean\n",
    "    + difference between sss\n",
    "    \"\"\"\n",
    "    idx  = tf.not_equal(y_true, 0.0)\n",
    "    idx2  = tf.equal(y_true, 0.0)\n",
    "    \n",
    "    y_pred1 = tf.boolean_mask(y_pred,idx)\n",
    "    y_true1 = tf.boolean_mask(y_true,idx)\n",
    "    y_true1 = tf.cast(y_true1, y_pred.dtype)\n",
    "    \n",
    "    rmse1 = K.sqrt(K.mean(tf.math.squared_difference(y_pred1, y_true1),axis= -1))\n",
    "    \n",
    "    #y_pred2 = tf.boolean_mask(y_pred,idx2)\n",
    "    #loss2 = 10*(K.var(y_true1)/K.var(y_pred2))\n",
    "    #loss2 = tf.cast(loss2, y_pred.dtype)\n",
    "    \n",
    "    return rmse1\n"
   ]
  },
  {
   "cell_type": "code",
   "execution_count": 3,
   "id": "31a572ea-5c8a-4062-ad05-0d655167249a",
   "metadata": {},
   "outputs": [
    {
     "name": "stderr",
     "output_type": "stream",
     "text": [
      "/burg/glab/users/sk4973/venv2/lib/python3.8/site-packages/xarray/backends/plugins.py:61: RuntimeWarning: Engine 'cfgrib' loading failed:\n",
      "ecCodes library not found using ['eccodes', 'libeccodes.so', 'libeccodes']\n",
      "  warnings.warn(f\"Engine {name!r} loading failed:\\n{ex}\", RuntimeWarning)\n"
     ]
    }
   ],
   "source": [
    "# Reading Data\n",
    "dir = \"../../data/\"\n",
    "dir_name = \"../../data/member_001\"\n",
    "data_nums = [\"001\", \"002\", \"009\", \"010\", \"011\", \"012\", \"013\", \"014\", \"015\", \"016\", \"017\", \"018\", \"020\",\n",
    "             \"021\", \"023\", \"024\", \"025\", \"030\", \"031\", \"034\", \"035\", \"101\", \"102\", \"103\", \"104\"]\n",
    "\n",
    "X_all = np.empty((0, 180, 360, 5))\n",
    "y_all = np.empty((0, 180, 360))\n",
    "\n",
    "for i in range(3):\n",
    "    dir_name = dir + \"member_\" + str(data_nums[i])\n",
    "    chl,mld,sss,sst,u10,xco2,icefrac,patm,pco2 = read_xarray(dir_name,num =data_nums[i])\n",
    "    \n",
    "    chl_images = preprocess_image_reduced(chl.Chl.data)\n",
    "    sss_images = preprocess_image_reduced(sss.SSS.data)\n",
    "    sst_images = preprocess_image_reduced(sst.SST.data)\n",
    "    mld_images = preprocess_image_reduced(mld.MLD.data)\n",
    "    xco2_images = preprocess_image_reduced(xco2.XCO2.data,xco2=True)\n",
    "    y1 = preprocess_image_reduced(pco2.pCO2.data)\n",
    "    dist_map = preprocess_image_reduced(dist_map)\n",
    "    X1 = np.dstack((chl_images, dist_map, sss_images, sst_images, xco2_images))\n",
    "    #X1 = np.dstack((chl_images, mld_images, sss_images, sst_images, xco2_images))\n",
    "    X1 = X1.reshape((421,180,360,5),order='F')\n",
    "    \n",
    "    X_all = np.concatenate((X_all, X1))\n",
    "    y_all = np.concatenate((y_all, y1))\n"
   ]
  },
  {
   "cell_type": "code",
   "execution_count": 4,
   "id": "e231214a-a785-4872-8145-610401a04b12",
   "metadata": {},
   "outputs": [
    {
     "data": {
      "text/plain": [
       "((180, 360, 5), (1263, 180, 360, 5), (1263, 180, 360))"
      ]
     },
     "execution_count": 4,
     "metadata": {},
     "output_type": "execute_result"
    }
   ],
   "source": [
    "INPUT_SHAPE=X_all[0].shape\n",
    "OUTPUT_SHAPE=y_all[0].shape\n",
    "\n",
    "INPUT_SHAPE, X_all.shape, y_all.shape"
   ]
  },
  {
   "cell_type": "code",
   "execution_count": null,
   "id": "a71dcf66-0fb2-475f-830f-4e0e44cec5ac",
   "metadata": {},
   "outputs": [],
   "source": [
    "from functools import partial\n",
    "\n",
    "DefaultConv2D = partial(keras.layers.Conv2D,\n",
    "                        kernel_size=5,activation='elu',\n",
    "                        padding=\"SAME\")\n",
    "\n",
    "base_model = keras.models.Sequential([\n",
    "    DefaultConv2D(filters=32, input_shape=INPUT_SHAPE),\n",
    "    DefaultConv2D(filters=32),\n",
    "    keras.layers.MaxPooling2D(pool_size=3),\n",
    "    keras.layers.Dropout(0.2),\n",
    "    DefaultConv2D(filters=64),\n",
    "    DefaultConv2D(filters=64),\n",
    "    keras.layers.MaxPooling2D(pool_size=3),\n",
    "    keras.layers.Dropout(0.2),\n",
    "    DefaultConv2D(filters=128),\n",
    "    DefaultConv2D(filters=128),\n",
    "    keras.layers.UpSampling2D(size=3),\n",
    "    DefaultConv2D(filters=64),\n",
    "    DefaultConv2D(filters=64),\n",
    "    keras.layers.Dropout(0.2),\n",
    "    keras.layers.UpSampling2D(size=3),\n",
    "    DefaultConv2D(filters=32),\n",
    "    DefaultConv2D(filters=2),\n",
    "    DefaultConv2D(filters=1,kernel_size=1),\n",
    "    keras.layers.Reshape(OUTPUT_SHAPE)\n",
    "])\n",
    "\n",
    "myLearnRate=0.0005\n",
    "custom_opt = tf.keras.optimizers.Adam(learning_rate=myLearnRate)\n",
    "\n",
    "#rmse 13\n",
    "\n",
    "\n",
    "\n",
    "base_model.compile(loss=custom_rmse, optimizer=custom_opt)"
   ]
  },
  {
   "cell_type": "code",
   "execution_count": null,
   "id": "d4ba4bec-c490-46fe-9724-efbf9f55cdb5",
   "metadata": {},
   "outputs": [],
   "source": [
    "\n",
    "\n",
    "model_path=\"../../models/base_model/u_net_dist.h5\"\n",
    "\n",
    "early_stopings = tf.keras.callbacks.EarlyStopping(monitor='val_loss', min_delta=0, patience=10, verbose=1, mode='min')\n",
    "checkpoint =  tf.keras.callbacks.ModelCheckpoint(model_path, monitor='val_loss', save_best_only=True, mode='min', verbose=0)\n",
    "callbacks=[early_stopings,checkpoint]\n",
    "\n",
    "history = base_model.fit(X_all,y_all, epochs=200, \n",
    "                         validation_data=(X_all,y_all),\n",
    "                         workers=-1,batch_size=16,\n",
    "                         callbacks=callbacks)\n",
    "\n",
    "\n"
   ]
  },
  {
   "cell_type": "code",
   "execution_count": 5,
   "id": "7e8ce0bf-2eba-4951-8d10-4d0e6892b2a0",
   "metadata": {},
   "outputs": [
    {
     "name": "stderr",
     "output_type": "stream",
     "text": [
      "2022-09-26 11:08:32.118688: I tensorflow/compiler/jit/xla_cpu_device.cc:41] Not creating XLA devices, tf_xla_enable_xla_devices not set\n",
      "2022-09-26 11:08:32.179852: I tensorflow/stream_executor/platform/default/dso_loader.cc:49] Successfully opened dynamic library libcuda.so.1\n",
      "2022-09-26 11:08:32.509836: I tensorflow/core/common_runtime/gpu/gpu_device.cc:1720] Found device 0 with properties: \n",
      "pciBusID: 0000:3b:00.0 name: Quadro RTX 8000 computeCapability: 7.5\n",
      "coreClock: 1.62GHz coreCount: 72 deviceMemorySize: 44.49GiB deviceMemoryBandwidth: 581.23GiB/s\n",
      "2022-09-26 11:08:32.509924: I tensorflow/stream_executor/platform/default/dso_loader.cc:49] Successfully opened dynamic library libcudart.so.11.0\n",
      "2022-09-26 11:08:34.123187: I tensorflow/stream_executor/platform/default/dso_loader.cc:49] Successfully opened dynamic library libcublas.so.11\n",
      "2022-09-26 11:08:34.123305: I tensorflow/stream_executor/platform/default/dso_loader.cc:49] Successfully opened dynamic library libcublasLt.so.11\n",
      "2022-09-26 11:08:34.628426: I tensorflow/stream_executor/platform/default/dso_loader.cc:49] Successfully opened dynamic library libcufft.so.10\n",
      "2022-09-26 11:08:34.811750: I tensorflow/stream_executor/platform/default/dso_loader.cc:49] Successfully opened dynamic library libcurand.so.10\n",
      "2022-09-26 11:08:35.867473: I tensorflow/stream_executor/platform/default/dso_loader.cc:49] Successfully opened dynamic library libcusolver.so.10\n",
      "2022-09-26 11:08:36.045490: I tensorflow/stream_executor/platform/default/dso_loader.cc:49] Successfully opened dynamic library libcusparse.so.11\n",
      "2022-09-26 11:08:36.047545: I tensorflow/stream_executor/platform/default/dso_loader.cc:49] Successfully opened dynamic library libcudnn.so.8\n",
      "2022-09-26 11:08:36.066930: I tensorflow/core/common_runtime/gpu/gpu_device.cc:1862] Adding visible gpu devices: 0\n",
      "2022-09-26 11:08:36.083748: I tensorflow/core/platform/cpu_feature_guard.cc:142] This TensorFlow binary is optimized with oneAPI Deep Neural Network Library (oneDNN) to use the following CPU instructions in performance-critical operations:  AVX512F\n",
      "To enable them in other operations, rebuild TensorFlow with the appropriate compiler flags.\n",
      "2022-09-26 11:08:36.096567: I tensorflow/compiler/jit/xla_gpu_device.cc:99] Not creating XLA devices, tf_xla_enable_xla_devices not set\n",
      "2022-09-26 11:08:36.098832: I tensorflow/core/common_runtime/gpu/gpu_device.cc:1720] Found device 0 with properties: \n",
      "pciBusID: 0000:3b:00.0 name: Quadro RTX 8000 computeCapability: 7.5\n",
      "coreClock: 1.62GHz coreCount: 72 deviceMemorySize: 44.49GiB deviceMemoryBandwidth: 581.23GiB/s\n",
      "2022-09-26 11:08:36.098879: I tensorflow/stream_executor/platform/default/dso_loader.cc:49] Successfully opened dynamic library libcudart.so.11.0\n",
      "2022-09-26 11:08:36.098894: I tensorflow/stream_executor/platform/default/dso_loader.cc:49] Successfully opened dynamic library libcublas.so.11\n",
      "2022-09-26 11:08:36.098906: I tensorflow/stream_executor/platform/default/dso_loader.cc:49] Successfully opened dynamic library libcublasLt.so.11\n",
      "2022-09-26 11:08:36.098915: I tensorflow/stream_executor/platform/default/dso_loader.cc:49] Successfully opened dynamic library libcufft.so.10\n",
      "2022-09-26 11:08:36.098923: I tensorflow/stream_executor/platform/default/dso_loader.cc:49] Successfully opened dynamic library libcurand.so.10\n",
      "2022-09-26 11:08:36.098931: I tensorflow/stream_executor/platform/default/dso_loader.cc:49] Successfully opened dynamic library libcusolver.so.10\n",
      "2022-09-26 11:08:36.098938: I tensorflow/stream_executor/platform/default/dso_loader.cc:49] Successfully opened dynamic library libcusparse.so.11\n",
      "2022-09-26 11:08:36.098946: I tensorflow/stream_executor/platform/default/dso_loader.cc:49] Successfully opened dynamic library libcudnn.so.8\n",
      "2022-09-26 11:08:36.101010: I tensorflow/core/common_runtime/gpu/gpu_device.cc:1862] Adding visible gpu devices: 0\n",
      "2022-09-26 11:08:36.101548: I tensorflow/stream_executor/platform/default/dso_loader.cc:49] Successfully opened dynamic library libcudart.so.11.0\n",
      "2022-09-26 11:08:51.126222: I tensorflow/core/common_runtime/gpu/gpu_device.cc:1261] Device interconnect StreamExecutor with strength 1 edge matrix:\n",
      "2022-09-26 11:08:51.126254: I tensorflow/core/common_runtime/gpu/gpu_device.cc:1267]      0 \n",
      "2022-09-26 11:08:51.126266: I tensorflow/core/common_runtime/gpu/gpu_device.cc:1280] 0:   N \n",
      "2022-09-26 11:08:51.130230: I tensorflow/core/common_runtime/gpu/gpu_device.cc:1406] Created TensorFlow device (/job:localhost/replica:0/task:0/device:GPU:0 with 42529 MB memory) -> physical GPU (device: 0, name: Quadro RTX 8000, pci bus id: 0000:3b:00.0, compute capability: 7.5)\n",
      "2022-09-26 11:08:55.690074: I tensorflow/compiler/mlir/mlir_graph_optimization_pass.cc:116] None of the MLIR optimization passes are enabled (registered 2)\n",
      "2022-09-26 11:08:56.013174: I tensorflow/core/platform/profile_utils/cpu_utils.cc:112] CPU Frequency: 2900000000 Hz\n",
      "2022-09-26 11:08:59.196701: I tensorflow/stream_executor/platform/default/dso_loader.cc:49] Successfully opened dynamic library libcudnn.so.8\n",
      "2022-09-26 11:10:17.870535: I tensorflow/stream_executor/platform/default/dso_loader.cc:49] Successfully opened dynamic library libcublas.so.11\n",
      "2022-09-26 11:10:24.378542: I tensorflow/stream_executor/platform/default/dso_loader.cc:49] Successfully opened dynamic library libcublasLt.so.11\n"
     ]
    },
    {
     "name": "stdout",
     "output_type": "stream",
     "text": [
      "40/40 [==============================] - 96s 86ms/step\n"
     ]
    }
   ],
   "source": [
    "cnn_model = tf.keras.models.load_model('../../models/base_model/u_net_dist.h5', custom_objects={'custom_rmse':custom_rmse})\n",
    "predicted_image= cnn_model.predict(X_all,verbose=1)\n",
    "#predicted_image[y_all==0]=0.0"
   ]
  },
  {
   "cell_type": "code",
   "execution_count": 34,
   "id": "9391fcdf-da2b-4d38-90df-93297fa31034",
   "metadata": {},
   "outputs": [
    {
     "name": "stdout",
     "output_type": "stream",
     "text": [
      "tf.Tensor(3.3854419655263928, shape=(), dtype=float64)\n"
     ]
    }
   ],
   "source": [
    "print(custom_rmse(predicted_image,y_all))"
   ]
  },
  {
   "cell_type": "code",
   "execution_count": 35,
   "id": "5f4e04ba-ab19-4f29-b92c-69eef6b0d926",
   "metadata": {},
   "outputs": [
    {
     "name": "stdout",
     "output_type": "stream",
     "text": [
      "y_shapes: (1263, 180, 360) (1263, 180, 360)\n",
      "Full RMSE score:\n",
      "10.189230414266\n"
     ]
    }
   ],
   "source": [
    "\n",
    "y_true_all = np.empty((0,180,360))\n",
    "y_pred_all = np.empty((0,180,360))\n",
    "\n",
    "\n",
    "for i in range(3):\n",
    "    tmp = i+1\n",
    "    dir_name = dir + \"member_\" + str(data_nums[i])\n",
    "    chl,mld,sss,sst,u10,xco2,icefrac,patm,pco2t2 = read_xarray(dir_name,num =data_nums[i])\n",
    "    y_true,y_pred = inverse_scale_image(predicted_image[421*(tmp-1):421*tmp],pco2t2.pCO2.data)\n",
    "    y_true_all = np.concatenate((y_true_all, y_true))\n",
    "    y_pred_all = np.concatenate((y_pred_all, y_pred))\n",
    "\n",
    "\n",
    "print(\"y_shapes:\", y_true_all.shape, y_pred_all.shape)\n",
    "print(\"Full RMSE score:\")\n",
    "a=custom_rmse(y_pred_all,y_true_all)\n",
    "print(a.numpy())\n"
   ]
  },
  {
   "cell_type": "markdown",
   "id": "508f881b-211e-410a-8431-ce8d304e538e",
   "metadata": {},
   "source": [
    "### Using the prediction as input in ConvLSTM"
   ]
  },
  {
   "cell_type": "code",
   "execution_count": 6,
   "id": "523ddf86-ab51-40c5-a699-a28f54f6d0c9",
   "metadata": {},
   "outputs": [
    {
     "data": {
      "text/plain": [
       "((1254, 3, 180, 360, 6), (1254, 3, 180, 360, 1))"
      ]
     },
     "execution_count": 6,
     "metadata": {},
     "output_type": "execute_result"
    }
   ],
   "source": [
    "X_all_conv = np.empty((0, 3, 180, 360, 6))\n",
    "y_all_conv = np.empty((0, 3, 180, 360, 1))\n",
    "X_index=np.lib.stride_tricks.sliding_window_view(range(421),3)\n",
    "\n",
    "tmp = 1\n",
    "\n",
    "for i in range(3):\n",
    "    dir_name = dir + \"member_\" + str(data_nums[i])\n",
    "    chl,mld,sss,sst,u10,xco2,icefrac,patm,pco2 = read_xarray(dir_name,num=data_nums[i])\n",
    "\n",
    "    chl_images = preprocess_image_reduced(chl.Chl.data)\n",
    "    sss_images = preprocess_image_reduced(sss.SSS.data)\n",
    "    sst_images = preprocess_image_reduced(sst.SST.data)\n",
    "    xco2_images = preprocess_image_reduced(xco2.XCO2.data,xco2=True)\n",
    "    pco2 = preprocess_image_reduced(pco2.pCO2.data)\n",
    "    dist_map = preprocess_image_reduced(dist_map)\n",
    "    \n",
    "    y = np.expand_dims(pco2[X_index][1:], axis=4)\n",
    "    \n",
    "    X = np.dstack((chl_images, dist_map, sss_images, sst_images, xco2_images,predicted_image[421*(tmp-1):421*tmp]))\n",
    "    tmp+=1\n",
    "    X = X.reshape((421,180,360,6),order='F')\n",
    "    X = X[X_index][:-1]\n",
    "    \n",
    "    X_all_conv = np.concatenate((X_all_conv, X))\n",
    "    y_all_conv = np.concatenate((y_all_conv, y))\n",
    "\n",
    "\n",
    "shuffle_ind = (np.arange(X_all_conv.shape[0]))\n",
    "np.random.shuffle(shuffle_ind)\n",
    "X_all_conv = np.array(X_all_conv)[shuffle_ind.astype(int)]\n",
    "y_all_conv = np.array(y_all_conv)[shuffle_ind.astype(int)]\n",
    "\n",
    "X_all_conv.shape, y_all_conv.shape"
   ]
  },
  {
   "cell_type": "code",
   "execution_count": 7,
   "id": "ee5ad845-5342-46c1-8bec-500e0463b85f",
   "metadata": {},
   "outputs": [
    {
     "data": {
      "text/plain": [
       "(3, 180, 360, 6)"
      ]
     },
     "execution_count": 7,
     "metadata": {},
     "output_type": "execute_result"
    }
   ],
   "source": [
    "INPUT_SHAPE=X_all_conv[0].shape\n",
    "OUTPUT_SHAPE=y_all_conv[0].shape\n",
    "\n",
    "INPUT_SHAPE"
   ]
  },
  {
   "cell_type": "code",
   "execution_count": 8,
   "id": "dc371398-7716-4629-afc6-a683bed25845",
   "metadata": {},
   "outputs": [],
   "source": [
    "tf.keras.backend.clear_session()\n",
    "from functools import partial\n",
    "\n",
    "\n",
    "DefaultConvLSTM2D = partial(keras.layers.ConvLSTM2D,\n",
    "                        filters=32, kernel_size=(5, 5),\n",
    "                        padding=\"same\",return_sequences=True,\n",
    "                        activation=\"elu\",)\n",
    "\n",
    "\n",
    "\n",
    "model = keras.models.Sequential([\n",
    "    DefaultConvLSTM2D(input_shape=INPUT_SHAPE),\n",
    "    keras.layers.BatchNormalization(),\n",
    "    DefaultConvLSTM2D(kernel_size=(5,5)),\n",
    "    keras.layers.BatchNormalization(),\n",
    "    DefaultConvLSTM2D(kernel_size=(3,3)),\n",
    "    keras.layers.BatchNormalization(),\n",
    "    DefaultConvLSTM2D(kernel_size=(1,1)),\n",
    "    keras.layers.Conv3D(filters = 1, kernel_size=(3,3,3),activation=\"elu\", padding=\"same\")\n",
    "    \n",
    "])\n",
    "\n",
    "\n",
    "model.compile(\n",
    "    loss=custom_rmse, optimizer=keras.optimizers.Adam(\n",
    "        learning_rate=0.001,\n",
    "        beta_1=0.9,\n",
    "        beta_2=0.99),\n",
    ")"
   ]
  },
  {
   "cell_type": "code",
   "execution_count": 9,
   "id": "82eb2a2f-9b6c-445a-a6ac-b2de8514f04a",
   "metadata": {},
   "outputs": [
    {
     "name": "stdout",
     "output_type": "stream",
     "text": [
      "Epoch 1/100\n",
      "157/157 [==============================] - 244s 1s/step - loss: 49.7364 - val_loss: 13.9513\n",
      "Epoch 2/100\n",
      "157/157 [==============================] - 208s 1s/step - loss: 6.3115 - val_loss: 6.2178\n",
      "Epoch 3/100\n",
      "157/157 [==============================] - 204s 1s/step - loss: 5.1817 - val_loss: 4.5525\n",
      "Epoch 4/100\n",
      "157/157 [==============================] - 204s 1s/step - loss: 5.3996 - val_loss: 7.8429\n",
      "Epoch 5/100\n",
      "157/157 [==============================] - 207s 1s/step - loss: 4.6691 - val_loss: 4.3037\n",
      "Epoch 6/100\n",
      "157/157 [==============================] - 208s 1s/step - loss: 4.5532 - val_loss: 4.2115\n",
      "Epoch 7/100\n",
      "157/157 [==============================] - 207s 1s/step - loss: 4.6531 - val_loss: 5.4529\n",
      "Epoch 8/100\n",
      "157/157 [==============================] - 207s 1s/step - loss: 4.2487 - val_loss: 4.2412\n",
      "Epoch 9/100\n",
      "157/157 [==============================] - 205s 1s/step - loss: 4.6093 - val_loss: 5.9128\n",
      "Epoch 10/100\n",
      "157/157 [==============================] - 205s 1s/step - loss: 4.1689 - val_loss: 3.8795\n",
      "Epoch 11/100\n",
      "157/157 [==============================] - 205s 1s/step - loss: 4.1603 - val_loss: 5.7526\n",
      "Epoch 12/100\n",
      "157/157 [==============================] - 205s 1s/step - loss: 4.1475 - val_loss: 8.7465\n",
      "Epoch 13/100\n",
      "157/157 [==============================] - 205s 1s/step - loss: 4.1815 - val_loss: 3.9388\n",
      "Epoch 14/100\n",
      "157/157 [==============================] - 205s 1s/step - loss: 4.1073 - val_loss: 3.8712\n",
      "Epoch 15/100\n",
      "157/157 [==============================] - 205s 1s/step - loss: 4.0063 - val_loss: 4.0934\n",
      "Epoch 16/100\n",
      "157/157 [==============================] - 205s 1s/step - loss: 4.0330 - val_loss: 4.3904\n",
      "Epoch 17/100\n",
      "157/157 [==============================] - 205s 1s/step - loss: 4.0045 - val_loss: 4.3619\n",
      "Epoch 18/100\n",
      "157/157 [==============================] - 205s 1s/step - loss: 4.0900 - val_loss: 7.2495\n",
      "Epoch 19/100\n",
      "157/157 [==============================] - 205s 1s/step - loss: 3.8237 - val_loss: 4.8602\n",
      "Epoch 20/100\n",
      "157/157 [==============================] - 205s 1s/step - loss: 4.1923 - val_loss: 4.6067\n",
      "Epoch 00020: early stopping\n"
     ]
    }
   ],
   "source": [
    "model_path=\"../../models/ConvLSTM_with_pco2_2.h5\"\n",
    "\n",
    "early_stopings = tf.keras.callbacks.EarlyStopping(monitor='val_loss', min_delta=0, patience=6, verbose=1, mode='min')\n",
    "checkpoint =  tf.keras.callbacks.ModelCheckpoint(model_path, monitor='val_loss', save_best_only=True, mode='min', verbose=0)\n",
    "callbacks=[early_stopings,checkpoint]\n",
    "\n",
    "epochs = 100\n",
    "batch_size = 8\n",
    "\n",
    "# Fit the model to the training data.\n",
    "hist = model.fit(\n",
    "    X_all_conv,\n",
    "    y_all_conv,\n",
    "    batch_size=batch_size,\n",
    "    epochs=epochs,\n",
    "    validation_data=(X_all_conv,y_all_conv),\n",
    "    callbacks=callbacks,\n",
    ")"
   ]
  },
  {
   "cell_type": "code",
   "execution_count": 11,
   "id": "b9f52c67-4db3-4db4-b93e-83d1918f894a",
   "metadata": {},
   "outputs": [],
   "source": [
    "# the masking continents for continent works better for pretrained model"
   ]
  },
  {
   "cell_type": "markdown",
   "id": "2f6dff83-93b2-4212-af75-cf151bcc458d",
   "metadata": {},
   "source": [
    "## transfer learning on MPI\n"
   ]
  },
  {
   "cell_type": "code",
   "execution_count": 12,
   "id": "8fdbcd12-a840-42d8-b1bc-3e414f01d569",
   "metadata": {},
   "outputs": [],
   "source": [
    "# CNN on MPI\n",
    "cnn_model_path=\"../../models/base_model/u_net_dist.h5\"\n",
    "cnn_model = tf.keras.models.load_model(cnn_model_path, custom_objects={'custom_rmse':custom_rmse})\n",
    "\n",
    "mpi_data_path = \"../../data/mpi_001\"\n",
    "\n",
    "\n",
    "def read_xarray_mpi(dir_name=\"\",num=\"006\"):\n",
    "    '''\n",
    "     read_xarray(dir)name) opens data and returns data in xarray format for each feature mpi\n",
    "    '''\n",
    "    date=\"198201-201701\"\n",
    "  \n",
    "    file_type =\"MPI\"\n",
    "        \n",
    "    chl = xr.open_dataset(f'{dir_name}/Chl_2D_mon_{file_type}{num}_1x1_{date}.nc')\n",
    "\n",
    "    mld = xr.open_dataset(f'{dir_name}/MLD_2D_mon_{file_type}{num}_1x1_{date}.nc')\n",
    "\n",
    "    sss = xr.open_dataset(f'{dir_name}/SSS_2D_mon_{file_type}{num}_1x1_{date}.nc')\n",
    "\n",
    "    sst = xr.open_dataset(f'{dir_name}/SST_2D_mon_{file_type}{num}_1x1_{date}.nc')\n",
    "\n",
    "    xco2 = xr.open_dataset(f'../../data/member_001/XCO2_1D_mon_CESM001_native_198201-201701.nc')\n",
    "\n",
    "    pco2 = xr.open_dataset(f'{dir_name}/pCO2_2D_mon_{file_type}{num}_1x1_{date}.nc')\n",
    "\n",
    "    return chl,mld,sss,sst,xco2,pco2\n",
    "\n",
    "\n",
    "chl,mld,sss,sst,xco2,pco2 = read_xarray_mpi(mpi_data_path)\n",
    "chl_images = preprocess_image_reduced(chl.Chl.data)\n",
    "sss_images = preprocess_image_reduced(sss.SSS.data)\n",
    "sst_images = preprocess_image_reduced(sst.SST.data)\n",
    "mld_images = preprocess_image_reduced(mld.MLD.data)\n",
    "xco2_images = preprocess_image_reduced(xco2.XCO2.data,xco2=True)\n",
    "\n",
    "def pco2_socat_preprocess(arr):\n",
    "    nans=np.isnan(arr)\n",
    "    min_val=arr[~nans].min()\n",
    "    arr[nans]=min_val\n",
    "    return arr\n",
    "        \n",
    "pco2_socat_images = pco2_socat_preprocess(pco2.pCO2_socat.data)\n",
    "\n",
    "dist_map = preprocess_image_reduced(dist_map)\n",
    "    \n",
    "X_tf = np.dstack((chl_images, dist_map, sss_images, sst_images, xco2_images))\n",
    "y_tf = pco2_socat_images\n",
    "X_tf = X_tf.reshape((421,180,360,5),order='F')\n",
    "# penalize smaller variance\n"
   ]
  },
  {
   "cell_type": "code",
   "execution_count": 38,
   "id": "2aad1a70-d538-4bda-9d2c-1fcb10b5585c",
   "metadata": {},
   "outputs": [
    {
     "data": {
      "text/plain": [
       "(0.0, 710.2517700195312)"
      ]
     },
     "execution_count": 38,
     "metadata": {},
     "output_type": "execute_result"
    }
   ],
   "source": [
    "np.min(pco2_socat_images), np.max(pco2_socat_images)"
   ]
  },
  {
   "cell_type": "code",
   "execution_count": 39,
   "id": "d71fd42e-7c8c-4988-bc90-13a6a45f5e39",
   "metadata": {},
   "outputs": [
    {
     "data": {
      "text/plain": [
       "<tf.Tensor: shape=(), dtype=float32, numpy=64.42476>"
      ]
     },
     "execution_count": 39,
     "metadata": {},
     "output_type": "execute_result"
    }
   ],
   "source": [
    "# without tf performance\n",
    "y_tf=cnn_model.predict(X_tf)\n",
    "y_true,y_pred=inverse_scale_image(y_tf,pco2.pCO2.data)\n",
    "custom_rmse(y_true,y_pred)\n"
   ]
  },
  {
   "cell_type": "code",
   "execution_count": 46,
   "id": "553009d6-f11b-4b33-bb85-6c54bc7472a5",
   "metadata": {},
   "outputs": [
    {
     "name": "stdout",
     "output_type": "stream",
     "text": [
      "Model: \"sequential\"\n",
      "_________________________________________________________________\n",
      "Layer (type)                 Output Shape              Param #   \n",
      "=================================================================\n",
      "conv2d (Conv2D)              (None, 180, 360, 32)      4032      \n",
      "_________________________________________________________________\n",
      "conv2d_1 (Conv2D)            (None, 180, 360, 32)      25632     \n",
      "_________________________________________________________________\n",
      "max_pooling2d (MaxPooling2D) (None, 60, 120, 32)       0         \n",
      "_________________________________________________________________\n",
      "dropout (Dropout)            (None, 60, 120, 32)       0         \n",
      "_________________________________________________________________\n",
      "conv2d_2 (Conv2D)            (None, 60, 120, 64)       51264     \n",
      "_________________________________________________________________\n",
      "conv2d_3 (Conv2D)            (None, 60, 120, 64)       102464    \n",
      "_________________________________________________________________\n",
      "max_pooling2d_1 (MaxPooling2 (None, 20, 40, 64)        0         \n",
      "_________________________________________________________________\n",
      "dropout_1 (Dropout)          (None, 20, 40, 64)        0         \n",
      "_________________________________________________________________\n",
      "conv2d_4 (Conv2D)            (None, 20, 40, 128)       204928    \n",
      "_________________________________________________________________\n",
      "conv2d_5 (Conv2D)            (None, 20, 40, 128)       409728    \n",
      "_________________________________________________________________\n",
      "up_sampling2d (UpSampling2D) (None, 60, 120, 128)      0         \n",
      "_________________________________________________________________\n",
      "conv2d_6 (Conv2D)            (None, 60, 120, 64)       204864    \n",
      "_________________________________________________________________\n",
      "conv2d_7 (Conv2D)            (None, 60, 120, 64)       102464    \n",
      "_________________________________________________________________\n",
      "dropout_2 (Dropout)          (None, 60, 120, 64)       0         \n",
      "_________________________________________________________________\n",
      "up_sampling2d_1 (UpSampling2 (None, 180, 360, 64)      0         \n",
      "_________________________________________________________________\n",
      "conv2d_8 (Conv2D)            (None, 180, 360, 32)      51232     \n",
      "_________________________________________________________________\n",
      "conv2d_9 (Conv2D)            (None, 180, 360, 2)       1602      \n",
      "_________________________________________________________________\n",
      "conv2d_10 (Conv2D)           (None, 180, 360, 1)       3         \n",
      "_________________________________________________________________\n",
      "reshape (Reshape)            (None, 180, 360)          0         \n",
      "=================================================================\n",
      "Total params: 1,158,213\n",
      "Trainable params: 52,837\n",
      "Non-trainable params: 1,105,376\n",
      "_________________________________________________________________\n"
     ]
    }
   ],
   "source": [
    "# transfer learning\n",
    "for layer in cnn_model.layers[:-4]:\n",
    "    layer.trainable = False\n",
    "\n",
    "cnn_model.summary()"
   ]
  },
  {
   "cell_type": "code",
   "execution_count": 48,
   "id": "3cb75579-8aed-4093-bbb3-2ebedf2d4b2f",
   "metadata": {},
   "outputs": [
    {
     "name": "stdout",
     "output_type": "stream",
     "text": [
      "Epoch 1/200\n",
      "7/7 [==============================] - 4s 517ms/step - loss: 196.8509 - val_loss: 157.7825\n",
      "Epoch 2/200\n",
      "7/7 [==============================] - 3s 493ms/step - loss: 140.0644 - val_loss: 128.4747\n",
      "Epoch 3/200\n",
      "7/7 [==============================] - 3s 495ms/step - loss: 107.5605 - val_loss: 83.6558\n",
      "Epoch 4/200\n",
      "7/7 [==============================] - 3s 495ms/step - loss: 71.7426 - val_loss: 56.5183\n",
      "Epoch 5/200\n",
      "7/7 [==============================] - 3s 493ms/step - loss: 56.2329 - val_loss: 50.6332\n",
      "Epoch 6/200\n",
      "7/7 [==============================] - 3s 494ms/step - loss: 51.2099 - val_loss: 44.0104\n",
      "Epoch 7/200\n",
      "7/7 [==============================] - 3s 494ms/step - loss: 46.4189 - val_loss: 41.1047\n",
      "Epoch 8/200\n",
      "7/7 [==============================] - 3s 492ms/step - loss: 42.4774 - val_loss: 37.5489\n",
      "Epoch 9/200\n",
      "7/7 [==============================] - 3s 496ms/step - loss: 40.9518 - val_loss: 34.9352\n",
      "Epoch 10/200\n",
      "7/7 [==============================] - 3s 494ms/step - loss: 39.2081 - val_loss: 33.7256\n",
      "Epoch 11/200\n",
      "7/7 [==============================] - 3s 497ms/step - loss: 37.3288 - val_loss: 33.0264\n",
      "Epoch 12/200\n",
      "7/7 [==============================] - 3s 497ms/step - loss: 35.9544 - val_loss: 32.2359\n",
      "Epoch 13/200\n",
      "7/7 [==============================] - 3s 496ms/step - loss: 35.3282 - val_loss: 31.5062\n",
      "Epoch 14/200\n",
      "7/7 [==============================] - 3s 496ms/step - loss: 34.7300 - val_loss: 31.1293\n",
      "Epoch 15/200\n",
      "7/7 [==============================] - 3s 498ms/step - loss: 34.6722 - val_loss: 31.0952\n",
      "Epoch 16/200\n",
      "7/7 [==============================] - 3s 496ms/step - loss: 33.6402 - val_loss: 30.6435\n",
      "Epoch 17/200\n",
      "7/7 [==============================] - 3s 500ms/step - loss: 33.7783 - val_loss: 30.3163\n",
      "Epoch 18/200\n",
      "7/7 [==============================] - 3s 497ms/step - loss: 33.8421 - val_loss: 29.9375\n",
      "Epoch 19/200\n",
      "7/7 [==============================] - 3s 496ms/step - loss: 33.2431 - val_loss: 29.6563\n",
      "Epoch 20/200\n",
      "7/7 [==============================] - 3s 493ms/step - loss: 33.7623 - val_loss: 29.7691\n",
      "Epoch 21/200\n",
      "7/7 [==============================] - 3s 494ms/step - loss: 33.9500 - val_loss: 30.3051\n",
      "Epoch 22/200\n",
      "7/7 [==============================] - 3s 498ms/step - loss: 33.3716 - val_loss: 29.4092\n",
      "Epoch 23/200\n",
      "7/7 [==============================] - 3s 497ms/step - loss: 32.3183 - val_loss: 29.3091\n",
      "Epoch 24/200\n",
      "7/7 [==============================] - 3s 499ms/step - loss: 33.4324 - val_loss: 29.1425\n",
      "Epoch 25/200\n",
      "7/7 [==============================] - 3s 495ms/step - loss: 33.2904 - val_loss: 29.0743\n",
      "Epoch 26/200\n",
      "7/7 [==============================] - 3s 493ms/step - loss: 32.5188 - val_loss: 28.9609\n",
      "Epoch 27/200\n",
      "7/7 [==============================] - 3s 495ms/step - loss: 33.4038 - val_loss: 29.2797\n",
      "Epoch 28/200\n",
      "7/7 [==============================] - 3s 492ms/step - loss: 33.4432 - val_loss: 29.6990\n",
      "Epoch 29/200\n",
      "7/7 [==============================] - 3s 497ms/step - loss: 34.5425 - val_loss: 28.9423\n",
      "Epoch 30/200\n",
      "7/7 [==============================] - 3s 499ms/step - loss: 33.4314 - val_loss: 28.9351\n",
      "Epoch 31/200\n",
      "7/7 [==============================] - 3s 493ms/step - loss: 33.2781 - val_loss: 28.6490\n",
      "Epoch 32/200\n",
      "7/7 [==============================] - 3s 493ms/step - loss: 32.6054 - val_loss: 30.6407\n",
      "Epoch 33/200\n",
      "7/7 [==============================] - 3s 499ms/step - loss: 33.5547 - val_loss: 29.0916\n",
      "Epoch 34/200\n",
      "7/7 [==============================] - 3s 494ms/step - loss: 33.0688 - val_loss: 28.5268\n",
      "Epoch 35/200\n",
      "7/7 [==============================] - 3s 495ms/step - loss: 32.9263 - val_loss: 29.4579\n",
      "Epoch 36/200\n",
      "7/7 [==============================] - 3s 496ms/step - loss: 32.5722 - val_loss: 28.4939\n",
      "Epoch 37/200\n",
      "7/7 [==============================] - 3s 496ms/step - loss: 31.4353 - val_loss: 28.3084\n",
      "Epoch 38/200\n",
      "7/7 [==============================] - 3s 503ms/step - loss: 31.6620 - val_loss: 28.8571\n",
      "Epoch 39/200\n",
      "7/7 [==============================] - 3s 497ms/step - loss: 31.9140 - val_loss: 28.6103\n",
      "Epoch 40/200\n",
      "7/7 [==============================] - 3s 498ms/step - loss: 32.5526 - val_loss: 28.3879\n",
      "Epoch 41/200\n",
      "7/7 [==============================] - 3s 494ms/step - loss: 32.2017 - val_loss: 28.9197\n",
      "Epoch 42/200\n",
      "7/7 [==============================] - 3s 496ms/step - loss: 31.6920 - val_loss: 28.1662\n",
      "Epoch 43/200\n",
      "7/7 [==============================] - 3s 493ms/step - loss: 31.3001 - val_loss: 28.0981\n",
      "Epoch 44/200\n",
      "7/7 [==============================] - 3s 494ms/step - loss: 32.8300 - val_loss: 28.1069\n",
      "Epoch 45/200\n",
      "7/7 [==============================] - 3s 500ms/step - loss: 32.4573 - val_loss: 27.8907\n",
      "Epoch 46/200\n",
      "7/7 [==============================] - 3s 522ms/step - loss: 31.2204 - val_loss: 28.1440\n",
      "Epoch 47/200\n",
      "7/7 [==============================] - 3s 497ms/step - loss: 31.1616 - val_loss: 27.7177\n",
      "Epoch 48/200\n",
      "7/7 [==============================] - 3s 498ms/step - loss: 31.2350 - val_loss: 27.9603\n",
      "Epoch 49/200\n",
      "7/7 [==============================] - 3s 498ms/step - loss: 31.0761 - val_loss: 27.7274\n",
      "Epoch 50/200\n",
      "7/7 [==============================] - 3s 493ms/step - loss: 31.6732 - val_loss: 28.0874\n",
      "Epoch 51/200\n",
      "7/7 [==============================] - 3s 494ms/step - loss: 32.7054 - val_loss: 27.7463\n",
      "Epoch 52/200\n",
      "7/7 [==============================] - 3s 496ms/step - loss: 31.2218 - val_loss: 27.4438\n",
      "Epoch 53/200\n",
      "7/7 [==============================] - 3s 501ms/step - loss: 30.9701 - val_loss: 27.8195\n",
      "Epoch 54/200\n",
      "7/7 [==============================] - 3s 521ms/step - loss: 31.0382 - val_loss: 27.4028\n",
      "Epoch 55/200\n",
      "7/7 [==============================] - 3s 493ms/step - loss: 31.2587 - val_loss: 28.8274\n",
      "Epoch 56/200\n",
      "7/7 [==============================] - 3s 496ms/step - loss: 31.5153 - val_loss: 27.3934\n",
      "Epoch 57/200\n",
      "7/7 [==============================] - 3s 495ms/step - loss: 30.6001 - val_loss: 27.3188\n",
      "Epoch 58/200\n",
      "7/7 [==============================] - 3s 494ms/step - loss: 31.0415 - val_loss: 27.3146\n",
      "Epoch 59/200\n",
      "7/7 [==============================] - 3s 496ms/step - loss: 30.8814 - val_loss: 27.6590\n",
      "Epoch 60/200\n",
      "7/7 [==============================] - 3s 496ms/step - loss: 30.7507 - val_loss: 28.2794\n",
      "Epoch 61/200\n",
      "7/7 [==============================] - 3s 504ms/step - loss: 30.7467 - val_loss: 27.1572\n",
      "Epoch 62/200\n",
      "7/7 [==============================] - 3s 523ms/step - loss: 30.6793 - val_loss: 27.2510\n",
      "Epoch 63/200\n",
      "7/7 [==============================] - 3s 497ms/step - loss: 30.5993 - val_loss: 27.2083\n",
      "Epoch 64/200\n",
      "7/7 [==============================] - 3s 499ms/step - loss: 30.6990 - val_loss: 27.7551\n",
      "Epoch 65/200\n",
      "7/7 [==============================] - 3s 494ms/step - loss: 31.5371 - val_loss: 27.9494\n",
      "Epoch 66/200\n",
      "7/7 [==============================] - 3s 495ms/step - loss: 31.6758 - val_loss: 29.6247\n",
      "Epoch 67/200\n",
      "7/7 [==============================] - 3s 494ms/step - loss: 32.7769 - val_loss: 27.9406\n",
      "Epoch 68/200\n",
      "7/7 [==============================] - 3s 499ms/step - loss: 31.7829 - val_loss: 29.0281\n",
      "Epoch 69/200\n",
      "7/7 [==============================] - 3s 502ms/step - loss: 31.9717 - val_loss: 28.6791\n",
      "Epoch 70/200\n",
      "7/7 [==============================] - 3s 527ms/step - loss: 31.1265 - val_loss: 29.5643\n",
      "Epoch 71/200\n",
      "7/7 [==============================] - 3s 498ms/step - loss: 33.2778 - val_loss: 26.9856\n",
      "Epoch 72/200\n",
      "7/7 [==============================] - 3s 496ms/step - loss: 31.0612 - val_loss: 27.6768\n",
      "Epoch 73/200\n",
      "7/7 [==============================] - 3s 494ms/step - loss: 30.5380 - val_loss: 26.9487\n",
      "Epoch 74/200\n",
      "7/7 [==============================] - 3s 498ms/step - loss: 30.6051 - val_loss: 27.0355\n",
      "Epoch 75/200\n",
      "7/7 [==============================] - 3s 493ms/step - loss: 29.9318 - val_loss: 27.0002\n",
      "Epoch 76/200\n",
      "7/7 [==============================] - 3s 496ms/step - loss: 30.5746 - val_loss: 26.8622\n",
      "Epoch 77/200\n",
      "7/7 [==============================] - 3s 504ms/step - loss: 30.6773 - val_loss: 28.8639\n",
      "Epoch 78/200\n",
      "7/7 [==============================] - 3s 525ms/step - loss: 31.1398 - val_loss: 26.7680\n",
      "Epoch 79/200\n",
      "7/7 [==============================] - 3s 495ms/step - loss: 30.6286 - val_loss: 26.9069\n",
      "Epoch 80/200\n",
      "7/7 [==============================] - 3s 495ms/step - loss: 29.9942 - val_loss: 26.7855\n",
      "Epoch 81/200\n",
      "7/7 [==============================] - 3s 498ms/step - loss: 30.1256 - val_loss: 27.8729\n",
      "Epoch 82/200\n",
      "7/7 [==============================] - 3s 495ms/step - loss: 30.6210 - val_loss: 26.8717\n",
      "Epoch 83/200\n",
      "7/7 [==============================] - 3s 495ms/step - loss: 30.5383 - val_loss: 26.7368\n",
      "Epoch 84/200\n",
      "7/7 [==============================] - 3s 494ms/step - loss: 31.8422 - val_loss: 26.7307\n",
      "Epoch 85/200\n",
      "7/7 [==============================] - 3s 503ms/step - loss: 30.6294 - val_loss: 26.9532\n",
      "Epoch 86/200\n",
      "7/7 [==============================] - 3s 527ms/step - loss: 31.2132 - val_loss: 27.6865\n",
      "Epoch 87/200\n",
      "7/7 [==============================] - 3s 501ms/step - loss: 30.5084 - val_loss: 26.6229\n",
      "Epoch 88/200\n",
      "7/7 [==============================] - 3s 495ms/step - loss: 30.6272 - val_loss: 26.9971\n",
      "Epoch 89/200\n",
      "7/7 [==============================] - 3s 494ms/step - loss: 30.0942 - val_loss: 26.9683\n",
      "Epoch 90/200\n",
      "7/7 [==============================] - 3s 496ms/step - loss: 29.7514 - val_loss: 27.0298\n",
      "Epoch 91/200\n",
      "7/7 [==============================] - 3s 495ms/step - loss: 29.9649 - val_loss: 26.7086\n",
      "Epoch 92/200\n",
      "7/7 [==============================] - 3s 493ms/step - loss: 30.0293 - val_loss: 26.6100\n",
      "Epoch 93/200\n",
      "7/7 [==============================] - 3s 504ms/step - loss: 30.1463 - val_loss: 27.1559\n",
      "Epoch 94/200\n",
      "7/7 [==============================] - 3s 529ms/step - loss: 29.7708 - val_loss: 27.0134\n",
      "Epoch 95/200\n",
      "7/7 [==============================] - 3s 493ms/step - loss: 30.6143 - val_loss: 26.7195\n",
      "Epoch 96/200\n",
      "7/7 [==============================] - 3s 494ms/step - loss: 29.5560 - val_loss: 26.6495\n",
      "Epoch 97/200\n",
      "7/7 [==============================] - 3s 496ms/step - loss: 29.1192 - val_loss: 27.1312\n",
      "Epoch 98/200\n",
      "7/7 [==============================] - 3s 498ms/step - loss: 30.4427 - val_loss: 26.5286\n",
      "Epoch 99/200\n",
      "7/7 [==============================] - 3s 495ms/step - loss: 29.7478 - val_loss: 26.6943\n",
      "Epoch 100/200\n",
      "7/7 [==============================] - 3s 495ms/step - loss: 30.6782 - val_loss: 26.5899\n",
      "Epoch 101/200\n",
      "7/7 [==============================] - 3s 506ms/step - loss: 29.9663 - val_loss: 26.7418\n",
      "Epoch 102/200\n",
      "7/7 [==============================] - 3s 524ms/step - loss: 30.2442 - val_loss: 27.0192\n",
      "Epoch 103/200\n",
      "7/7 [==============================] - 3s 496ms/step - loss: 30.2580 - val_loss: 26.5874\n",
      "Epoch 104/200\n",
      "7/7 [==============================] - 3s 494ms/step - loss: 30.3225 - val_loss: 27.3065\n",
      "Epoch 105/200\n",
      "7/7 [==============================] - 3s 494ms/step - loss: 30.6883 - val_loss: 26.8428\n",
      "Epoch 106/200\n",
      "7/7 [==============================] - 3s 494ms/step - loss: 30.5683 - val_loss: 26.5243\n",
      "Epoch 107/200\n",
      "7/7 [==============================] - 3s 495ms/step - loss: 29.4244 - val_loss: 26.7454\n",
      "Epoch 108/200\n",
      "7/7 [==============================] - 3s 496ms/step - loss: 30.3685 - val_loss: 26.3866\n",
      "Epoch 109/200\n",
      "7/7 [==============================] - 3s 506ms/step - loss: 29.8527 - val_loss: 27.5422\n",
      "Epoch 110/200\n",
      "7/7 [==============================] - 3s 525ms/step - loss: 31.1077 - val_loss: 26.5677\n",
      "Epoch 111/200\n",
      "7/7 [==============================] - 3s 494ms/step - loss: 30.7930 - val_loss: 27.4951\n",
      "Epoch 112/200\n",
      "7/7 [==============================] - 3s 496ms/step - loss: 29.7612 - val_loss: 27.1035\n",
      "Epoch 113/200\n",
      "7/7 [==============================] - 3s 493ms/step - loss: 30.3947 - val_loss: 26.6436\n",
      "Epoch 114/200\n",
      "7/7 [==============================] - 3s 495ms/step - loss: 30.0832 - val_loss: 26.3343\n",
      "Epoch 115/200\n",
      "7/7 [==============================] - 3s 493ms/step - loss: 29.8819 - val_loss: 26.5021\n",
      "Epoch 116/200\n",
      "7/7 [==============================] - 3s 496ms/step - loss: 29.9650 - val_loss: 27.2402\n",
      "Epoch 117/200\n",
      "7/7 [==============================] - 3s 504ms/step - loss: 29.7487 - val_loss: 26.5397\n",
      "Epoch 118/200\n",
      "7/7 [==============================] - 3s 522ms/step - loss: 30.2211 - val_loss: 26.4932\n",
      "Epoch 119/200\n",
      "7/7 [==============================] - 3s 497ms/step - loss: 30.0423 - val_loss: 26.6637\n",
      "Epoch 120/200\n",
      "7/7 [==============================] - 3s 496ms/step - loss: 29.7848 - val_loss: 26.2907\n",
      "Epoch 121/200\n",
      "7/7 [==============================] - 3s 496ms/step - loss: 29.6176 - val_loss: 26.5100\n",
      "Epoch 122/200\n",
      "7/7 [==============================] - 3s 495ms/step - loss: 29.3711 - val_loss: 26.3970\n",
      "Epoch 123/200\n",
      "7/7 [==============================] - 3s 496ms/step - loss: 29.5377 - val_loss: 26.3421\n",
      "Epoch 124/200\n",
      "7/7 [==============================] - 3s 494ms/step - loss: 29.8055 - val_loss: 27.3008\n",
      "Epoch 125/200\n",
      "7/7 [==============================] - 3s 506ms/step - loss: 30.3852 - val_loss: 26.4828\n",
      "Epoch 126/200\n",
      "7/7 [==============================] - 3s 524ms/step - loss: 29.9628 - val_loss: 26.7850\n",
      "Epoch 127/200\n",
      "7/7 [==============================] - 3s 496ms/step - loss: 30.0114 - val_loss: 26.3571\n",
      "Epoch 128/200\n",
      "7/7 [==============================] - 3s 496ms/step - loss: 29.2562 - val_loss: 26.3723\n",
      "Epoch 129/200\n",
      "7/7 [==============================] - 3s 499ms/step - loss: 29.8322 - val_loss: 26.2765\n",
      "Epoch 130/200\n",
      "7/7 [==============================] - 3s 500ms/step - loss: 29.7381 - val_loss: 26.5985\n",
      "Epoch 131/200\n",
      "7/7 [==============================] - 3s 493ms/step - loss: 29.5650 - val_loss: 26.3017\n",
      "Epoch 132/200\n",
      "7/7 [==============================] - 3s 495ms/step - loss: 29.5869 - val_loss: 26.9862\n",
      "Epoch 133/200\n",
      "7/7 [==============================] - 3s 504ms/step - loss: 30.0956 - val_loss: 26.5900\n",
      "Epoch 134/200\n",
      "7/7 [==============================] - 3s 525ms/step - loss: 30.6625 - val_loss: 26.2451\n",
      "Epoch 135/200\n",
      "7/7 [==============================] - 3s 496ms/step - loss: 29.6373 - val_loss: 26.8855\n",
      "Epoch 136/200\n",
      "7/7 [==============================] - 3s 497ms/step - loss: 30.0079 - val_loss: 26.3067\n",
      "Epoch 137/200\n",
      "7/7 [==============================] - 3s 495ms/step - loss: 30.2785 - val_loss: 26.1616\n",
      "Epoch 138/200\n",
      "7/7 [==============================] - 3s 495ms/step - loss: 29.2764 - val_loss: 27.2460\n",
      "Epoch 139/200\n",
      "7/7 [==============================] - 3s 494ms/step - loss: 29.8142 - val_loss: 26.8335\n",
      "Epoch 140/200\n",
      "7/7 [==============================] - 3s 493ms/step - loss: 30.1443 - val_loss: 26.4098\n",
      "Epoch 141/200\n",
      "7/7 [==============================] - 3s 508ms/step - loss: 29.5074 - val_loss: 26.5452\n",
      "Epoch 142/200\n",
      "7/7 [==============================] - 3s 531ms/step - loss: 29.2081 - val_loss: 26.2479\n",
      "Epoch 143/200\n",
      "7/7 [==============================] - 3s 497ms/step - loss: 28.9538 - val_loss: 26.4764\n",
      "Epoch 144/200\n",
      "7/7 [==============================] - 3s 493ms/step - loss: 29.9669 - val_loss: 26.1963\n",
      "Epoch 145/200\n",
      "7/7 [==============================] - 3s 498ms/step - loss: 29.6459 - val_loss: 26.2229\n",
      "Epoch 146/200\n",
      "7/7 [==============================] - 3s 494ms/step - loss: 29.4634 - val_loss: 26.8109\n",
      "Epoch 147/200\n",
      "7/7 [==============================] - 3s 495ms/step - loss: 29.6217 - val_loss: 26.3371\n",
      "Epoch 00147: early stopping\n"
     ]
    }
   ],
   "source": [
    "from tensorflow.keras import backend as K\n",
    "\n",
    "tf.keras.backend.clear_session()\n",
    "\n",
    "\n",
    "def custom_rmse2(y_true, y_pred):\n",
    "    \"\"\"\n",
    "    custom_rmse(y_true, y_pred)\n",
    "    calculates root square mean value with focusing only on the ocean\n",
    "    + difference between sss\n",
    "    \"\"\"\n",
    "    idx  = tf.not_equal(y_true, 0.0)\n",
    "    idx2  = tf.equal(y_true, 0.0)\n",
    "    \n",
    "    y_pred1 = tf.boolean_mask(y_pred,idx)\n",
    "    y_true1 = tf.boolean_mask(y_true,idx)\n",
    "    y_true1 = tf.cast(y_true1, y_pred.dtype)\n",
    "    \n",
    "    rmse1 = K.sqrt(K.mean(tf.math.squared_difference(y_pred1, y_true1),axis= -1))\n",
    "    \n",
    "    #y_pred2 = tf.boolean_mask(y_pred,idx2)\n",
    "    #loss2 = 10*(K.var(y_true1)/K.var(y_pred2))\n",
    "    #loss2 = tf.cast(loss2, y_pred.dtype)\n",
    "    \n",
    "    return rmse1\n",
    "\n",
    "\n",
    "myLearnRate=0.001\n",
    "\n",
    "cnn_model.compile(\n",
    "    loss=custom_rmse2, optimizer=keras.optimizers.Adam(learning_rate=myLearnRate),\n",
    ")\n",
    "\n",
    "model_path=\"../../models/transfer_CNN.h5\"\n",
    "\n",
    "early_stopings = tf.keras.callbacks.EarlyStopping(monitor='val_loss', min_delta=0, patience=10, verbose=1, mode='min')\n",
    "checkpoint =  tf.keras.callbacks.ModelCheckpoint(model_path, monitor='val_loss', save_best_only=True, mode='min', verbose=0)\n",
    "callbacks=[early_stopings,checkpoint]\n",
    "\n",
    "history = cnn_model.fit(X_tf,y_tf, epochs=200, \n",
    "                         validation_data=(X_tf,y_tf),\n",
    "                         workers=-1,batch_size=64,\n",
    "                         callbacks=callbacks)"
   ]
  },
  {
   "cell_type": "code",
   "execution_count": null,
   "id": "95ac28df-2f4b-4fa9-8cbf-30ddb0166f40",
   "metadata": {},
   "outputs": [],
   "source": [
    "# myLearnRate=0.0005\n",
    "# tf.keras.backend.clear_session()\n",
    "\n",
    "# cnn_model.compile(\n",
    "#     loss=custom_rmse, optimizer=keras.optimizers.Adam(learning_rate=myLearnRate),\n",
    "# )\n",
    "\n",
    "# model_path=\"../../models/transfer_CNN_2.h5\"\n",
    "\n",
    "# early_stopings = tf.keras.callbacks.EarlyStopping(monitor='val_loss', min_delta=0, patience=10, verbose=1, mode='min')\n",
    "# checkpoint =  tf.keras.callbacks.ModelCheckpoint(model_path, monitor='val_loss', save_best_only=True, mode='min', verbose=0)\n",
    "# callbacks=[early_stopings,checkpoint]\n",
    "\n",
    "# history2 = cnn_model.fit(X_tf,y_tf, epochs=200, \n",
    "#                          validation_data=(X_tf,y_tf),\n",
    "#                          workers=-1,batch_size=32,\n",
    "#                          callbacks=callbacks)"
   ]
  },
  {
   "cell_type": "code",
   "execution_count": 13,
   "id": "d15c0c89-379a-4421-8e5f-e9e689ab797c",
   "metadata": {},
   "outputs": [
    {
     "name": "stdout",
     "output_type": "stream",
     "text": [
      "14/14 [==============================] - 4s 227ms/step\n"
     ]
    }
   ],
   "source": [
    "#cnn_model = tf.keras.models.load_model('../../models/transfer_CNN_2.h5', custom_objects={'custom_rmse':custom_rmse})\n",
    "cnn_model = tf.keras.models.load_model('../../models/transfer_CNN.h5', custom_objects={'custom_rmse2':custom_rmse2})\n",
    "\n",
    "\n",
    "predicted_image = cnn_model.predict(X_tf,verbose=1)\n",
    "\n",
    "chl,mld,sss,sst,xco2,pco2 = read_xarray_mpi(mpi_data_path)\n",
    "coord = np.isnan(pco2.pCO2.data)\n",
    "# previous frame with continent masked or not masked?\n",
    "#predicted_image[coord] = 0\n",
    "\n",
    "full_truth = pco2.pCO2.data\n",
    "full_truth[coord] = 0"
   ]
  },
  {
   "cell_type": "code",
   "execution_count": 14,
   "id": "d62f0032-0d1b-4116-a071-e07b0b92794e",
   "metadata": {},
   "outputs": [
    {
     "data": {
      "text/plain": [
       "<matplotlib.image.AxesImage at 0x1554c40cd130>"
      ]
     },
     "execution_count": 14,
     "metadata": {},
     "output_type": "execute_result"
    },
    {
     "data": {
      "image/png": "[encoded data removed]",
      "text/plain": [
       "<Figure size 432x288 with 1 Axes>"
      ]
     },
     "metadata": {
      "needs_background": "light"
     },
     "output_type": "display_data"
    }
   ],
   "source": [
    "plt.imshow(np.flipud(predicted_image[0]),cmap=\"coolwarm\")"
   ]
  },
  {
   "cell_type": "code",
   "execution_count": null,
   "id": "513ce36d-af94-4ca8-b132-5340b050a913",
   "metadata": {},
   "outputs": [],
   "source": [
    "custom_rmse(predicted_image,full_truth)"
   ]
  },
  {
   "cell_type": "code",
   "execution_count": 15,
   "id": "50f90094-5d63-43a3-99d6-84d9ff58dc67",
   "metadata": {},
   "outputs": [],
   "source": [
    "X_index=np.lib.stride_tricks.sliding_window_view(range(421),3)\n",
    "X = np.dstack((chl_images, dist_map, sss_images, sst_images, xco2_images,predicted_image))\n",
    "X = X.reshape((421,180,360,6),order='F')\n",
    "X = X[X_index][:-1]\n",
    "\n",
    "y_tf=np.expand_dims(y_tf[X_index][1:],axis=4)"
   ]
  },
  {
   "cell_type": "code",
   "execution_count": 10,
   "id": "99f7de44-f8a7-4876-8cf3-0c787f45aba7",
   "metadata": {},
   "outputs": [
    {
     "data": {
      "text/plain": [
       "((418, 3, 180, 360, 6), (418, 3, 180, 360, 1))"
      ]
     },
     "execution_count": 10,
     "metadata": {},
     "output_type": "execute_result"
    }
   ],
   "source": [
    "X.shape, y_tf.shape # changed sliding"
   ]
  },
  {
   "cell_type": "code",
   "execution_count": 16,
   "id": "467c3bc6-bd4c-44be-8e9d-b2aac3726c08",
   "metadata": {},
   "outputs": [],
   "source": [
    "tf.keras.backend.clear_session()\n",
    "\n",
    "convlstm_model_path = \"../../models/ConvLSTM_with_pco2_2.h5\"\n",
    "convlstm_model = tf.keras.models.load_model(convlstm_model_path, custom_objects={'custom_rmse':custom_rmse})\n"
   ]
  },
  {
   "cell_type": "code",
   "execution_count": 17,
   "id": "deafc284-f24c-48f8-ae9e-b372e4732f50",
   "metadata": {},
   "outputs": [
    {
     "name": "stdout",
     "output_type": "stream",
     "text": [
      "14/14 [==============================] - 16s 1s/step\n",
      "ConvLSTM Full RMSE score w/o finetuning:\n",
      "tf.Tensor(99.70362, shape=(), dtype=float32)\n"
     ]
    }
   ],
   "source": [
    "chl,mld,sss,sst,xco2,pco2t2 = read_xarray_mpi(mpi_data_path)\n",
    "\n",
    "\n",
    "tmp = np.nan_to_num(pco2t2.pCO2.data[X_index][1:])\n",
    "y_true_full = np.expand_dims(tmp,axis=4)\n",
    "y_true_full.shape\n",
    "\n",
    "coord = (y_true_full==0.0)\n",
    "\n",
    "predicted_frames= convlstm_model.predict(X,verbose=1)\n",
    "predicted_frames[coord] = 0\n",
    "\n",
    "print(\"ConvLSTM Full RMSE score w/o finetuning:\")\n",
    "a=custom_rmse(predicted_frames[:,1:2],y_true_full[:,1:2])\n",
    "print(a)"
   ]
  },
  {
   "cell_type": "code",
   "execution_count": 18,
   "id": "55efd202-8c9c-4ff9-b4b1-960490c1a962",
   "metadata": {},
   "outputs": [
    {
     "name": "stdout",
     "output_type": "stream",
     "text": [
      "Model: \"sequential\"\n",
      "_________________________________________________________________\n",
      "Layer (type)                 Output Shape              Param #   \n",
      "=================================================================\n",
      "conv_lst_m2d (ConvLSTM2D)    (None, 3, 180, 360, 32)   121728    \n",
      "_________________________________________________________________\n",
      "batch_normalization (BatchNo (None, 3, 180, 360, 32)   128       \n",
      "_________________________________________________________________\n",
      "conv_lst_m2d_1 (ConvLSTM2D)  (None, 3, 180, 360, 32)   204928    \n",
      "_________________________________________________________________\n",
      "batch_normalization_1 (Batch (None, 3, 180, 360, 32)   128       \n",
      "_________________________________________________________________\n",
      "conv_lst_m2d_2 (ConvLSTM2D)  (None, 3, 180, 360, 32)   73856     \n",
      "_________________________________________________________________\n",
      "batch_normalization_2 (Batch (None, 3, 180, 360, 32)   128       \n",
      "_________________________________________________________________\n",
      "conv_lst_m2d_3 (ConvLSTM2D)  (None, 3, 180, 360, 32)   8320      \n",
      "_________________________________________________________________\n",
      "conv3d (Conv3D)              (None, 3, 180, 360, 1)    865       \n",
      "=================================================================\n",
      "Total params: 410,081\n",
      "Trainable params: 9,185\n",
      "Non-trainable params: 400,896\n",
      "_________________________________________________________________\n"
     ]
    }
   ],
   "source": [
    "for layer in convlstm_model.layers[:-2]:\n",
    "    layer.trainable = False\n",
    "\n",
    "    # -3 96uatm\n",
    "convlstm_model.summary()"
   ]
  },
  {
   "cell_type": "code",
   "execution_count": 19,
   "id": "36adbb2d-b7cf-4b4e-912c-a926d9280859",
   "metadata": {},
   "outputs": [],
   "source": [
    "convlstm_model.compile(\n",
    "    loss=custom_rmse, optimizer=keras.optimizers.Adam(learning_rate=1e-3),\n",
    ")\n",
    "\n",
    "model_path=\"../../models/transfer_CNN_LSTM.h5\"\n",
    "\n",
    "early_stopings = tf.keras.callbacks.EarlyStopping(monitor='val_loss', min_delta=0, patience=5, verbose=1, mode='min')\n",
    "checkpoint =  tf.keras.callbacks.ModelCheckpoint(model_path, monitor='val_loss', save_best_only=True, mode='min', verbose=0)\n",
    "callbacks=[early_stopings,checkpoint]\n",
    "\n",
    "epochs = 50\n",
    "batch_size = 16"
   ]
  },
  {
   "cell_type": "code",
   "execution_count": 20,
   "id": "98f6b1ac-ab2f-447b-a5a4-24704af328bc",
   "metadata": {},
   "outputs": [
    {
     "name": "stdout",
     "output_type": "stream",
     "text": [
      "Epoch 1/50\n",
      "27/27 [==============================] - 48s 2s/step - loss: 82.5737 - val_loss: 36.1782\n",
      "Epoch 2/50\n",
      "27/27 [==============================] - 38s 1s/step - loss: 36.9207 - val_loss: 32.9661\n",
      "Epoch 3/50\n",
      "27/27 [==============================] - 38s 1s/step - loss: 35.0269 - val_loss: 33.0684\n",
      "Epoch 4/50\n",
      "27/27 [==============================] - 38s 1s/step - loss: 33.6780 - val_loss: 31.3121\n",
      "Epoch 5/50\n",
      "27/27 [==============================] - 38s 1s/step - loss: 32.9005 - val_loss: 31.0541\n",
      "Epoch 6/50\n",
      "27/27 [==============================] - 38s 1s/step - loss: 31.9595 - val_loss: 30.8994\n",
      "Epoch 7/50\n",
      "27/27 [==============================] - 38s 1s/step - loss: 31.5832 - val_loss: 30.5744\n",
      "Epoch 8/50\n",
      "27/27 [==============================] - 38s 1s/step - loss: 31.7169 - val_loss: 30.7374\n",
      "Epoch 9/50\n",
      "27/27 [==============================] - 38s 1s/step - loss: 31.2500 - val_loss: 29.7624\n",
      "Epoch 10/50\n",
      "27/27 [==============================] - 38s 1s/step - loss: 31.4156 - val_loss: 29.6050\n",
      "Epoch 11/50\n",
      "27/27 [==============================] - 38s 1s/step - loss: 31.3823 - val_loss: 29.6373\n",
      "Epoch 12/50\n",
      "27/27 [==============================] - 38s 1s/step - loss: 30.4541 - val_loss: 29.6284\n",
      "Epoch 13/50\n",
      "27/27 [==============================] - 38s 1s/step - loss: 30.5094 - val_loss: 29.5716\n",
      "Epoch 14/50\n",
      "27/27 [==============================] - 38s 1s/step - loss: 30.6291 - val_loss: 28.9426\n",
      "Epoch 15/50\n",
      "27/27 [==============================] - 38s 1s/step - loss: 30.4273 - val_loss: 28.8372\n",
      "Epoch 16/50\n",
      "27/27 [==============================] - 38s 1s/step - loss: 29.5984 - val_loss: 28.8193\n",
      "Epoch 17/50\n",
      "27/27 [==============================] - 38s 1s/step - loss: 29.3120 - val_loss: 28.6543\n",
      "Epoch 18/50\n",
      "27/27 [==============================] - 38s 1s/step - loss: 29.6030 - val_loss: 29.1639\n",
      "Epoch 19/50\n",
      "27/27 [==============================] - 38s 1s/step - loss: 30.0839 - val_loss: 28.6587\n",
      "Epoch 20/50\n",
      "27/27 [==============================] - 38s 1s/step - loss: 29.8387 - val_loss: 28.5648\n",
      "Epoch 21/50\n",
      "27/27 [==============================] - 38s 1s/step - loss: 29.3804 - val_loss: 29.3919\n",
      "Epoch 22/50\n",
      "27/27 [==============================] - 38s 1s/step - loss: 30.0431 - val_loss: 29.4780\n",
      "Epoch 23/50\n",
      "27/27 [==============================] - 38s 1s/step - loss: 30.1386 - val_loss: 28.7665\n",
      "Epoch 24/50\n",
      "27/27 [==============================] - 38s 1s/step - loss: 29.7108 - val_loss: 28.3100\n",
      "Epoch 25/50\n",
      "27/27 [==============================] - 38s 1s/step - loss: 29.3942 - val_loss: 28.3529\n",
      "Epoch 26/50\n",
      "27/27 [==============================] - 38s 1s/step - loss: 29.5146 - val_loss: 28.4083\n",
      "Epoch 27/50\n",
      "27/27 [==============================] - 38s 1s/step - loss: 29.1668 - val_loss: 28.0800\n",
      "Epoch 28/50\n",
      "27/27 [==============================] - 38s 1s/step - loss: 29.4858 - val_loss: 28.4839\n",
      "Epoch 29/50\n",
      "27/27 [==============================] - 38s 1s/step - loss: 29.2468 - val_loss: 28.1929\n",
      "Epoch 30/50\n",
      "27/27 [==============================] - 38s 1s/step - loss: 28.9001 - val_loss: 27.8863\n",
      "Epoch 31/50\n",
      "27/27 [==============================] - 38s 1s/step - loss: 28.8841 - val_loss: 27.9527\n",
      "Epoch 32/50\n",
      "27/27 [==============================] - 38s 1s/step - loss: 29.1447 - val_loss: 28.2434\n",
      "Epoch 33/50\n",
      "27/27 [==============================] - 38s 1s/step - loss: 28.6707 - val_loss: 27.9449\n",
      "Epoch 34/50\n",
      "27/27 [==============================] - 38s 1s/step - loss: 28.7908 - val_loss: 28.3056\n",
      "Epoch 35/50\n",
      "27/27 [==============================] - 38s 1s/step - loss: 29.5770 - val_loss: 28.9706\n",
      "Epoch 00035: early stopping\n"
     ]
    }
   ],
   "source": [
    "history = convlstm_model.fit(\n",
    "    X,\n",
    "    y_tf,\n",
    "    batch_size=batch_size,\n",
    "    epochs=epochs,\n",
    "    validation_data=(X, y_tf),\n",
    "    callbacks=callbacks,\n",
    ")"
   ]
  },
  {
   "cell_type": "code",
   "execution_count": 21,
   "id": "c4ad4782-f70c-4de7-8017-243cca9b0fcf",
   "metadata": {},
   "outputs": [],
   "source": [
    "chl,mld,sss,sst,xco2,pco2t2 = read_xarray_mpi(mpi_data_path)\n",
    "\n",
    "tmp = np.nan_to_num(pco2t2.pCO2.data[X_index][1:])\n",
    "y_true_full = np.expand_dims(tmp,axis=4)\n",
    "y_true_full.shape\n",
    "\n",
    "coord = (y_true_full==0.0)\n"
   ]
  },
  {
   "cell_type": "code",
   "execution_count": 23,
   "id": "5bf3a625-3390-4b73-8ccd-9b456c830ff3",
   "metadata": {},
   "outputs": [
    {
     "name": "stdout",
     "output_type": "stream",
     "text": [
      "14/14 [==============================] - 15s 1s/step\n",
      "Full RMSE score:\n",
      "tf.Tensor(32.29296, shape=(), dtype=float32)\n"
     ]
    }
   ],
   "source": [
    "tf_model = tf.keras.models.load_model(\"../../models/transfer_CNN_LSTM.h5\", custom_objects={'custom_rmse':custom_rmse})\n",
    "\n",
    "predicted_frames= tf_model.predict(X,verbose=1)\n",
    "predicted_frames[coord] = 0\n",
    "\n",
    "print(\"Full RMSE score:\")\n",
    "a=custom_rmse(predicted_frames[:,1:2],y_true_full[:,1:2])\n",
    "print(a)\n",
    "\n",
    "# with continent masked from previous frame RMSE : 33.09\n",
    "# without continent masked from previous frame RMSE: 32.29\n",
    "## - noticed it converges faster\n",
    "## not much difference"
   ]
  },
  {
   "cell_type": "code",
   "execution_count": 24,
   "id": "b3ab154f-29f7-471a-a392-6b474a121908",
   "metadata": {},
   "outputs": [
    {
     "data": {
      "text/plain": [
       "<matplotlib.colorbar.Colorbar at 0x1554b91cae80>"
      ]
     },
     "execution_count": 24,
     "metadata": {},
     "output_type": "execute_result"
    },
    {
     "data": {
      "image/png": "[encoded data removed]",
      "text/plain": [
       "<Figure size 432x288 with 2 Axes>"
      ]
     },
     "metadata": {
      "needs_background": "light"
     },
     "output_type": "display_data"
    }
   ],
   "source": [
    "import matplotlib.colors as mcolors\n",
    "norm = mcolors.Normalize(vmin=0, vmax = 750)\n",
    "\n",
    "\n",
    "img=plt.imshow(np.flipud(predicted_frames[0,1:2][0]),cmap=\"coolwarm\", interpolation=\"nearest\", norm=norm)\n",
    "plt.colorbar(img)"
   ]
  },
  {
   "cell_type": "markdown",
   "id": "ea45ba57-723d-4169-b256-10bb545f8431",
   "metadata": {},
   "source": [
    "### GIF generation"
   ]
  },
  {
   "cell_type": "code",
   "execution_count": 51,
   "id": "3d7d969e-7c24-4992-8600-58eb24cf4ae5",
   "metadata": {},
   "outputs": [],
   "source": [
    "# gif generation for cnn\n",
    "\n",
    "import matplotlib.colors as mcolors\n",
    "import imageio\n",
    "\n",
    "chl,mld,sss,sst,xco2,pco2 = read_xarray_mpi(mpi_data_path)\n",
    "full_truth = pco2.pCO2.data\n",
    "full_truth[coord] = 0\n",
    "\n",
    "norm = mcolors.Normalize(vmin=0, vmax = 750)\n",
    "norm2 = mcolors.TwoSlopeNorm(vmin=-500, vmax = 500, vcenter=0)\n",
    "\n",
    "\n",
    "filenames = []\n",
    "\n",
    "for i in range(421):\n",
    "    figure, axis = plt.subplots(1, 3,figsize=(18, 10))\n",
    "    \n",
    "    img=axis[0].imshow(np.flipud(predicted_image[i]),cmap=\"coolwarm\", interpolation=\"nearest\", norm=norm)\n",
    "    axis[0].set_title(\"prediction\")\n",
    "    plt.colorbar(img,ax=axis)\n",
    "\n",
    "    img1=axis[1].imshow(np.flipud(full_truth[i]),cmap=\"coolwarm\", interpolation=\"nearest\",norm=norm)\n",
    "    axis[1].set_title(\"true\")\n",
    "\n",
    "    img2=axis[2].imshow(np.flipud(full_truth[i]-(predicted_image[i])),cmap=\"RdBu\", norm=norm2)\n",
    "    axis[2].set_title(\"residual\")\n",
    "    plt.colorbar(img2,ax=axis)\n",
    "    \n",
    "    text = \"rmse: \"+str(np.round(np.sqrt(np.mean((full_truth[i]-predicted_image[i])**2)),2))\n",
    "    plt.text(-60, -60, text, fontsize = 20)\n",
    "    \n",
    "    filename = f'{i}.png'\n",
    "    filenames.append(filename)\n",
    "    \n",
    "    # save frame\n",
    "    plt.savefig(filename)\n",
    "    plt.close()\n",
    "\n",
    "\n",
    "with imageio.get_writer('../../assets/cnn_mpi_transfer.gif', mode='I') as writer:\n",
    "    for filename in filenames:\n",
    "        image = imageio.imread(filename)\n",
    "        writer.append_data(image)\n",
    "        \n",
    "# Remove files\n",
    "for filename in set(filenames):\n",
    "    os.remove(filename)\n",
    "\n"
   ]
  },
  {
   "cell_type": "code",
   "execution_count": 28,
   "id": "0241345d-6ac1-4162-b361-5217df03e5f9",
   "metadata": {},
   "outputs": [],
   "source": [
    "# gif generation for conv-lstm\n",
    "import imageio\n",
    "\n",
    "norm = mcolors.Normalize(vmin=0, vmax = 750)\n",
    "norm2 = mcolors.TwoSlopeNorm(vmin=-500, vmax = 500, vcenter=0)\n",
    "\n",
    "\n",
    "filenames = []\n",
    "\n",
    "for i in range(418):\n",
    "    figure, axis = plt.subplots(1, 3,figsize=(18, 10))\n",
    "    \n",
    "    img=axis[0].imshow(np.flipud(predicted_frames[i,1:2][0]),cmap=\"coolwarm\", interpolation=\"nearest\", norm=norm)\n",
    "    axis[0].set_title(\"prediction\")\n",
    "    plt.colorbar(img,ax=axis)\n",
    "\n",
    "    img1=axis[1].imshow(np.flipud(y_true_full[i,1:2][0]),cmap=\"coolwarm\", interpolation=\"nearest\",norm=norm)\n",
    "    axis[1].set_title(\"true\")\n",
    "\n",
    "    img2=axis[2].imshow(np.flipud(y_true_full[i,1:2][0]-(predicted_frames[i,1:2][0])),cmap=\"RdBu\", norm=norm2)\n",
    "    axis[2].set_title(\"residual\")\n",
    "    plt.colorbar(img2,ax=axis)\n",
    "    \n",
    "    text = \"rmse: \"+str(np.round(np.sqrt(np.mean((y_true_full[i,1:2][0]-predicted_frames[i,1:2][0])**2)),2))\n",
    "    plt.text(-60, -60, text, fontsize = 20)\n",
    "    \n",
    "    filename = f'{i}.png'\n",
    "    filenames.append(filename)\n",
    "    \n",
    "    # save frame\n",
    "    plt.savefig(filename)\n",
    "    plt.close()\n",
    "\n",
    "\n",
    "with imageio.get_writer('../../assets/convlstm_mpi_transfer_2.gif', mode='I') as writer:\n",
    "    for filename in filenames:\n",
    "        image = imageio.imread(filename)\n",
    "        writer.append_data(image)\n",
    "        \n",
    "# Remove files\n",
    "for filename in set(filenames):\n",
    "    os.remove(filename)\n",
    "\n"
   ]
  },
  {
   "cell_type": "code",
   "execution_count": null,
   "id": "b73df74f-3f55-4c6c-97a9-6b552d56b29d",
   "metadata": {},
   "outputs": [],
   "source": [
    "def inverse_scale_frame_socat(arr,df, X_index=[]):\n",
    "    \"\"\"\n",
    "    inverse_scale_frame(arr, df):\n",
    "    - inverses the pco2 scaling\n",
    "    \"\"\"\n",
    "    old_min = 0\n",
    "    df_tmp = df[df!=0.0]\n",
    "    old_max = np.nanmax(df_tmp)\n",
    "    y_pred = arr*(old_max-old_min)/255+old_min\n",
    "    tmp=np.nan_to_num(df[X_index][1:])\n",
    "    y_true=np.expand_dims(tmp,axis=4)\n",
    "    y_pred[y_true==0]=0\n",
    "    return y_true,y_pred\n",
    "\n"
   ]
  }
 ],
 "metadata": {
  "kernelspec": {
   "display_name": "venv2",
   "language": "python",
   "name": "venv2"
  },
  "language_info": {
   "codemirror_mode": {
    "name": "ipython",
    "version": 3
   },
   "file_extension": ".py",
   "mimetype": "text/x-python",
   "name": "python",
   "nbconvert_exporter": "python",
   "pygments_lexer": "ipython3",
   "version": "3.8.5"
  }
 },
 "nbformat": 4,
 "nbformat_minor": 5
}
